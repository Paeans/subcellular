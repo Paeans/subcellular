{
 "cells": [
  {
   "cell_type": "code",
   "execution_count": 1,
   "metadata": {},
   "outputs": [],
   "source": [
    "import numpy as np\n",
    "import tensorflow as tf\n",
    "\n",
    "from tensorflow import keras\n",
    "from scipy.io import loadmat, savemat\n",
    "\n",
    "from tensorflow.keras import layers\n",
    "\n",
    "from sklearn.model_selection import KFold\n",
    "from sklearn.metrics import label_ranking_average_precision_score as avgprec, coverage_error, label_ranking_loss"
   ]
  },
  {
   "cell_type": "code",
   "execution_count": 2,
   "metadata": {},
   "outputs": [],
   "source": [
    "d3106 = loadmat('data/Y_3106.mat')"
   ]
  },
  {
   "cell_type": "code",
   "execution_count": 3,
   "metadata": {},
   "outputs": [
    {
     "data": {
      "text/plain": [
       "dict_keys(['__header__', '__version__', '__globals__', 'Y_3106'])"
      ]
     },
     "execution_count": 3,
     "metadata": {},
     "output_type": "execute_result"
    }
   ],
   "source": [
    "d3106.keys()"
   ]
  },
  {
   "cell_type": "code",
   "execution_count": 4,
   "metadata": {},
   "outputs": [],
   "source": [
    "l3106 = d3106['Y_3106']"
   ]
  },
  {
   "cell_type": "code",
   "execution_count": 5,
   "metadata": {},
   "outputs": [
    {
     "data": {
      "text/plain": [
       "(3106, 14)"
      ]
     },
     "execution_count": 5,
     "metadata": {},
     "output_type": "execute_result"
    }
   ],
   "source": [
    "l3106.shape"
   ]
  },
  {
   "cell_type": "code",
   "execution_count": 6,
   "metadata": {},
   "outputs": [],
   "source": [
    "counter3 = np.sum(l3106, axis = 1)"
   ]
  },
  {
   "cell_type": "code",
   "execution_count": 7,
   "metadata": {},
   "outputs": [
    {
     "data": {
      "text/plain": [
       "(3106,)"
      ]
     },
     "execution_count": 7,
     "metadata": {},
     "output_type": "execute_result"
    }
   ],
   "source": [
    "counter3.shape"
   ]
  },
  {
   "cell_type": "code",
   "execution_count": 8,
   "metadata": {},
   "outputs": [],
   "source": [
    "import matplotlib.pyplot as plt"
   ]
  },
  {
   "cell_type": "code",
   "execution_count": 41,
   "metadata": {},
   "outputs": [
    {
     "data": {
      "image/png": "[encoded data removed]",
      "text/plain": [
       "<Figure size 432x288 with 1 Axes>"
      ]
     },
     "metadata": {
      "needs_background": "light"
     },
     "output_type": "display_data"
    }
   ],
   "source": [
    "plt.figure()\n",
    "r = np.random.randn(100)\n",
    "r1 = r + 1\n",
    "labels = ['Rabbits', 'Frogs']\n",
    "H3 = plt.hist(counter, bins = np.arange(8))\n",
    "plt.show()"
   ]
  },
  {
   "cell_type": "code",
   "execution_count": 35,
   "metadata": {},
   "outputs": [
    {
     "data": {
      "text/plain": [
       "(array([   0., 2580.,  480.,   43.,    3.,    0.,    0.]),\n",
       " array([0, 1, 2, 3, 4, 5, 6, 7]),\n",
       " <a list of 7 Patch objects>)"
      ]
     },
     "execution_count": 35,
     "metadata": {},
     "output_type": "execute_result"
    }
   ],
   "source": [
    "H"
   ]
  },
  {
   "cell_type": "code",
   "execution_count": 13,
   "metadata": {},
   "outputs": [],
   "source": [
    "d4802 = loadmat('data/Y_4802.mat')\n",
    "l4802 = d4802['Y_4802']\n",
    "l4802[:, 18] = 0\n",
    "l4802[:, 23] = 0\n",
    "l4802[:, 28] = 0\n",
    "l4802[:, 31] = 0"
   ]
  },
  {
   "cell_type": "code",
   "execution_count": 14,
   "metadata": {},
   "outputs": [
    {
     "data": {
      "text/plain": [
       "(4802, 37)"
      ]
     },
     "execution_count": 14,
     "metadata": {},
     "output_type": "execute_result"
    }
   ],
   "source": [
    "l4802.shape"
   ]
  },
  {
   "cell_type": "code",
   "execution_count": 15,
   "metadata": {},
   "outputs": [],
   "source": [
    "counter4 = np.sum(l4802, axis = 1)"
   ]
  },
  {
   "cell_type": "code",
   "execution_count": 35,
   "metadata": {},
   "outputs": [
    {
     "data": {
      "image/png": "[encoded data removed]",
      "text/plain": [
       "<Figure size 432x288 with 1 Axes>"
      ]
     },
     "metadata": {
      "needs_background": "light"
     },
     "output_type": "display_data"
    }
   ],
   "source": [
    "plt.figure()\n",
    "r = np.random.randn(100)\n",
    "r1 = r + 1\n",
    "labels = ['Rabbits', 'Frogs']\n",
    "H = plt.hist([counter3, counter4], bins = np.arange(8))\n",
    "plt.show()"
   ]
  },
  {
   "cell_type": "code",
   "execution_count": 36,
   "metadata": {},
   "outputs": [
    {
     "data": {
      "text/plain": [
       "(array([[0.000e+00, 2.580e+03, 4.800e+02, 4.300e+01, 3.000e+00, 0.000e+00,\n",
       "         0.000e+00],\n",
       "        [0.000e+00, 3.452e+03, 1.307e+03, 4.000e+01, 3.000e+00, 0.000e+00,\n",
       "         0.000e+00]]),\n",
       " array([0, 1, 2, 3, 4, 5, 6, 7]),\n",
       " <a list of 2 BarContainer objects>)"
      ]
     },
     "execution_count": 36,
     "metadata": {},
     "output_type": "execute_result"
    }
   ],
   "source": [
    "H"
   ]
  },
  {
   "cell_type": "code",
   "execution_count": 27,
   "metadata": {},
   "outputs": [
    {
     "data": {
      "image/png": "[encoded data removed]",
      "text/plain": [
       "<Figure size 432x288 with 1 Axes>"
      ]
     },
     "metadata": {
      "needs_background": "light"
     },
     "output_type": "display_data"
    }
   ],
   "source": [
    "labels = [1,2,3,4,5,6]\n",
    "x = np.arange(6)  # the label locations\n",
    "width = 0.35  # the width of the bars\n",
    "\n",
    "d3 = H[0][0]/sum(H[0][0])*100\n",
    "d4 = H[0][1]/sum(H[0][1])*100\n",
    "d3[1] = 0\n",
    "d4[1] = 0\n",
    "\n",
    "fig, ax = plt.subplots()\n",
    "rec1 = ax.bar(x - width/2,  d3[1:7], width, label='D3106')\n",
    "rec2 = ax.bar(x + width/2,  d4[1:7], width, label='D4802')\n",
    "\n",
    "ax.set_ylabel('Percent(%)')\n",
    "ax.set_xlabel('Number of cellular')\n",
    "ax.set_title('Distribution of Samples')\n",
    "ax.set_xticks(x)\n",
    "ax.set_xticklabels(labels)\n",
    "ax.legend()\n",
    "\n",
    "# ax.bar_label(rec1, padding=3)\n",
    "# ax.bar_label(rec2, padding=3)\n",
    "\n",
    "fig.tight_layout()\n",
    "\n",
    "plt.show()"
   ]
  },
  {
   "cell_type": "code",
   "execution_count": 24,
   "metadata": {},
   "outputs": [
    {
     "data": {
      "image/png": "[encoded data removed]",
      "text/plain": [
       "<Figure size 432x288 with 1 Axes>"
      ]
     },
     "metadata": {
      "needs_background": "light"
     },
     "output_type": "display_data"
    }
   ],
   "source": [
    "labels = [1,2,3,4,5,6]\n",
    "x = np.arange(6)  # the label locations\n",
    "width = 0.35  # the width of the bars\n",
    "\n",
    "dw3 = H[0][0]/sum(H[0][0])*100\n",
    "dw4 = H[0][1]/sum(H[0][1])*100\n",
    "# d3[1] = 0\n",
    "# d4[1] = 0\n",
    "\n",
    "fig, ax = plt.subplots()\n",
    "rec1 = ax.bar(x - width/2,  dw3[1:7], width, label='D3106')\n",
    "rec2 = ax.bar(x + width/2,  dw4[1:7], width, label='D4802')\n",
    "\n",
    "ax.set_ylabel('Scores')\n",
    "ax.set_title('Scores by group and gender')\n",
    "ax.set_xticks(x)\n",
    "ax.set_xticklabels(labels)\n",
    "ax.legend()\n",
    "\n",
    "# ax.bar_label(rec1, padding=3)\n",
    "# ax.bar_label(rec2, padding=3)\n",
    "\n",
    "fig.tight_layout()\n",
    "\n",
    "plt.show()"
   ]
  },
  {
   "cell_type": "code",
   "execution_count": 54,
   "metadata": {},
   "outputs": [
    {
     "data": {
      "text/plain": [
       "<Figure size 900x1080 with 0 Axes>"
      ]
     },
     "metadata": {},
     "output_type": "display_data"
    },
    {
     "data": {
      "image/png": "[encoded data removed]",
      "text/plain": [
       "<Figure size 432x288 with 1 Axes>"
      ]
     },
     "metadata": {
      "needs_background": "light"
     },
     "output_type": "display_data"
    }
   ],
   "source": [
    "labels = [1,2,3,4,5,6]\n",
    "x = np.arange(6)  # the label locations\n",
    "width = 0.35  # the width of the bars\n",
    "\n",
    "d3 = H[0][0]/sum(H[0][0][2:])*100\n",
    "d4 = H[0][1]/sum(H[0][1][2:])*100\n",
    "d3[1] = 0\n",
    "d4[1] = 0\n",
    "\n",
    "from matplotlib.pyplot import figure\n",
    "\n",
    "figure(figsize = (10,12), dpi=90)\n",
    "\n",
    "fig, ax = plt.subplots()\n",
    "rec1 = ax.bar(x - width/2,  d3[1:7], width, label='D3106')\n",
    "rec2 = ax.bar(x + width/2,  d4[1:7], width, label='D4802')\n",
    "\n",
    "ax.set_ylabel('Percent(%)')\n",
    "ax.set_xlabel('Cellulars')\n",
    "ax.set_title('Sample Distribution')\n",
    "ax.set_xticks(x)\n",
    "ax.set_xticklabels(labels)\n",
    "ax.legend()\n",
    "\n",
    "# ax.bar_label(rec1, padding=3)\n",
    "# ax.bar_label(rec2, padding=3)\n",
    "\n",
    "fig.tight_layout()\n",
    "\n",
    "plt.savefig('distribution.png')\n",
    "\n",
    "plt.show()"
   ]
  },
  {
   "cell_type": "code",
   "execution_count": 92,
   "metadata": {},
   "outputs": [
    {
     "data": {
      "text/plain": [
       "<Figure size 900x1440 with 0 Axes>"
      ]
     },
     "metadata": {},
     "output_type": "display_data"
    },
    {
     "data": {
      "image/png": "[encoded data removed]",
      "text/plain": [
       "<Figure size 432x288 with 2 Axes>"
      ]
     },
     "metadata": {
      "needs_background": "light"
     },
     "output_type": "display_data"
    }
   ],
   "source": [
    "labels = [1,2,3,4,5,6]\n",
    "x = np.arange(6)  # the label locations\n",
    "width = 0.35  # the width of the bars\n",
    "\n",
    "# d3 = H[0][0]/sum(H[0][0])*100\n",
    "# d4 = H[0][1]/sum(H[0][1])*100\n",
    "# d3[1] = 0\n",
    "# d4[1] = 0\n",
    "\n",
    "n3 = H[0][0].copy()\n",
    "n4 = H[0][1].copy()\n",
    "n3[1] = 0\n",
    "n4[1] = 0\n",
    "figure(figsize = (10,16), dpi=90)\n",
    "\n",
    "fig, ax = plt.subplots(2,1)\n",
    "rec1 = ax[0].bar(x - width/2,  n3[1:7]*1.546, width, label='D3106')\n",
    "rec2 = ax[0].bar(x + width/2,  n4[1:7], width, label='D4802')\n",
    "\n",
    "ax[0].set_ylabel('Number of Samples')\n",
    "ax[0].set_xlabel('Cellulars')\n",
    "ax[0].set_title('Number of Cellular')\n",
    "ax[0].set_xticks(x)\n",
    "ax[0].set_xticklabels(labels)\n",
    "ax[0].legend()\n",
    "\n",
    "# ax.bar_label(rec1, padding=3)\n",
    "# ax.bar_label(rec2, padding=3)\n",
    "\n",
    "d3 = H[0][0]/sum(H[0][0][2:])*100\n",
    "d4 = H[0][1]/sum(H[0][1][2:])*100\n",
    "d3[1] = 0\n",
    "d4[1] = 0\n",
    "\n",
    "rec1 = ax[1].bar(x - width/2,  d3[1:7], width, label='D3106')\n",
    "rec2 = ax[1].bar(x + width/2,  d4[1:7], width, label='D4802')\n",
    "\n",
    "ax[1].set_ylabel('Percent(%)')\n",
    "ax[1].set_xlabel('Cellulars')\n",
    "# ax.set_title('Sample Distribution')\n",
    "ax[1].set_xticks(x)\n",
    "ax[1].set_xticklabels(labels)\n",
    "ax[1].legend()\n",
    "\n",
    "\n",
    "# fig.tight_layout()\n",
    "\n",
    "plt.savefig('number.png')\n",
    "\n",
    "plt.show()"
   ]
  },
  {
   "cell_type": "code",
   "execution_count": 93,
   "metadata": {},
   "outputs": [
    {
     "data": {
      "text/plain": [
       "array([ 0.        ,  0.        , 91.25475285,  8.17490494,  0.57034221,\n",
       "        0.        ,  0.        ])"
      ]
     },
     "execution_count": 93,
     "metadata": {},
     "output_type": "execute_result"
    }
   ],
   "source": [
    "d3"
   ]
  },
  {
   "cell_type": "code",
   "execution_count": 94,
   "metadata": {},
   "outputs": [
    {
     "data": {
      "text/plain": [
       "array([ 0.        ,  0.        , 96.81481481,  2.96296296,  0.22222222,\n",
       "        0.        ,  0.        ])"
      ]
     },
     "execution_count": 94,
     "metadata": {},
     "output_type": "execute_result"
    }
   ],
   "source": [
    "d4"
   ]
  },
  {
   "cell_type": "code",
   "execution_count": 68,
   "metadata": {},
   "outputs": [
    {
     "data": {
      "text/plain": [
       "array([  0.,   0., 480.,  43.,   3.,   0.,   0.])"
      ]
     },
     "execution_count": 68,
     "metadata": {},
     "output_type": "execute_result"
    }
   ],
   "source": [
    "n3"
   ]
  },
  {
   "cell_type": "code",
   "execution_count": 69,
   "metadata": {},
   "outputs": [
    {
     "data": {
      "text/plain": [
       "array([   0.,    0., 1307.,   40.,    3.,    0.,    0.])"
      ]
     },
     "execution_count": 69,
     "metadata": {},
     "output_type": "execute_result"
    }
   ],
   "source": [
    "n4"
   ]
  },
  {
   "cell_type": "code",
   "execution_count": null,
   "metadata": {},
   "outputs": [],
   "source": [
    "labels = [1,2,3,4,5,6]\n",
    "x = np.arange(6)  # the label locations\n",
    "width = 0.35  # the width of the bars\n",
    "\n",
    "# d3 = H[0][0]/sum(H[0][0])*100\n",
    "# d4 = H[0][1]/sum(H[0][1])*100\n",
    "# d3[1] = 0\n",
    "# d4[1] = 0\n",
    "\n",
    "n3 = H[0][0].copy()\n",
    "n4 = H[0][1].copy()\n",
    "# n3[1] = 0\n",
    "# n4[1] = 0\n",
    "figure(figsize = (10,16), dpi=90)\n",
    "\n",
    "fig, ax = plt.subplots(2,1)\n",
    "rec1 = ax[0].bar(x - width/2,  n3[1:7], width, label='D3106')\n",
    "rec2 = ax[0].bar(x + width/2,  n4[1:7], width, label='D4802')\n",
    "\n",
    "ax[0].set_ylabel('Number of Samples')\n",
    "ax[0].set_xlabel('Cellulars')\n",
    "ax[0].set_title('Number of Cellular')\n",
    "ax[0].set_xticks(x)\n",
    "ax[0].set_xticklabels(labels)\n",
    "ax[0].legend()\n",
    "\n",
    "# ax.bar_label(rec1, padding=3)\n",
    "# ax.bar_label(rec2, padding=3)\n",
    "\n",
    "rec1 = ax[1].bar(x - width/2,  d3[1:7], width, label='D3106')\n",
    "rec2 = ax[1].bar(x + width/2,  d4[1:7], width, label='D4802')\n",
    "\n",
    "ax[1].set_ylabel('Percent(%)')\n",
    "ax[1].set_xlabel('Cellulars')\n",
    "# ax.set_title('Sample Distribution')\n",
    "ax[1].set_xticks(x)\n",
    "ax[1].set_xticklabels(labels)\n",
    "ax[1].legend()\n",
    "\n",
    "\n",
    "# fig.tight_layout()\n",
    "\n",
    "plt.savefig('number1.png')\n",
    "\n",
    "plt.show()"
   ]
  },
  {
   "cell_type": "code",
   "execution_count": 32,
   "metadata": {},
   "outputs": [
    {
     "data": {
      "text/plain": [
       "array([ 0.        ,  0.        , 91.25475285,  8.17490494,  0.57034221,\n",
       "        0.        ,  0.        ])"
      ]
     },
     "execution_count": 32,
     "metadata": {},
     "output_type": "execute_result"
    }
   ],
   "source": [
    "d3"
   ]
  },
  {
   "cell_type": "code",
   "execution_count": 33,
   "metadata": {},
   "outputs": [
    {
     "data": {
      "text/plain": [
       "array([ 0.        ,  0.        , 96.81481481,  2.96296296,  0.22222222,\n",
       "        0.        ,  0.        ])"
      ]
     },
     "execution_count": 33,
     "metadata": {},
     "output_type": "execute_result"
    }
   ],
   "source": [
    "d4"
   ]
  },
  {
   "cell_type": "code",
   "execution_count": 22,
   "metadata": {},
   "outputs": [
    {
     "data": {
      "text/plain": [
       "array([ 0.        , 83.06503542, 15.45396008,  1.38441726,  0.09658725,\n",
       "        0.        ,  0.        ])"
      ]
     },
     "execution_count": 22,
     "metadata": {},
     "output_type": "execute_result"
    }
   ],
   "source": [
    "dw3"
   ]
  },
  {
   "cell_type": "code",
   "execution_count": 23,
   "metadata": {},
   "outputs": [
    {
     "data": {
      "text/plain": [
       "array([0.00000000e+00, 7.18867139e+01, 2.72178259e+01, 8.32986256e-01,\n",
       "       6.24739692e-02, 0.00000000e+00, 0.00000000e+00])"
      ]
     },
     "execution_count": 23,
     "metadata": {},
     "output_type": "execute_result"
    }
   ],
   "source": [
    "dw4"
   ]
  },
  {
   "cell_type": "code",
   "execution_count": 121,
   "metadata": {},
   "outputs": [
    {
     "data": {
      "text/plain": [
       "array([  0.,   0., 480.,  43.,   3.,   0.,   0.])"
      ]
     },
     "execution_count": 121,
     "metadata": {},
     "output_type": "execute_result"
    }
   ],
   "source": [
    "H[0][0]"
   ]
  },
  {
   "cell_type": "code",
   "execution_count": 111,
   "metadata": {},
   "outputs": [],
   "source": [
    "c3 = H[0][0]\n",
    "c4 = H[0][1]"
   ]
  },
  {
   "cell_type": "code",
   "execution_count": 112,
   "metadata": {},
   "outputs": [],
   "source": [
    "c3[1] = 0"
   ]
  },
  {
   "cell_type": "code",
   "execution_count": 113,
   "metadata": {},
   "outputs": [],
   "source": [
    "c4[1] = 0"
   ]
  },
  {
   "cell_type": "code",
   "execution_count": 114,
   "metadata": {},
   "outputs": [
    {
     "data": {
      "text/plain": [
       "array([0.        , 0.        , 0.91254753, 0.08174905, 0.00570342,\n",
       "       0.        , 0.        ])"
      ]
     },
     "execution_count": 114,
     "metadata": {},
     "output_type": "execute_result"
    }
   ],
   "source": [
    "c3/sum(c3)"
   ]
  },
  {
   "cell_type": "code",
   "execution_count": 115,
   "metadata": {},
   "outputs": [
    {
     "data": {
      "text/plain": [
       "array([0.        , 0.        , 0.96814815, 0.02962963, 0.00222222,\n",
       "       0.        , 0.        ])"
      ]
     },
     "execution_count": 115,
     "metadata": {},
     "output_type": "execute_result"
    }
   ],
   "source": [
    "c4/sum(c4)"
   ]
  },
  {
   "cell_type": "code",
   "execution_count": 117,
   "metadata": {},
   "outputs": [
    {
     "data": {
      "image/png": "[encoded data removed]",
      "text/plain": [
       "<Figure size 432x288 with 1 Axes>"
      ]
     },
     "metadata": {
      "needs_background": "light"
     },
     "output_type": "display_data"
    }
   ],
   "source": [
    "plt.figure()\n",
    "plt.bar(x - width/2,  (c3/sum(c3))[2:5], width, label='3106')\n",
    "plt.bar(x + width/2,  (c4/sum(c4))[2:5], width, label='4802')\n",
    "plt.show()"
   ]
  },
  {
   "cell_type": "code",
   "execution_count": 76,
   "metadata": {},
   "outputs": [
    {
     "data": {
      "text/plain": [
       "array([  0.,   0., 480.,  43.,   3.,   0.,   0.])"
      ]
     },
     "execution_count": 76,
     "metadata": {},
     "output_type": "execute_result"
    }
   ],
   "source": [
    "c3"
   ]
  },
  {
   "cell_type": "code",
   "execution_count": 77,
   "metadata": {},
   "outputs": [
    {
     "data": {
      "text/plain": [
       "array([   0.,    0., 1311.,   40.,    3.,    0.,    0.])"
      ]
     },
     "execution_count": 77,
     "metadata": {},
     "output_type": "execute_result"
    }
   ],
   "source": [
    "c4"
   ]
  },
  {
   "cell_type": "code",
   "execution_count": 79,
   "metadata": {},
   "outputs": [],
   "source": [
    "d4802 = loadmat('data/dataset_4802.mat')"
   ]
  },
  {
   "cell_type": "code",
   "execution_count": 80,
   "metadata": {},
   "outputs": [
    {
     "data": {
      "text/plain": [
       "dict_keys(['__header__', '__version__', '__globals__', 'Header', 'Sequence', 'Y_4802', 'Y_4802_label'])"
      ]
     },
     "execution_count": 80,
     "metadata": {},
     "output_type": "execute_result"
    }
   ],
   "source": [
    "d4802.keys()"
   ]
  },
  {
   "cell_type": "code",
   "execution_count": 81,
   "metadata": {},
   "outputs": [
    {
     "data": {
      "text/plain": [
       "array([[array(['Apical Plasma Membrane'], dtype='<U22')],\n",
       "       [array(['Basolateral Plasma Membrane'], dtype='<U27')],\n",
       "       [array(['Cellular Component Unknown'], dtype='<U26')],\n",
       "       [array(['Centrosome'], dtype='<U10')],\n",
       "       [array(['Cytoplasm'], dtype='<U9')],\n",
       "       [array(['Cytoplasmic Vesicles'], dtype='<U20')],\n",
       "       [array(['Cytoskeleton'], dtype='<U12')],\n",
       "       [array(['ERGIC'], dtype='<U5')],\n",
       "       [array(['Early Endosomes'], dtype='<U15')],\n",
       "       [array(['Endoplasmic Reticulum'], dtype='<U21')],\n",
       "       [array(['Endosomes'], dtype='<U9')],\n",
       "       [array(['Extracellular'], dtype='<U13')],\n",
       "       [array(['Golgi Apparatus'], dtype='<U15')],\n",
       "       [array(['Golgi Cis Cisterna'], dtype='<U18')],\n",
       "       [array(['Golgi Trans Cisterna'], dtype='<U20')],\n",
       "       [array(['Golgi Trans Face'], dtype='<U16')],\n",
       "       [array(['Inner Mitochondrial Membrane'], dtype='<U28')],\n",
       "       [array(['Late Endosomes'], dtype='<U14')],\n",
       "       [array(['Lipid Particles'], dtype='<U15')],\n",
       "       [array(['Lysosomes'], dtype='<U9')],\n",
       "       [array(['Medial-Golgi'], dtype='<U12')],\n",
       "       [array(['Melanosome'], dtype='<U10')],\n",
       "       [array(['Microtubule'], dtype='<U11')],\n",
       "       [array(['Microtubule Organizing Center'], dtype='<U29')],\n",
       "       [array(['Mitochondria'], dtype='<U12')],\n",
       "       [array(['Nuclear Envelope'], dtype='<U16')],\n",
       "       [array(['Nucleolus'], dtype='<U9')],\n",
       "       [array(['Nucleus'], dtype='<U7')],\n",
       "       [array(['Outer Mitochondrial Membrane'], dtype='<U28')],\n",
       "       [array(['Peroxisome'], dtype='<U10')],\n",
       "       [array(['Plasma Membrane'], dtype='<U15')],\n",
       "       [array(['Sarcolemma'], dtype='<U10')],\n",
       "       [array(['Secretory Granule'], dtype='<U17')],\n",
       "       [array(['Secretory Vesicles'], dtype='<U18')],\n",
       "       [array(['Synaptic Vesicles'], dtype='<U17')],\n",
       "       [array(['Tight Junction'], dtype='<U14')],\n",
       "       [array(['Transport Vesicle'], dtype='<U17')]], dtype=object)"
      ]
     },
     "execution_count": 81,
     "metadata": {},
     "output_type": "execute_result"
    }
   ],
   "source": [
    "d4802['Y_4802_label']"
   ]
  },
  {
   "cell_type": "code",
   "execution_count": 101,
   "metadata": {},
   "outputs": [
    {
     "data": {
      "text/plain": [
       "0"
      ]
     },
     "execution_count": 101,
     "metadata": {},
     "output_type": "execute_result"
    }
   ],
   "source": [
    "sum(l4802[:, 28])"
   ]
  },
  {
   "cell_type": "code",
   "execution_count": 98,
   "metadata": {},
   "outputs": [],
   "source": [
    "l4802[:, 18] = 0"
   ]
  },
  {
   "cell_type": "code",
   "execution_count": 70,
   "metadata": {},
   "outputs": [],
   "source": [
    "import numpy as np\n",
    "import tensorflow as tf\n",
    "\n",
    "from tensorflow import keras\n",
    "from scipy.io import loadmat, savemat\n",
    "\n",
    "from tensorflow.keras import layers\n",
    "\n",
    "from sklearn.model_selection import KFold\n",
    "from sklearn.metrics import label_ranking_average_precision_score as avgprec, coverage_error, label_ranking_loss"
   ]
  },
  {
   "cell_type": "code",
   "execution_count": 89,
   "metadata": {},
   "outputs": [
    {
     "name": "stdout",
     "output_type": "stream",
     "text": [
      "*********\n",
      "3 3 0.9330420615788154 0.37809853997838716\n",
      "*********\n",
      "3 3 -1.113251914231795 0.29792867467881184\n",
      "*********\n",
      "3 3 -0.9568940046270367 0.36664015710057324\n"
     ]
    }
   ],
   "source": [
    "modelname = ['BLSTM', 'BLSTM ConvNet1', 'ConvNet2', 'BLSTM ConvNet1 ConvNet2']\n",
    "fname = ['/share/bmc.subcellular.results/encoding_3106/new_encoding_3106_res_', \n",
    "         '/share/bmc.subcellular.results/encoding_3106_lrg/new_encoding_3106_lrg_', \n",
    "         '/share/bmc.subcellular.results/pssm_conv_3106/new_pssm_3106_', \n",
    "         '/share/bmc.subcellular.results/encoding_pssm_3106/new_encoding_pssm_3106_']\n",
    "ap_res3106 = []\n",
    "rl_res3106 = []\n",
    "cov_res3106 = []\n",
    "for m in range(2):\n",
    "    for n in range(2):\n",
    "        ap_tres = []\n",
    "        rl_tres = []\n",
    "        cov_tres = []\n",
    "        for c in range(5):\n",
    "            filename = fname[m*2+n] +str(c) + '_' +  '9.mat'\n",
    "            result = loadmat(filename)\n",
    "            test_y = result['test_y']\n",
    "            pred_y = result['pred_y']\n",
    "#             ap_t = []\n",
    "#             rl_t = []\n",
    "#             cov_t = []\n",
    "#             for i in range(20):\n",
    "#                 r = np.random.choice(test_y.shape[0], 1000, replace=False)\n",
    "#                 ap_t.append(avgprec(test_y[r, :], pred_y[r, :]))\n",
    "#                 rl_t.append(label_ranking_loss(test_y[r, :], pred_y[r, :]))\n",
    "#                 cov_t.append(coverage_error(test_y[r, :], pred_y[r, :]) - 1)\n",
    "            ap_tres.append(avgprec(test_y, pred_y))\n",
    "            rl_tres.append(label_ranking_loss(test_y, pred_y))\n",
    "            cov_tres.append(coverage_error(test_y, pred_y) - 1)\n",
    "        ap_res3106.append(ap_tres)\n",
    "        rl_res3106.append(rl_tres)\n",
    "        cov_res3106.append(cov_tres)\n",
    "for tmp in [ap_res3106, rl_res3106, cov_res3106]:\n",
    "    print('*********')\n",
    "#     for i in range(4):\n",
    "#         for j in range(4):\n",
    "    t, p = stats.ttest_ind(tmp[3],tmp[1], axis = None)\n",
    "    print(i, j, t, p)"
   ]
  },
  {
   "cell_type": "code",
   "execution_count": 79,
   "metadata": {},
   "outputs": [
    {
     "data": {
      "text/plain": [
       "[[0.7475997072525776,\n",
       "  0.7639816469476012,\n",
       "  0.7503580108831848,\n",
       "  0.7451590463555384,\n",
       "  0.7546496472057452],\n",
       " [0.791022045629037,\n",
       "  0.784409087690357,\n",
       "  0.7853275007226361,\n",
       "  0.7867113857460473,\n",
       "  0.7905815668083608],\n",
       " [0.6324152999265534,\n",
       "  0.6536278778772537,\n",
       "  0.6452437670992848,\n",
       "  0.6449189174480052,\n",
       "  0.6376556878807895],\n",
       " [0.7902755483589939,\n",
       "  0.7931758322636536,\n",
       "  0.7967224341895313,\n",
       "  0.7853370560116613,\n",
       "  0.7848830002348471]]"
      ]
     },
     "execution_count": 79,
     "metadata": {},
     "output_type": "execute_result"
    }
   ],
   "source": [
    "ap_res3106"
   ]
  },
  {
   "cell_type": "code",
   "execution_count": 72,
   "metadata": {},
   "outputs": [],
   "source": [
    "from scipy import stats"
   ]
  },
  {
   "cell_type": "code",
   "execution_count": 85,
   "metadata": {},
   "outputs": [],
   "source": [
    "t, p = stats.ttest_ind([0.07499, 0.07372, 0.07514, 0.07395, 0.07484], \n",
    "                       [0.07377, 0.07406, 0.07416, 0.07428, 0.07445], axis = None)"
   ]
  },
  {
   "cell_type": "code",
   "execution_count": 86,
   "metadata": {},
   "outputs": [
    {
     "data": {
      "text/plain": [
       "(1.2356276663966184, 0.2516485029056025)"
      ]
     },
     "execution_count": 86,
     "metadata": {},
     "output_type": "execute_result"
    }
   ],
   "source": [
    "t, p"
   ]
  },
  {
   "cell_type": "code",
   "execution_count": 81,
   "metadata": {},
   "outputs": [
    {
     "name": "stdout",
     "output_type": "stream",
     "text": [
      "*********\n",
      "0 0 0.0 1.0\n",
      "0 1 -9.864106607527125 9.400235048692493e-06\n",
      "0 2 22.347976883484485 1.7000577416143712e-08\n",
      "0 3 -9.401851911706832 1.3426265769336033e-05\n",
      "1 0 9.864106607527125 9.400235048692493e-06\n",
      "1 1 0.0 1.0\n",
      "1 2 37.47565217011921 2.820612097394455e-10\n",
      "1 3 -0.9330420615788154 0.37809853997838716\n",
      "2 0 -22.347976883484485 1.7000577416143712e-08\n",
      "2 1 -37.47565217011921 2.820612097394455e-10\n",
      "2 2 0.0 1.0\n",
      "2 3 -34.46977173949656 5.485529675517782e-10\n",
      "3 0 9.401851911706832 1.3426265769336033e-05\n",
      "3 1 0.9330420615788154 0.37809853997838716\n",
      "3 2 34.46977173949656 5.485529675517782e-10\n",
      "3 3 0.0 1.0\n",
      "*********\n",
      "0 0 0.0 1.0\n",
      "0 1 7.277821475772223 8.570806918007606e-05\n",
      "0 2 -11.621065414291996 2.736722072974473e-06\n",
      "0 3 7.260450338901004 8.716447000689536e-05\n",
      "1 0 -7.277821475772223 8.570806918007606e-05\n",
      "1 1 0.0 1.0\n",
      "1 2 -27.42835839839206 3.3657373291845053e-09\n",
      "1 3 1.113251914231795 0.29792867467881184\n",
      "2 0 11.621065414291996 2.736722072974473e-06\n",
      "2 1 27.42835839839206 3.3657373291845053e-09\n",
      "2 2 0.0 1.0\n",
      "2 3 23.793648233800724 1.0365465235472181e-08\n",
      "3 0 -7.260450338901004 8.716447000689536e-05\n",
      "3 1 -1.113251914231795 0.29792867467881184\n",
      "3 2 -23.793648233800724 1.0365465235472181e-08\n",
      "3 3 0.0 1.0\n",
      "*********\n",
      "0 0 0.0 1.0\n",
      "0 1 6.924241887094662 0.00012152355656735214\n",
      "0 2 -10.010275842795822 8.423338847977725e-06\n",
      "0 3 6.979073600483265 0.00011501868315201937\n",
      "1 0 -6.924241887094662 0.00012152355656735214\n",
      "1 1 0.0 1.0\n",
      "1 2 -25.832062315472484 5.411418927726611e-09\n",
      "1 3 0.9568940046270367 0.36664015710057324\n",
      "2 0 10.010275842795822 8.423338847977725e-06\n",
      "2 1 25.832062315472484 5.411418927726611e-09\n",
      "2 2 0.0 1.0\n",
      "2 3 22.791619432414883 1.455856913253117e-08\n",
      "3 0 -6.979073600483265 0.00011501868315201937\n",
      "3 1 -0.9568940046270367 0.36664015710057324\n",
      "3 2 -22.791619432414883 1.455856913253117e-08\n",
      "3 3 0.0 1.0\n"
     ]
    }
   ],
   "source": [
    "for tmp in [ap_res3106, rl_res3106, cov_res3106]:\n",
    "    print('*********')\n",
    "    for i in range(4):\n",
    "        for j in range(4):\n",
    "            t, p = stats.ttest_ind(tmp[i],tmp[j], axis = None)\n",
    "            print(i, j, t, p)"
   ]
  },
  {
   "cell_type": "code",
   "execution_count": 82,
   "metadata": {},
   "outputs": [],
   "source": [
    "\n",
    "modelname = ['BLSTM', 'BLSTM ConvNet1', 'ConvNet2', 'BLSTM ConvNet1 ConvNet2']\n",
    "\n",
    "fname = ['/share/bmc.subcellular.results/4802_result/result_4802_', '/share/bmc.subcellular.results/4802_result/result_large-reg-4802_', \n",
    "         '/share/bmc.subcellular.results/4802_result/result_pssm-conv-4802_', '/share/bmc.subcellular.results/encoding_pssm_4802/new_encoding_pssm_4802_']\n",
    "ap_res3106 = []\n",
    "rl_res3106 = []\n",
    "cov_res3106 = []\n",
    "for m in range(2):\n",
    "    for n in range(2):\n",
    "        ap_tres = []\n",
    "        rl_tres = []\n",
    "        cov_tres = []\n",
    "        for c in range(5):\n",
    "            filename = fname[m*2+n] +str(c) + '_' +  '9.mat'\n",
    "            result = loadmat(filename)\n",
    "            test_y = result['test_y']\n",
    "            pred_y = result['pred_y']\n",
    "#             ap_t = []\n",
    "#             rl_t = []\n",
    "#             cov_t = []\n",
    "#             for i in range(20):\n",
    "#                 r = np.random.choice(test_y.shape[0], 1000, replace=False)\n",
    "#                 ap_t.append(avgprec(test_y[r, :], pred_y[r, :]))\n",
    "#                 rl_t.append(label_ranking_loss(test_y[r, :], pred_y[r, :]))\n",
    "#                 cov_t.append(coverage_error(test_y[r, :], pred_y[r, :]) - 1)\n",
    "            ap_tres.append(avgprec(test_y, pred_y))\n",
    "            rl_tres.append(label_ranking_loss(test_y, pred_y))\n",
    "            cov_tres.append(coverage_error(test_y, pred_y) - 1)\n",
    "        ap_res3106.append(ap_tres)\n",
    "        rl_res3106.append(rl_tres)\n",
    "        cov_res3106.append(cov_tres)"
   ]
  },
  {
   "cell_type": "code",
   "execution_count": 83,
   "metadata": {},
   "outputs": [
    {
     "name": "stdout",
     "output_type": "stream",
     "text": [
      "*********\n",
      "0 0 0.0 1.0\n",
      "0 1 -13.317378518721606 9.657451365431795e-07\n",
      "0 2 16.352099881589734 1.970279295263045e-07\n",
      "0 3 -12.005647490712203 2.1361931953778825e-06\n",
      "1 0 13.317378518721606 9.657451365431795e-07\n",
      "1 1 0.0 1.0\n",
      "1 2 59.02737025931173 7.537108882880488e-12\n",
      "1 3 4.198738675992731 0.00300168271194327\n",
      "2 0 -16.352099881589734 1.970279295263045e-07\n",
      "2 1 -59.02737025931173 7.537108882880488e-12\n",
      "2 2 0.0 1.0\n",
      "2 3 -78.30723653249377 7.88432312477748e-13\n",
      "3 0 12.005647490712203 2.1361931953778825e-06\n",
      "3 1 -4.198738675992731 0.00300168271194327\n",
      "3 2 78.30723653249377 7.88432312477748e-13\n",
      "3 3 0.0 1.0\n",
      "*********\n",
      "0 0 0.0 1.0\n",
      "0 1 7.341541530385962 8.05922154200041e-05\n",
      "0 2 4.6525818221936195 0.0016391694847435905\n",
      "0 3 6.077706183808052 0.00029667928387106516\n",
      "1 0 -7.341541530385962 8.05922154200041e-05\n",
      "1 1 0.0 1.0\n",
      "1 2 -7.025549774282536 0.00010980620570097193\n",
      "1 3 -2.8190228455237425 0.022527756177637484\n",
      "2 0 -4.6525818221936195 0.0016391694847435905\n",
      "2 1 7.025549774282536 0.00010980620570097193\n",
      "2 2 0.0 1.0\n",
      "2 3 4.516731179368469 0.0019583344061451582\n",
      "3 0 -6.077706183808052 0.00029667928387106516\n",
      "3 1 2.8190228455237425 0.022527756177637484\n",
      "3 2 -4.516731179368469 0.0019583344061451582\n",
      "3 3 0.0 1.0\n",
      "*********\n",
      "0 0 0.0 1.0\n",
      "0 1 7.436141125222046 7.361037802977652e-05\n",
      "0 2 4.4954495889143855 0.002014175787207054\n",
      "0 3 6.2915865312790125 0.0002349080420850801\n",
      "1 0 -7.436141125222046 7.361037802977652e-05\n",
      "1 1 0.0 1.0\n",
      "1 2 -8.026376341183191 4.264540024206957e-05\n",
      "1 3 -2.5356348281096577 0.03494747193308212\n",
      "2 0 -4.4954495889143855 0.002014175787207054\n",
      "2 1 8.026376341183191 4.264540024206957e-05\n",
      "2 2 0.0 1.0\n",
      "2 3 5.7609490021214596 0.00042364851061447225\n",
      "3 0 -6.2915865312790125 0.0002349080420850801\n",
      "3 1 2.5356348281096577 0.03494747193308212\n",
      "3 2 -5.7609490021214596 0.00042364851061447225\n",
      "3 3 0.0 1.0\n"
     ]
    }
   ],
   "source": [
    "for tmp in [ap_res3106, rl_res3106, cov_res3106]:\n",
    "    print('*********')\n",
    "    for i in range(4):\n",
    "        for j in range(4):\n",
    "            t, p = stats.ttest_ind(tmp[i],tmp[j], axis = None)\n",
    "            print(i, j, t, p)"
   ]
  },
  {
   "cell_type": "code",
   "execution_count": null,
   "metadata": {},
   "outputs": [],
   "source": []
  }
 ],
 "metadata": {
  "kernelspec": {
   "display_name": "Python 3 (ipykernel)",
   "language": "python",
   "name": "python3"
  },
  "language_info": {
   "codemirror_mode": {
    "name": "ipython",
    "version": 3
   },
   "file_extension": ".py",
   "mimetype": "text/x-python",
   "name": "python",
   "nbconvert_exporter": "python",
   "pygments_lexer": "ipython3",
   "version": "3.9.7"
  }
 },
 "nbformat": 4,
 "nbformat_minor": 4
}
