{
 "cells": [
  {
   "cell_type": "code",
   "execution_count": 13,
   "metadata": {},
   "outputs": [],
   "source": [
    "import tensorflow as tf\n",
    "from tensorflow import keras\n",
    "import numpy as np\n",
    "\n",
    "from scipy.io import loadmat, savemat"
   ]
  },
  {
   "cell_type": "code",
   "execution_count": 297,
   "metadata": {},
   "outputs": [],
   "source": [
    "data = loadmat('3106-feature/feature_whsx_DWT.mat')"
   ]
  },
  {
   "cell_type": "code",
   "execution_count": 298,
   "metadata": {},
   "outputs": [
    {
     "data": {
      "text/plain": [
       "{'__header__': b'MATLAB 5.0 MAT-file, Platform: PCWIN64, Created on: Sun May 06 15:28:05 2018',\n",
       " '__version__': '1.0',\n",
       " '__globals__': [],\n",
       " 'feature_whsx_DWT': array([[ 2.10354710e+03,  9.12984599e+01,  3.82993646e+01, ...,\n",
       "          8.30313568e+01, -2.51580484e+00,  4.16154392e+01],\n",
       "        [ 3.39807972e+03,  1.89207386e+01, -4.67322651e+00, ...,\n",
       "          1.10711710e+02, -3.36775811e+00,  6.44772576e+01],\n",
       "        [ 5.03189082e+03, -1.39011428e+01,  4.30863808e+01, ...,\n",
       "          1.35833099e+02,  1.26587077e+00,  6.17620393e+01],\n",
       "        ...,\n",
       "        [ 6.29361543e+03,  1.01915896e+02,  1.32566980e+02, ...,\n",
       "          1.32918739e+02,  2.08499388e+00,  6.42840486e+01],\n",
       "        [ 2.67674658e+03, -6.26891138e+01, -5.88547355e+01, ...,\n",
       "          1.31336100e+02, -1.65397733e+00,  6.29467001e+01],\n",
       "        [ 2.64805193e+03, -7.29580448e+01,  1.14272585e+02, ...,\n",
       "          8.00463448e+01,  4.59357234e+00,  4.51626782e+01]])}"
      ]
     },
     "execution_count": 298,
     "metadata": {},
     "output_type": "execute_result"
    }
   ],
   "source": [
    "data"
   ]
  },
  {
   "cell_type": "code",
   "execution_count": 299,
   "metadata": {},
   "outputs": [],
   "source": [
    "pssm = data['feature_whsx_DWT']"
   ]
  },
  {
   "cell_type": "code",
   "execution_count": 300,
   "metadata": {},
   "outputs": [
    {
     "data": {
      "text/plain": [
       "(3106, 2964)"
      ]
     },
     "execution_count": 300,
     "metadata": {},
     "output_type": "execute_result"
    }
   ],
   "source": [
    "pssm.shape"
   ]
  },
  {
   "cell_type": "code",
   "execution_count": 301,
   "metadata": {},
   "outputs": [],
   "source": [
    "pssm_ori = pssm.reshape((3106,57,52, 1))"
   ]
  },
  {
   "cell_type": "code",
   "execution_count": 302,
   "metadata": {},
   "outputs": [],
   "source": [
    "pssm_rev = np.flip(pssm, axis = 1)"
   ]
  },
  {
   "cell_type": "code",
   "execution_count": 303,
   "metadata": {},
   "outputs": [],
   "source": [
    "pssm_rev = pssm_rev.reshape((3106,57,52, 1))"
   ]
  },
  {
   "cell_type": "code",
   "execution_count": 304,
   "metadata": {},
   "outputs": [
    {
     "data": {
      "text/plain": [
       "(3106, 57, 52, 1)"
      ]
     },
     "execution_count": 304,
     "metadata": {},
     "output_type": "execute_result"
    }
   ],
   "source": [
    "pssm_rev.shape"
   ]
  },
  {
   "cell_type": "code",
   "execution_count": 305,
   "metadata": {},
   "outputs": [],
   "source": [
    "pssm_mat = np.concatenate((pssm_ori, pssm_rev), axis = 3)"
   ]
  },
  {
   "cell_type": "code",
   "execution_count": 306,
   "metadata": {},
   "outputs": [
    {
     "data": {
      "text/plain": [
       "(3106, 57, 52, 2)"
      ]
     },
     "execution_count": 306,
     "metadata": {},
     "output_type": "execute_result"
    }
   ],
   "source": [
    "pssm_mat.shape"
   ]
  },
  {
   "cell_type": "code",
   "execution_count": 307,
   "metadata": {},
   "outputs": [],
   "source": [
    "savemat('feature_4802_ppdwt.mat', {'label':'4802:ppdwt:2964', 'feature':pssm_mat})"
   ]
  },
  {
   "cell_type": "code",
   "execution_count": null,
   "metadata": {},
   "outputs": [],
   "source": []
  },
  {
   "cell_type": "code",
   "execution_count": null,
   "metadata": {},
   "outputs": [],
   "source": []
  },
  {
   "cell_type": "code",
   "execution_count": null,
   "metadata": {},
   "outputs": [],
   "source": []
  },
  {
   "cell_type": "code",
   "execution_count": 308,
   "metadata": {},
   "outputs": [],
   "source": [
    "ppab = loadmat('feature_4802_ppab.mat')['feature']"
   ]
  },
  {
   "cell_type": "code",
   "execution_count": 309,
   "metadata": {},
   "outputs": [
    {
     "data": {
      "text/plain": [
       "(3106, 38, 30, 2)"
      ]
     },
     "execution_count": 309,
     "metadata": {},
     "output_type": "execute_result"
    }
   ],
   "source": [
    "ppab.shape"
   ]
  },
  {
   "cell_type": "code",
   "execution_count": 310,
   "metadata": {},
   "outputs": [],
   "source": [
    "ppdwt = loadmat('feature_4802_ppdwt.mat')['feature']"
   ]
  },
  {
   "cell_type": "code",
   "execution_count": 311,
   "metadata": {},
   "outputs": [
    {
     "data": {
      "text/plain": [
       "(3106, 57, 52, 2)"
      ]
     },
     "execution_count": 311,
     "metadata": {},
     "output_type": "execute_result"
    }
   ],
   "source": [
    "ppdwt.shape"
   ]
  },
  {
   "cell_type": "code",
   "execution_count": 312,
   "metadata": {},
   "outputs": [],
   "source": [
    "pppse = loadmat('feature_4802_pppse.mat')['feature']"
   ]
  },
  {
   "cell_type": "code",
   "execution_count": 313,
   "metadata": {},
   "outputs": [
    {
     "data": {
      "text/plain": [
       "(3106, 31, 57, 2)"
      ]
     },
     "execution_count": 313,
     "metadata": {},
     "output_type": "execute_result"
    }
   ],
   "source": [
    "pppse.shape"
   ]
  },
  {
   "cell_type": "code",
   "execution_count": 314,
   "metadata": {},
   "outputs": [],
   "source": [
    "pssmab = loadmat('feature_4802_pssmab.mat')['feature']"
   ]
  },
  {
   "cell_type": "code",
   "execution_count": 315,
   "metadata": {},
   "outputs": [
    {
     "data": {
      "text/plain": [
       "(3106, 20, 20, 2)"
      ]
     },
     "execution_count": 315,
     "metadata": {},
     "output_type": "execute_result"
    }
   ],
   "source": [
    "pssmab.shape"
   ]
  },
  {
   "cell_type": "code",
   "execution_count": 316,
   "metadata": {},
   "outputs": [],
   "source": [
    "pssmdwt = loadmat('feature_4802_pssmdwt.mat')['feature']"
   ]
  },
  {
   "cell_type": "code",
   "execution_count": 317,
   "metadata": {},
   "outputs": [
    {
     "data": {
      "text/plain": [
       "(3106, 40, 26, 2)"
      ]
     },
     "execution_count": 317,
     "metadata": {},
     "output_type": "execute_result"
    }
   ],
   "source": [
    "pssmdwt.shape"
   ]
  },
  {
   "cell_type": "code",
   "execution_count": 318,
   "metadata": {},
   "outputs": [],
   "source": [
    "pssmpse = loadmat('feature_4802_pssmpse.mat')['feature']"
   ]
  },
  {
   "cell_type": "code",
   "execution_count": 319,
   "metadata": {},
   "outputs": [
    {
     "data": {
      "text/plain": [
       "(3106, 31, 20, 2)"
      ]
     },
     "execution_count": 319,
     "metadata": {},
     "output_type": "execute_result"
    }
   ],
   "source": [
    "pssmpse.shape"
   ]
  },
  {
   "cell_type": "code",
   "execution_count": 320,
   "metadata": {},
   "outputs": [],
   "source": [
    "feature = {'ppab':ppab, 'ppdwt':ppdwt, 'pppse':pppse, 'pssmab':pssmab, 'pssmdwt':pssmdwt, 'pssmpse':pssmpse}"
   ]
  },
  {
   "cell_type": "code",
   "execution_count": 321,
   "metadata": {},
   "outputs": [],
   "source": [
    "feature['label'] = '3106_feature_7931'"
   ]
  },
  {
   "cell_type": "code",
   "execution_count": 322,
   "metadata": {},
   "outputs": [],
   "source": [
    "savemat('feature_3106', feature)"
   ]
  },
  {
   "cell_type": "code",
   "execution_count": 323,
   "metadata": {},
   "outputs": [],
   "source": [
    "from sklearn.model_selection import KFold"
   ]
  },
  {
   "cell_type": "code",
   "execution_count": 329,
   "metadata": {},
   "outputs": [
    {
     "name": "stdout",
     "output_type": "stream",
     "text": [
      "(2795, 31, 20, 2) 311\n",
      "(2795, 31, 20, 2) 311\n",
      "(2795, 31, 20, 2) 311\n",
      "(2795, 31, 20, 2) 311\n",
      "(2795, 31, 20, 2) 311\n",
      "(2795, 31, 20, 2) 311\n",
      "(2796, 31, 20, 2) 310\n",
      "(2796, 31, 20, 2) 310\n",
      "(2796, 31, 20, 2) 310\n",
      "(2796, 31, 20, 2) 310\n"
     ]
    }
   ],
   "source": [
    "num_folds = 10\n",
    "kf = KFold(num_folds)\n",
    "\n",
    "for train_index, test_index in kf.split(pssmpse):\n",
    "    print(pssmpse[train_index].shape, len(test_index))"
   ]
  },
  {
   "cell_type": "code",
   "execution_count": null,
   "metadata": {},
   "outputs": [],
   "source": []
  }
 ],
 "metadata": {
  "kernelspec": {
   "display_name": "Python 3",
   "language": "python",
   "name": "python3"
  },
  "language_info": {
   "codemirror_mode": {
    "name": "ipython",
    "version": 3
   },
   "file_extension": ".py",
   "mimetype": "text/x-python",
   "name": "python",
   "nbconvert_exporter": "python",
   "pygments_lexer": "ipython3",
   "version": "3.8.2"
  }
 },
 "nbformat": 4,
 "nbformat_minor": 4
}
