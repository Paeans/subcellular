{
 "cells": [
  {
   "cell_type": "code",
   "execution_count": 2,
   "metadata": {},
   "outputs": [],
   "source": [
    "from scipy.io import loadmat, savemat\n",
    "\n",
    "import numpy as np"
   ]
  },
  {
   "cell_type": "code",
   "execution_count": 142,
   "metadata": {},
   "outputs": [
    {
     "name": "stdout",
     "output_type": "stream",
     "text": [
      "0, auc: 0.8165, 0.7344, mcc: 0.3946, f1: 0.6238\n",
      "1, auc: 0.8797, 0.8202, mcc: 0.5103, f1: 0.7024\n",
      "2, auc: 0.8938, 0.8608, mcc: 0.5723, f1: 0.7349\n",
      "3, auc: 0.9055, 0.8837, mcc: 0.6065, f1: 0.7545\n",
      "4, auc: 0.9078, 0.8900, mcc: 0.6159, f1: 0.7614\n",
      "5, auc: 0.9219, 0.8930, mcc: 0.6205, f1: 0.7619\n",
      "6, auc: 0.9220, 0.8973, mcc: 0.6299, f1: 0.7669\n",
      "7, auc: 0.9376, 0.9042, mcc: 0.6381, f1: 0.7778\n",
      "8, auc: 0.9246, 0.9053, mcc: 0.6326, f1: 0.7667\n",
      "9, auc: 0.9255, 0.9064, mcc: 0.6419, f1: 0.7775\n",
      "0, auc: 0.8031, 0.7263, mcc: 0.3699, f1: 0.6305\n",
      "1, auc: 0.8719, 0.8031, mcc: 0.5077, f1: 0.6933\n",
      "2, auc: 0.8863, 0.8476, mcc: 0.5765, f1: 0.7416\n",
      "3, auc: 0.9100, 0.8707, mcc: 0.5946, f1: 0.7491\n",
      "4, auc: 0.9267, 0.8803, mcc: 0.6010, f1: 0.7500\n",
      "5, auc: 0.9156, 0.8848, mcc: 0.6133, f1: 0.7639\n",
      "6, auc: 0.9258, 0.8912, mcc: 0.6098, f1: 0.7619\n",
      "7, auc: 0.9334, 0.8969, mcc: 0.6204, f1: 0.7700\n",
      "8, auc: 0.9324, 0.8992, mcc: 0.6312, f1: 0.7704\n",
      "9, auc: 0.9381, 0.8986, mcc: 0.6354, f1: 0.7755\n",
      "0, auc: 0.8116, 0.7259, mcc: 0.3555, f1: 0.6280\n",
      "1, auc: 0.8880, 0.8107, mcc: 0.5105, f1: 0.7026\n",
      "2, auc: 0.9005, 0.8581, mcc: 0.5751, f1: 0.7407\n",
      "3, auc: 0.9127, 0.8782, mcc: 0.5971, f1: 0.7545\n",
      "4, auc: 0.9403, 0.8893, mcc: 0.5985, f1: 0.7568\n",
      "5, auc: 0.9286, 0.8991, mcc: 0.6194, f1: 0.7672\n",
      "6, auc: 0.9244, 0.8974, mcc: 0.6234, f1: 0.7682\n",
      "7, auc: 0.9405, 0.9000, mcc: 0.6266, f1: 0.7684\n",
      "8, auc: 0.9269, 0.8988, mcc: 0.6449, f1: 0.7764\n",
      "9, auc: 0.9368, 0.9012, mcc: 0.6324, f1: 0.7764\n",
      "0, auc: 0.8162, 0.7391, mcc: 0.3637, f1: 0.6296\n",
      "1, auc: 0.8836, 0.8118, mcc: 0.5139, f1: 0.6949\n",
      "2, auc: 0.9026, 0.8637, mcc: 0.5855, f1: 0.7436\n",
      "3, auc: 0.9110, 0.8787, mcc: 0.5802, f1: 0.7419\n",
      "4, auc: 0.9223, 0.8873, mcc: 0.6082, f1: 0.7586\n",
      "5, auc: 0.9198, 0.8950, mcc: 0.6108, f1: 0.7588\n",
      "6, auc: 0.9314, 0.8976, mcc: 0.6163, f1: 0.7627\n",
      "7, auc: 0.9321, 0.9021, mcc: 0.6247, f1: 0.7655\n",
      "8, auc: 0.9289, 0.9017, mcc: 0.6337, f1: 0.7697\n",
      "9, auc: 0.9302, 0.9044, mcc: 0.6260, f1: 0.7689\n",
      "0, auc: 0.8216, 0.7287, mcc: 0.4045, f1: 0.6364\n",
      "1, auc: 0.8712, 0.7937, mcc: 0.4920, f1: 0.6853\n",
      "2, auc: 0.8938, 0.8482, mcc: 0.5650, f1: 0.7351\n",
      "3, auc: 0.9175, 0.8743, mcc: 0.5850, f1: 0.7458\n",
      "4, auc: 0.9221, 0.8819, mcc: 0.5848, f1: 0.7444\n",
      "5, auc: 0.9350, 0.8911, mcc: 0.6216, f1: 0.7667\n",
      "6, auc: 0.9287, 0.8909, mcc: 0.6087, f1: 0.7599\n",
      "7, auc: 0.9322, 0.8921, mcc: 0.6233, f1: 0.7727\n",
      "8, auc: 0.9331, 0.8989, mcc: 0.6259, f1: 0.7747\n",
      "9, auc: 0.9302, 0.8946, mcc: 0.6244, f1: 0.7729\n"
     ]
    }
   ],
   "source": [
    "from sklearn.metrics import roc_curve, auc\n",
    "from sklearn.preprocessing import label_binarize\n",
    "from sklearn.metrics import accuracy_score, matthews_corrcoef\n",
    "from sklearn.metrics import f1_score, precision_score\n",
    "\n",
    "for c in range(5):\n",
    "    for f in range(10):\n",
    "        filename = 'encoding_3106_lrg/new_encoding_3106_lrg_' +str(c) + '_' +  str(f) + '.mat'\n",
    "        result = loadmat(filename)\n",
    "        test_y = result['test_y']\n",
    "        pred_y = result['pred_y']\n",
    "\n",
    "        tmp = np.zeros(pred_y.shape)\n",
    "\n",
    "\n",
    "        resauc = []\n",
    "        for i in range(14):\n",
    "            fpr, tpr, _ = roc_curve(test_y[:, i], pred_y[:, i])\n",
    "            roc_auc = auc(fpr, tpr)\n",
    "            resauc.append(roc_auc)\n",
    "\n",
    "\n",
    "        resmcc = []\n",
    "        resf1 = []\n",
    "        for t in np.arange(0,1,0.01):\n",
    "            tmp[pred_y < t] = 0\n",
    "            tmp[pred_y >= t] = 1\n",
    "            for i in range(14):\n",
    "                resmcc.append(matthews_corrcoef(test_y[:,i], tmp[:, i]))\n",
    "                resf1.append(f1_score(test_y[:,i], tmp[:, i]))\n",
    "        resmcc = np.array(resmcc).reshape((100, 14))\n",
    "        resf1 = np.array(resf1).reshape((100, 14))\n",
    "\n",
    "        print('{}, auc: {:.4f}, {:.4f}, mcc: {:.4f}, f1: {:.4f}'.format(f, \n",
    "            np.amax(resauc), np.average(resauc), np.amax(resmcc), np.amax(resf1)))\n",
    "    #     print('{}, auc: {:.4f}, {:.4f}'.format(f,\n",
    "    #             np.amax(resauc), np.average(resauc)))"
   ]
  },
  {
   "cell_type": "code",
   "execution_count": 135,
   "metadata": {},
   "outputs": [
    {
     "name": "stdout",
     "output_type": "stream",
     "text": [
      "0, acc: 0.9999, pre: 1.0000\n",
      "1, acc: 0.9999, pre: 1.0000\n",
      "2, acc: 0.9999, pre: 1.0000\n",
      "3, acc: 0.9999, pre: 1.0000\n",
      "4, acc: 0.9999, pre: 1.0000\n",
      "5, acc: 0.9999, pre: 1.0000\n",
      "6, acc: 0.9999, pre: 1.0000\n",
      "7, acc: 0.9999, pre: 1.0000\n",
      "8, acc: 0.9999, pre: 1.0000\n",
      "9, acc: 0.9999, pre: 1.0000\n"
     ]
    }
   ],
   "source": [
    "for f in range(10):\n",
    "    filename = 'new_result_pssm/new_pssm_4802_' + str(f) + '.mat'\n",
    "    result = loadmat(filename)\n",
    "    test_y = result['test_y']\n",
    "    pred_y = result['pred_y']\n",
    "\n",
    "    tmp = np.zeros(pred_y.shape)\n",
    "    \n",
    "    resmcc = []\n",
    "    resf1 = []\n",
    "    for t in np.arange(0,1,0.01):\n",
    "        tmp[pred_y < t] = 0\n",
    "        tmp[pred_y >= t] = 1\n",
    "        for i in range(37):\n",
    "            resmcc.append(accuracy_score(test_y[:,i], tmp[:, i]))\n",
    "            resf1.append(precision_score(test_y[:,i], tmp[:, i]))\n",
    "    resmcc = np.array(resmcc).reshape((100, 37))\n",
    "    resf1 = np.array(resf1).reshape((100, 37))\n",
    "\n",
    "    print('{}, acc: {:.4f}, pre: {:.4f}'.format(f, np.amax(resmcc), np.amax(resf1)))"
   ]
  },
  {
   "cell_type": "code",
   "execution_count": 125,
   "metadata": {},
   "outputs": [],
   "source": [
    "resmcc = np.array(resmcc).reshape((100, 37))\n",
    "resf1 = np.array(resf1).reshape((100, 37))"
   ]
  },
  {
   "cell_type": "code",
   "execution_count": 128,
   "metadata": {},
   "outputs": [
    {
     "data": {
      "text/plain": [
       "0.9178154314147873"
      ]
     },
     "execution_count": 128,
     "metadata": {},
     "output_type": "execute_result"
    }
   ],
   "source": [
    "np.amax(resauc)"
   ]
  },
  {
   "cell_type": "code",
   "execution_count": 100,
   "metadata": {},
   "outputs": [
    {
     "data": {
      "text/plain": [
       "{'__header__': b'MATLAB 5.0 MAT-file Platform: posix, Created on: Tue Oct 13 17:07:17 2020',\n",
       " '__version__': '1.0',\n",
       " '__globals__': [],\n",
       " 'pred_y': array([[7.3856791e-04, 1.6289729e-03, 3.6747148e-04, ..., 2.0673119e-03,\n",
       "         7.9734059e-04, 3.6714372e-04],\n",
       "        [1.2479783e-02, 4.7726668e-03, 6.7336950e-04, ..., 4.5304617e-04,\n",
       "         1.5002469e-03, 3.7446222e-04],\n",
       "        [2.4696470e-03, 1.6048219e-03, 5.9586775e-04, ..., 3.1644807e-04,\n",
       "         9.4876916e-04, 3.6800368e-04],\n",
       "        ...,\n",
       "        [1.4670380e-02, 2.3559548e-03, 3.6275617e-04, ..., 3.5265419e-03,\n",
       "         9.7754691e-04, 3.7543196e-04],\n",
       "        [2.0957552e-04, 1.2722786e-05, 2.7459156e-04, ..., 8.2992519e-05,\n",
       "         5.7043397e-04, 3.6817626e-04],\n",
       "        [6.1473763e-04, 1.6422895e-03, 2.7175972e-04, ..., 1.3553054e-03,\n",
       "         8.0976670e-04, 3.6877257e-04]], dtype=float32),\n",
       " 'test_y': array([[0, 0, 0, ..., 0, 0, 0],\n",
       "        [0, 0, 0, ..., 0, 0, 0],\n",
       "        [0, 0, 0, ..., 0, 0, 0],\n",
       "        ...,\n",
       "        [0, 0, 0, ..., 0, 0, 0],\n",
       "        [0, 0, 0, ..., 0, 0, 0],\n",
       "        [0, 0, 0, ..., 0, 0, 0]], dtype=uint8)}"
      ]
     },
     "execution_count": 100,
     "metadata": {},
     "output_type": "execute_result"
    }
   ],
   "source": [
    "result"
   ]
  },
  {
   "cell_type": "code",
   "execution_count": 101,
   "metadata": {},
   "outputs": [],
   "source": [
    "test_y = result['test_y']"
   ]
  },
  {
   "cell_type": "code",
   "execution_count": 102,
   "metadata": {},
   "outputs": [],
   "source": [
    "pred_y = result['pred_y']"
   ]
  },
  {
   "cell_type": "code",
   "execution_count": 103,
   "metadata": {},
   "outputs": [],
   "source": [
    "tmp = np.zeros(pred_y.shape)"
   ]
  },
  {
   "cell_type": "code",
   "execution_count": 71,
   "metadata": {},
   "outputs": [],
   "source": [
    "tmp[pred_y < 0.3] = 0\n",
    "tmp[pred_y >= 0.3] = 1"
   ]
  },
  {
   "cell_type": "code",
   "execution_count": 72,
   "metadata": {},
   "outputs": [
    {
     "data": {
      "text/plain": [
       "array([[0., 0., 0., ..., 0., 0., 0.],\n",
       "       [0., 0., 0., ..., 0., 0., 0.],\n",
       "       [0., 0., 0., ..., 0., 0., 0.],\n",
       "       ...,\n",
       "       [0., 0., 0., ..., 0., 0., 0.],\n",
       "       [0., 0., 0., ..., 0., 0., 0.],\n",
       "       [0., 0., 0., ..., 0., 0., 0.]])"
      ]
     },
     "execution_count": 72,
     "metadata": {},
     "output_type": "execute_result"
    }
   ],
   "source": [
    "tmp"
   ]
  },
  {
   "cell_type": "code",
   "execution_count": 74,
   "metadata": {},
   "outputs": [
    {
     "data": {
      "text/plain": [
       "0.0002426045"
      ]
     },
     "execution_count": 74,
     "metadata": {},
     "output_type": "execute_result"
    }
   ],
   "source": [
    "np.amin(pred_y)"
   ]
  },
  {
   "cell_type": "code",
   "execution_count": 36,
   "metadata": {},
   "outputs": [
    {
     "data": {
      "text/plain": [
       "array([[0.00218197, 0.00264921, 0.00057168, ..., 0.00567965, 0.00200361,\n",
       "        0.00124048],\n",
       "       [0.00150887, 0.00293693, 0.00043915, ..., 0.00382916, 0.0017069 ,\n",
       "        0.00112543],\n",
       "       [0.00352711, 0.00457331, 0.00062335, ..., 0.00524639, 0.00209365,\n",
       "        0.00158105],\n",
       "       ...,\n",
       "       [0.00720586, 0.00861815, 0.00100143, ..., 0.00810077, 0.00331353,\n",
       "        0.00250639],\n",
       "       [0.0014179 , 0.00181723, 0.00041279, ..., 0.00410459, 0.00140878,\n",
       "        0.00089761],\n",
       "       [0.00190351, 0.00237175, 0.00049859, ..., 0.00317534, 0.00176481,\n",
       "        0.00108573]], dtype=float32)"
      ]
     },
     "execution_count": 36,
     "metadata": {},
     "output_type": "execute_result"
    }
   ],
   "source": [
    "pred_y"
   ]
  },
  {
   "cell_type": "code",
   "execution_count": 96,
   "metadata": {},
   "outputs": [
    {
     "data": {
      "text/plain": [
       "0.5"
      ]
     },
     "execution_count": 96,
     "metadata": {},
     "output_type": "execute_result"
    }
   ],
   "source": [
    "from sklearn.metrics import accuracy_score, matthews_corrcoef, f1_score, precision_score\n",
    "y_pred = [0, 2, 1, 3]\n",
    "y_true = [0, 1, 2, 3]\n",
    "accuracy_score(y_true, y_pred)"
   ]
  },
  {
   "cell_type": "code",
   "execution_count": 63,
   "metadata": {},
   "outputs": [
    {
     "data": {
      "text/plain": [
       "0.9960679177837355"
      ]
     },
     "execution_count": 63,
     "metadata": {},
     "output_type": "execute_result"
    }
   ],
   "source": [
    "accuracy_score(test_y[:, 0], tmp[:, 0])"
   ]
  },
  {
   "cell_type": "code",
   "execution_count": 117,
   "metadata": {},
   "outputs": [
    {
     "name": "stdout",
     "output_type": "stream",
     "text": [
      "0.7874716571782784\n",
      "0.8889420606372046\n",
      "0.8345946610624217\n",
      "0.899236564540432\n",
      "0.8415383501569049\n",
      "0.9019988512801146\n",
      "0.8763382307927763\n",
      "0.8090331709617871\n",
      "0.8590003758794431\n",
      "0.7884208031495563\n",
      "0.8675712087744055\n",
      "0.8908688630490955\n",
      "0.8879223612252559\n",
      "0.8324986585583974\n",
      "0.7203599415988796\n",
      "0.9076255457364014\n",
      "0.8396511627906977\n",
      "0.8214246341261748\n",
      "0.3845638183768323\n",
      "0.8383255904177322\n",
      "0.9178154314147873\n",
      "0.7099970131421744\n",
      "0.7865859340190187\n",
      "0.576924452391596\n",
      "0.873741128880909\n",
      "0.8764998749009195\n",
      "0.8658233691951518\n",
      "0.8886244739940398\n",
      "0.5304790847336431\n",
      "0.880701071080818\n",
      "0.8953969667570378\n",
      "0.5432799785388536\n",
      "0.737571530758226\n",
      "0.5467993510558118\n",
      "0.8021526653474846\n",
      "0.868863627322274\n",
      "0.7285829235583371\n"
     ]
    }
   ],
   "source": [
    "from sklearn.metrics import roc_curve, auc\n",
    "from sklearn.preprocessing import label_binarize\n",
    "\n",
    "for i in range(37):\n",
    "    fpr, tpr, _ = roc_curve(test_y[:, i], pred_y[:, i])\n",
    "    roc_auc = auc(fpr, tpr)\n",
    "    print(roc_auc)\n",
    "\n",
    "# # plot ROC\n",
    "# import matplotlib.pyplot as plt\n",
    "# plt.figure()\n",
    "# plt.plot(fpr, tpr, color='darkorange',\n",
    "#          lw=2, label='ROC curve (area = %0.4f)' % roc_auc)\n",
    "# plt.plot([0, 1], [0, 1], color='navy', lw=2, linestyle='--')\n",
    "# plt.xlim([0.0, 1.0])\n",
    "# plt.ylim([0.0, 1.05])\n",
    "# plt.xlabel('False Positive Rate')\n",
    "# plt.ylabel('True Positive Rate')\n",
    "# plt.title('Receiver operating characteristic class ')\n",
    "# plt.legend(loc=\"lower right\")\n",
    "# plt.show()"
   ]
  },
  {
   "cell_type": "code",
   "execution_count": 40,
   "metadata": {},
   "outputs": [
    {
     "data": {
      "text/plain": [
       "0.7150180252189942"
      ]
     },
     "execution_count": 40,
     "metadata": {},
     "output_type": "execute_result"
    }
   ],
   "source": [
    "roc_auc"
   ]
  },
  {
   "cell_type": "code",
   "execution_count": 25,
   "metadata": {},
   "outputs": [
    {
     "data": {
      "text/plain": [
       "array([0, 0, 0, ..., 0, 0, 0], dtype=uint8)"
      ]
     },
     "execution_count": 25,
     "metadata": {},
     "output_type": "execute_result"
    }
   ],
   "source": [
    "test_y[:, 0]"
   ]
  },
  {
   "cell_type": "code",
   "execution_count": 28,
   "metadata": {},
   "outputs": [
    {
     "name": "stdout",
     "output_type": "stream",
     "text": [
      "[0. 0. 0. ... 0. 0. 0.]\n"
     ]
    }
   ],
   "source": [
    "print(pred_y[:, 0])"
   ]
  },
  {
   "cell_type": "code",
   "execution_count": 65,
   "metadata": {},
   "outputs": [
    {
     "data": {
      "text/plain": [
       "(11190, 37)"
      ]
     },
     "execution_count": 65,
     "metadata": {},
     "output_type": "execute_result"
    }
   ],
   "source": [
    "test_y.shape"
   ]
  },
  {
   "cell_type": "code",
   "execution_count": 116,
   "metadata": {},
   "outputs": [
    {
     "name": "stdout",
     "output_type": "stream",
     "text": [
      "0.10598005454822297\n",
      "0.20379268435989287\n",
      "0.03766856326220824\n",
      "0.4855190205979797\n",
      "0.4878076315088179\n",
      "0.31393704678906104\n",
      "0.4280772035658725\n",
      "0.048628721328335685\n",
      "0.20002890306168425\n",
      "0.17258806497009332\n",
      "0.44766393769840435\n",
      "0.5599142380001132\n",
      "0.5158128938096403\n",
      "0.04384043125749186\n",
      "0.0\n",
      "0.26149015779468304\n",
      "0.02807669759494813\n",
      "0.07253796872248466\n",
      "0.0\n",
      "0.2632378208705191\n",
      "0.08287801564026752\n",
      "0.055620820962982244\n",
      "0.13704100601198935\n",
      "0.0\n",
      "0.5019944016582528\n",
      "0.2168349330320817\n",
      "0.38522493154388043\n",
      "0.6304153916857096\n",
      "0.0\n",
      "0.29050268879527363\n",
      "0.5981034111280363\n",
      "0.0\n",
      "0.0\n",
      "0.0\n",
      "0.15610795568374455\n",
      "0.06527300856962985\n",
      "0.0\n"
     ]
    }
   ],
   "source": [
    "for i in range(37):\n",
    "    resmcc = []\n",
    "    for t in np.arange(0,1,0.001):\n",
    "        tmp[pred_y < t] = 0\n",
    "        tmp[pred_y >= t] = 1\n",
    "        resmcc.append(matthews_corrcoef(test_y[:,i], tmp[:, i]))\n",
    "    print(np.amax(resmcc))"
   ]
  },
  {
   "cell_type": "code",
   "execution_count": 115,
   "metadata": {},
   "outputs": [
    {
     "data": {
      "text/plain": [
       "(390835,)"
      ]
     },
     "execution_count": 115,
     "metadata": {},
     "output_type": "execute_result"
    }
   ],
   "source": [
    "np.unique(pred_y).shape"
   ]
  },
  {
   "cell_type": "code",
   "execution_count": 110,
   "metadata": {},
   "outputs": [
    {
     "data": {
      "text/plain": [
       "0.1803921568627451"
      ]
     },
     "execution_count": 110,
     "metadata": {},
     "output_type": "execute_result"
    }
   ],
   "source": [
    "np.amax(resmcc)"
   ]
  },
  {
   "cell_type": "code",
   "execution_count": 44,
   "metadata": {},
   "outputs": [
    {
     "data": {
      "text/plain": [
       "-0.3333333333333333"
      ]
     },
     "execution_count": 44,
     "metadata": {},
     "output_type": "execute_result"
    }
   ],
   "source": [
    "from sklearn.metrics import matthews_corrcoef\n",
    "y_true = [+1, +1, +1, -1]\n",
    "y_pred = [+1, -1, +1, +1]\n",
    "matthews_corrcoef(y_true, y_pred)"
   ]
  },
  {
   "cell_type": "code",
   "execution_count": 49,
   "metadata": {},
   "outputs": [],
   "source": [
    "tmp = np.array(tmp, dtype='uint8')"
   ]
  },
  {
   "cell_type": "code",
   "execution_count": 53,
   "metadata": {},
   "outputs": [
    {
     "data": {
      "text/plain": [
       "array([0, 0, 0, ..., 0, 0, 0], dtype=uint8)"
      ]
     },
     "execution_count": 53,
     "metadata": {},
     "output_type": "execute_result"
    }
   ],
   "source": [
    "test_y[:, 0]"
   ]
  },
  {
   "cell_type": "code",
   "execution_count": 55,
   "metadata": {},
   "outputs": [
    {
     "data": {
      "text/plain": [
       "(11190,)"
      ]
     },
     "execution_count": 55,
     "metadata": {},
     "output_type": "execute_result"
    }
   ],
   "source": [
    "tmp[:,0].shape"
   ]
  },
  {
   "cell_type": "code",
   "execution_count": 143,
   "metadata": {},
   "outputs": [],
   "source": [
    "from sklearn.metrics import label_ranking_average_precision_score as avgprec\n",
    "from sklearn.metrics import coverage_error, label_ranking_loss\n",
    "\n",
    "ap_list = []\n",
    "rl_list = []\n",
    "ce_list = []\n",
    "for c in range(5):\n",
    "    for f in range(20):\n",
    "        filename = 'encoding_3106/new_encoding_3106_res_' +str(c) + '_' +  str(f) + '.mat'\n",
    "        result = loadmat(filename)\n",
    "        test_y = result['test_y']\n",
    "        pred_y = result['pred_y']\n",
    "        \n",
    "        ap_list.append(avgprec(test_y, pred_y))\n",
    "        rl_list.append(label_ranking_loss(test_y, pred_y))\n",
    "        ce_list.append(coverage_error(test_y, pred_y) - 1)"
   ]
  },
  {
   "cell_type": "code",
   "execution_count": 144,
   "metadata": {},
   "outputs": [],
   "source": [
    "ap_values = np.array(ap_list).reshape((5,20))\n",
    "rl_values = np.array(rl_list).reshape((5,20))\n",
    "ce_values = np.array(ce_list).reshape((5,20))\n",
    "    \n",
    "with open('new_encoding_3106_uni.txt', 'w') as result_file:    \n",
    "    result_file.write('the ap score is: \\n')\n",
    "    result_file.write(str(ap_values) + '\\n')\n",
    "    result_file.write('max is: {}'.format(np.amax(ap_values, axis = 1)) + '\\n')    \n",
    "    result_file.write('k-fold is: {}'.format(np.average(ap_values, axis = 0)) + '\\n')\n",
    "    result_file.write('k-fold max is: {}'.format(np.amax(np.average(ap_values, axis = 0))) + '\\n')\n",
    "\n",
    "    result_file.write('the rl score is: \\n')\n",
    "    result_file.write(str(rl_values) + '\\n')\n",
    "    result_file.write('min is: {}'.format(np.amin(rl_values, axis = 1)) + '\\n')    \n",
    "    result_file.write('k-fold is: {}'.format(np.average(rl_values, axis = 0)) + '\\n')\n",
    "    result_file.write('k-fold min is: {}'.format(np.amin(np.average(rl_values, axis = 0))) + '\\n')\n",
    "\n",
    "    result_file.write('the ce score is: \\n')\n",
    "    result_file.write(str(ce_values) + '\\n')\n",
    "    result_file.write('min is: {}'.format(np.amin(ce_values, axis = 1)) + '\\n')    \n",
    "    result_file.write('k-fold is: {}'.format(np.average(ce_values, axis = 0)) + '\\n')\n",
    "    result_file.write('k-fold min is: {}'.format(np.amin(np.average(ce_values, axis = 0))) + '\\n')"
   ]
  },
  {
   "cell_type": "code",
   "execution_count": null,
   "metadata": {},
   "outputs": [],
   "source": []
  }
 ],
 "metadata": {
  "kernelspec": {
   "display_name": "Python 3",
   "language": "python",
   "name": "python3"
  },
  "language_info": {
   "codemirror_mode": {
    "name": "ipython",
    "version": 3
   },
   "file_extension": ".py",
   "mimetype": "text/x-python",
   "name": "python",
   "nbconvert_exporter": "python",
   "pygments_lexer": "ipython3",
   "version": "3.8.5"
  }
 },
 "nbformat": 4,
 "nbformat_minor": 4
}
