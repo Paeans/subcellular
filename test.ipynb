{
 "cells": [
  {
   "cell_type": "code",
   "execution_count": 1,
   "metadata": {},
   "outputs": [],
   "source": [
    "import numpy as np\n",
    "import tensorflow as tf\n",
    "\n",
    "from tensorflow import keras\n",
    "from scipy.io import loadmat, savemat\n",
    "\n",
    "from tensorflow.keras import layers\n",
    "\n",
    "from sklearn.model_selection import KFold\n",
    "from sklearn.metrics import label_ranking_average_precision_score as avgprec, coverage_error, label_ranking_loss"
   ]
  },
  {
   "cell_type": "code",
   "execution_count": 2,
   "metadata": {},
   "outputs": [],
   "source": [
    "gpus = tf.config.experimental.list_physical_devices('GPU')\n",
    "if gpus:\n",
    "  try:\n",
    "    # Currently, memory growth needs to be the same across GPUs\n",
    "    for gpu in gpus:\n",
    "      tf.config.experimental.set_memory_growth(gpu, True)\n",
    "#     logical_gpus = tf.config.experimental.list_logical_devices('GPU')\n",
    "#     print(len(gpus), \"Physical GPUs,\", len(logical_gpus), \"Logical GPUs\")\n",
    "  except RuntimeError as e:\n",
    "    # Memory growth must be set before GPUs have been initialized\n",
    "    print(e)"
   ]
  },
  {
   "cell_type": "code",
   "execution_count": 3,
   "metadata": {},
   "outputs": [],
   "source": [
    "Y_4802 = loadmat('Y_4802.mat')['Y_4802']"
   ]
  },
  {
   "cell_type": "code",
   "execution_count": 4,
   "metadata": {},
   "outputs": [],
   "source": [
    "X_4802_feature = loadmat('feature_4802.mat')"
   ]
  },
  {
   "cell_type": "code",
   "execution_count": 5,
   "metadata": {},
   "outputs": [
    {
     "data": {
      "text/plain": [
       "dict_keys(['__header__', '__version__', '__globals__', 'ppab', 'ppdwt', 'pppse', 'pssmab', 'pssmdwt', 'pssmpse', 'label'])"
      ]
     },
     "execution_count": 5,
     "metadata": {},
     "output_type": "execute_result"
    }
   ],
   "source": [
    "X_4802_feature.keys()"
   ]
  },
  {
   "cell_type": "code",
   "execution_count": 6,
   "metadata": {},
   "outputs": [
    {
     "name": "stdout",
     "output_type": "stream",
     "text": [
      "Model: \"functional_13\"\n",
      "__________________________________________________________________________________________________\n",
      "Layer (type)                    Output Shape         Param #     Connected to                     \n",
      "==================================================================================================\n",
      "input_1 (InputLayer)            [(None, 38, 30, 2)]  0                                            \n",
      "__________________________________________________________________________________________________\n",
      "input_2 (InputLayer)            [(None, 57, 52, 2)]  0                                            \n",
      "__________________________________________________________________________________________________\n",
      "input_3 (InputLayer)            [(None, 31, 57, 2)]  0                                            \n",
      "__________________________________________________________________________________________________\n",
      "input_4 (InputLayer)            [(None, 20, 20, 2)]  0                                            \n",
      "__________________________________________________________________________________________________\n",
      "input_5 (InputLayer)            [(None, 40, 26, 2)]  0                                            \n",
      "__________________________________________________________________________________________________\n",
      "input_6 (InputLayer)            [(None, 31, 20, 2)]  0                                            \n",
      "__________________________________________________________________________________________________\n",
      "conv2d (Conv2D)                 (None, 35, 28, 256)  6400        input_1[0][0]                    \n",
      "__________________________________________________________________________________________________\n",
      "conv2d_4 (Conv2D)               (None, 54, 50, 256)  6400        input_2[0][0]                    \n",
      "__________________________________________________________________________________________________\n",
      "conv2d_8 (Conv2D)               (None, 28, 55, 256)  6400        input_3[0][0]                    \n",
      "__________________________________________________________________________________________________\n",
      "conv2d_12 (Conv2D)              (None, 17, 18, 256)  6400        input_4[0][0]                    \n",
      "__________________________________________________________________________________________________\n",
      "conv2d_16 (Conv2D)              (None, 37, 24, 256)  6400        input_5[0][0]                    \n",
      "__________________________________________________________________________________________________\n",
      "conv2d_20 (Conv2D)              (None, 28, 18, 256)  6400        input_6[0][0]                    \n",
      "__________________________________________________________________________________________________\n",
      "conv2d_1 (Conv2D)               (None, 33, 26, 128)  295040      conv2d[0][0]                     \n",
      "__________________________________________________________________________________________________\n",
      "conv2d_5 (Conv2D)               (None, 52, 48, 128)  295040      conv2d_4[0][0]                   \n",
      "__________________________________________________________________________________________________\n",
      "conv2d_9 (Conv2D)               (None, 26, 53, 128)  295040      conv2d_8[0][0]                   \n",
      "__________________________________________________________________________________________________\n",
      "conv2d_13 (Conv2D)              (None, 15, 16, 128)  295040      conv2d_12[0][0]                  \n",
      "__________________________________________________________________________________________________\n",
      "conv2d_17 (Conv2D)              (None, 35, 22, 128)  295040      conv2d_16[0][0]                  \n",
      "__________________________________________________________________________________________________\n",
      "conv2d_21 (Conv2D)              (None, 26, 16, 128)  295040      conv2d_20[0][0]                  \n",
      "__________________________________________________________________________________________________\n",
      "max_pooling2d (MaxPooling2D)    (None, 16, 13, 128)  0           conv2d_1[0][0]                   \n",
      "__________________________________________________________________________________________________\n",
      "max_pooling2d_1 (MaxPooling2D)  (None, 26, 24, 128)  0           conv2d_5[0][0]                   \n",
      "__________________________________________________________________________________________________\n",
      "max_pooling2d_2 (MaxPooling2D)  (None, 13, 26, 128)  0           conv2d_9[0][0]                   \n",
      "__________________________________________________________________________________________________\n",
      "max_pooling2d_3 (MaxPooling2D)  (None, 7, 8, 128)    0           conv2d_13[0][0]                  \n",
      "__________________________________________________________________________________________________\n",
      "max_pooling2d_4 (MaxPooling2D)  (None, 17, 11, 128)  0           conv2d_17[0][0]                  \n",
      "__________________________________________________________________________________________________\n",
      "max_pooling2d_5 (MaxPooling2D)  (None, 13, 8, 128)   0           conv2d_21[0][0]                  \n",
      "__________________________________________________________________________________________________\n",
      "conv2d_2 (Conv2D)               (None, 14, 11, 64)   73792       max_pooling2d[0][0]              \n",
      "__________________________________________________________________________________________________\n",
      "conv2d_6 (Conv2D)               (None, 24, 22, 64)   73792       max_pooling2d_1[0][0]            \n",
      "__________________________________________________________________________________________________\n",
      "conv2d_10 (Conv2D)              (None, 11, 24, 64)   73792       max_pooling2d_2[0][0]            \n",
      "__________________________________________________________________________________________________\n",
      "conv2d_14 (Conv2D)              (None, 5, 6, 64)     73792       max_pooling2d_3[0][0]            \n",
      "__________________________________________________________________________________________________\n",
      "conv2d_18 (Conv2D)              (None, 15, 9, 64)    73792       max_pooling2d_4[0][0]            \n",
      "__________________________________________________________________________________________________\n",
      "conv2d_22 (Conv2D)              (None, 11, 6, 64)    73792       max_pooling2d_5[0][0]            \n",
      "__________________________________________________________________________________________________\n",
      "conv2d_3 (Conv2D)               (None, 12, 9, 32)    18464       conv2d_2[0][0]                   \n",
      "__________________________________________________________________________________________________\n",
      "conv2d_7 (Conv2D)               (None, 22, 20, 32)   18464       conv2d_6[0][0]                   \n",
      "__________________________________________________________________________________________________\n",
      "conv2d_11 (Conv2D)              (None, 9, 22, 32)    18464       conv2d_10[0][0]                  \n",
      "__________________________________________________________________________________________________\n",
      "conv2d_15 (Conv2D)              (None, 3, 4, 32)     18464       conv2d_14[0][0]                  \n",
      "__________________________________________________________________________________________________\n",
      "conv2d_19 (Conv2D)              (None, 13, 7, 32)    18464       conv2d_18[0][0]                  \n",
      "__________________________________________________________________________________________________\n",
      "conv2d_23 (Conv2D)              (None, 9, 4, 32)     18464       conv2d_22[0][0]                  \n",
      "__________________________________________________________________________________________________\n",
      "flatten (Flatten)               (None, 3456)         0           conv2d_3[0][0]                   \n",
      "__________________________________________________________________________________________________\n",
      "flatten_1 (Flatten)             (None, 14080)        0           conv2d_7[0][0]                   \n",
      "__________________________________________________________________________________________________\n",
      "flatten_2 (Flatten)             (None, 6336)         0           conv2d_11[0][0]                  \n",
      "__________________________________________________________________________________________________\n",
      "flatten_3 (Flatten)             (None, 384)          0           conv2d_15[0][0]                  \n",
      "__________________________________________________________________________________________________\n",
      "flatten_4 (Flatten)             (None, 2912)         0           conv2d_19[0][0]                  \n",
      "__________________________________________________________________________________________________\n",
      "flatten_5 (Flatten)             (None, 1152)         0           conv2d_23[0][0]                  \n",
      "__________________________________________________________________________________________________\n",
      "concatenate (Concatenate)       (None, 28320)        0           flatten[0][0]                    \n",
      "                                                                 flatten_1[0][0]                  \n",
      "                                                                 flatten_2[0][0]                  \n",
      "                                                                 flatten_3[0][0]                  \n",
      "                                                                 flatten_4[0][0]                  \n",
      "                                                                 flatten_5[0][0]                  \n",
      "__________________________________________________________________________________________________\n",
      "dense (Dense)                   (None, 37)           1047877     concatenate[0][0]                \n",
      "==================================================================================================\n",
      "Total params: 3,410,053\n",
      "Trainable params: 3,410,053\n",
      "Non-trainable params: 0\n",
      "__________________________________________________________________________________________________\n"
     ]
    }
   ],
   "source": [
    "model_list = []\n",
    "input_list = []\n",
    "for fname in ['ppab', 'ppdwt', 'pppse', 'pssmab', 'pssmdwt', 'pssmpse']:\n",
    "    fdata = X_4802_feature[fname]\n",
    "    input_list.append(fdata)\n",
    "    input_shape = fdata.shape\n",
    "    ix = keras.Input(shape=input_shape[1:], dtype = \"float32\")\n",
    "    \n",
    "    x = layers.Conv2D(256, (4,3), activation='relu')(ix)\n",
    "    x = layers.Conv2D(128, 3, activation='relu',)(x)\n",
    "    x = layers.MaxPooling2D()(x)\n",
    "    x = layers.Conv2D(64, 3, activation='relu',)(x)\n",
    "    #x = layers.MaxPooling2D()(x)\n",
    "    x = layers.Conv2D(32, 3, activation='relu',)(x)\n",
    "    outputs = layers.Flatten()(x)\n",
    "    #outputs = layers.Dense(37, activation='sigmoid')(x)\n",
    "    model = keras.Model(ix, outputs)\n",
    "    model_list.append(model)\n",
    "    \n",
    "x = layers.concatenate([m.output for m in model_list])\n",
    "x = layers.Dense(37, activation='sigmoid')(x)\n",
    "model = keras.Model(inputs=[m.input for m in model_list], outputs = x)\n",
    "model.summary()"
   ]
  },
  {
   "cell_type": "code",
   "execution_count": 7,
   "metadata": {},
   "outputs": [
    {
     "name": "stdout",
     "output_type": "stream",
     "text": [
      "Epoch 1/5\n",
      "601/601 [==============================] - 24s 41ms/step - loss: 0.1335 - binary_accuracy: 0.9645\n",
      "Epoch 2/5\n",
      "601/601 [==============================] - 19s 32ms/step - loss: 0.0964 - binary_accuracy: 0.9675\n",
      "Epoch 3/5\n",
      "601/601 [==============================] - 20s 33ms/step - loss: 0.0923 - binary_accuracy: 0.9682\n",
      "Epoch 4/5\n",
      "601/601 [==============================] - 20s 33ms/step - loss: 0.0891 - binary_accuracy: 0.9688\n",
      "Epoch 5/5\n",
      "601/601 [==============================] - 20s 33ms/step - loss: 0.0874 - binary_accuracy: 0.9694\n"
     ]
    },
    {
     "data": {
      "text/plain": [
       "<tensorflow.python.keras.callbacks.History at 0x7fae2834a1c0>"
      ]
     },
     "execution_count": 7,
     "metadata": {},
     "output_type": "execute_result"
    }
   ],
   "source": [
    "model.compile(\"adam\", \"binary_crossentropy\", metrics=[\"binary_accuracy\"])\n",
    "model.fit(input_list, Y_4802, batch_size=8, epochs=5)"
   ]
  },
  {
   "cell_type": "code",
   "execution_count": 5,
   "metadata": {},
   "outputs": [],
   "source": [
    "pssmpse = X_4802_feature['pssmpse']"
   ]
  },
  {
   "cell_type": "code",
   "execution_count": 6,
   "metadata": {},
   "outputs": [
    {
     "name": "stdout",
     "output_type": "stream",
     "text": [
      "Model: \"functional_1\"\n",
      "_________________________________________________________________\n",
      "Layer (type)                 Output Shape              Param #   \n",
      "=================================================================\n",
      "input_1 (InputLayer)         [(None, 31, 20, 2)]       0         \n",
      "_________________________________________________________________\n",
      "conv2d (Conv2D)              (None, 28, 18, 256)       6400      \n",
      "_________________________________________________________________\n",
      "conv2d_1 (Conv2D)            (None, 26, 16, 128)       295040    \n",
      "_________________________________________________________________\n",
      "max_pooling2d (MaxPooling2D) (None, 13, 8, 128)        0         \n",
      "_________________________________________________________________\n",
      "conv2d_2 (Conv2D)            (None, 11, 6, 64)         73792     \n",
      "_________________________________________________________________\n",
      "conv2d_3 (Conv2D)            (None, 9, 4, 32)          18464     \n",
      "_________________________________________________________________\n",
      "flatten (Flatten)            (None, 1152)              0         \n",
      "_________________________________________________________________\n",
      "dense (Dense)                (None, 37)                42661     \n",
      "=================================================================\n",
      "Total params: 436,357\n",
      "Trainable params: 436,357\n",
      "Non-trainable params: 0\n",
      "_________________________________________________________________\n"
     ]
    }
   ],
   "source": [
    "input_shape = pssmpse.shape\n",
    "pssm = keras.Input(shape=input_shape[1:], dtype = \"float32\")\n",
    "\n",
    "x = layers.Conv2D(256, (4,3), activation='relu')(pssm)\n",
    "x = layers.Conv2D(128, 3, activation='relu',)(x)\n",
    "x = layers.MaxPooling2D()(x)\n",
    "x = layers.Conv2D(64, 3, activation='relu',)(x)\n",
    "#x = layers.MaxPooling2D()(x)\n",
    "x = layers.Conv2D(32, 3, activation='relu',)(x)\n",
    "x = layers.Flatten()(x)\n",
    "outputs = layers.Dense(37, activation='sigmoid')(x)\n",
    "model = keras.Model(pssm, outputs)\n",
    "model.summary()"
   ]
  },
  {
   "cell_type": "code",
   "execution_count": 7,
   "metadata": {},
   "outputs": [
    {
     "name": "stdout",
     "output_type": "stream",
     "text": [
      "Epoch 1/50\n",
      "481/481 [==============================] - 4s 9ms/step - loss: 0.0998 - binary_accuracy: 0.9671\n",
      "Epoch 2/50\n",
      "481/481 [==============================] - 4s 8ms/step - loss: 0.0895 - binary_accuracy: 0.9699\n",
      "Epoch 3/50\n",
      "481/481 [==============================] - 4s 8ms/step - loss: 0.0840 - binary_accuracy: 0.9703\n",
      "Epoch 4/50\n",
      "481/481 [==============================] - 4s 8ms/step - loss: 0.0816 - binary_accuracy: 0.9705\n",
      "Epoch 5/50\n",
      "481/481 [==============================] - 4s 8ms/step - loss: 0.0801 - binary_accuracy: 0.9708\n",
      "Epoch 6/50\n",
      "481/481 [==============================] - 4s 8ms/step - loss: 0.0785 - binary_accuracy: 0.9713\n",
      "Epoch 7/50\n",
      "481/481 [==============================] - 4s 9ms/step - loss: 0.0775 - binary_accuracy: 0.9716\n",
      "Epoch 8/50\n",
      "481/481 [==============================] - 4s 9ms/step - loss: 0.0766 - binary_accuracy: 0.9718\n",
      "Epoch 9/50\n",
      "481/481 [==============================] - 4s 9ms/step - loss: 0.0760 - binary_accuracy: 0.9719\n",
      "Epoch 10/50\n",
      "481/481 [==============================] - 4s 9ms/step - loss: 0.0746 - binary_accuracy: 0.9723\n",
      "Epoch 11/50\n",
      "481/481 [==============================] - 4s 9ms/step - loss: 0.0745 - binary_accuracy: 0.9726\n",
      "Epoch 12/50\n",
      "481/481 [==============================] - 4s 9ms/step - loss: 0.0736 - binary_accuracy: 0.9726\n",
      "Epoch 13/50\n",
      "481/481 [==============================] - 4s 9ms/step - loss: 0.0728 - binary_accuracy: 0.9728\n",
      "Epoch 14/50\n",
      "481/481 [==============================] - 4s 9ms/step - loss: 0.0721 - binary_accuracy: 0.9730\n",
      "Epoch 15/50\n",
      "481/481 [==============================] - 4s 9ms/step - loss: 0.0714 - binary_accuracy: 0.9732\n",
      "Epoch 16/50\n",
      "481/481 [==============================] - 4s 9ms/step - loss: 0.0708 - binary_accuracy: 0.9733\n",
      "Epoch 17/50\n",
      "481/481 [==============================] - 4s 8ms/step - loss: 0.0703 - binary_accuracy: 0.9734\n",
      "Epoch 18/50\n",
      "481/481 [==============================] - 4s 8ms/step - loss: 0.0691 - binary_accuracy: 0.9738\n",
      "Epoch 19/50\n",
      "481/481 [==============================] - 4s 8ms/step - loss: 0.0689 - binary_accuracy: 0.9738\n",
      "Epoch 20/50\n",
      "481/481 [==============================] - 4s 8ms/step - loss: 0.0679 - binary_accuracy: 0.9742\n",
      "Epoch 21/50\n",
      "481/481 [==============================] - 4s 8ms/step - loss: 0.0674 - binary_accuracy: 0.9743\n",
      "Epoch 22/50\n",
      "481/481 [==============================] - 4s 8ms/step - loss: 0.0668 - binary_accuracy: 0.9744\n",
      "Epoch 23/50\n",
      "481/481 [==============================] - 4s 8ms/step - loss: 0.0658 - binary_accuracy: 0.9745\n",
      "Epoch 24/50\n",
      "481/481 [==============================] - 4s 8ms/step - loss: 0.0653 - binary_accuracy: 0.9747\n",
      "Epoch 25/50\n",
      "481/481 [==============================] - 4s 8ms/step - loss: 0.0646 - binary_accuracy: 0.9746\n",
      "Epoch 26/50\n",
      "481/481 [==============================] - 4s 8ms/step - loss: 0.0635 - binary_accuracy: 0.9751\n",
      "Epoch 27/50\n",
      "481/481 [==============================] - 4s 9ms/step - loss: 0.0626 - binary_accuracy: 0.9756\n",
      "Epoch 28/50\n",
      "481/481 [==============================] - 4s 9ms/step - loss: 0.0623 - binary_accuracy: 0.9756\n",
      "Epoch 29/50\n",
      "481/481 [==============================] - 4s 9ms/step - loss: 0.0611 - binary_accuracy: 0.9758\n",
      "Epoch 30/50\n",
      "481/481 [==============================] - 4s 9ms/step - loss: 0.0603 - binary_accuracy: 0.9762\n",
      "Epoch 31/50\n",
      "481/481 [==============================] - 4s 9ms/step - loss: 0.0596 - binary_accuracy: 0.9764\n",
      "Epoch 32/50\n",
      "481/481 [==============================] - 4s 9ms/step - loss: 0.0587 - binary_accuracy: 0.9767\n",
      "Epoch 33/50\n",
      "481/481 [==============================] - 4s 9ms/step - loss: 0.0583 - binary_accuracy: 0.9770\n",
      "Epoch 34/50\n",
      "481/481 [==============================] - 4s 9ms/step - loss: 0.0569 - binary_accuracy: 0.9775\n",
      "Epoch 35/50\n",
      "481/481 [==============================] - 4s 9ms/step - loss: 0.0567 - binary_accuracy: 0.9772\n",
      "Epoch 36/50\n",
      "481/481 [==============================] - 4s 9ms/step - loss: 0.0554 - binary_accuracy: 0.9778\n",
      "Epoch 37/50\n",
      "481/481 [==============================] - 4s 9ms/step - loss: 0.0550 - binary_accuracy: 0.9780\n",
      "Epoch 38/50\n",
      "481/481 [==============================] - 4s 9ms/step - loss: 0.0542 - binary_accuracy: 0.9782\n",
      "Epoch 39/50\n",
      "481/481 [==============================] - 4s 9ms/step - loss: 0.0532 - binary_accuracy: 0.9787\n",
      "Epoch 40/50\n",
      "481/481 [==============================] - 4s 9ms/step - loss: 0.0524 - binary_accuracy: 0.9787\n",
      "Epoch 41/50\n",
      "481/481 [==============================] - 4s 9ms/step - loss: 0.0511 - binary_accuracy: 0.9792\n",
      "Epoch 42/50\n",
      "481/481 [==============================] - 4s 9ms/step - loss: 0.0502 - binary_accuracy: 0.9798\n",
      "Epoch 43/50\n",
      "481/481 [==============================] - 4s 9ms/step - loss: 0.0498 - binary_accuracy: 0.9797\n",
      "Epoch 44/50\n",
      "481/481 [==============================] - 4s 9ms/step - loss: 0.0489 - binary_accuracy: 0.9802\n",
      "Epoch 45/50\n",
      "481/481 [==============================] - 4s 9ms/step - loss: 0.0478 - binary_accuracy: 0.9805\n",
      "Epoch 46/50\n",
      "481/481 [==============================] - 4s 9ms/step - loss: 0.0465 - binary_accuracy: 0.9805\n",
      "Epoch 47/50\n",
      "481/481 [==============================] - 4s 9ms/step - loss: 0.0463 - binary_accuracy: 0.9813\n",
      "Epoch 48/50\n",
      "481/481 [==============================] - 4s 9ms/step - loss: 0.0452 - binary_accuracy: 0.9815\n",
      "Epoch 49/50\n",
      "481/481 [==============================] - 4s 9ms/step - loss: 0.0444 - binary_accuracy: 0.9820\n",
      "Epoch 50/50\n",
      "481/481 [==============================] - 4s 9ms/step - loss: 0.0436 - binary_accuracy: 0.9820\n",
      "Epoch 1/50\n",
      "481/481 [==============================] - 4s 9ms/step - loss: 0.0998 - binary_accuracy: 0.9717\n",
      "Epoch 2/50\n",
      "481/481 [==============================] - 4s 9ms/step - loss: 0.0823 - binary_accuracy: 0.9734\n",
      "Epoch 3/50\n",
      "481/481 [==============================] - 4s 9ms/step - loss: 0.0773 - binary_accuracy: 0.9738\n",
      "Epoch 4/50\n",
      "481/481 [==============================] - 4s 9ms/step - loss: 0.0741 - binary_accuracy: 0.9745\n",
      "Epoch 5/50\n",
      "481/481 [==============================] - 4s 9ms/step - loss: 0.0709 - binary_accuracy: 0.9750\n",
      "Epoch 6/50\n",
      "481/481 [==============================] - 4s 9ms/step - loss: 0.0687 - binary_accuracy: 0.9754\n",
      "Epoch 7/50\n",
      "481/481 [==============================] - 4s 9ms/step - loss: 0.0666 - binary_accuracy: 0.9759\n",
      "Epoch 8/50\n",
      "481/481 [==============================] - 4s 9ms/step - loss: 0.0646 - binary_accuracy: 0.9767\n",
      "Epoch 9/50\n",
      "481/481 [==============================] - 4s 9ms/step - loss: 0.0623 - binary_accuracy: 0.9772\n",
      "Epoch 10/50\n",
      "481/481 [==============================] - 4s 9ms/step - loss: 0.0605 - binary_accuracy: 0.9774\n",
      "Epoch 11/50\n",
      "481/481 [==============================] - 4s 9ms/step - loss: 0.0585 - binary_accuracy: 0.9781\n",
      "Epoch 12/50\n",
      "481/481 [==============================] - 4s 9ms/step - loss: 0.0561 - binary_accuracy: 0.9786\n",
      "Epoch 13/50\n",
      "481/481 [==============================] - 4s 9ms/step - loss: 0.0542 - binary_accuracy: 0.9795\n",
      "Epoch 14/50\n",
      "481/481 [==============================] - 4s 9ms/step - loss: 0.0528 - binary_accuracy: 0.9799\n",
      "Epoch 15/50\n",
      "481/481 [==============================] - 4s 9ms/step - loss: 0.0523 - binary_accuracy: 0.9796\n",
      "Epoch 16/50\n",
      "481/481 [==============================] - 4s 9ms/step - loss: 0.0500 - binary_accuracy: 0.9803\n",
      "Epoch 17/50\n",
      "481/481 [==============================] - 4s 9ms/step - loss: 0.0479 - binary_accuracy: 0.9815\n",
      "Epoch 18/50\n",
      "481/481 [==============================] - 4s 9ms/step - loss: 0.0477 - binary_accuracy: 0.9812\n",
      "Epoch 19/50\n",
      "481/481 [==============================] - 4s 9ms/step - loss: 0.0456 - binary_accuracy: 0.9816\n",
      "Epoch 20/50\n",
      "481/481 [==============================] - 4s 9ms/step - loss: 0.0443 - binary_accuracy: 0.9823\n",
      "Epoch 21/50\n",
      "481/481 [==============================] - 4s 9ms/step - loss: 0.0426 - binary_accuracy: 0.9831\n",
      "Epoch 22/50\n",
      "481/481 [==============================] - 4s 9ms/step - loss: 0.0417 - binary_accuracy: 0.9837\n",
      "Epoch 23/50\n",
      "481/481 [==============================] - 4s 9ms/step - loss: 0.0408 - binary_accuracy: 0.9836\n",
      "Epoch 24/50\n",
      "481/481 [==============================] - 4s 8ms/step - loss: 0.0401 - binary_accuracy: 0.9839\n",
      "Epoch 25/50\n",
      "481/481 [==============================] - 4s 8ms/step - loss: 0.0394 - binary_accuracy: 0.9842\n",
      "Epoch 26/50\n",
      "481/481 [==============================] - 4s 8ms/step - loss: 0.0378 - binary_accuracy: 0.9847\n",
      "Epoch 27/50\n",
      "481/481 [==============================] - 4s 8ms/step - loss: 0.0366 - binary_accuracy: 0.9852\n",
      "Epoch 28/50\n",
      "481/481 [==============================] - 4s 9ms/step - loss: 0.0352 - binary_accuracy: 0.9858\n",
      "Epoch 29/50\n",
      "481/481 [==============================] - 4s 9ms/step - loss: 0.0340 - binary_accuracy: 0.9865\n",
      "Epoch 30/50\n",
      "481/481 [==============================] - 4s 9ms/step - loss: 0.0340 - binary_accuracy: 0.9863\n",
      "Epoch 31/50\n",
      "481/481 [==============================] - 4s 9ms/step - loss: 0.0324 - binary_accuracy: 0.9870\n",
      "Epoch 32/50\n",
      "481/481 [==============================] - 4s 9ms/step - loss: 0.0320 - binary_accuracy: 0.9871\n",
      "Epoch 33/50\n",
      "481/481 [==============================] - 4s 9ms/step - loss: 0.0314 - binary_accuracy: 0.9874\n",
      "Epoch 34/50\n",
      "481/481 [==============================] - 4s 9ms/step - loss: 0.0310 - binary_accuracy: 0.9878\n",
      "Epoch 35/50\n",
      "481/481 [==============================] - 4s 9ms/step - loss: 0.0301 - binary_accuracy: 0.9877\n",
      "Epoch 36/50\n",
      "481/481 [==============================] - 4s 9ms/step - loss: 0.0289 - binary_accuracy: 0.9882\n",
      "Epoch 37/50\n",
      "481/481 [==============================] - 4s 9ms/step - loss: 0.0286 - binary_accuracy: 0.9886\n",
      "Epoch 38/50\n",
      "481/481 [==============================] - 4s 9ms/step - loss: 0.0275 - binary_accuracy: 0.9889\n",
      "Epoch 39/50\n",
      "481/481 [==============================] - 4s 9ms/step - loss: 0.0274 - binary_accuracy: 0.9890\n",
      "Epoch 40/50\n",
      "481/481 [==============================] - 4s 9ms/step - loss: 0.0261 - binary_accuracy: 0.9894\n",
      "Epoch 41/50\n",
      "481/481 [==============================] - 4s 9ms/step - loss: 0.0254 - binary_accuracy: 0.9897\n",
      "Epoch 42/50\n",
      "481/481 [==============================] - 4s 9ms/step - loss: 0.0262 - binary_accuracy: 0.9894\n",
      "Epoch 43/50\n",
      "481/481 [==============================] - 4s 9ms/step - loss: 0.0253 - binary_accuracy: 0.9897\n",
      "Epoch 44/50\n",
      "481/481 [==============================] - 4s 9ms/step - loss: 0.0239 - binary_accuracy: 0.9906\n",
      "Epoch 45/50\n",
      "481/481 [==============================] - 4s 9ms/step - loss: 0.0246 - binary_accuracy: 0.9905\n",
      "Epoch 46/50\n",
      "481/481 [==============================] - 4s 9ms/step - loss: 0.0226 - binary_accuracy: 0.9909\n",
      "Epoch 47/50\n",
      "481/481 [==============================] - 4s 9ms/step - loss: 0.0231 - binary_accuracy: 0.9910\n",
      "Epoch 48/50\n",
      "481/481 [==============================] - 4s 9ms/step - loss: 0.0219 - binary_accuracy: 0.9913\n",
      "Epoch 49/50\n",
      "481/481 [==============================] - 4s 9ms/step - loss: 0.0226 - binary_accuracy: 0.9910\n",
      "Epoch 50/50\n",
      "481/481 [==============================] - 4s 9ms/step - loss: 0.0201 - binary_accuracy: 0.9922\n",
      "Epoch 1/50\n",
      "481/481 [==============================] - 4s 9ms/step - loss: 0.0648 - binary_accuracy: 0.9801\n",
      "Epoch 2/50\n",
      "481/481 [==============================] - 4s 9ms/step - loss: 0.0522 - binary_accuracy: 0.9824\n",
      "Epoch 3/50\n",
      "481/481 [==============================] - 4s 9ms/step - loss: 0.0484 - binary_accuracy: 0.9830\n",
      "Epoch 4/50\n",
      "481/481 [==============================] - 4s 9ms/step - loss: 0.0444 - binary_accuracy: 0.9838\n",
      "Epoch 5/50\n",
      "481/481 [==============================] - 4s 9ms/step - loss: 0.0432 - binary_accuracy: 0.9842\n",
      "Epoch 6/50\n",
      "481/481 [==============================] - 4s 9ms/step - loss: 0.0414 - binary_accuracy: 0.9847\n",
      "Epoch 7/50\n",
      "481/481 [==============================] - 4s 9ms/step - loss: 0.0390 - binary_accuracy: 0.9853\n",
      "Epoch 8/50\n",
      "481/481 [==============================] - 4s 9ms/step - loss: 0.0383 - binary_accuracy: 0.9856\n",
      "Epoch 9/50\n",
      "481/481 [==============================] - 4s 9ms/step - loss: 0.0360 - binary_accuracy: 0.9861\n",
      "Epoch 10/50\n",
      "481/481 [==============================] - 4s 9ms/step - loss: 0.0345 - binary_accuracy: 0.9873\n",
      "Epoch 11/50\n",
      "481/481 [==============================] - 4s 9ms/step - loss: 0.0347 - binary_accuracy: 0.9866\n",
      "Epoch 12/50\n",
      "481/481 [==============================] - 4s 9ms/step - loss: 0.0331 - binary_accuracy: 0.9871\n",
      "Epoch 13/50\n",
      "481/481 [==============================] - 4s 9ms/step - loss: 0.0318 - binary_accuracy: 0.9877\n",
      "Epoch 14/50\n",
      "481/481 [==============================] - 4s 9ms/step - loss: 0.0313 - binary_accuracy: 0.9878\n",
      "Epoch 15/50\n",
      "481/481 [==============================] - 4s 9ms/step - loss: 0.0308 - binary_accuracy: 0.9879\n",
      "Epoch 16/50\n",
      "481/481 [==============================] - 4s 9ms/step - loss: 0.0277 - binary_accuracy: 0.9891\n",
      "Epoch 17/50\n",
      "481/481 [==============================] - 4s 9ms/step - loss: 0.0291 - binary_accuracy: 0.9886\n",
      "Epoch 18/50\n",
      "481/481 [==============================] - 4s 9ms/step - loss: 0.0285 - binary_accuracy: 0.9887\n",
      "Epoch 19/50\n",
      "481/481 [==============================] - 4s 9ms/step - loss: 0.0265 - binary_accuracy: 0.9895\n",
      "Epoch 20/50\n",
      "481/481 [==============================] - 4s 9ms/step - loss: 0.0272 - binary_accuracy: 0.9891\n",
      "Epoch 21/50\n",
      "481/481 [==============================] - 4s 9ms/step - loss: 0.0248 - binary_accuracy: 0.9902\n",
      "Epoch 22/50\n",
      "481/481 [==============================] - 4s 9ms/step - loss: 0.0255 - binary_accuracy: 0.9902\n",
      "Epoch 23/50\n",
      "481/481 [==============================] - 4s 9ms/step - loss: 0.0241 - binary_accuracy: 0.9905\n",
      "Epoch 24/50\n",
      "481/481 [==============================] - 4s 9ms/step - loss: 0.0241 - binary_accuracy: 0.9903\n",
      "Epoch 25/50\n",
      "481/481 [==============================] - 4s 9ms/step - loss: 0.0225 - binary_accuracy: 0.9914\n",
      "Epoch 26/50\n",
      "481/481 [==============================] - 4s 9ms/step - loss: 0.0232 - binary_accuracy: 0.9908\n",
      "Epoch 27/50\n",
      "481/481 [==============================] - 4s 9ms/step - loss: 0.0223 - binary_accuracy: 0.9913\n",
      "Epoch 28/50\n",
      "481/481 [==============================] - 4s 9ms/step - loss: 0.0236 - binary_accuracy: 0.9905\n",
      "Epoch 29/50\n",
      "481/481 [==============================] - 4s 9ms/step - loss: 0.0217 - binary_accuracy: 0.9916\n",
      "Epoch 30/50\n",
      "481/481 [==============================] - 4s 9ms/step - loss: 0.0211 - binary_accuracy: 0.9918\n",
      "Epoch 31/50\n",
      "481/481 [==============================] - 4s 9ms/step - loss: 0.0215 - binary_accuracy: 0.9915\n",
      "Epoch 32/50\n",
      "481/481 [==============================] - 4s 9ms/step - loss: 0.0204 - binary_accuracy: 0.9919\n",
      "Epoch 33/50\n",
      "481/481 [==============================] - 4s 9ms/step - loss: 0.0215 - binary_accuracy: 0.9917\n",
      "Epoch 34/50\n",
      "481/481 [==============================] - 4s 9ms/step - loss: 0.0181 - binary_accuracy: 0.9931\n",
      "Epoch 35/50\n",
      "481/481 [==============================] - 4s 9ms/step - loss: 0.0216 - binary_accuracy: 0.9917\n",
      "Epoch 36/50\n",
      "481/481 [==============================] - 4s 9ms/step - loss: 0.0174 - binary_accuracy: 0.9934\n",
      "Epoch 37/50\n",
      "481/481 [==============================] - 4s 9ms/step - loss: 0.0177 - binary_accuracy: 0.9933\n",
      "Epoch 38/50\n",
      "481/481 [==============================] - 4s 9ms/step - loss: 0.0181 - binary_accuracy: 0.9931\n",
      "Epoch 39/50\n",
      "481/481 [==============================] - 4s 9ms/step - loss: 0.0177 - binary_accuracy: 0.9934\n",
      "Epoch 40/50\n",
      "481/481 [==============================] - 4s 9ms/step - loss: 0.0183 - binary_accuracy: 0.9931\n",
      "Epoch 41/50\n",
      "481/481 [==============================] - 4s 9ms/step - loss: 0.0171 - binary_accuracy: 0.9935\n",
      "Epoch 42/50\n",
      "481/481 [==============================] - 4s 9ms/step - loss: 0.0180 - binary_accuracy: 0.9929\n",
      "Epoch 43/50\n",
      "481/481 [==============================] - 4s 9ms/step - loss: 0.0155 - binary_accuracy: 0.9943\n",
      "Epoch 44/50\n",
      "481/481 [==============================] - 4s 9ms/step - loss: 0.0174 - binary_accuracy: 0.9934\n",
      "Epoch 45/50\n",
      "481/481 [==============================] - 4s 9ms/step - loss: 0.0183 - binary_accuracy: 0.9933\n",
      "Epoch 46/50\n",
      "481/481 [==============================] - 4s 9ms/step - loss: 0.0165 - binary_accuracy: 0.9940\n",
      "Epoch 47/50\n",
      "481/481 [==============================] - 4s 9ms/step - loss: 0.0157 - binary_accuracy: 0.9942\n",
      "Epoch 48/50\n",
      "481/481 [==============================] - 4s 9ms/step - loss: 0.0160 - binary_accuracy: 0.9940\n",
      "Epoch 49/50\n",
      "481/481 [==============================] - 4s 9ms/step - loss: 0.0156 - binary_accuracy: 0.9942\n",
      "Epoch 50/50\n",
      "481/481 [==============================] - 4s 9ms/step - loss: 0.0146 - binary_accuracy: 0.9947\n",
      "Epoch 1/50\n",
      "481/481 [==============================] - 4s 9ms/step - loss: 0.0398 - binary_accuracy: 0.9876\n",
      "Epoch 2/50\n",
      "481/481 [==============================] - 4s 9ms/step - loss: 0.0311 - binary_accuracy: 0.9888\n",
      "Epoch 3/50\n",
      "481/481 [==============================] - 4s 9ms/step - loss: 0.0275 - binary_accuracy: 0.9897\n",
      "Epoch 4/50\n",
      "481/481 [==============================] - 4s 9ms/step - loss: 0.0244 - binary_accuracy: 0.9908\n",
      "Epoch 5/50\n",
      "481/481 [==============================] - 4s 9ms/step - loss: 0.0227 - binary_accuracy: 0.9913\n",
      "Epoch 6/50\n",
      "481/481 [==============================] - 4s 9ms/step - loss: 0.0238 - binary_accuracy: 0.9909\n",
      "Epoch 7/50\n",
      "481/481 [==============================] - 4s 9ms/step - loss: 0.0218 - binary_accuracy: 0.9915\n",
      "Epoch 8/50\n",
      "481/481 [==============================] - 4s 9ms/step - loss: 0.0211 - binary_accuracy: 0.9921\n",
      "Epoch 9/50\n",
      "481/481 [==============================] - 4s 9ms/step - loss: 0.0216 - binary_accuracy: 0.9916\n",
      "Epoch 10/50\n",
      "481/481 [==============================] - 4s 9ms/step - loss: 0.0212 - binary_accuracy: 0.9919\n",
      "Epoch 11/50\n",
      "481/481 [==============================] - 4s 9ms/step - loss: 0.0192 - binary_accuracy: 0.9926\n",
      "Epoch 12/50\n",
      "481/481 [==============================] - 4s 9ms/step - loss: 0.0196 - binary_accuracy: 0.9926\n",
      "Epoch 13/50\n",
      "481/481 [==============================] - 4s 9ms/step - loss: 0.0190 - binary_accuracy: 0.9928\n",
      "Epoch 14/50\n",
      "481/481 [==============================] - 4s 9ms/step - loss: 0.0190 - binary_accuracy: 0.9925\n",
      "Epoch 15/50\n",
      "481/481 [==============================] - 4s 9ms/step - loss: 0.0179 - binary_accuracy: 0.9933\n",
      "Epoch 16/50\n",
      "481/481 [==============================] - 4s 9ms/step - loss: 0.0188 - binary_accuracy: 0.9929\n",
      "Epoch 17/50\n",
      "481/481 [==============================] - 4s 9ms/step - loss: 0.0189 - binary_accuracy: 0.9929\n",
      "Epoch 18/50\n",
      "481/481 [==============================] - 4s 9ms/step - loss: 0.0176 - binary_accuracy: 0.9936\n",
      "Epoch 19/50\n",
      "481/481 [==============================] - 4s 9ms/step - loss: 0.0167 - binary_accuracy: 0.9936\n",
      "Epoch 20/50\n",
      "481/481 [==============================] - 4s 9ms/step - loss: 0.0172 - binary_accuracy: 0.9933\n",
      "Epoch 21/50\n",
      "481/481 [==============================] - 4s 9ms/step - loss: 0.0170 - binary_accuracy: 0.9937\n",
      "Epoch 22/50\n",
      "481/481 [==============================] - 4s 9ms/step - loss: 0.0164 - binary_accuracy: 0.9939\n",
      "Epoch 23/50\n",
      "481/481 [==============================] - 4s 9ms/step - loss: 0.0167 - binary_accuracy: 0.9936\n",
      "Epoch 24/50\n",
      "481/481 [==============================] - 4s 9ms/step - loss: 0.0167 - binary_accuracy: 0.9939\n",
      "Epoch 25/50\n",
      "481/481 [==============================] - 4s 9ms/step - loss: 0.0161 - binary_accuracy: 0.9939\n",
      "Epoch 26/50\n",
      "481/481 [==============================] - 4s 9ms/step - loss: 0.0164 - binary_accuracy: 0.9939\n",
      "Epoch 27/50\n",
      "481/481 [==============================] - 4s 9ms/step - loss: 0.0166 - binary_accuracy: 0.9940\n",
      "Epoch 28/50\n",
      "481/481 [==============================] - 4s 9ms/step - loss: 0.0135 - binary_accuracy: 0.9951\n",
      "Epoch 29/50\n",
      "481/481 [==============================] - 4s 9ms/step - loss: 0.0160 - binary_accuracy: 0.9940\n",
      "Epoch 30/50\n",
      "481/481 [==============================] - 4s 9ms/step - loss: 0.0141 - binary_accuracy: 0.9948\n",
      "Epoch 31/50\n",
      "481/481 [==============================] - 4s 9ms/step - loss: 0.0137 - binary_accuracy: 0.9949\n",
      "Epoch 32/50\n",
      "481/481 [==============================] - 4s 9ms/step - loss: 0.0156 - binary_accuracy: 0.9941\n",
      "Epoch 33/50\n",
      "481/481 [==============================] - 4s 9ms/step - loss: 0.0171 - binary_accuracy: 0.9936\n",
      "Epoch 34/50\n",
      "481/481 [==============================] - 4s 9ms/step - loss: 0.0146 - binary_accuracy: 0.9945\n",
      "Epoch 35/50\n",
      "481/481 [==============================] - 4s 9ms/step - loss: 0.0152 - binary_accuracy: 0.9944\n",
      "Epoch 36/50\n",
      "481/481 [==============================] - 4s 9ms/step - loss: 0.0150 - binary_accuracy: 0.9945\n",
      "Epoch 37/50\n",
      "481/481 [==============================] - 4s 9ms/step - loss: 0.0145 - binary_accuracy: 0.9949\n",
      "Epoch 38/50\n",
      "481/481 [==============================] - 4s 9ms/step - loss: 0.0146 - binary_accuracy: 0.9946\n",
      "Epoch 39/50\n",
      "481/481 [==============================] - 4s 9ms/step - loss: 0.0150 - binary_accuracy: 0.9945\n",
      "Epoch 40/50\n",
      "481/481 [==============================] - 4s 9ms/step - loss: 0.0127 - binary_accuracy: 0.9955\n",
      "Epoch 41/50\n",
      "481/481 [==============================] - 4s 9ms/step - loss: 0.0167 - binary_accuracy: 0.9938\n",
      "Epoch 42/50\n",
      "481/481 [==============================] - 4s 9ms/step - loss: 0.0126 - binary_accuracy: 0.9953\n",
      "Epoch 43/50\n",
      "481/481 [==============================] - 4s 9ms/step - loss: 0.0129 - binary_accuracy: 0.9954\n",
      "Epoch 44/50\n",
      "481/481 [==============================] - 4s 9ms/step - loss: 0.0152 - binary_accuracy: 0.9945\n",
      "Epoch 45/50\n",
      "481/481 [==============================] - 4s 8ms/step - loss: 0.0129 - binary_accuracy: 0.9953\n",
      "Epoch 46/50\n",
      "481/481 [==============================] - 4s 8ms/step - loss: 0.0121 - binary_accuracy: 0.9956\n",
      "Epoch 47/50\n",
      "481/481 [==============================] - 3s 6ms/step - loss: 0.0154 - binary_accuracy: 0.9945\n",
      "Epoch 48/50\n",
      "481/481 [==============================] - 4s 8ms/step - loss: 0.0130 - binary_accuracy: 0.9955\n",
      "Epoch 49/50\n",
      "481/481 [==============================] - 4s 8ms/step - loss: 0.0121 - binary_accuracy: 0.9957\n",
      "Epoch 50/50\n",
      "481/481 [==============================] - 4s 8ms/step - loss: 0.0185 - binary_accuracy: 0.9935\n",
      "Epoch 1/50\n",
      "481/481 [==============================] - 4s 8ms/step - loss: 0.0306 - binary_accuracy: 0.9903\n",
      "Epoch 2/50\n",
      "481/481 [==============================] - 4s 8ms/step - loss: 0.0214 - binary_accuracy: 0.9924\n",
      "Epoch 3/50\n",
      "481/481 [==============================] - 4s 8ms/step - loss: 0.0177 - binary_accuracy: 0.9935\n",
      "Epoch 4/50\n",
      "481/481 [==============================] - 4s 8ms/step - loss: 0.0176 - binary_accuracy: 0.9935\n",
      "Epoch 5/50\n",
      "481/481 [==============================] - 4s 8ms/step - loss: 0.0179 - binary_accuracy: 0.9932\n",
      "Epoch 6/50\n",
      "481/481 [==============================] - 4s 9ms/step - loss: 0.0171 - binary_accuracy: 0.9936\n",
      "Epoch 7/50\n",
      "481/481 [==============================] - 4s 9ms/step - loss: 0.0160 - binary_accuracy: 0.9941\n",
      "Epoch 8/50\n",
      "481/481 [==============================] - 4s 9ms/step - loss: 0.0173 - binary_accuracy: 0.9936\n",
      "Epoch 9/50\n",
      "481/481 [==============================] - 4s 9ms/step - loss: 0.0162 - binary_accuracy: 0.9941\n",
      "Epoch 10/50\n",
      "481/481 [==============================] - 4s 9ms/step - loss: 0.0156 - binary_accuracy: 0.9944\n",
      "Epoch 11/50\n",
      "481/481 [==============================] - 4s 9ms/step - loss: 0.0152 - binary_accuracy: 0.9945\n",
      "Epoch 12/50\n",
      "481/481 [==============================] - 4s 9ms/step - loss: 0.0162 - binary_accuracy: 0.9940\n",
      "Epoch 13/50\n",
      "481/481 [==============================] - 4s 9ms/step - loss: 0.0157 - binary_accuracy: 0.9942\n",
      "Epoch 14/50\n",
      "481/481 [==============================] - 4s 9ms/step - loss: 0.0163 - binary_accuracy: 0.9943\n",
      "Epoch 15/50\n",
      "481/481 [==============================] - 4s 9ms/step - loss: 0.0149 - binary_accuracy: 0.9945\n",
      "Epoch 16/50\n",
      "481/481 [==============================] - 4s 8ms/step - loss: 0.0158 - binary_accuracy: 0.9943\n",
      "Epoch 17/50\n",
      "481/481 [==============================] - 4s 9ms/step - loss: 0.0152 - binary_accuracy: 0.9944\n",
      "Epoch 18/50\n",
      "481/481 [==============================] - 4s 9ms/step - loss: 0.0133 - binary_accuracy: 0.9953\n",
      "Epoch 19/50\n",
      "481/481 [==============================] - 4s 9ms/step - loss: 0.0148 - binary_accuracy: 0.9946\n",
      "Epoch 20/50\n",
      "481/481 [==============================] - 4s 9ms/step - loss: 0.0140 - binary_accuracy: 0.9951\n",
      "Epoch 21/50\n",
      "481/481 [==============================] - 4s 9ms/step - loss: 0.0131 - binary_accuracy: 0.9951\n",
      "Epoch 22/50\n",
      "481/481 [==============================] - 4s 9ms/step - loss: 0.0149 - binary_accuracy: 0.9943\n",
      "Epoch 23/50\n",
      "481/481 [==============================] - 4s 9ms/step - loss: 0.0140 - binary_accuracy: 0.9951\n",
      "Epoch 24/50\n",
      "481/481 [==============================] - 3s 7ms/step - loss: 0.0126 - binary_accuracy: 0.9955\n",
      "Epoch 25/50\n",
      "481/481 [==============================] - 4s 8ms/step - loss: 0.0136 - binary_accuracy: 0.9952\n",
      "Epoch 26/50\n",
      "481/481 [==============================] - 4s 9ms/step - loss: 0.0141 - binary_accuracy: 0.9948\n",
      "Epoch 27/50\n",
      "481/481 [==============================] - 4s 9ms/step - loss: 0.0137 - binary_accuracy: 0.9951\n",
      "Epoch 28/50\n",
      "481/481 [==============================] - 4s 9ms/step - loss: 0.0133 - binary_accuracy: 0.9953\n",
      "Epoch 29/50\n",
      "481/481 [==============================] - 4s 9ms/step - loss: 0.0158 - binary_accuracy: 0.9944\n",
      "Epoch 30/50\n",
      "481/481 [==============================] - 4s 9ms/step - loss: 0.0138 - binary_accuracy: 0.9950\n",
      "Epoch 31/50\n",
      "481/481 [==============================] - 4s 9ms/step - loss: 0.0114 - binary_accuracy: 0.9960\n",
      "Epoch 32/50\n",
      "481/481 [==============================] - 4s 9ms/step - loss: 0.0125 - binary_accuracy: 0.9956\n",
      "Epoch 33/50\n",
      "481/481 [==============================] - 4s 9ms/step - loss: 0.0156 - binary_accuracy: 0.9944\n",
      "Epoch 34/50\n",
      "481/481 [==============================] - 4s 9ms/step - loss: 0.0127 - binary_accuracy: 0.9955\n",
      "Epoch 35/50\n",
      "481/481 [==============================] - 4s 9ms/step - loss: 0.0110 - binary_accuracy: 0.9961\n",
      "Epoch 36/50\n",
      "481/481 [==============================] - 4s 9ms/step - loss: 0.0141 - binary_accuracy: 0.9950\n",
      "Epoch 37/50\n",
      "481/481 [==============================] - 4s 9ms/step - loss: 0.0132 - binary_accuracy: 0.9954\n",
      "Epoch 38/50\n",
      "481/481 [==============================] - 4s 9ms/step - loss: 0.0123 - binary_accuracy: 0.9957\n",
      "Epoch 39/50\n",
      "481/481 [==============================] - 4s 9ms/step - loss: 0.0137 - binary_accuracy: 0.9951\n",
      "Epoch 40/50\n",
      "481/481 [==============================] - 4s 9ms/step - loss: 0.0122 - binary_accuracy: 0.9957\n",
      "Epoch 41/50\n",
      "481/481 [==============================] - 4s 9ms/step - loss: 0.0115 - binary_accuracy: 0.9958\n",
      "Epoch 42/50\n",
      "481/481 [==============================] - 4s 9ms/step - loss: 0.0122 - binary_accuracy: 0.9958\n",
      "Epoch 43/50\n",
      "481/481 [==============================] - 4s 9ms/step - loss: 0.0149 - binary_accuracy: 0.9949\n",
      "Epoch 44/50\n",
      "481/481 [==============================] - 4s 9ms/step - loss: 0.0120 - binary_accuracy: 0.9958\n",
      "Epoch 45/50\n",
      "481/481 [==============================] - 4s 9ms/step - loss: 0.0125 - binary_accuracy: 0.9956\n",
      "Epoch 46/50\n",
      "481/481 [==============================] - 4s 9ms/step - loss: 0.0115 - binary_accuracy: 0.9960\n",
      "Epoch 47/50\n",
      "481/481 [==============================] - 4s 9ms/step - loss: 0.0118 - binary_accuracy: 0.9960\n",
      "Epoch 48/50\n",
      "481/481 [==============================] - 4s 9ms/step - loss: 0.0136 - binary_accuracy: 0.9952\n",
      "Epoch 49/50\n",
      "481/481 [==============================] - 4s 9ms/step - loss: 0.0114 - binary_accuracy: 0.9961\n",
      "Epoch 50/50\n",
      "481/481 [==============================] - 4s 9ms/step - loss: 0.0112 - binary_accuracy: 0.9960\n",
      "the ap score is: [0.510024293328871, 0.6295118483755024, 0.760349962537463, 0.8352099607568364, 0.8763969494047628]\n",
      "average is: 0.722298602880687\n"
     ]
    }
   ],
   "source": [
    "kf = KFold(5)\n",
    "ap_list = []\n",
    "rl_list = []\n",
    "ce_list = []\n",
    "\n",
    "#with tf.device(\"cpu:0\"):\n",
    "for train_index, test_index in kf.split(pssmpse):\n",
    "    train_x = pssmpse[train_index]\n",
    "    train_y = Y_4802[train_index]\n",
    "\n",
    "    model.compile(\"adam\", \"binary_crossentropy\", metrics=[\"binary_accuracy\"])\n",
    "    model.fit(train_x, train_y, batch_size=8, epochs=50)\n",
    "    \n",
    "    test_x = pssmpse[test_index]\n",
    "    test_y = Y_4802[test_index]\n",
    "    \n",
    "    pred_y = model.predict(test_x)\n",
    "    ap_score = avgprec(test_y, pred_y)\n",
    "    ap_list.append(ap_score)\n",
    "    rl_list.append(label_ranking_loss(test_y, pred_y))\n",
    "    ce_list.append(coverage_error(test_y, pred_y) - 1)\n",
    "    \n",
    "print('the ap score is:', ap_list)\n",
    "print('average is:', sum(ap_list)/len(ap_list))\n",
    "\n",
    "print('the rl score is:', rl_list)\n",
    "print('average is:', sum(rl_list)/len(rl_list))\n",
    "\n",
    "print('the ce score is:', ce_list)\n",
    "print('average is:', sum(ce_list)/len(ce_list))"
   ]
  },
  {
   "cell_type": "code",
   "execution_count": 42,
   "metadata": {},
   "outputs": [],
   "source": [
    "tmp = np.array([1,2,3,4,5,6])"
   ]
  },
  {
   "cell_type": "code",
   "execution_count": 43,
   "metadata": {},
   "outputs": [],
   "source": [
    "tmp = tmp.reshape((2,3))"
   ]
  },
  {
   "cell_type": "code",
   "execution_count": 45,
   "metadata": {},
   "outputs": [
    {
     "data": {
      "text/plain": [
       "'[[1 2 3]\\n [4 5 6]]'"
      ]
     },
     "execution_count": 45,
     "metadata": {},
     "output_type": "execute_result"
    }
   ],
   "source": [
    "str(tmp)"
   ]
  },
  {
   "cell_type": "code",
   "execution_count": 35,
   "metadata": {},
   "outputs": [
    {
     "data": {
      "text/plain": [
       "'abc [1 2 3]'"
      ]
     },
     "execution_count": 35,
     "metadata": {},
     "output_type": "execute_result"
    }
   ],
   "source": [
    "'abc {}'.format(np.array([1,2,3]))"
   ]
  },
  {
   "cell_type": "code",
   "execution_count": 41,
   "metadata": {},
   "outputs": [
    {
     "data": {
      "text/plain": [
       "array([[1, 2],\n",
       "       [4, 5]])"
      ]
     },
     "execution_count": 41,
     "metadata": {},
     "output_type": "execute_result"
    }
   ],
   "source": [
    "tmp[[0,1]][:, [0,1]]"
   ]
  },
  {
   "cell_type": "code",
   "execution_count": 38,
   "metadata": {},
   "outputs": [
    {
     "data": {
      "text/plain": [
       "array([[1, 2, 3],\n",
       "       [4, 5, 6]])"
      ]
     },
     "execution_count": 38,
     "metadata": {},
     "output_type": "execute_result"
    }
   ],
   "source": [
    "tmp "
   ]
  },
  {
   "cell_type": "code",
   "execution_count": 26,
   "metadata": {},
   "outputs": [
    {
     "data": {
      "text/plain": [
       "array([1, 4])"
      ]
     },
     "execution_count": 26,
     "metadata": {},
     "output_type": "execute_result"
    }
   ],
   "source": [
    "tmp.flatten()"
   ]
  },
  {
   "cell_type": "code",
   "execution_count": 28,
   "metadata": {},
   "outputs": [
    {
     "data": {
      "text/plain": [
       "array([1, 2, 3, 4, 5, 6])"
      ]
     },
     "execution_count": 28,
     "metadata": {},
     "output_type": "execute_result"
    }
   ],
   "source": [
    "tmp"
   ]
  },
  {
   "cell_type": "code",
   "execution_count": 32,
   "metadata": {},
   "outputs": [
    {
     "data": {
      "text/plain": [
       "(6, 1)"
      ]
     },
     "execution_count": 32,
     "metadata": {},
     "output_type": "execute_result"
    }
   ],
   "source": [
    "np.expand_dims(tmp, axis = 1).shape"
   ]
  },
  {
   "cell_type": "code",
   "execution_count": 46,
   "metadata": {},
   "outputs": [],
   "source": [
    "from scipy.io import loadmat, savemat"
   ]
  },
  {
   "cell_type": "code",
   "execution_count": 47,
   "metadata": {},
   "outputs": [],
   "source": [
    "sequence = loadmat('dataset_4802.mat')['Sequence']"
   ]
  },
  {
   "cell_type": "code",
   "execution_count": 62,
   "metadata": {},
   "outputs": [],
   "source": [
    "count = 0\n",
    "for i in sequence:\n",
    "    if len(i[0][0]) < 100:\n",
    "        count += 1"
   ]
  },
  {
   "cell_type": "code",
   "execution_count": 63,
   "metadata": {},
   "outputs": [
    {
     "data": {
      "text/plain": [
       "164"
      ]
     },
     "execution_count": 63,
     "metadata": {},
     "output_type": "execute_result"
    }
   ],
   "source": [
    "count"
   ]
  },
  {
   "cell_type": "code",
   "execution_count": 64,
   "metadata": {},
   "outputs": [
    {
     "data": {
      "text/plain": [
       "'MDEQEALNSIMNDLVALQMNRRHRMPGYETMKNKDTGHSNRQKKHNSSSSALLNSPTVTTSSCAGASEKKKFLSDVRIKFEHNGERRIIAFSRPVKYEDVEHKVTTVFGQPLDLHYMNNELSILLKNQDDLDKAIDILDRSSSMKSLRILLLSQDRNHNSSSPHSGVSRQVRIKASQSAGDINTIYQPPEPRSRHLSVSSQNPGRSSPPPGYVPERQQHIARQGSYTSINSEGEFIPETSEQCMLDPLSSAENSLSGSCQSLDRSADSPSFRKSRMSRAQSFPDNRQEYSDRETQLYDKGVKGGTYPRRYHVSVHHKDYSDGRRTFPRIRRHQGNLFTLVPSSRSLSTNGENMGLAVQYLDPRGRLRSADSENALSVQERNVPTKSPSAPINWRRGKLLGQGAFGRVYLCYDVDTGRELASKQVQFDPDSPETSKEVSALECEIQLLKNLQHERIVQYYGCLRDRAEKTLTIFMEYMPGGSVKDQLKAYGALTESVTRKYTRQILEGMSYLHSNMIVHRDIKGANILRDSAGNVKLGDFGASKRLQTICMSGTGMRSVTGTPYWMSPEVISGEGYGRKADVWSLGCTVVEMLTEKPPWAEYEAMAAIFKIATQPTNPQLPSHISEHGRDFLRRIFVEARQRPSAEELLTHHFAQLMY'"
      ]
     },
     "execution_count": 64,
     "metadata": {},
     "output_type": "execute_result"
    }
   ],
   "source": [
    "sequence[0][0][0]"
   ]
  },
  {
   "cell_type": "code",
   "execution_count": 200,
   "metadata": {},
   "outputs": [],
   "source": [
    "Y_4802 = loadmat('Y_4802.mat')['Y_4802']"
   ]
  },
  {
   "cell_type": "code",
   "execution_count": 72,
   "metadata": {},
   "outputs": [
    {
     "data": {
      "text/plain": [
       "array([[0, 0, 0, ..., 0, 0, 0],\n",
       "       [0, 0, 0, ..., 0, 0, 0],\n",
       "       [0, 0, 0, ..., 0, 0, 0],\n",
       "       ...,\n",
       "       [0, 0, 0, ..., 0, 0, 0],\n",
       "       [0, 0, 0, ..., 0, 0, 0],\n",
       "       [0, 0, 0, ..., 0, 0, 0]], dtype=uint8)"
      ]
     },
     "execution_count": 72,
     "metadata": {},
     "output_type": "execute_result"
    }
   ],
   "source": [
    "Y_4802"
   ]
  },
  {
   "cell_type": "code",
   "execution_count": 67,
   "metadata": {},
   "outputs": [],
   "source": [
    "sequence = loadmat('dataset_4802.mat')['Sequence']"
   ]
  },
  {
   "cell_type": "code",
   "execution_count": 152,
   "metadata": {},
   "outputs": [],
   "source": [
    "uniform_one_encode = []\n",
    "uniform_label = []\n",
    "for sq, lb in zip(sequence, Y_4802):\n",
    "    seq = sq[0][0]\n",
    "    if len(seq) > 100:\n",
    "        result = p_split(seq, 100)\n",
    "    else:\n",
    "        result = [seq]\n",
    "    for r in result:\n",
    "        uniform_one_encode.append(preprocess(r, 100))\n",
    "        uniform_label.append(lb)\n",
    "#     print(preprocess(sq[0][0][0:95], 100), lb)\n",
    "#     t = preprocess(sq[0][0][0:95], 100)"
   ]
  },
  {
   "cell_type": "code",
   "execution_count": 153,
   "metadata": {},
   "outputs": [
    {
     "data": {
      "text/plain": [
       "(55950, 100, 22)"
      ]
     },
     "execution_count": 153,
     "metadata": {},
     "output_type": "execute_result"
    }
   ],
   "source": [
    "np.array(uniform_one_encode).shape"
   ]
  },
  {
   "cell_type": "code",
   "execution_count": 154,
   "metadata": {},
   "outputs": [
    {
     "data": {
      "text/plain": [
       "(55950, 37)"
      ]
     },
     "execution_count": 154,
     "metadata": {},
     "output_type": "execute_result"
    }
   ],
   "source": [
    "np.array(uniform_label).shape"
   ]
  },
  {
   "cell_type": "code",
   "execution_count": null,
   "metadata": {},
   "outputs": [],
   "source": [
    "uniform_one_encode"
   ]
  },
  {
   "cell_type": "code",
   "execution_count": 133,
   "metadata": {},
   "outputs": [],
   "source": [
    "def p_split(p_seq, l):\n",
    "    result = []\n",
    "    s = 0\n",
    "    e = s + l\n",
    "    while (s + l//2) < len(p_seq):\n",
    "        t = p_seq[s:e]\n",
    "        if len(t) < l:\n",
    "            t = p_seq[-l:]\n",
    "        s = s + l//2\n",
    "        e = s + l\n",
    "        result.append(t)\n",
    "    return result"
   ]
  },
  {
   "cell_type": "code",
   "execution_count": 75,
   "metadata": {},
   "outputs": [
    {
     "data": {
      "text/plain": [
       "array([2, 3, 4, 5, 6, 7, 8, 9])"
      ]
     },
     "execution_count": 75,
     "metadata": {},
     "output_type": "execute_result"
    }
   ],
   "source": [
    "np.arange(2, 10)"
   ]
  },
  {
   "cell_type": "code",
   "execution_count": null,
   "metadata": {},
   "outputs": [],
   "source": [
    "uniform_one_encode = []\n",
    "for s in sequence:\n",
    "    p_seq = list(s[0][0])\n",
    "    seq_num = np.array([amino_code[x] for x in p_seq])\n",
    "    tmp = np.zeros((seq_num.size, 22))\n",
    "    s = (100 - len(seq_num.size))//2\n",
    "    e = s + seq_num.size\n",
    "    tmp[np.arange(s, e), seq_num] = 1\n",
    "    extend_one_encode.append(tmp)"
   ]
  },
  {
   "cell_type": "code",
   "execution_count": 89,
   "metadata": {},
   "outputs": [],
   "source": [
    "def preprocess(p_seq, l):\n",
    "    seq_num = np.array([amino_code[x] for x in p_seq])\n",
    "    tmp = np.zeros((l, 22))\n",
    "    s = (100 - seq_num.size)//2\n",
    "    e = s + seq_num.size\n",
    "    tmp[np.arange(s, e), seq_num] = 1\n",
    "    return tmp"
   ]
  },
  {
   "cell_type": "code",
   "execution_count": 78,
   "metadata": {},
   "outputs": [],
   "source": [
    "amino_code = {'A':0, 'C':1, 'D':2, 'E':3, 'F':4, 'G':5, 'H':6,\n",
    "             'I':7, 'K':8, 'L':9, 'M':10, 'N':11, 'P':12, \n",
    "             'Q':13, 'R':14, 'S':15, 'T':16, 'U':17, 'V':18,\n",
    "             'W':19, 'X':20, 'Y':21 }"
   ]
  },
  {
   "cell_type": "code",
   "execution_count": 176,
   "metadata": {},
   "outputs": [
    {
     "name": "stdout",
     "output_type": "stream",
     "text": [
      "KFold(n_splits=2, random_state=None, shuffle=False)\n",
      "TRAIN: [2 3] TEST: [0 1]\n",
      "TRAIN: [0 1] TEST: [2 3]\n"
     ]
    }
   ],
   "source": [
    "import numpy as np\n",
    "from sklearn.model_selection import KFold\n",
    "X = np.array([[1, 2], [3, 4], [1, 2], [3, 4]])\n",
    "y = np.array([1, 2, 3, 4])\n",
    "kf = KFold(n_splits=2, shuffle = False)\n",
    "kf.get_n_splits(X)\n",
    "\n",
    "print(kf)\n",
    "\n",
    "for train_index, test_index in kf.split(X):\n",
    "    print(\"TRAIN:\", train_index, \"TEST:\", test_index)\n",
    "    X_train, X_test = X[train_index], X[test_index]\n",
    "    y_train, y_test = y[train_index], y[test_index]"
   ]
  },
  {
   "cell_type": "code",
   "execution_count": 25,
   "metadata": {},
   "outputs": [],
   "source": [
    "oridata = loadmat('dataset_4802.mat')"
   ]
  },
  {
   "cell_type": "code",
   "execution_count": 26,
   "metadata": {},
   "outputs": [
    {
     "data": {
      "text/plain": [
       "dict_keys(['__header__', '__version__', '__globals__', 'Header', 'Sequence', 'Y_4802', 'Y_4802_label'])"
      ]
     },
     "execution_count": 26,
     "metadata": {},
     "output_type": "execute_result"
    }
   ],
   "source": [
    "oridata.keys()"
   ]
  },
  {
   "cell_type": "code",
   "execution_count": 29,
   "metadata": {},
   "outputs": [
    {
     "data": {
      "text/plain": [
       "array([[array(['MDEQEALNSIMNDLVALQMNRRHRMPGYETMKNKDTGHSNRQKKHNSSSSALLNSPTVTTSSCAGASEKKKFLSDVRIKFEHNGERRIIAFSRPVKYEDVEHKVTTVFGQPLDLHYMNNELSILLKNQDDLDKAIDILDRSSSMKSLRILLLSQDRNHNSSSPHSGVSRQVRIKASQSAGDINTIYQPPEPRSRHLSVSSQNPGRSSPPPGYVPERQQHIARQGSYTSINSEGEFIPETSEQCMLDPLSSAENSLSGSCQSLDRSADSPSFRKSRMSRAQSFPDNRQEYSDRETQLYDKGVKGGTYPRRYHVSVHHKDYSDGRRTFPRIRRHQGNLFTLVPSSRSLSTNGENMGLAVQYLDPRGRLRSADSENALSVQERNVPTKSPSAPINWRRGKLLGQGAFGRVYLCYDVDTGRELASKQVQFDPDSPETSKEVSALECEIQLLKNLQHERIVQYYGCLRDRAEKTLTIFMEYMPGGSVKDQLKAYGALTESVTRKYTRQILEGMSYLHSNMIVHRDIKGANILRDSAGNVKLGDFGASKRLQTICMSGTGMRSVTGTPYWMSPEVISGEGYGRKADVWSLGCTVVEMLTEKPPWAEYEAMAAIFKIATQPTNPQLPSHISEHGRDFLRRIFVEARQRPSAEELLTHHFAQLMY'],\n",
       "      dtype='<U657')],\n",
       "       [array(['MDTEGFGELLQQAEQLAAETEGISELPHVERNLQEIQQAGERLRSRTLTRTSQETADVKASVLLGSRGLDISHISQRLESLSAATTFEPLEPVKDTDIQGFLKNEKDNALLSAIEESRKRTFGMAEEYHRESMLVEWEQVKQRILHTLLASGEDALDFTQESEPSYISDVGPPGRSSLDNIEMAYARQIYIYNEKIVNGHLQPNLVDLCASVAELDDKSISDMWTMVKQMTDVLLTPATDALKNRSSVEVRMEFVRQALAYLEQSYKNYTLVTVFGNLHQAQLGGVPGTYQLVRSFLNIKLPAPLPGLQDGEVEGHPVWALIYYCMRCGDLLAASQVVNRAQHQLGEFKTWFQEYMNSKDRRLSPATENKLRLHYRRALRNNTDPYKRAVYCIIGRCDVTDNQSEVADKTEDYLWLKLNQVCFDDDGTSSPQDRLTLSQFQKQLLEDYGESHFTVNQQPFLYFQVLFLTAQFEAAVAFLFRMERLRCHAVHVALVLFELKLLLKSSGQRAQLLSHEPGDPPCLRRLNFVRLLMLYTRKFESTDPREALQYFYFLRDEKDSQGENMFLRCVSELVIESREFDMILGKLENDGSRKPGVIDKFTSDTKPIINKVASVAENKGLFEEAAKLYDLAKNADKVLELMNKLLSPVVPQISAPQSNKERLKNMALSIAERYRAQGISANKFVDSTFYLLLDLITFFDEYHSGHIDRAFDIIERLKLVPLNQESVEERVAAFRNFSDEIRHNLSEVLLATMNILFTQFKRLKGTSPSSSSRPQRVIEDRDSQLRSQARTLITFAGMIPYRTSGDTNARLVQMEVLMN'],\n",
       "      dtype='<U819')],\n",
       "       [array(['MDGEATVKPGEQKVPLWTHGWPPDDPSPSFAAGSSFALPQKRPHPRWLWEGSLPSRTHLRAMGTLRPSSPLCWREESSFAAPNSLKGSRLVSGEPGGAVTIQCHYAPSSVNRHQRKYWCRLGPPRWICQTIVSTNQYTHHRYRDRVALTDFPQRGLFVVRLSQLSPDDIGCYLCGIGSENNMLFLSMNLTISAGPASTLPTATPAAGELTMRSYGTASPVANRWTPGTTQTLGQGTAWDTVASTPGTSKTTASAEGRRTPGATRPAAPGTGSWAEGSVKAPAPIPESPPSKSRSMSNTTEGVWEGTRSSVTNRARASKDRREMTTTKADRPREDIEGVRIALDAAKKVLGTIGPPALVSETLAWEILPQATPVSKQQSQGSIGETTPAAGMWTLGTPAADVWILGTPAADVWTSMEAASGEGSAAGDLDAATGDRGPQATLSQTPAVGPWGPPGKESSVKRATCPGLSTLKEIKVSAVLTQNPHSLLCVSAAQEAERVTLIQMTHFLEVNPQADQLPHVERKMLQDDSLPAGASLTAPERNPGP'],\n",
       "      dtype='<U544')],\n",
       "       ...,\n",
       "       [array(['MDRMKKIKRQLSMTLRGGRGIDKTNGAPEQIGLDESGGGGGSDPGEAPTRAAPGELRSARGPLSSAPEIVHEDLKMGSDGESDQASATSSDEVQSPVRVRMRNHPPRKISTEDINKRLSLPADIRLPEGYLEKLTLNSPIFDKPLSRRLRRVSLSEIGFGKLETYIKLDKLGEGTYATVYKGKSKLTDNLVALKEIRLEHEEGAPCTAIREVSLLKDLKHANIVTLHDIIHTEKSLTLVFEYLDKDLKQYLDDCGNIINMHNVKLFLFQLLRGLAYCHRQKVLHRDLKPQNLLINERGELKLADFGLARAKSIPTKTYSNEVVTLWYRPPDILLGSTDYSTQIDMWGVGCIFYEMATGRPLFPGSTVEEQLHFIFRILGTPTEETWPGILSNEEFKTYNYPKYRAEALLSHAPRLDSDGADLLTKLLQFEGRNRISAEDAMKHPFFLSLGERIHKLPDTTSIFALKEIQLQKEASLRSSSMPDSGRPAFRVVDTEF'],\n",
       "      dtype='<U496')],\n",
       "       [array(['MGAYLSQPNTVKCSGDGVGAPRLPLPYGFSAMQGWRVSMEDAHNCIPELDSETAMFSVYDGHGGEEVALYCAKYLPDIIKDQKAYKEGKLQKALEDAFLAIDAKLTTEEVIKELAQIAGRPTEDEDEKEKVADEDDVDNEEAALLHEEATMTIEELLTRYGQNCHKGPPHSKSGGGTGEEPGSQGLNGEAGPEDSTRETPSQENGPTAKAYTGFSSNSERGTEAGQVGEPGIPTGEAGPSCSSASDKLPRVAKSKFFEDSEDESDEAEEEEEDSEECSEEEDGYSSEEAENEEDEDDTEEAEEDDEEEEEEMMVPGMEGKEEPGSDSGTTAVVALIRGKQLIVANAGDSRCVVSEAGKALDMSYDHKPEDEVELARIKNAGGKVTMDGRVNGGLNLSRAIGDHFYKRNKNLPPEEQMISALPDIKVLTLTDDHEFMVIACDGIWNVMSSQEVVDFIQSKISQRDENGELRLLSSIVEELLDQCLAPDTSGDGTGCDNMTCIIICFKPRNTAELQPESGKRKLEEVLSTEGAEENGNSDKKKKAKRD'],\n",
       "      dtype='<U546')],\n",
       "       [array(['MGLLRIMMPPKLQLLAVVAFAVAMLFLENQIQKLEESRSKLERAIARHEVREIEQRHTMDGPRQDATLDEEEDMVIIYNRVPKTASTSFTNIAYDLCAKNKYHVLHINTTKNNPVMSLQDQVRFVKNITSWKEMKPGFYHGHVSYLDFAKFGVKKKPIYINVIRDPIERLVSYYYFLRFGDDYRPGLRRRKQGDKKTFDECVAEGGSDCAPEKLWLQIPFFCGHSSECWNVGSRWAMDQAKYNLINEYFLVGVTEELEDFIMLLEAALPRFFRGATELYRTGKKSHLRKTTEKKLPTKQTIAKLQQSDIWKMENEFYEFALEQFQFIRAHAVREKDGDLYILAQNFFYEKIYPKSN'],\n",
       "      dtype='<U356')]], dtype=object)"
      ]
     },
     "execution_count": 29,
     "metadata": {},
     "output_type": "execute_result"
    }
   ],
   "source": [
    "oridata['Sequence']"
   ]
  },
  {
   "cell_type": "code",
   "execution_count": 6,
   "metadata": {},
   "outputs": [],
   "source": [
    "X_4802_feature = loadmat('feature_4802.mat')"
   ]
  },
  {
   "cell_type": "code",
   "execution_count": 12,
   "metadata": {},
   "outputs": [
    {
     "data": {
      "text/plain": [
       "dict_keys(['__header__', '__version__', '__globals__', 'ppab', 'ppdwt', 'pppse', 'pssmab', 'pssmdwt', 'pssmpse', 'label'])"
      ]
     },
     "execution_count": 12,
     "metadata": {},
     "output_type": "execute_result"
    }
   ],
   "source": [
    "X_4802_feature.keys()"
   ]
  },
  {
   "cell_type": "code",
   "execution_count": 18,
   "metadata": {},
   "outputs": [
    {
     "data": {
      "text/plain": [
       "1.0"
      ]
     },
     "execution_count": 18,
     "metadata": {},
     "output_type": "execute_result"
    }
   ],
   "source": [
    "np.amax(X_4802_feature['pppse'])"
   ]
  },
  {
   "cell_type": "code",
   "execution_count": 19,
   "metadata": {},
   "outputs": [
    {
     "data": {
      "text/plain": [
       "12510.368390131456"
      ]
     },
     "execution_count": 19,
     "metadata": {},
     "output_type": "execute_result"
    }
   ],
   "source": [
    "np.amax(X_4802_feature['ppdwt'])"
   ]
  },
  {
   "cell_type": "code",
   "execution_count": 20,
   "metadata": {},
   "outputs": [],
   "source": [
    "tmp = X_4802_feature['ppdwt']\n",
    "tmp = (tmp - np.amin(tmp))/(np.amax(tmp) - np.amin(tmp))"
   ]
  },
  {
   "cell_type": "code",
   "execution_count": 24,
   "metadata": {},
   "outputs": [
    {
     "data": {
      "text/plain": [
       "250.0"
      ]
     },
     "execution_count": 24,
     "metadata": {},
     "output_type": "execute_result"
    }
   ],
   "source": [
    "np.amax(tmp * 250)"
   ]
  },
  {
   "cell_type": "code",
   "execution_count": 46,
   "metadata": {},
   "outputs": [],
   "source": [
    "d4 = loadmat('dataset_3106.mat')"
   ]
  },
  {
   "cell_type": "code",
   "execution_count": 48,
   "metadata": {},
   "outputs": [
    {
     "data": {
      "text/plain": [
       "dict_keys(['__header__', '__version__', '__globals__', 'Y_3106', 'label_name', 'protein_list', 'sequence_3106'])"
      ]
     },
     "execution_count": 48,
     "metadata": {},
     "output_type": "execute_result"
    }
   ],
   "source": [
    "d4.keys()"
   ]
  },
  {
   "cell_type": "code",
   "execution_count": 89,
   "metadata": {},
   "outputs": [
    {
     "data": {
      "text/plain": [
       "array([[array(['MFRRKLTALDYHNPAGFNCKDETEFRNFIVWLEDQKIRHYKIEDRGNLRNIHSSDWPKFFEKYLRDVNCPFKIQDRQEAIDWLLGLAVRLEYGDNAEKYKDLVPDNSKTADNATKNAEPLINLDVNNPDFKAGVMALANLLQIQRHDDYLVMLKAIRILVQERLTQDAVAKANQTKEGLPVALDKHILGFDTGDAVLNEAAQILRLLHIEELRELQTKINEAIVAVQAIIADPKTDHRLGKVGR'],\n",
       "      dtype='<U244')],\n",
       "       [array(['MIDSVKLRRDSAADFFSHYEYLCALQNSVPLPAVRACLREGVLDFNADRLRGVDWAPLLSTLKINKDLPLVSIKSFFQPWLGDTGSDMNKFCRSRVPAIRYKDVTFQLCKALKGCLSISSVLKNLELNGLILRERDLTILAKGLNKSASLVHLSLANCPIGDGGLEIICQGIKSSITLKTVNFTGCNLTWQGADHMAKILKYQTMRRHEETWAESLRYRRPDLDCMAGLRRITLNCNTLIGDLGACAFADSLSEDLWLRALDLQQCGLTNEGAKALLEALETNTTLVVLDIRKNPLIDHSMMKAVIKKVLQNGRSAKSEYQWITSPSVKEPSKTAKQKRRTIILGSGHKGKATIRIGLATKKPVSSGRKHSLGKEYYAPAPLPPGVSGFLPWRTAERAKRHRGFPLIKTRDICNQLQQPGFPVTVTVESPSSSEVEEVDDSSESVHEVPEKTSIEQEALQEKLEECLKQLKEERVIRLKVDKRVSELEHENAQLRNINFSLSEALHAQSLTNMILDDEGVLGSIENSFQKFHAFLDLLKDAGLGQLATMAGIDQSDFQLLGHPQMTSTVSNPPKEEKKALEDEKPEPKQNALGQMQNIQFQKITGDARIPLPLDSFPVPVSTPEGLGTSSNNLGVPATEQRQESFEGFIARMCSPSPDATSGTGSQRKEEELSRNSRSSSEKKTKTESH'],\n",
       "      dtype='<U689')],\n",
       "       [array(['MEPRMESCLAQVLQKDVGKRLQVGQELIDYFSDKQKSADLEHDQTMLDKLVDGLATSWVNSSNYKVVLLGMDILSALVTRLQDRFKAQIGTVLPSLIDRLGDAKDSVREQDQTLLLKIMDQAANPQYVWDRMLGGFKHKNFRTREGICLCLIATLNASGAQTLTLSKIVPHICNLLGDPNSQVRDAAINSLVEIYRHVGERVRADLSKKGLPQSRLNVIFTKFDEVQKSGNMIQSANDKNFDDEDSVDGNRPSSASSTSSKAPPSSRRNVGMGTTRRLGSSTLGSKSSAAKEGAGAVDEEDFIKAFDDVPVVQIYSSRDLEESINKIREILSDDKHDWEQRVNALKKIRSLLLAGAAEYDNFFQHLRLLDGAFKLSAKDLRSQVVREACITLGHLSSVLGNKFDHGAEAIMPTIFNLIPNSAKIMATSGVVAVRLIIRHTHIPRLIPVITSNCTSKSVAVRRRCFEFLDLLLQEWQTHSLERHISVLAETIKKGIHDADSEARIEARKCYWGFHSHFSREAEHLYHTLESSYQKALQSHLKNSDSIVSLPQSDRSSSSSQESLNRPLSAKRSPTGSTTSRASTVSTKSVSTTGSLQRSRSDIDVNAAASAKSKVSSSSGTTPFSSAAALPPGSYASLGRIRTRRQSSGSATNVASTPDNRGRSRAKVVSQSQRSRSANPAGAGSRSSSPGKLLGSGYGGLTGGSSRGPPVTPSSEKRSKIPRSQGCSRETSPNRIGLARSSRIPRPSMSQGCSRDTSRESSRDTSPARGFPPLDRFGLGQPGRIPGSVNAMRVLSTSTDLEAAVADALKKPVRRRYEPYGMYSDDDANSDASSVCSERSYGSRNGGIPHYLRQTEDVAEVLNHCASSNWSERKEGLLGLQNLLKSQRTLSRVELKRLCEIFTRMFADPHSKRVFSMFLETLVDFIIIHKDDLQDWLFVLLTQLLKKMGADLLGSVQAKVQKALDVTRDSFPFDQQFNILMRFIVDQTQTPNLKVKVAILKYIESLARQMDPTDFVNSSETRLAVSRIITWTTEPKSSDVRKAAQIVLISLFELNTPEFTMLLGALPKTFQDGATKLLHNHLKNSSNTSVGSPSNTIGRTPSRHTSSRTSPLTSPTNCSHGGLSPSRLWGWSADGLAKHPPPFSQPNSIPTAPSHKALRRSYSPSMLDYDTENLNSEEIYSSLRGVTEAIEKFSFRSQEDLNEPIKRDGKKECDIVSRDGGAASPATEGRGGSEVEGGRTALDNKTSLLNTQPPRAFPGPRARDYNPYPYSDAINTYDKTALKEAVFDDDMEQLRDVPIDHSDLVADLLKELSNHNERVEERKGALLELLKITREDSLGVWEEHFKTILLLLLETLGDKDHSIRALALRVLREILRNQPARFKNYAELTIMKTLEAHKDSHKEVVRAAEEAASTLASSIHPEQCIKVLCPIIQTADYPINLAAIKMQTKVVERIAKESLLQLLVDIIPGLLQGYDNTESSVRKASVFCLVAIYSVIGEDLKPHLAQLTGSKMKLLNLYIKRAQTTNSNSSSSSDVSTHS'],\n",
       "      dtype='<U1538')],\n",
       "       ...,\n",
       "       [array(['MVALSLKICVRHCNVVKTMQFEPSTAVYDACRVIRERVPEAQTGQASDYGLFLSDEDPRKGIWLEAGRTLDYYMLRNGDILEYKKKQRPQKIRMLDGSVKTVMVDDSKTVGELLVTICSRIGITNYEEYSLIQETIEEKKEEGTGTLKKDRTLLRDERKMEKLKAKLHTDDDLNWLDHSRTFREQGVDENETLLLRRKFFYSDQNVDSRDPVQLNLLYVQARDDILNGSHPVSFEKACEFGGFQAQIQFGPHVEHKHKPGFLDLKEFLPKEYIKQRGAEKRIFQAHKNCGEMSEIEAKVKYVKLARSLRTYGVSFFLVKEKMKGKNKLVPRLLGITKDSVMRVDEKTKEVLQEWPLTTVKRWAASPKSFTLDFGEYQESYYSVQTTEGEQISQLIAGYIDIILKKKQSKDRFGLEGDEESTMLEESVSPKKSTILQQQFNRTGKAEHGSVALPAVMRSGSSGPETFNVGSMPSPQQQVMVGQMHRGHMPPLTSAQQALMGTINTSMHAVQQAQDDLSELDSLPPLGQDMASRVWVQNKVDESKHEIHSQVDAITAGTASVVNLTAGDPADTDYTAVGCAITTISSNLTEMSKGVKLLAALMDDEVGSGEDLLRAARTLAGAVSDLLKAVQPTSGEPRQTVLTAAGSIGQASGDLLRQIGENETDERFQDVLMSLAKAVANAAAMLVLKAKNVAQVAEDTVLQNRVIAAATQCALSTSQLVACAKVVSPTISSPVCQEQLIEAGKLVDRSVENCVRACQAATTDSELLKQVSAAASVVSQALHDLLQHVRQFASRGEPIGRYDQATDTIMCVTESIFSSMGDAGEMVRQARVLAQATSDLVNAMRSDAEAEIDMENSKKLLAAAKLLADSTARMVEAAKGAAANPENEDQQQRLREAAEGLRVATNAAAQNAIKKKIVNRLEVAAKQAAAAATQTIAASQNAAVSNKNPAAQQQLVQSCKAVADHIPQLVQGVRGSQAQAEDLSAQLALIISSQNFLQPGSKMVSSAKAAVPTVSDQAAAMQLSQCAKNLATSLAELRTASQKAHEACGPMEIDSALNTVQTLKNELQDAKMAAVESQLKPLPGETLEKCAQDLGSTSKAVGSSMAQLLTCAAQGNEHYTGVAARETAQALKTLAQAARGVAASTTDPAAAHAMLDSARDVMEGSAMLIQEAKQALIAPGDAERQQRLAQVAKAVSHSLNNCVNCLPGQKDVDVALKSIGESSKKLLVDSLPPSTKPFQEAQSELNQAAADLNQSAGEVVHATRGQSGELAAASGKFSDDFDEFLDAGIEMAGQAQTKEDQIQVIGNLKNISMASSKLLLAAKSLSVDPGAPNAKNLLAAAARAVTESINQLITLCTQQAPGQKECDNALRELETVKGMLDNPNEPVSDLSYFDCIESVMENSKVLGESMAGISQNAKTGDLPAFGECVGIASKALCGLTEAAAQAAYLVGISDPNSQAGHQGLVDPIQFARANQAIQMACQNLVDPGSSPSQVLSAATIVAKHTSALCNACRIASSKTANPVAKRHFVQSAKEVANSTANLVKTIKALDGDFSEDNRNKCRIATAPLIEAVENLTAFASNPEFVSIPAQISSEGSQAQEPILVSAKTMLESSSYLIRTARSLAINPKDPPTWSVLAGHSHTVSDSIKSLITSIRDKAPGQRECDYSIDGINRCIRDIEQASLAAVSQSLATRDDISVEALQEQLTSVVQEIGHLIDPIATAARGEAAQLGHKVTQLASYFEPLILAAVGVASKILDHQQQMTVLDQTKTLAESALQMLYAAKEGGGNPKAQHTHDAITEAAQLMKEAVDDIMVTLNEAASEVGLVGGMVDAIAEAMSKLDEGTPPEPKGTFVDYQTTVVKYSKAIAVTAQEMMTKSVTNPEELGGLASQMTSDYGHLAFQGQMAAATAEPEEIGFQIRTRVQDLGHGCIFLVQKAGALQVCPTDSYTKRELIECARAVTEKVSLVLSALQAGNKGTQACITAATAVSGIIADLDTTIMFATAGTLNAENSETFADHRENILKTAKALVEDTKLLVSGAASTPDKLAQAAQSSAATITQLAEVVKLGAASLGSDDPETQVVLINAIKDVAKALSDLISATKGAASKPVDDPSMYQLKGAAKVMVTNVTSLLKTVKAVEDEATRGTRALEATIECIKQELTVFQSKDVPEKTSSPEESIRMTKGITMATAKAVAAGNSCRQEDVIATANLSRKAVSDMLTACKQASFHPDVSDEVRTRALRFGTECTLGYLDLLEHVLVILQKPTPEFKQQLAAFSKRVAGAVTELIQAAEAMKGTEWVDPEDPTVIAETELLGAAASIEAAAKKLEQLKPRAKPKQADETLDFEEQILEAAKSIAAATSALVKSASAAQRELVAQGKVGSIPANAADDGQWSQGLISAARMVAAATSSLCEAANASVQGHASEEKLISSAKQVAASTAQLLVACKVKADQDSEAMRRLQAAGNAVKRASDNLVRAAQKAAFGKADDDDVVVKTKFVGGIAQIIAAQEEMLKKERELEEARKKLAQIRQQQYKFLPTELREDEG'],\n",
       "      dtype='<U2542')],\n",
       "       [array(['MFADLDYDIEEDKLGIPTVPGKVTLQKDAQNLIGISIGGGAQYCPCLYIVQVFDNTPAALDGTVAAGDEITGVNGRSIKGKTKVEVAKMIQEVKGEVTIHYNKLQADPKQGMSLDIVLKKVKHRLVENMSSGTADALGLSRAILCNDGLVKRLEELERTAELYKGMTEHTKNLLRAFYELSQTHRAFGDVFSVIGVREPQPAASEAFVKFADAHRSIEKFGIRLLKTIKPMLTDLNTYLNKAIPDTRLTIKKYLDVKFEYLSYCLKVKEMDDEEYSCIALGEPLYRVSTGNYEYRLILRCRQEARARFSQMRKDVLEKMELLDQKHVQDIVFQLQRLVSTMSKYYNDCYAVLRDADVFPIEVDLAHTTLAYGLNQEEFTDGEEEEEEEDTAAGEPSRDTRGAAGPLDKGGSWCDS'],\n",
       "      dtype='<U415')],\n",
       "       [array(['MVVLNPMTLGIYLQLFFLSIVSQPTFINSVLPISAALPSLDQKKRGGHKACCLLTPPPPPLFPPPFFRGGRSPLLSPDMKNLMLELETSQSPCMQGSLGSPGPPGPQGPPGLPGKTGPKGEKGELGRPGRKGRPGPPGVPGMPGPIGWPGPEGPRGEKGDLGMMGLPGSRGPMGSKGYPGSRGEKGSRGEKGDLGPKGEKGFPGFPGMLGQKGEMGPKGEPGIAGHRGPTGRPGKRGKQGQKGDSGVMGPPGKPGPSGQPGRPGPPGPPPAGQLIMGPKGERGFPGPPGRCLCGPTMNVNNPSYGESVYGPSSPRVPVIFVVNNQEELERLNTQNAIAFRRDQRSLYFKDSLGWLPIQLTPFYPVDYTADQHGTCGDGLLQPGEECDDGNSDVGDDCIRCHRAYCGDGHRHEGVEDCDGSDFGYLTCETYLPGSYGDLQCTQYCYIDSTPCRYFT'],\n",
       "      dtype='<U455')]], dtype=object)"
      ]
     },
     "execution_count": 89,
     "metadata": {},
     "output_type": "execute_result"
    }
   ],
   "source": [
    "d4['sequence_3106']"
   ]
  },
  {
   "cell_type": "code",
   "execution_count": 3,
   "metadata": {},
   "outputs": [
    {
     "data": {
      "text/plain": [
       "(37, 1)"
      ]
     },
     "execution_count": 3,
     "metadata": {},
     "output_type": "execute_result"
    }
   ],
   "source": [
    "d4['Y_4802_label'].shape"
   ]
  },
  {
   "cell_type": "code",
   "execution_count": 49,
   "metadata": {},
   "outputs": [],
   "source": [
    "label = d4['label_name']"
   ]
  },
  {
   "cell_type": "code",
   "execution_count": 50,
   "metadata": {},
   "outputs": [
    {
     "name": "stdout",
     "output_type": "stream",
     "text": [
      "[array(['Centrosome'], dtype='<U10')]\n",
      "[array(['Cytoplasm'], dtype='<U9')]\n",
      "[array(['Cytoskeleton'], dtype='<U12')]\n",
      "[array(['Endosome'], dtype='<U8')]\n",
      "[array(['Endoplasmic-Reticulum'], dtype='<U21')]\n",
      "[array(['Extracellular'], dtype='<U13')]\n",
      "[array(['Golgi-Apparatus'], dtype='<U15')]\n",
      "[array(['Lysosome'], dtype='<U8')]\n",
      "[array(['Microsome'], dtype='<U9')]\n",
      "[array(['Mitochondrion'], dtype='<U13')]\n",
      "[array(['Nucleus'], dtype='<U7')]\n",
      "[array(['Peroxisome'], dtype='<U10')]\n",
      "[array(['Plasma-Membrane'], dtype='<U15')]\n",
      "[array(['Synapse'], dtype='<U7')]\n"
     ]
    }
   ],
   "source": [
    "for l in label:\n",
    "    print(l)"
   ]
  },
  {
   "cell_type": "code",
   "execution_count": 51,
   "metadata": {},
   "outputs": [],
   "source": [
    "l4 = d4['Y_3106']"
   ]
  },
  {
   "cell_type": "code",
   "execution_count": 7,
   "metadata": {},
   "outputs": [
    {
     "data": {
      "text/plain": [
       "array([[0, 0, 0, 0, 0, 0, 0, 0, 0, 0, 0, 0, 0, 0, 0, 0, 0, 0, 0, 0, 0, 0,\n",
       "        0, 0, 0, 1, 0, 1, 0, 0, 0, 0, 0, 0, 0, 0, 0],\n",
       "       [0, 0, 0, 0, 0, 0, 0, 0, 0, 0, 1, 0, 0, 0, 0, 0, 0, 0, 0, 0, 0, 0,\n",
       "        0, 0, 0, 0, 0, 0, 0, 0, 1, 0, 0, 0, 0, 0, 0]], dtype=uint8)"
      ]
     },
     "execution_count": 7,
     "metadata": {},
     "output_type": "execute_result"
    }
   ],
   "source": [
    "l4[[1,2]] "
   ]
  },
  {
   "cell_type": "code",
   "execution_count": 58,
   "metadata": {},
   "outputs": [
    {
     "data": {
      "text/plain": [
       "0"
      ]
     },
     "execution_count": 58,
     "metadata": {},
     "output_type": "execute_result"
    }
   ],
   "source": []
  },
  {
   "cell_type": "code",
   "execution_count": 62,
   "metadata": {},
   "outputs": [],
   "source": [
    "res = np.zeros((37, 37))\n",
    "for i in range(37):\n",
    "    for j in range(i + 1, 37):\n",
    "        # print(i, j)\n",
    "        res[i, j] = sum(l4[l4[:, i] == 1][:, j] == 1)"
   ]
  },
  {
   "cell_type": "code",
   "execution_count": 74,
   "metadata": {},
   "outputs": [
    {
     "name": "stdout",
     "output_type": "stream",
     "text": [
      "0 0 0 0 1 0 0 0 0 0 0 0 0 0 0 0 0 0 0 0 0 0 0 0 0 0 0 0 0 0 15 0 0 0 0 0 0\n",
      "0 0 0 0 0 0 0 0 0 0 0 0 1 0 0 0 0 0 0 0 0 0 0 0 0 0 0 0 0 0 28 0 0 0 0 0 0\n",
      "0 0 0 0 0 0 0 0 0 0 0 0 0 0 0 0 0 0 0 0 0 0 0 0 0 0 0 0 0 0 4 0 0 0 0 0 0\n",
      "0 0 0 0 23 0 6 0 0 1 1 0 2 0 0 0 0 0 0 0 0 0 0 0 1 0 0 12 0 0 0 0 0 0 0 0 0\n",
      "0 0 0 0 0 3 16 0 1 1 17 8 18 0 0 0 0 0 0 1 0 0 2 0 24 0 0 401 0 7 41 0 0 0 2 0 0\n",
      "0 0 0 0 0 0 0 0 1 0 0 1 11 0 0 0 0 0 0 0 0 0 0 0 0 0 0 2 0 0 6 0 3 0 0 1 1\n",
      "0 0 0 0 0 0 0 0 0 0 0 0 3 0 0 0 0 0 0 0 0 0 1 1 0 0 0 9 0 0 11 0 0 0 0 0 0\n",
      "0 0 0 0 0 0 0 0 0 1 0 0 3 0 0 0 0 0 0 0 0 0 0 0 0 0 0 0 0 0 0 0 0 0 0 0 0\n",
      "0 0 0 0 0 0 0 0 0 0 41 0 0 0 0 0 0 0 0 0 0 0 0 0 0 0 0 0 0 0 9 0 0 0 0 0 0\n",
      "0 0 0 0 0 0 0 0 0 0 2 3 20 2 0 0 0 0 1 1 0 0 0 0 0 2 0 2 0 0 10 0 0 0 0 0 0\n",
      "0 0 0 0 0 0 0 0 0 0 0 2 28 0 0 0 0 8 0 10 0 1 11 0 6 0 0 13 0 1 56 0 0 0 0 0 0\n",
      "0 0 0 0 0 0 0 0 0 0 0 0 12 0 0 0 0 0 0 7 0 0 0 0 1 0 0 3 0 0 31 0 4 0 1 0 0\n",
      "0 0 0 0 0 0 0 0 0 0 0 0 0 5 3 11 0 0 0 2 7 1 0 0 0 0 0 5 0 0 29 0 1 0 1 0 0\n",
      "0 0 0 0 0 0 0 0 0 0 0 0 0 0 0 0 0 0 0 0 0 0 0 0 0 0 0 0 0 0 0 0 0 0 0 0 0\n",
      "0 0 0 0 0 0 0 0 0 0 0 0 0 0 0 0 0 0 0 0 0 0 0 0 0 0 0 0 0 0 0 0 0 0 0 0 0\n",
      "0 0 0 0 0 0 0 0 0 0 0 0 0 0 0 0 0 0 0 0 0 0 0 0 0 0 0 0 0 0 0 0 0 0 0 0 0\n",
      "0 0 0 0 0 0 0 0 0 0 0 0 0 0 0 0 0 0 0 0 0 0 0 0 4 0 0 0 0 0 0 0 0 0 0 0 0\n",
      "0 0 0 0 0 0 0 0 0 0 0 0 0 0 0 0 0 0 0 8 0 0 0 0 0 0 0 0 0 0 0 0 0 0 0 0 0\n",
      "0 0 0 0 0 0 0 0 0 0 0 0 0 0 0 0 0 0 0 0 0 0 0 0 0 0 0 0 0 0 0 0 0 0 0 0 0\n",
      "0 0 0 0 0 0 0 0 0 0 0 0 0 0 0 0 0 0 0 0 0 0 0 0 0 0 0 2 0 0 8 0 1 0 0 0 0\n",
      "0 0 0 0 0 0 0 0 0 0 0 0 0 0 0 0 0 0 0 0 0 0 0 0 0 0 0 0 0 0 0 0 0 0 0 0 0\n",
      "0 0 0 0 0 0 0 0 0 0 0 0 0 0 0 0 0 0 0 0 0 0 0 0 0 0 0 0 0 0 0 0 0 0 0 0 0\n",
      "0 0 0 0 0 0 0 0 0 0 0 0 0 0 0 0 0 0 0 0 0 0 0 0 2 0 0 1 0 0 1 0 0 0 0 0 0\n",
      "0 0 0 0 0 0 0 0 0 0 0 0 0 0 0 0 0 0 0 0 0 0 0 0 0 0 0 0 0 0 0 0 0 0 0 0 0\n",
      "0 0 0 0 0 0 0 0 0 0 0 0 0 0 0 0 0 0 0 0 0 0 0 0 0 0 0 19 1 3 1 1 0 0 0 0 0\n",
      "0 0 0 0 0 0 0 0 0 0 0 0 0 0 0 0 0 0 0 0 0 0 0 0 0 0 0 44 0 0 0 0 0 0 0 0 0\n",
      "0 0 0 0 0 0 0 0 0 0 0 0 0 0 0 0 0 0 0 0 0 0 0 0 0 0 0 268 0 0 0 0 0 0 0 0 0\n",
      "0 0 0 0 0 0 0 0 0 0 0 0 0 0 0 0 0 0 0 0 0 0 0 0 0 0 0 0 0 0 16 0 0 0 1 0 0\n",
      "0 0 0 0 0 0 0 0 0 0 0 0 0 0 0 0 0 0 0 0 0 0 0 0 0 0 0 0 0 0 0 0 0 0 0 0 0\n",
      "0 0 0 0 0 0 0 0 0 0 0 0 0 0 0 0 0 0 0 0 0 0 0 0 0 0 0 0 0 0 0 0 0 0 0 0 0\n",
      "0 0 0 0 0 0 0 0 0 0 0 0 0 0 0 0 0 0 0 0 0 0 0 0 0 0 0 0 0 0 0 0 0 3 9 8 3\n",
      "0 0 0 0 0 0 0 0 0 0 0 0 0 0 0 0 0 0 0 0 0 0 0 0 0 0 0 0 0 0 0 0 0 0 0 0 0\n",
      "0 0 0 0 0 0 0 0 0 0 0 0 0 0 0 0 0 0 0 0 0 0 0 0 0 0 0 0 0 0 0 0 0 0 0 0 0\n",
      "0 0 0 0 0 0 0 0 0 0 0 0 0 0 0 0 0 0 0 0 0 0 0 0 0 0 0 0 0 0 0 0 0 0 0 0 0\n",
      "0 0 0 0 0 0 0 0 0 0 0 0 0 0 0 0 0 0 0 0 0 0 0 0 0 0 0 0 0 0 0 0 0 0 0 0 0\n",
      "0 0 0 0 0 0 0 0 0 0 0 0 0 0 0 0 0 0 0 0 0 0 0 0 0 0 0 0 0 0 0 0 0 0 0 0 0\n",
      "0 0 0 0 0 0 0 0 0 0 0 0 0 0 0 0 0 0 0 0 0 0 0 0 0 0 0 0 0 0 0 0 0 0 0 0 0\n"
     ]
    }
   ],
   "source": [
    "for r in res:\n",
    "    print(' '.join([str(int(x)) for x in r]))"
   ]
  },
  {
   "cell_type": "code",
   "execution_count": 8,
   "metadata": {},
   "outputs": [],
   "source": [
    "res = np.zeros((37, 37))\n",
    "for i in range(37):\n",
    "    for j in range(37):\n",
    "        # print(i, j)\n",
    "        res[i, j] = sum(l4[l4[:, i] == 1][:, j] == 1)"
   ]
  },
  {
   "cell_type": "code",
   "execution_count": 9,
   "metadata": {},
   "outputs": [
    {
     "name": "stdout",
     "output_type": "stream",
     "text": [
      "16 0 0 0 1 0 0 0 0 0 0 0 0 0 0 0 0 0 0 0 0 0 0 0 0 0 0 0 0 0 15 0 0 0 0 0 0\n",
      "0 29 0 0 0 0 0 0 0 0 0 0 1 0 0 0 0 0 0 0 0 0 0 0 0 0 0 0 0 0 28 0 0 0 0 0 0\n",
      "0 0 4 0 0 0 0 0 0 0 0 0 0 0 0 0 0 0 0 0 0 0 0 0 0 0 0 0 0 0 4 0 0 0 0 0 0\n",
      "0 0 0 81 23 0 6 0 0 1 1 0 2 0 0 0 0 0 0 0 0 0 0 0 1 0 0 12 0 0 0 0 0 0 0 0 0\n",
      "1 0 0 23 1050 3 16 0 1 1 17 8 18 0 0 0 0 0 0 1 0 0 2 0 24 0 0 401 0 7 41 0 0 0 2 0 0\n",
      "0 0 0 0 3 46 0 0 1 0 0 1 11 0 0 0 0 0 0 0 0 0 0 0 0 0 0 2 0 0 6 0 3 0 0 1 1\n",
      "0 0 0 6 16 0 89 0 0 0 0 0 3 0 0 0 0 0 0 0 0 0 1 1 0 0 0 9 0 0 11 0 0 0 0 0 0\n",
      "0 0 0 0 0 0 0 4 0 1 0 0 3 0 0 0 0 0 0 0 0 0 0 0 0 0 0 0 0 0 0 0 0 0 0 0 0\n",
      "0 0 0 0 1 1 0 0 52 0 41 0 0 0 0 0 0 0 0 0 0 0 0 0 0 0 0 0 0 0 9 0 0 0 0 0 0\n",
      "0 0 0 1 1 0 0 1 0 120 2 3 20 2 0 0 0 0 1 1 0 0 0 0 0 2 0 2 0 0 10 0 0 0 0 0 0\n",
      "0 0 0 1 17 0 0 0 41 2 342 2 28 0 0 0 0 8 0 10 0 1 11 0 6 0 0 13 0 1 56 0 0 0 0 0 0\n",
      "0 0 0 0 8 1 0 0 0 3 2 487 12 0 0 0 0 0 0 7 0 0 0 0 1 0 0 3 0 0 31 0 4 0 1 0 0\n",
      "0 1 0 2 18 11 3 3 0 20 28 12 272 5 3 11 0 0 0 2 7 1 0 0 0 0 0 5 0 0 29 0 1 0 1 0 0\n",
      "0 0 0 0 0 0 0 0 0 2 0 0 5 7 0 0 0 0 0 0 0 0 0 0 0 0 0 0 0 0 0 0 0 0 0 0 0\n",
      "0 0 0 0 0 0 0 0 0 0 0 0 3 0 3 0 0 0 0 0 0 0 0 0 0 0 0 0 0 0 0 0 0 0 0 0 0\n",
      "0 0 0 0 0 0 0 0 0 0 0 0 11 0 0 11 0 0 0 0 0 0 0 0 0 0 0 0 0 0 0 0 0 0 0 0 0\n",
      "0 0 0 0 0 0 0 0 0 0 0 0 0 0 0 0 4 0 0 0 0 0 0 0 4 0 0 0 0 0 0 0 0 0 0 0 0\n",
      "0 0 0 0 0 0 0 0 0 0 8 0 0 0 0 0 0 16 0 8 0 0 0 0 0 0 0 0 0 0 0 0 0 0 0 0 0\n",
      "0 0 0 0 0 0 0 0 0 1 0 0 0 0 0 0 0 0 1 0 0 0 0 0 0 0 0 0 0 0 0 0 0 0 0 0 0\n",
      "0 0 0 0 1 0 0 0 0 1 10 7 2 0 0 0 0 8 0 125 0 0 0 0 0 0 0 2 0 0 8 0 1 0 0 0 0\n",
      "0 0 0 0 0 0 0 0 0 0 0 0 7 0 0 0 0 0 0 0 7 0 0 0 0 0 0 0 0 0 0 0 0 0 0 0 0\n",
      "0 0 0 0 0 0 0 0 0 0 1 0 1 0 0 0 0 0 0 0 0 6 0 0 0 0 0 0 0 0 0 0 0 0 0 0 0\n",
      "0 0 0 0 2 0 1 0 0 0 11 0 0 0 0 0 0 0 0 0 0 0 26 0 2 0 0 1 0 0 1 0 0 0 0 0 0\n",
      "0 0 0 0 0 0 1 0 0 0 0 0 0 0 0 0 0 0 0 0 0 0 0 1 0 0 0 0 0 0 0 0 0 0 0 0 0\n",
      "0 0 0 1 24 0 0 0 0 0 6 1 0 0 0 0 4 0 0 0 0 0 2 0 407 0 0 19 1 3 1 1 0 0 0 0 0\n",
      "0 0 0 0 0 0 0 0 0 2 0 0 0 0 0 0 0 0 0 0 0 0 0 0 0 47 0 44 0 0 0 0 0 0 0 0 0\n",
      "0 0 0 0 0 0 0 0 0 0 0 0 0 0 0 0 0 0 0 0 0 0 0 0 0 0 268 268 0 0 0 0 0 0 0 0 0\n",
      "0 0 0 12 401 2 9 0 0 2 13 3 5 0 0 0 0 0 0 2 0 0 1 0 19 44 268 1720 0 0 16 0 0 0 1 0 0\n",
      "0 0 0 0 0 0 0 0 0 0 0 0 0 0 0 0 0 0 0 0 0 0 0 0 1 0 0 0 1 0 0 0 0 0 0 0 0\n",
      "0 0 0 0 7 0 0 0 0 0 1 0 0 0 0 0 0 0 0 0 0 0 0 0 3 0 0 0 0 67 0 0 0 0 0 0 0\n",
      "15 28 4 0 41 6 11 0 9 10 56 31 29 0 0 0 0 0 0 8 0 0 1 0 1 0 0 16 0 0 836 0 0 3 9 8 3\n",
      "0 0 0 0 0 0 0 0 0 0 0 0 0 0 0 0 0 0 0 0 0 0 0 0 1 0 0 0 0 0 0 1 0 0 0 0 0\n",
      "0 0 0 0 0 3 0 0 0 0 0 4 1 0 0 0 0 0 0 1 0 0 0 0 0 0 0 0 0 0 0 0 10 0 0 0 0\n",
      "0 0 0 0 0 0 0 0 0 0 0 0 0 0 0 0 0 0 0 0 0 0 0 0 0 0 0 0 0 0 3 0 0 5 0 0 0\n",
      "0 0 0 0 2 0 0 0 0 0 0 1 1 0 0 0 0 0 0 0 0 0 0 0 0 0 0 1 0 0 9 0 0 0 28 0 0\n",
      "0 0 0 0 0 1 0 0 0 0 0 0 0 0 0 0 0 0 0 0 0 0 0 0 0 0 0 0 0 0 8 0 0 0 0 9 0\n",
      "0 0 0 0 0 1 0 0 0 0 0 0 0 0 0 0 0 0 0 0 0 0 0 0 0 0 0 0 0 0 3 0 0 0 0 0 4\n"
     ]
    }
   ],
   "source": [
    "for r in res:\n",
    "    print(' '.join([str(int(x)) for x in r]))"
   ]
  },
  {
   "cell_type": "code",
   "execution_count": 53,
   "metadata": {},
   "outputs": [
    {
     "name": "stdout",
     "output_type": "stream",
     "text": [
      "(77, 14)\n",
      "Centrosome 47\n",
      "(817, 14)\n",
      "Cytoplasm 457\n",
      "(79, 14)\n",
      "Cytoskeleton 45\n",
      "(24, 14)\n",
      "Endosome 13\n",
      "(229, 14)\n",
      "Endoplasmic-Reticulum 155\n",
      "(385, 14)\n",
      "Extracellular 347\n",
      "(161, 14)\n",
      "Golgi-Apparatus 96\n",
      "(77, 14)\n",
      "Lysosome 59\n",
      "(24, 14)\n",
      "Microsome 11\n",
      "(364, 14)\n",
      "Mitochondrion 321\n",
      "(1021, 14)\n",
      "Nucleus 718\n",
      "(47, 14)\n",
      "Peroxisome 35\n",
      "(354, 14)\n",
      "Plasma-Membrane 267\n",
      "(22, 14)\n",
      "Synapse 9\n"
     ]
    }
   ],
   "source": [
    "res = np.zeros((37, 37))\n",
    "for i in range(14):\n",
    "    tmp = l4[l4[:, i] == 1]\n",
    "    print(tmp.shape)\n",
    "    count = 0\n",
    "    for t in tmp:\n",
    "        if sum(t) == 1:\n",
    "            count += 1\n",
    "    print(label[i][0][0], count)"
   ]
  },
  {
   "cell_type": "code",
   "execution_count": 11,
   "metadata": {},
   "outputs": [
    {
     "name": "stdout",
     "output_type": "stream",
     "text": [
      "Apical Plasma Membrane 0.0\n",
      "Basolateral Plasma Membrane 0.0\n",
      "Cellular Component Unknown 0.0\n",
      "Centrosome 35.0\n",
      "Cytoplasm 484.0\n",
      "Cytoplasmic Vesicles 17.0\n",
      "Cytoskeleton 42.0\n",
      "ERGIC 0.0\n",
      "Early Endosomes 0.0\n",
      "Endoplasmic Reticulum 74.0\n",
      "Endosomes 145.0\n",
      "Extracellular 414.0\n",
      "Golgi Apparatus 109.0\n",
      "Golgi Cis Cisterna 0.0\n",
      "Golgi Trans Cisterna 0.0\n",
      "Golgi Trans Face 0.0\n",
      "Inner Mitochondrial Membrane 0.0\n",
      "Late Endosomes 0.0\n",
      "Lipid Particles 0.0\n",
      "Lysosomes 85.0\n",
      "Medial-Golgi 0.0\n",
      "Melanosome 4.0\n",
      "Microtubule 8.0\n",
      "Microtubule Organizing Center 0.0\n",
      "Mitochondria 344.0\n",
      "Nuclear Envelope 1.0\n",
      "Nucleolus 0.0\n",
      "Nucleus 922.0\n",
      "Outer Mitochondrial Membrane 0.0\n",
      "Peroxisome 56.0\n",
      "Plasma Membrane 547.0\n",
      "Sarcolemma 0.0\n",
      "Secretory Granule 1.0\n",
      "Secretory Vesicles 2.0\n",
      "Synaptic Vesicles 14.0\n",
      "Tight Junction 0.0\n",
      "Transport Vesicle 0.0\n"
     ]
    }
   ],
   "source": [
    "res = np.zeros((37, 37))\n",
    "for i in range(37):\n",
    "    tmp = sum(l4[l4[:, i] == 1][:, i] == 1)\n",
    "    for j in range(37):\n",
    "        if i == j:\n",
    "            continue\n",
    "        res[i, j] = sum(l4[l4[:, i] == 1][:, j] == 1)\n",
    "    print(label[i][0][0], tmp - sum(res[i,:]))"
   ]
  },
  {
   "cell_type": "code",
   "execution_count": null,
   "metadata": {},
   "outputs": [],
   "source": [
    "res = np.zeros((37, 37))\n",
    "for i in range(37):\n",
    "    tmp = l4[l4[:, i] == 1]\n",
    "    print(tmp.shape)\n",
    "    count = 0\n",
    "    for t in tmp:\n",
    "        if sum(t) > 2:\n",
    "            print(t)\n",
    "            count += 1\n",
    "    print(label[i][0][0], count)\n",
    "    "
   ]
  },
  {
   "cell_type": "code",
   "execution_count": 29,
   "metadata": {},
   "outputs": [],
   "source": [
    "data4 = np.delete(l4, [18,23,28,31], 1)"
   ]
  },
  {
   "cell_type": "code",
   "execution_count": null,
   "metadata": {},
   "outputs": [],
   "source": [
    "for i in range(33):\n",
    "    tmp = data4[data4[:, i] == 1]\n",
    "    print(tmp.shape)\n",
    "    count = 0\n",
    "    for t in tmp:\n",
    "        if sum(t) > 2:\n",
    "            print(t)\n",
    "            count += 1\n",
    "    print(label[i][0][0], count)"
   ]
  },
  {
   "cell_type": "code",
   "execution_count": 32,
   "metadata": {},
   "outputs": [],
   "source": [
    "tmp = data4[data4[:, 3] == 1]"
   ]
  },
  {
   "cell_type": "code",
   "execution_count": 41,
   "metadata": {},
   "outputs": [
    {
     "name": "stdout",
     "output_type": "stream",
     "text": [
      "44\n"
     ]
    }
   ],
   "source": [
    "count = 0\n",
    "for t in tmp:\n",
    "    if sum(t) == 1:\n",
    "        count += 1\n",
    "print(count)"
   ]
  },
  {
   "cell_type": "code",
   "execution_count": 77,
   "metadata": {},
   "outputs": [],
   "source": [
    "d3 = loadmat('dataset_3106.mat')"
   ]
  },
  {
   "cell_type": "code",
   "execution_count": 78,
   "metadata": {},
   "outputs": [
    {
     "data": {
      "text/plain": [
       "dict_keys(['__header__', '__version__', '__globals__', 'Y_3106', 'label_name', 'protein_list', 'sequence_3106'])"
      ]
     },
     "execution_count": 78,
     "metadata": {},
     "output_type": "execute_result"
    }
   ],
   "source": [
    "d3.keys()"
   ]
  },
  {
   "cell_type": "code",
   "execution_count": 79,
   "metadata": {},
   "outputs": [
    {
     "data": {
      "text/plain": [
       "array([[array(['Centrosome'], dtype='<U10')],\n",
       "       [array(['Cytoplasm'], dtype='<U9')],\n",
       "       [array(['Cytoskeleton'], dtype='<U12')],\n",
       "       [array(['Endosome'], dtype='<U8')],\n",
       "       [array(['Endoplasmic-Reticulum'], dtype='<U21')],\n",
       "       [array(['Extracellular'], dtype='<U13')],\n",
       "       [array(['Golgi-Apparatus'], dtype='<U15')],\n",
       "       [array(['Lysosome'], dtype='<U8')],\n",
       "       [array(['Microsome'], dtype='<U9')],\n",
       "       [array(['Mitochondrion'], dtype='<U13')],\n",
       "       [array(['Nucleus'], dtype='<U7')],\n",
       "       [array(['Peroxisome'], dtype='<U10')],\n",
       "       [array(['Plasma-Membrane'], dtype='<U15')],\n",
       "       [array(['Synapse'], dtype='<U7')]], dtype=object)"
      ]
     },
     "execution_count": 79,
     "metadata": {},
     "output_type": "execute_result"
    }
   ],
   "source": [
    "d3['label_name']"
   ]
  },
  {
   "cell_type": "code",
   "execution_count": 80,
   "metadata": {},
   "outputs": [],
   "source": [
    "l3 = d3['Y_3106']"
   ]
  },
  {
   "cell_type": "code",
   "execution_count": 81,
   "metadata": {},
   "outputs": [],
   "source": [
    "res = np.zeros((14, 14))\n",
    "for i in range(14):\n",
    "    for j in range(i + 1, 14):\n",
    "        # print(i, j)\n",
    "        res[i, j] = sum(l3[l3[:, i] == 1][:, j] == 1)"
   ]
  },
  {
   "cell_type": "code",
   "execution_count": 83,
   "metadata": {},
   "outputs": [
    {
     "name": "stdout",
     "output_type": "stream",
     "text": [
      "0 15 7 1 1 0 2 0 0 1 12 0 0 0\n",
      "0 0 12 2 13 8 12 2 1 24 263 8 24 2\n",
      "0 0 0 0 0 0 3 0 0 0 7 0 9 0\n",
      "0 0 0 0 2 0 4 3 0 0 1 0 1 0\n",
      "0 0 0 0 0 3 28 2 11 7 14 1 10 0\n",
      "0 0 0 0 0 0 7 5 0 1 3 0 16 1\n",
      "0 0 0 0 0 0 0 1 0 0 4 0 20 1\n",
      "0 0 0 0 0 0 0 0 0 0 2 0 4 0\n",
      "0 0 0 0 0 0 0 0 0 2 1 0 1 0\n",
      "0 0 0 0 0 0 0 0 0 0 15 4 1 0\n",
      "0 0 0 0 0 0 0 0 0 0 0 0 11 1\n",
      "0 0 0 0 0 0 0 0 0 0 0 0 0 0\n",
      "0 0 0 0 0 0 0 0 0 0 0 0 0 10\n",
      "0 0 0 0 0 0 0 0 0 0 0 0 0 0\n"
     ]
    }
   ],
   "source": [
    "for r in res:\n",
    "    print(' '.join([str(int(x)) for x in r]))"
   ]
  },
  {
   "cell_type": "code",
   "execution_count": 104,
   "metadata": {},
   "outputs": [],
   "source": [
    "from Bio import SeqIO\n",
    "fafile = SeqIO.parse('pssm/dataset_3106/ff/1.fasta', 'fasta')"
   ]
  },
  {
   "cell_type": "code",
   "execution_count": 105,
   "metadata": {},
   "outputs": [],
   "source": [
    "t = list(fafile)"
   ]
  },
  {
   "cell_type": "code",
   "execution_count": 106,
   "metadata": {},
   "outputs": [
    {
     "data": {
      "text/plain": [
       "'MIDSVKLRRDSAADFFSHYEYLCALQNSVPLPAVRACLREGVLDFNADRLRGVDWAPLLSTLKINKDLPLVSIKSFFQPWLGDTGSDMNKFCRSRVPAIRYKDVTFQLCKALKGCLSISSVLKNLELNGLILRERDLTILAKGLNKSASLVHLSLANCPIGDGGLEIICQGIKSSITLKTVNFTGCNLTWQGADHMAKILKYQTMRRHEETWAESLRYRRPDLDCMAGLRRITLNCNTLIGDLGACAFADSLSEDLWLRALDLQQCGLTNEGAKALLEALETNTTLVVLDIRKNPLIDHSMMKAVIKKVLQNGRSAKSEYQWITSPSVKEPSKTAKQKRRTIILGSGHKGKATIRIGLATKKPVSSGRKHSLGKEYYAPAPLPPGVSGFLPWRTAERAKRHRGFPLIKTRDICNQLQQPGFPVTVTVESPSSSEVEEVDDSSESVHEVPEKTSIEQEALQEKLEECLKQLKEERVIRLKVDKRVSELEHENAQLRNINFSLSEALHAQSLTNMILDDEGVLGSIENSFQKFHAFLDLLKDAGLGQLATMAGIDQSDFQLLGHPQMTSTVSNPPKEEKKALEDEKPEPKQNALGQMQNIQFQKITGDARIPLPLDSFPVPVSTPEGLGTSSNNLGVPATEQRQESFEGFIARMCSPSPDATSGTGSQRKEEELSRNSRSSSEKKTKTESH'"
      ]
     },
     "execution_count": 106,
     "metadata": {},
     "output_type": "execute_result"
    }
   ],
   "source": [
    "str(t[0].seq)"
   ]
  },
  {
   "cell_type": "code",
   "execution_count": 103,
   "metadata": {},
   "outputs": [],
   "source": [
    "res = [str(t[0].seq)]"
   ]
  },
  {
   "cell_type": "code",
   "execution_count": 107,
   "metadata": {},
   "outputs": [],
   "source": [
    "res.append(str(t[0].seq))"
   ]
  },
  {
   "cell_type": "code",
   "execution_count": 108,
   "metadata": {},
   "outputs": [
    {
     "data": {
      "text/plain": [
       "['MFRRKLTALDYHNPAGFNCKDETEFRNFIVWLEDQKIRHYKIEDRGNLRNIHSSDWPKFFEKYLRDVNCPFKIQDRQEAIDWLLGLAVRLEYGDNAEKYKDLVPDNSKTADNATKNAEPLINLDVNNPDFKAGVMALANLLQIQRHDDYLVMLKAIRILVQERLTQDAVAKANQTKEGLPVALDKHILGFDTGDAVLNEAAQILRLLHIEELRELQTKINEAIVAVQAIIADPKTDHRLGKVGR',\n",
       " 'MIDSVKLRRDSAADFFSHYEYLCALQNSVPLPAVRACLREGVLDFNADRLRGVDWAPLLSTLKINKDLPLVSIKSFFQPWLGDTGSDMNKFCRSRVPAIRYKDVTFQLCKALKGCLSISSVLKNLELNGLILRERDLTILAKGLNKSASLVHLSLANCPIGDGGLEIICQGIKSSITLKTVNFTGCNLTWQGADHMAKILKYQTMRRHEETWAESLRYRRPDLDCMAGLRRITLNCNTLIGDLGACAFADSLSEDLWLRALDLQQCGLTNEGAKALLEALETNTTLVVLDIRKNPLIDHSMMKAVIKKVLQNGRSAKSEYQWITSPSVKEPSKTAKQKRRTIILGSGHKGKATIRIGLATKKPVSSGRKHSLGKEYYAPAPLPPGVSGFLPWRTAERAKRHRGFPLIKTRDICNQLQQPGFPVTVTVESPSSSEVEEVDDSSESVHEVPEKTSIEQEALQEKLEECLKQLKEERVIRLKVDKRVSELEHENAQLRNINFSLSEALHAQSLTNMILDDEGVLGSIENSFQKFHAFLDLLKDAGLGQLATMAGIDQSDFQLLGHPQMTSTVSNPPKEEKKALEDEKPEPKQNALGQMQNIQFQKITGDARIPLPLDSFPVPVSTPEGLGTSSNNLGVPATEQRQESFEGFIARMCSPSPDATSGTGSQRKEEELSRNSRSSSEKKTKTESH']"
      ]
     },
     "execution_count": 108,
     "metadata": {},
     "output_type": "execute_result"
    }
   ],
   "source": [
    "res"
   ]
  },
  {
   "cell_type": "code",
   "execution_count": 110,
   "metadata": {},
   "outputs": [
    {
     "data": {
      "text/plain": [
       "'MFRRKLTALDYHNPAGFNCKDETEFRNFIVWLEDQKIRHYKIEDRGNLRNIHSSDWPKFFEKYLRDVNCPFKIQDRQEAIDWLLGLAVRLEYGDNAEKYKDLVPDNSKTADNATKNAEPLINLDVNNPDFKAGVMALANLLQIQRHDDYLVMLKAIRILVQERLTQDAVAKANQTKEGLPVALDKHILGFDTGDAVLNEAAQILRLLHIEELRELQTKINEAIVAVQAIIADPKTDHRLGKVGR'"
      ]
     },
     "execution_count": 110,
     "metadata": {},
     "output_type": "execute_result"
    }
   ],
   "source": [
    "np.array(res)[0]"
   ]
  },
  {
   "cell_type": "code",
   "execution_count": 341,
   "metadata": {},
   "outputs": [],
   "source": [
    "res = []\n",
    "for i in range(3106):\n",
    "    fafile = SeqIO.parse('pssm/dataset_3106/ff/' + str(i) + '.fasta', 'fasta')\n",
    "    res.append(str(list(fafile)[0].seq))"
   ]
  },
  {
   "cell_type": "code",
   "execution_count": 342,
   "metadata": {},
   "outputs": [],
   "source": [
    "res = np.array(res)"
   ]
  },
  {
   "cell_type": "code",
   "execution_count": 343,
   "metadata": {},
   "outputs": [],
   "source": [
    "pssm_res = []\n",
    "for i in range(3106):\n",
    "    tmp = []    \n",
    "    with open('pssm/dataset_3106/pssm/' + str(i) + '.pssm', 'r') as pfile:\n",
    "        for line in pfile:\n",
    "            tmp.append(line.strip().split()[2:])\n",
    "    tmp = [[float(x) for x in t] for t in tmp[3: (3+len(res[i]))]]\n",
    "    # print(i)\n",
    "    if np.array(tmp).shape[1] != 42:\n",
    "        print(i)\n",
    "    pssm_res.append(np.array(tmp)) # [3: (3+len(res[i]))]))"
   ]
  },
  {
   "cell_type": "code",
   "execution_count": 344,
   "metadata": {},
   "outputs": [],
   "source": [
    "pssm_res = np.array(pssm_res)"
   ]
  },
  {
   "cell_type": "code",
   "execution_count": 313,
   "metadata": {},
   "outputs": [
    {
     "ename": "IndexError",
     "evalue": "tuple index out of range",
     "output_type": "error",
     "traceback": [
      "\u001b[0;31m---------------------------------------------------------------------------\u001b[0m",
      "\u001b[0;31mIndexError\u001b[0m                                Traceback (most recent call last)",
      "\u001b[0;32m<ipython-input-313-6dbc16508815>\u001b[0m in \u001b[0;36m<module>\u001b[0;34m\u001b[0m\n\u001b[1;32m      1\u001b[0m \u001b[0;32mfor\u001b[0m \u001b[0mtp\u001b[0m \u001b[0;32min\u001b[0m \u001b[0mpssm_res\u001b[0m\u001b[0;34m:\u001b[0m\u001b[0;34m\u001b[0m\u001b[0;34m\u001b[0m\u001b[0m\n\u001b[0;32m----> 2\u001b[0;31m     \u001b[0;32mif\u001b[0m \u001b[0mtp\u001b[0m\u001b[0;34m.\u001b[0m\u001b[0mshape\u001b[0m\u001b[0;34m[\u001b[0m\u001b[0;36m1\u001b[0m\u001b[0;34m]\u001b[0m \u001b[0;34m!=\u001b[0m \u001b[0;36m42\u001b[0m\u001b[0;34m:\u001b[0m\u001b[0;34m\u001b[0m\u001b[0;34m\u001b[0m\u001b[0m\n\u001b[0m\u001b[1;32m      3\u001b[0m         \u001b[0mprint\u001b[0m\u001b[0;34m(\u001b[0m\u001b[0mtp\u001b[0m\u001b[0;34m.\u001b[0m\u001b[0mshape\u001b[0m\u001b[0;34m)\u001b[0m\u001b[0;34m\u001b[0m\u001b[0;34m\u001b[0m\u001b[0m\n",
      "\u001b[0;31mIndexError\u001b[0m: tuple index out of range"
     ]
    }
   ],
   "source": [
    "for tp in pssm_res:\n",
    "    if tp.shape[1] != 42:\n",
    "        print(tp.shape)"
   ]
  },
  {
   "cell_type": "code",
   "execution_count": 311,
   "metadata": {},
   "outputs": [
    {
     "data": {
      "text/plain": [
       "array([array([[-1.  , -2.  , -3.  , ...,  0.  ,  0.41,  0.03],\n",
       "       [-2.  , -2.  ,  1.  , ...,  0.  ,  1.03,  0.04],\n",
       "       [-1.  , -1.  ,  1.  , ...,  0.  ,  0.74,  0.03],\n",
       "       ...,\n",
       "       [-2.  , -1.  , -1.  , ..., 10.  ,  0.1 ,  0.12],\n",
       "       [-2.  , -3.  ,  0.  , ...,  2.  ,  0.54,  0.26],\n",
       "       [-4.  , -4.  , -3.  , ...,  0.  ,  1.95,  0.44]]),\n",
       "       array([[-1.  , -1.  , -2.  , ...,  0.  ,  0.34,  0.  ],\n",
       "       [-1.  , -1.  ,  0.  , ...,  0.  ,  0.72,  0.03],\n",
       "       [ 2.  , -2.  , -1.  , ...,  0.  ,  0.18,  0.02],\n",
       "       ...,\n",
       "       [-1.  , -1.  , -2.  , ...,  0.  ,  0.24,  0.  ],\n",
       "       [-1.  , -2.  , -2.  , ...,  0.  ,  0.39,  0.02],\n",
       "       [-2.  ,  0.  ,  6.  , ...,  0.  ,  0.72,  0.  ]]),\n",
       "       array([[-1.  , -1.  , -2.  , ...,  0.  ,  0.35,  0.01],\n",
       "       [-2.  , -2.  ,  1.  , ...,  0.  ,  0.93,  0.  ],\n",
       "       [-1.  ,  0.  ,  0.  , ...,  0.  ,  0.47,  0.01],\n",
       "       ...,\n",
       "       [-1.  , -2.  , -2.  , ...,  0.  ,  2.05,  0.  ],\n",
       "       [ 0.  ,  3.  ,  0.  , ...,  0.  ,  0.6 ,  0.  ],\n",
       "       [-1.  , -2.  , -2.  , ...,  0.  ,  2.05,  0.  ]]),\n",
       "       ...,\n",
       "       array([[-1.  , -2.  , -3.  , ...,  0.  ,  0.36,  0.01],\n",
       "       [-1.  , -2.  ,  3.  , ...,  0.  ,  0.56,  0.01],\n",
       "       [-1.  ,  5.  ,  0.  , ...,  0.  ,  0.65,  0.01],\n",
       "       ...,\n",
       "       [ 0.  , -1.  ,  2.  , ...,  0.  ,  0.34,  0.2 ],\n",
       "       [-2.  ,  2.  ,  0.  , ...,  0.  ,  0.69,  0.22],\n",
       "       [-3.  , -4.  , -4.  , ...,  0.  ,  1.22,  0.19]]),\n",
       "       array([[-2.  , -3.  , -4.  , ...,  0.  ,  1.57,  0.32],\n",
       "       [-1.  , -4.  , -2.  , ...,  0.  ,  1.82,  0.32],\n",
       "       [ 2.  , -2.  ,  1.  , ...,  3.  ,  0.26,  0.13],\n",
       "       ...,\n",
       "       [-1.  ,  2.  ,  0.  , ...,  9.  ,  0.26,  0.07],\n",
       "       [-1.  ,  4.  , -1.  , ...,  0.  ,  0.43,  0.07],\n",
       "       [-2.  , -1.  ,  4.  , ...,  0.  ,  0.82,  0.07]]),\n",
       "       array([[-1.  , -1.  , -2.  , ...,  0.  ,  0.33,  0.  ],\n",
       "       [ 0.  , -2.  ,  0.  , ...,  0.  ,  1.04,  0.  ],\n",
       "       [-2.  , -2.  , -4.  , ...,  0.  ,  0.45,  0.  ],\n",
       "       ...,\n",
       "       [-1.  ,  2.  ,  0.  , ...,  0.  ,  0.52,  0.  ],\n",
       "       [ 1.  , -1.  ,  1.  , ...,  0.  ,  0.45,  0.  ],\n",
       "       [-2.  ,  0.  ,  6.  , ...,  0.  ,  0.72,  0.  ]])], dtype=object)"
      ]
     },
     "execution_count": 311,
     "metadata": {},
     "output_type": "execute_result"
    }
   ],
   "source": [
    "pssm_res"
   ]
  },
  {
   "cell_type": "code",
   "execution_count": 310,
   "metadata": {},
   "outputs": [
    {
     "data": {
      "text/plain": [
       "(657, 42)"
      ]
     },
     "execution_count": 310,
     "metadata": {},
     "output_type": "execute_result"
    }
   ],
   "source": [
    "pssm_res[0].shape"
   ]
  },
  {
   "cell_type": "code",
   "execution_count": 279,
   "metadata": {},
   "outputs": [],
   "source": [
    "for p in pssm_res:\n",
    "    if p.shape[1] != 42:\n",
    "        print(p.shape)"
   ]
  },
  {
   "cell_type": "code",
   "execution_count": 280,
   "metadata": {},
   "outputs": [
    {
     "data": {
      "text/plain": [
       "array([array([[-1.00e+00, -2.00e+00, -2.00e+00, ...,  0.00e+00,  3.90e-01,\n",
       "         2.00e-02],\n",
       "       [-1.00e+00, -2.00e+00, -1.00e+00, ...,  0.00e+00,  3.60e-01,\n",
       "         1.00e-02],\n",
       "       [-2.00e+00,  6.00e+00, -1.00e+00, ...,  0.00e+00,  7.80e-01,\n",
       "         1.00e-02],\n",
       "       ...,\n",
       "       [ 0.00e+00, -3.00e+00, -3.00e+00, ...,  1.00e+02,  3.60e-01,\n",
       "         1.00e-02],\n",
       "       [ 0.00e+00, -3.00e+00,  0.00e+00, ...,  0.00e+00,  1.06e+00,\n",
       "         1.00e-02],\n",
       "       [-2.00e+00,  6.00e+00, -1.00e+00, ...,  0.00e+00,  7.70e-01,\n",
       "         1.00e-02]]),\n",
       "       array([[-1.0e+00, -2.0e+00, -3.0e+00, ...,  0.0e+00,  3.7e-01,  1.0e-02],\n",
       "       [-1.0e+00, -3.0e+00, -3.0e+00, ...,  2.1e+01,  4.0e-01,  3.0e-02],\n",
       "       [-2.0e+00,  0.0e+00,  0.0e+00, ...,  0.0e+00,  4.5e-01,  4.0e-02],\n",
       "       ...,\n",
       "       [-1.0e+00,  0.0e+00,  0.0e+00, ...,  0.0e+00,  0.0e+00,  0.0e+00],\n",
       "       [ 1.0e+00, -1.0e+00,  1.0e+00, ...,  0.0e+00,  0.0e+00,  0.0e+00],\n",
       "       [-2.0e+00,  0.0e+00,  1.0e+00, ...,  0.0e+00,  0.0e+00,  0.0e+00]]),\n",
       "       array([[-1.  , -2.  , -3.  , ..., 23.  ,  0.54,  0.13],\n",
       "       [-1.  ,  0.  ,  0.  , ...,  0.  ,  0.63,  0.12],\n",
       "       [ 0.  , -1.  ,  1.  , ...,  7.  ,  0.44,  0.09],\n",
       "       ...,\n",
       "       [ 0.  , -2.  ,  0.  , ...,  0.  ,  0.6 ,  0.  ],\n",
       "       [-1.  ,  1.  ,  0.  , ...,  0.  ,  0.55,  0.  ],\n",
       "       [ 1.  , -1.  ,  1.  , ...,  0.  ,  0.45,  0.  ]]),\n",
       "       ...,\n",
       "       array([[-1.00e+00, -1.00e+00, -2.00e+00, ...,  0.00e+00,  3.40e-01,\n",
       "         0.00e+00],\n",
       "       [-1.00e+00, -2.00e+00, -3.00e+00, ...,  4.70e+01,  3.20e-01,\n",
       "         2.00e-02],\n",
       "       [ 3.00e+00, -1.00e+00,  0.00e+00, ...,  0.00e+00,  3.80e-01,\n",
       "         2.00e-02],\n",
       "       ...,\n",
       "       [-1.00e+00,  0.00e+00,  0.00e+00, ...,  0.00e+00,  6.30e-01,\n",
       "         4.00e-02],\n",
       "       [-1.00e+00,  0.00e+00,  0.00e+00, ...,  0.00e+00,  6.70e-01,\n",
       "         2.00e-02],\n",
       "       [ 0.00e+00, -2.00e+00,  0.00e+00, ...,  0.00e+00,  1.06e+00,\n",
       "         1.00e-02]]),\n",
       "       array([[-1.  , -2.  , -3.  , ...,  0.  ,  0.61,  0.07],\n",
       "       [ 0.  , -2.  ,  1.  , ...,  0.  ,  0.29,  0.04],\n",
       "       [ 3.  , -2.  , -1.  , ...,  0.  ,  0.3 ,  0.06],\n",
       "       ...,\n",
       "       [ 0.  , -4.  , -3.  , ...,  0.  ,  1.19,  0.  ],\n",
       "       [-2.  , -2.  ,  1.  , ...,  0.  ,  0.92,  0.  ],\n",
       "       [ 1.  , -1.  ,  1.  , ...,  0.  ,  0.45,  0.  ]]),\n",
       "       array([[-1.0e+00, -1.0e+00, -2.0e+00, ...,  0.0e+00,  3.3e-01,  0.0e+00],\n",
       "       [-1.0e+00, -2.0e+00, -3.0e+00, ...,  7.1e+01,  3.2e-01,  2.0e-02],\n",
       "       [-1.0e+00, -3.0e+00, -3.0e+00, ...,  3.3e+01,  3.4e-01,  1.0e-02],\n",
       "       ...,\n",
       "       [-2.0e+00, -2.0e+00, -2.0e+00, ...,  0.0e+00,  8.7e-01,  1.0e-02],\n",
       "       [-2.0e+00, -3.0e+00, -3.0e+00, ...,  0.0e+00,  7.5e-01,  0.0e+00],\n",
       "       [ 0.0e+00, -1.0e+00,  0.0e+00, ...,  0.0e+00,  4.8e-01,  0.0e+00]])],\n",
       "      dtype=object)"
      ]
     },
     "execution_count": 280,
     "metadata": {},
     "output_type": "execute_result"
    }
   ],
   "source": [
    "pssm_res"
   ]
  },
  {
   "cell_type": "code",
   "execution_count": 172,
   "metadata": {},
   "outputs": [
    {
     "data": {
      "text/plain": [
       "455"
      ]
     },
     "execution_count": 172,
     "metadata": {},
     "output_type": "execute_result"
    }
   ],
   "source": [
    "pssm_res[3105].shape[0]"
   ]
  },
  {
   "cell_type": "code",
   "execution_count": 173,
   "metadata": {},
   "outputs": [],
   "source": [
    "from scipy.io import savemat"
   ]
  },
  {
   "cell_type": "code",
   "execution_count": 345,
   "metadata": {},
   "outputs": [],
   "source": [
    "savemat('dataset_3106_pssm.mat', {'sequence':res, 'pssm':pssm_res})"
   ]
  },
  {
   "cell_type": "code",
   "execution_count": 346,
   "metadata": {},
   "outputs": [],
   "source": [
    "def preprocess(p_seq, l):\n",
    "    seq_num = np.array([amino_code[x] for x in p_seq])\n",
    "    tmp = np.zeros((l, 22))\n",
    "    s = (100 - seq_num.size)//2\n",
    "    e = s + seq_num.size\n",
    "    tmp[np.arange(s, e), seq_num] = 1\n",
    "    return np.transpose(tmp)\n",
    "\n",
    "def m_split(p_seq, l):\n",
    "    result = []\n",
    "    \n",
    "    pl = p_seq.shape[0]\n",
    "    if pl < 100:\n",
    "        pre = (l-pl) // 2\n",
    "        suf = l - pl -pre\n",
    "        \n",
    "        return [np.concatenate((np.zeros((pre, p_seq.shape[1])),\n",
    "                       p_seq, np.zeros((suf, p_seq.shape[1]))), axis = 0)]\n",
    "    s = 0\n",
    "    e = s + l\n",
    "    while (s + l//2) < len(p_seq):\n",
    "        t = p_seq[s:e, :]\n",
    "        if len(t) < l:\n",
    "            t = p_seq[-l:, :]\n",
    "        s = s + l//2\n",
    "        e = s + l\n",
    "        result.append(t)\n",
    "    return result"
   ]
  },
  {
   "cell_type": "code",
   "execution_count": 365,
   "metadata": {},
   "outputs": [],
   "source": [
    "pssmd = loadmat('dataset_3106_pssm.mat')"
   ]
  },
  {
   "cell_type": "code",
   "execution_count": 366,
   "metadata": {},
   "outputs": [
    {
     "data": {
      "text/plain": [
       "dict_keys(['__header__', '__version__', '__globals__', 'sequence', 'pssm'])"
      ]
     },
     "execution_count": 366,
     "metadata": {},
     "output_type": "execute_result"
    }
   ],
   "source": [
    "pssmd.keys()"
   ]
  },
  {
   "cell_type": "code",
   "execution_count": 367,
   "metadata": {},
   "outputs": [],
   "source": [
    "pd = pssmd['pssm'][0]"
   ]
  },
  {
   "cell_type": "code",
   "execution_count": 368,
   "metadata": {},
   "outputs": [
    {
     "data": {
      "text/plain": [
       "(3106,)"
      ]
     },
     "execution_count": 368,
     "metadata": {},
     "output_type": "execute_result"
    }
   ],
   "source": [
    "pd.shape"
   ]
  },
  {
   "cell_type": "code",
   "execution_count": 369,
   "metadata": {},
   "outputs": [],
   "source": [
    "for tp in pd:\n",
    "    if tp.shape[1] != 42:\n",
    "        print(tp.shape)"
   ]
  },
  {
   "cell_type": "code",
   "execution_count": 352,
   "metadata": {},
   "outputs": [],
   "source": [
    "tmp = np.array(m_split(pd[0], 100))"
   ]
  },
  {
   "cell_type": "code",
   "execution_count": 353,
   "metadata": {},
   "outputs": [
    {
     "name": "stdout",
     "output_type": "stream",
     "text": [
      "[[-1.00e+00 -2.00e+00 -3.00e+00 ...  0.00e+00  4.10e-01  3.00e-02]\n",
      " [-2.00e+00 -2.00e+00  1.00e+00 ...  0.00e+00  1.03e+00  4.00e-02]\n",
      " [-1.00e+00 -1.00e+00  1.00e+00 ...  0.00e+00  7.40e-01  3.00e-02]\n",
      " ...\n",
      " [-1.00e+00  1.00e+00 -1.00e+00 ...  1.70e+01  5.10e-01  1.20e-01]\n",
      " [-1.00e+00  2.00e+00  2.00e+00 ...  0.00e+00  3.50e-01  7.00e-02]\n",
      " [-1.00e+00 -3.00e+00 -3.00e+00 ...  3.50e+01  3.60e-01  7.00e-02]]\n"
     ]
    }
   ],
   "source": [
    "for t in tmp:\n",
    "    print(t)\n",
    "    break"
   ]
  },
  {
   "cell_type": "code",
   "execution_count": 293,
   "metadata": {},
   "outputs": [
    {
     "data": {
      "text/plain": [
       "array([[-1.00e+00, -2.00e+00, -3.00e+00, ...,  0.00e+00,  4.10e-01,\n",
       "         3.00e-02],\n",
       "       [-2.00e+00, -2.00e+00,  1.00e+00, ...,  0.00e+00,  1.03e+00,\n",
       "         4.00e-02],\n",
       "       [-1.00e+00, -1.00e+00,  1.00e+00, ...,  0.00e+00,  7.40e-01,\n",
       "         3.00e-02],\n",
       "       ...,\n",
       "       [-1.00e+00,  1.00e+00, -1.00e+00, ...,  1.70e+01,  5.10e-01,\n",
       "         1.20e-01],\n",
       "       [-1.00e+00,  2.00e+00,  2.00e+00, ...,  0.00e+00,  3.50e-01,\n",
       "         7.00e-02],\n",
       "       [-1.00e+00, -3.00e+00, -3.00e+00, ...,  3.50e+01,  3.60e-01,\n",
       "         7.00e-02]])"
      ]
     },
     "execution_count": 293,
     "metadata": {},
     "output_type": "execute_result"
    }
   ],
   "source": [
    "tmp[0, :]"
   ]
  },
  {
   "cell_type": "code",
   "execution_count": 294,
   "metadata": {},
   "outputs": [
    {
     "data": {
      "text/plain": [
       "array([[[-1.00e+00, -2.00e+00, -3.00e+00, ...,  0.00e+00,  4.10e-01,\n",
       "          3.00e-02],\n",
       "        [-2.00e+00, -2.00e+00,  1.00e+00, ...,  0.00e+00,  1.03e+00,\n",
       "          4.00e-02],\n",
       "        [-1.00e+00, -1.00e+00,  1.00e+00, ...,  0.00e+00,  7.40e-01,\n",
       "          3.00e-02],\n",
       "        ...,\n",
       "        [-1.00e+00,  1.00e+00, -1.00e+00, ...,  1.70e+01,  5.10e-01,\n",
       "          1.20e-01],\n",
       "        [-1.00e+00,  2.00e+00,  2.00e+00, ...,  0.00e+00,  3.50e-01,\n",
       "          7.00e-02],\n",
       "        [-1.00e+00, -3.00e+00, -3.00e+00, ...,  3.50e+01,  3.60e-01,\n",
       "          7.00e-02]],\n",
       "\n",
       "       [[ 1.00e+00, -1.00e+00,  2.00e+00, ...,  1.00e+00,  3.10e-01,\n",
       "          4.00e-02],\n",
       "        [-1.00e+00,  0.00e+00, -1.00e+00, ...,  1.00e+00,  8.00e-02,\n",
       "          2.00e-02],\n",
       "        [ 1.00e+00, -1.00e+00, -1.00e+00, ...,  1.60e+01,  1.10e-01,\n",
       "          2.00e-02],\n",
       "        ...,\n",
       "        [ 0.00e+00,  2.00e+00, -1.00e+00, ...,  1.00e+00,  4.40e-01,\n",
       "          1.40e-01],\n",
       "        [-1.00e+00, -2.00e+00,  0.00e+00, ...,  7.00e+00,  1.00e-01,\n",
       "          6.00e-02],\n",
       "        [ 0.00e+00, -2.00e+00,  1.00e+00, ...,  1.20e+01,  1.40e-01,\n",
       "          8.00e-02]],\n",
       "\n",
       "       [[ 0.00e+00,  3.00e+00,  0.00e+00, ...,  0.00e+00,  3.80e-01,\n",
       "          7.00e-02],\n",
       "        [ 0.00e+00,  1.00e+00, -1.00e+00, ...,  0.00e+00,  3.30e-01,\n",
       "          1.00e-01],\n",
       "        [-1.00e+00,  2.00e+00,  2.00e+00, ...,  0.00e+00,  2.70e-01,\n",
       "          7.00e-02],\n",
       "        ...,\n",
       "        [ 1.00e+00,  0.00e+00, -1.00e+00, ...,  5.00e+00,  1.00e-01,\n",
       "          1.00e-01],\n",
       "        [ 0.00e+00, -1.00e+00,  1.00e+00, ...,  2.00e+00,  2.50e-01,\n",
       "          1.50e-01],\n",
       "        [ 1.00e+00, -2.00e+00,  2.00e+00, ...,  0.00e+00,  4.00e-01,\n",
       "          2.00e-01]],\n",
       "\n",
       "       ...,\n",
       "\n",
       "       [[ 1.00e+00, -5.00e+00, -5.00e+00, ...,  5.00e+00,  6.90e-01,\n",
       "          3.90e-01],\n",
       "        [ 2.00e+00,  4.00e+00, -3.00e+00, ...,  3.00e+00,  5.10e-01,\n",
       "          3.50e-01],\n",
       "        [-4.00e+00, -4.00e+00, -3.00e+00, ...,  0.00e+00,  1.90e+00,\n",
       "          8.70e-01],\n",
       "        ...,\n",
       "        [-7.00e+00, -6.00e+00, -5.00e+00, ...,  0.00e+00,  2.63e+00,\n",
       "          9.50e-01],\n",
       "        [-1.00e+00, -1.00e+00,  0.00e+00, ...,  2.00e+00,  1.90e-01,\n",
       "          1.80e-01],\n",
       "        [ 2.00e+00, -4.00e+00,  1.00e+00, ...,  0.00e+00,  7.30e-01,\n",
       "          4.20e-01]],\n",
       "\n",
       "       [[-1.00e+00, -1.00e+00,  0.00e+00, ...,  3.00e+00,  2.90e-01,\n",
       "          1.70e-01],\n",
       "        [-1.00e+00, -1.00e+00,  1.00e+00, ...,  3.00e+00,  3.60e-01,\n",
       "          2.00e-01],\n",
       "        [-1.00e+00,  0.00e+00,  1.00e+00, ...,  4.00e+00,  1.10e-01,\n",
       "          1.00e-01],\n",
       "        ...,\n",
       "        [-3.00e+00,  0.00e+00, -6.00e+00, ...,  1.00e+00,  1.15e+00,\n",
       "          5.60e-01],\n",
       "        [-1.00e+00,  2.00e+00,  2.00e+00, ...,  1.00e+00,  4.00e-01,\n",
       "          2.80e-01],\n",
       "        [-6.00e+00, -5.00e+00, -2.00e+00, ...,  0.00e+00,  3.25e+00,\n",
       "          1.14e+00]],\n",
       "\n",
       "       [[-2.00e+00, -3.00e+00, -2.00e+00, ...,  1.40e+01,  5.60e-01,\n",
       "          3.10e-01],\n",
       "        [-1.00e+00, -4.00e+00, -7.00e+00, ...,  3.10e+01,  1.82e+00,\n",
       "          7.10e-01],\n",
       "        [-4.00e+00, -7.00e+00, -5.00e+00, ...,  3.00e+00,  2.55e+00,\n",
       "          9.40e-01],\n",
       "        ...,\n",
       "        [-2.00e+00, -1.00e+00, -1.00e+00, ...,  1.00e+01,  1.00e-01,\n",
       "          1.20e-01],\n",
       "        [-2.00e+00, -3.00e+00,  0.00e+00, ...,  2.00e+00,  5.40e-01,\n",
       "          2.60e-01],\n",
       "        [-4.00e+00, -4.00e+00, -3.00e+00, ...,  0.00e+00,  1.95e+00,\n",
       "          4.40e-01]]])"
      ]
     },
     "execution_count": 294,
     "metadata": {},
     "output_type": "execute_result"
    }
   ],
   "source": [
    "tmp"
   ]
  },
  {
   "cell_type": "code",
   "execution_count": 354,
   "metadata": {},
   "outputs": [
    {
     "data": {
      "text/plain": [
       "(13, 100, 42)"
      ]
     },
     "execution_count": 354,
     "metadata": {},
     "output_type": "execute_result"
    }
   ],
   "source": [
    "tmp.shape"
   ]
  },
  {
   "cell_type": "code",
   "execution_count": 296,
   "metadata": {},
   "outputs": [
    {
     "data": {
      "text/plain": [
       "array([[0, 0, 0, ..., 0, 0, 0],\n",
       "       [0, 0, 0, ..., 0, 0, 0],\n",
       "       [0, 0, 0, ..., 0, 0, 0],\n",
       "       ...,\n",
       "       [0, 0, 0, ..., 0, 0, 0],\n",
       "       [0, 0, 0, ..., 0, 0, 0],\n",
       "       [0, 0, 0, ..., 0, 0, 0]], dtype=uint8)"
      ]
     },
     "execution_count": 296,
     "metadata": {},
     "output_type": "execute_result"
    }
   ],
   "source": [
    "Y_4802"
   ]
  },
  {
   "cell_type": "code",
   "execution_count": 370,
   "metadata": {},
   "outputs": [],
   "source": [
    "Y_3106 = loadmat('Y_3106.mat')['Y_3106']"
   ]
  },
  {
   "cell_type": "code",
   "execution_count": 371,
   "metadata": {},
   "outputs": [],
   "source": [
    "pres = []\n",
    "lres = []\n",
    "for p, l in zip(pd, Y_4802):\n",
    "    tmp = np.array(m_split(p, 100))\n",
    "    for t in tmp:\n",
    "        pres.append(t)\n",
    "        lres.append(l)"
   ]
  },
  {
   "cell_type": "code",
   "execution_count": 376,
   "metadata": {},
   "outputs": [],
   "source": [
    "pres = np.array(pres)"
   ]
  },
  {
   "cell_type": "code",
   "execution_count": 393,
   "metadata": {},
   "outputs": [
    {
     "data": {
      "text/plain": [
       "array([[0.28571429, 0.11111111, 0.2       , ..., 0.        , 0.13765182,\n",
       "        0.4       ],\n",
       "       [0.28571429, 0.11111111, 0.3       , ..., 0.        , 0.12550607,\n",
       "        0.2       ],\n",
       "       [0.14285714, 1.        , 0.3       , ..., 0.        , 0.29554656,\n",
       "        0.2       ],\n",
       "       ...,\n",
       "       [0.28571429, 0.44444444, 0.3       , ..., 0.        , 0.10121457,\n",
       "        0.4       ],\n",
       "       [0.14285714, 0.11111111, 0.1       , ..., 0.        , 0.28744939,\n",
       "        0.6       ],\n",
       "       [0.42857143, 0.55555556, 0.4       , ..., 0.        , 0.13360324,\n",
       "        0.2       ]])"
      ]
     },
     "execution_count": 393,
     "metadata": {},
     "output_type": "execute_result"
    }
   ],
   "source": [
    "tmp = pres[0]\n",
    "np.amin(tmp, axis = 0)\n",
    "(tmp - np.amin(tmp, axis = 0))/(np.amax(tmp, axis = 0) - np.amin(tmp, axis = 0))"
   ]
  },
  {
   "cell_type": "code",
   "execution_count": 390,
   "metadata": {},
   "outputs": [
    {
     "data": {
      "text/plain": [
       "array([  7.  ,   9.  ,   9.  ,   9.  ,  12.  ,   9.  ,   8.  ,   8.  ,\n",
       "        12.  ,   8.  ,   7.  ,   9.  ,  11.  ,  10.  ,   9.  ,   8.  ,\n",
       "         8.  ,  13.  ,  11.  ,   8.  , 100.  , 100.  , 100.  , 100.  ,\n",
       "       100.  , 100.  , 100.  , 100.  , 100.  , 100.  , 100.  , 100.  ,\n",
       "       100.  , 100.  , 100.  , 100.  , 100.  , 100.  , 100.  , 100.  ,\n",
       "         5.7 ,   2.13])"
      ]
     },
     "execution_count": 390,
     "metadata": {},
     "output_type": "execute_result"
    }
   ],
   "source": [
    "np.amax(np.amax(pres, axis = 0), axis = 0)"
   ]
  },
  {
   "cell_type": "code",
   "execution_count": 391,
   "metadata": {},
   "outputs": [
    {
     "data": {
      "text/plain": [
       "array([-14.  , -14.  , -15.  , -16.  , -14.  , -14.  , -15.  , -14.  ,\n",
       "       -14.  , -14.  , -13.  , -15.  , -14.  , -14.  , -15.  , -13.  ,\n",
       "       -12.  , -15.  , -14.  , -14.  ,   0.  ,   0.  ,   0.  ,   0.  ,\n",
       "         0.  ,   0.  ,   0.  ,   0.  ,   0.  ,   0.  ,   0.  ,   0.  ,\n",
       "         0.  ,   0.  ,   0.  ,   0.  ,   0.  ,   0.  ,   0.  ,   0.  ,\n",
       "        -0.04,  -0.03])"
      ]
     },
     "execution_count": 391,
     "metadata": {},
     "output_type": "execute_result"
    }
   ],
   "source": [
    "np.amin(np.amin(pres, axis = 0), axis = 0)"
   ]
  },
  {
   "cell_type": "code",
   "execution_count": 301,
   "metadata": {},
   "outputs": [
    {
     "data": {
      "text/plain": [
       "array([[-1.  , -2.  , -3.  , ...,  0.  ,  0.41,  0.03],\n",
       "       [-2.  , -2.  ,  1.  , ...,  0.  ,  1.03,  0.04],\n",
       "       [-1.  , -1.  ,  1.  , ...,  0.  ,  0.74,  0.03],\n",
       "       ...,\n",
       "       [-2.  , -1.  , -1.  , ..., 10.  ,  0.1 ,  0.12],\n",
       "       [-2.  , -3.  ,  0.  , ...,  2.  ,  0.54,  0.26],\n",
       "       [-4.  , -4.  , -3.  , ...,  0.  ,  1.95,  0.44]])"
      ]
     },
     "execution_count": 301,
     "metadata": {},
     "output_type": "execute_result"
    }
   ],
   "source": [
    "pd[0]"
   ]
  },
  {
   "cell_type": "code",
   "execution_count": null,
   "metadata": {},
   "outputs": [],
   "source": [
    "for i in range(pd.shape[0]):\n",
    "    if pd[i].shape[1] != 42:\n",
    "        print(i)\n",
    "        print(pd[i][0].shape)\n",
    "        for t in pd[i][0]:\n",
    "            print(t.shape)"
   ]
  },
  {
   "cell_type": "code",
   "execution_count": 259,
   "metadata": {},
   "outputs": [
    {
     "data": {
      "text/plain": [
       "6"
      ]
     },
     "execution_count": 259,
     "metadata": {},
     "output_type": "execute_result"
    }
   ],
   "source": [
    "258 // 42"
   ]
  },
  {
   "cell_type": "code",
   "execution_count": 372,
   "metadata": {},
   "outputs": [
    {
     "data": {
      "text/plain": [
       "(36096, 100, 42)"
      ]
     },
     "execution_count": 372,
     "metadata": {},
     "output_type": "execute_result"
    }
   ],
   "source": [
    "np.array(pres).shape"
   ]
  },
  {
   "cell_type": "code",
   "execution_count": 373,
   "metadata": {},
   "outputs": [
    {
     "data": {
      "text/plain": [
       "array([[0, 0, 0, ..., 0, 0, 0],\n",
       "       [0, 0, 0, ..., 0, 0, 0],\n",
       "       [0, 0, 0, ..., 0, 0, 0],\n",
       "       ...,\n",
       "       [0, 0, 0, ..., 0, 0, 0],\n",
       "       [0, 0, 0, ..., 0, 0, 0],\n",
       "       [0, 0, 0, ..., 0, 0, 0]], dtype=uint8)"
      ]
     },
     "execution_count": 373,
     "metadata": {},
     "output_type": "execute_result"
    }
   ],
   "source": [
    "np.array(lres)"
   ]
  },
  {
   "cell_type": "code",
   "execution_count": 359,
   "metadata": {},
   "outputs": [
    {
     "data": {
      "text/plain": [
       "(55950, 37)"
      ]
     },
     "execution_count": 359,
     "metadata": {},
     "output_type": "execute_result"
    }
   ],
   "source": [
    "np.array(lres).shape"
   ]
  },
  {
   "cell_type": "code",
   "execution_count": 250,
   "metadata": {},
   "outputs": [],
   "source": [
    "a = np.array([1,2,3])"
   ]
  },
  {
   "cell_type": "code",
   "execution_count": 251,
   "metadata": {},
   "outputs": [],
   "source": [
    "b = np.array([4,5,6])"
   ]
  },
  {
   "cell_type": "code",
   "execution_count": 252,
   "metadata": {},
   "outputs": [
    {
     "data": {
      "text/plain": [
       "array([[1, 2, 3],\n",
       "       [4, 5, 6]])"
      ]
     },
     "execution_count": 252,
     "metadata": {},
     "output_type": "execute_result"
    }
   ],
   "source": [
    "np.array([a,b])"
   ]
  },
  {
   "cell_type": "code",
   "execution_count": null,
   "metadata": {},
   "outputs": [],
   "source": [
    "with open('pssm/dataset_4802/pssm/3994.pssm', 'r') as pfile:\n",
    "    for line in pfile:\n",
    "        print(line)"
   ]
  },
  {
   "cell_type": "code",
   "execution_count": 333,
   "metadata": {},
   "outputs": [],
   "source": [
    "tmp = []    \n",
    "with open('pssm/dataset_4802/pssm/4217.pssm', 'r') as pfile:\n",
    "    for line in pfile:\n",
    "        tmp.append(line.strip().split()[2:])\n",
    "tmp = [[float(x) for x in t] for t in tmp[3: (len(tmp) - 4)]]"
   ]
  },
  {
   "cell_type": "code",
   "execution_count": 334,
   "metadata": {},
   "outputs": [
    {
     "data": {
      "text/plain": [
       "(439,)"
      ]
     },
     "execution_count": 334,
     "metadata": {},
     "output_type": "execute_result"
    }
   ],
   "source": [
    "np.array(tmp).shape"
   ]
  },
  {
   "cell_type": "code",
   "execution_count": null,
   "metadata": {},
   "outputs": [],
   "source": [
    "for i in np.array(tmp):\n",
    "    print(len(i))"
   ]
  },
  {
   "cell_type": "code",
   "execution_count": 360,
   "metadata": {},
   "outputs": [],
   "source": [
    "sequence = loadmat('dataset_4802.mat')['Sequence']"
   ]
  },
  {
   "cell_type": "code",
   "execution_count": 363,
   "metadata": {},
   "outputs": [],
   "source": [
    "def preprocess(p_seq, l):\n",
    "    seq_num = np.array([amino_code[x] for x in p_seq])\n",
    "    tmp = np.zeros((l, 22))\n",
    "    s = (100 - seq_num.size)//2\n",
    "    e = s + seq_num.size\n",
    "    tmp[np.arange(s, e), seq_num] = 1\n",
    "    return np.transpose(tmp)\n",
    "\n",
    "def p_split(p_seq, l):\n",
    "    result = []\n",
    "    s = 0\n",
    "    e = s + l\n",
    "    while (s + l//2) < len(p_seq):\n",
    "        t = p_seq[s:e]\n",
    "        if len(t) < l:\n",
    "            t = p_seq[-l:]\n",
    "        s = s + l//2\n",
    "        e = s + l\n",
    "        result.append(t)\n",
    "    return result\n",
    "\n",
    "uniform_one_encode = []\n",
    "uniform_label = []\n",
    "for sq, lb in zip(sequence, Y_4802):\n",
    "    seq = sq[0][0]\n",
    "    if len(seq) > 100:\n",
    "        result = p_split(seq, 100)\n",
    "    else:\n",
    "        result = [seq]\n",
    "    for r in result:\n",
    "        uniform_one_encode.append(preprocess(r, 100))\n",
    "        uniform_label.append(lb)"
   ]
  },
  {
   "cell_type": "code",
   "execution_count": 362,
   "metadata": {},
   "outputs": [],
   "source": [
    "amino_code = {'A':0, 'C':1, 'D':2, 'E':3, 'F':4, 'G':5, 'H':6,\n",
    "             'I':7, 'K':8, 'L':9, 'M':10, 'N':11, 'P':12, \n",
    "             'Q':13, 'R':14, 'S':15, 'T':16, 'U':17, 'V':18,\n",
    "             'W':19, 'X':20, 'Y':21 }"
   ]
  },
  {
   "cell_type": "code",
   "execution_count": 364,
   "metadata": {},
   "outputs": [
    {
     "data": {
      "text/plain": [
       "(55950, 22, 100)"
      ]
     },
     "execution_count": 364,
     "metadata": {},
     "output_type": "execute_result"
    }
   ],
   "source": [
    "np.array(uniform_one_encode).shape"
   ]
  },
  {
   "cell_type": "code",
   "execution_count": 32,
   "metadata": {},
   "outputs": [
    {
     "name": "stdout",
     "output_type": "stream",
     "text": [
      "0.5659424177396281\n",
      "0.6258927263128503\n",
      "0.6630213440982997\n",
      "0.692606055919696\n",
      "0.5854436987322894\n",
      "0.6887181757704676\n",
      "0.6147579377028338\n",
      "0.649703397804876\n",
      "0.6204910605732011\n",
      "0.5929005722460657\n",
      "0.6912299922816532\n",
      "0.6665623323197996\n",
      "0.6484325005759337\n",
      "0.482489866475918\n",
      "0.4872024075563899\n",
      "0.4948369917924717\n",
      "0.6212490898174525\n",
      "0.45946590367191226\n",
      "0.47070219360991894\n",
      "0.6781602496404818\n",
      "0.5987448541256488\n",
      "0.5732546705998033\n"
     ]
    },
    {
     "data": {
      "image/png": "[encoded data removed]",
      "text/plain": [
       "<Figure size 432x288 with 1 Axes>"
      ]
     },
     "metadata": {
      "needs_background": "light"
     },
     "output_type": "display_data"
    },
    {
     "name": "stdout",
     "output_type": "stream",
     "text": [
      "0.5483130662851693\n",
      "0.6387355541497859\n",
      "0.6737742760291424\n",
      "0.5753258762117823\n",
      "0.6200841991774059\n",
      "0.6682116295198011\n",
      "0.634686432750844\n",
      "0.4463519313304721\n",
      "0.6945717184740222\n",
      "0.6412717254972228\n",
      "0.4641154029566047\n",
      "0.6771481450235167\n",
      "0.6537051935282023\n",
      "0.5120896520472519\n",
      "0.6507198426182599\n",
      "0.4737869575584168\n",
      "0.4703743443013829\n",
      "0.6685824588801006\n",
      "0.5781114984654807\n"
     ]
    },
    {
     "data": {
      "image/png": "[encoded data removed]",
      "text/plain": [
       "<Figure size 432x288 with 1 Axes>"
      ]
     },
     "metadata": {
      "needs_background": "light"
     },
     "output_type": "display_data"
    },
    {
     "name": "stdout",
     "output_type": "stream",
     "text": [
      "0.5418007868383405\n",
      "0.649993609286784\n",
      "0.6448966043785292\n",
      "0.5297061894108874\n",
      "0.6945262213209552\n",
      "0.6355212789192672\n",
      "0.6719943115179544\n",
      "0.6462145719831146\n",
      "0.38403075822603716\n",
      "0.6887757314362196\n",
      "0.6812622965480236\n",
      "0.6353940026108993\n",
      "0.48403969957081544\n",
      "0.524924763862817\n",
      "0.5489328239651022\n",
      "0.6783893920619307\n",
      "0.5038894849785408\n",
      "0.5409960658082975\n",
      "0.6723489742495057\n",
      "0.65728077232502\n"
     ]
    },
    {
     "data": {
      "image/png": "[encoded data removed]",
      "text/plain": [
       "<Figure size 432x288 with 1 Axes>"
      ]
     },
     "metadata": {
      "needs_background": "light"
     },
     "output_type": "display_data"
    },
    {
     "name": "stdout",
     "output_type": "stream",
     "text": [
      "0.5831545064377681\n",
      "0.6495311141252768\n",
      "0.6753908121638748\n",
      "0.5683340790454885\n",
      "0.633561029742632\n",
      "0.6786637343933256\n",
      "0.6414896498053624\n",
      "0.5230984740104911\n",
      "0.6737784343029928\n",
      "0.5880991772491504\n",
      "0.5881169527896996\n",
      "0.6872930419927024\n",
      "0.3740949316170555\n",
      "0.543158406890893\n",
      "0.6849554808957473\n",
      "0.5028761325703386\n",
      "0.48468049594659035\n",
      "0.6259978035682185\n",
      "0.634933774834437\n",
      "0.6675903578558445\n"
     ]
    },
    {
     "data": {
      "image/png": "[encoded data removed]",
      "text/plain": [
       "<Figure size 432x288 with 1 Axes>"
      ]
     },
     "metadata": {
      "needs_background": "light"
     },
     "output_type": "display_data"
    },
    {
     "name": "stdout",
     "output_type": "stream",
     "text": [
      "0.5660318311874106\n",
      "0.6562464853294769\n",
      "0.6683246237411392\n",
      "0.5826935123042506\n",
      "0.6291249533385888\n",
      "0.670507596426581\n",
      "0.6442538182738249\n",
      "0.4832647830233667\n",
      "0.529813539617242\n",
      "0.6878103642460388\n",
      "0.5608160467334287\n",
      "0.4086588599862936\n",
      "0.61350116778714\n",
      "0.6047061228139651\n",
      "0.46086671435383886\n",
      "0.38285348116356704\n",
      "0.6610297669872371\n",
      "0.668040764274208\n",
      "0.46989064688179727\n"
     ]
    },
    {
     "data": {
      "image/png": "[encoded data removed]",
      "text/plain": [
       "<Figure size 432x288 with 1 Axes>"
      ]
     },
     "metadata": {
      "needs_background": "light"
     },
     "output_type": "display_data"
    },
    {
     "name": "stdout",
     "output_type": "stream",
     "text": [
      "0.6265647353361945\n",
      "0.665689218684973\n",
      "0.6336407438752985\n",
      "0.5238240119313945\n",
      "0.6250091631170162\n",
      "0.6793697908435298\n",
      "0.6522454538882645\n",
      "0.5697573915116834\n",
      "0.6803232874262207\n",
      "0.4559638769670959\n",
      "0.44340156729537256\n",
      "0.6118859249959581\n",
      "0.5522919647114926\n",
      "0.40149618502622797\n",
      "0.687160845092576\n",
      "0.6710611687846787\n",
      "0.5524567205983134\n"
     ]
    },
    {
     "data": {
      "image/png": "[encoded data removed]",
      "text/plain": [
       "<Figure size 432x288 with 1 Axes>"
      ]
     },
     "metadata": {
      "needs_background": "light"
     },
     "output_type": "display_data"
    },
    {
     "name": "stdout",
     "output_type": "stream",
     "text": [
      "0.5219062947067239\n",
      "0.6652494081161792\n",
      "0.6492567180286319\n",
      "0.5728560775540641\n",
      "0.6299316835587554\n",
      "0.6842915859126109\n",
      "0.6465714398375426\n",
      "0.6244784215546018\n",
      "0.6735471729748012\n",
      "0.686169737077446\n",
      "0.6751590216807023\n",
      "0.45535288507391514\n",
      "0.6936296479868391\n",
      "0.42111379279520866\n",
      "0.5953012222864036\n",
      "0.6034031246407174\n",
      "0.4191553409632809\n",
      "0.3836432999523128\n",
      "0.6654219283659896\n",
      "0.6949950778593162\n",
      "0.4895861267542683\n"
     ]
    },
    {
     "data": {
      "image/png": "[encoded data removed]",
      "text/plain": [
       "<Figure size 432x288 with 1 Axes>"
      ]
     },
     "metadata": {
      "needs_background": "light"
     },
     "output_type": "display_data"
    },
    {
     "name": "stdout",
     "output_type": "stream",
     "text": [
      "0.5930048879351455\n",
      "0.6618424838648904\n",
      "0.6659932965246713\n",
      "0.5811066368381805\n",
      "0.6236926816486921\n",
      "0.6867941385032564\n",
      "0.6524493881561221\n",
      "0.6645654506437768\n",
      "0.6981418152279804\n",
      "0.6508115721695582\n",
      "0.5070636623748211\n",
      "0.31995470933524034\n",
      "0.6286850572583835\n",
      "0.6004011190454899\n",
      "0.551710777300906\n",
      "0.4152211492608488\n",
      "0.6756099170861045\n",
      "0.6800440755324861\n",
      "0.42909925210810157\n"
     ]
    },
    {
     "data": {
      "image/png": "[encoded data removed]",
      "text/plain": [
       "<Figure size 432x288 with 1 Axes>"
      ]
     },
     "metadata": {
      "needs_background": "light"
     },
     "output_type": "display_data"
    },
    {
     "name": "stdout",
     "output_type": "stream",
     "text": [
      "0.5395207439198856\n",
      "0.6673138391005566\n",
      "0.6717662000653779\n",
      "0.5453005219985085\n",
      "0.6327947112180236\n",
      "0.6845563327122549\n",
      "0.6573946743514082\n",
      "0.6429870052455888\n",
      "0.6717144269488826\n",
      "0.5011921793037672\n",
      "0.6988457806930589\n",
      "0.3674801108429427\n",
      "0.532906776657009\n",
      "0.6792325085269734\n",
      "0.5261087267525035\n",
      "0.4319861707200763\n",
      "0.6862409839564982\n",
      "0.6993243243243243\n",
      "0.5534400047674383\n"
     ]
    },
    {
     "data": {
      "image/png": "[encoded data removed]",
      "text/plain": [
       "<Figure size 432x288 with 1 Axes>"
      ]
     },
     "metadata": {
      "needs_background": "light"
     },
     "output_type": "display_data"
    },
    {
     "name": "stdout",
     "output_type": "stream",
     "text": [
      "0.5791905102527419\n",
      "0.6620154677434404\n",
      "0.6821502617355598\n",
      "0.6316301267710663\n",
      "0.6303111775742533\n",
      "0.6828604325575398\n",
      "0.6563848608619265\n",
      "0.6817164793931704\n",
      "0.5603838817358131\n",
      "0.31620035159858173\n",
      "0.588506651870395\n",
      "0.6856836269337387\n",
      "0.5118174773485933\n",
      "0.4514783023366714\n",
      "0.6675544613967285\n",
      "0.6632472704492571\n",
      "0.5783498703852685\n"
     ]
    },
    {
     "data": {
      "image/png": "[encoded data removed]",
      "text/plain": [
       "<Figure size 432x288 with 1 Axes>"
      ]
     },
     "metadata": {
      "needs_background": "light"
     },
     "output_type": "display_data"
    }
   ],
   "source": [
    "from scipy.io import loadmat\n",
    "import numpy as np\n",
    "\n",
    "from sklearn.metrics import roc_curve, auc\n",
    "from sklearn.preprocessing import label_binarize\n",
    "from sklearn.metrics import accuracy_score, matthews_corrcoef\n",
    "from sklearn.metrics import f1_score, precision_score\n",
    "\n",
    "from sklearn.metrics import roc_curve, auc\n",
    "from sklearn.preprocessing import label_binarize\n",
    "\n",
    "import matplotlib.pyplot as plt\n",
    "\n",
    "for f in range(10):\n",
    "    filename = 'new_result_encoding_pssm/new_encoding_pssm_4802_' + str(f) + '.mat'\n",
    "    result = loadmat(filename)\n",
    "    test_y = result['test_y']\n",
    "    pred_y = result['pred_y']\n",
    "\n",
    "    # for i in range(37):\n",
    "    #     fpr, tpr, _ = roc_curve(test_y[:, i], pred_y[:, i])\n",
    "    #     roc_auc = auc(fpr, tpr)\n",
    "    #     print(roc_auc)\n",
    "\n",
    "    # plot ROC\n",
    "\n",
    "    plt.figure()\n",
    "\n",
    "    for i in range(37):\n",
    "        fpr, tpr, _ = roc_curve(test_y[:, i], pred_y[:, i])\n",
    "        roc_auc = auc(fpr, tpr)\n",
    "        slw = 0.6\n",
    "        if roc_auc < 0.7:\n",
    "            print(roc_auc)\n",
    "            slw = 0.1\n",
    "        plt.plot(fpr, tpr, color='#92DFF3',\n",
    "                 lw=slw, label='ROC curve (area = %0.4f)' % roc_auc)\n",
    "    plt.plot([0, 1], [0, 1], color='#DBF3FA', lw=0.5, linestyle='--')\n",
    "    plt.xlim([0.0, 1.0])\n",
    "    plt.ylim([0.0, 1.0])\n",
    "    plt.xlabel('False Positive Rate', fontsize = 'small', fontstyle='italic')\n",
    "    plt.ylabel('True Positive Rate', fontsize = 'small', fontstyle='italic')\n",
    "    plt.title('Receiver operating characteristic class ' + str(f), fontsize = 'small')\n",
    "    # plt.legend(loc=\"lower right\")\n",
    "\n",
    "\n",
    "    plt.show()"
   ]
  },
  {
   "cell_type": "code",
   "execution_count": 33,
   "metadata": {},
   "outputs": [],
   "source": [
    "sequence = loadmat('dataset_3106.mat')"
   ]
  },
  {
   "cell_type": "code",
   "execution_count": 34,
   "metadata": {},
   "outputs": [
    {
     "data": {
      "text/plain": [
       "dict_keys(['__header__', '__version__', '__globals__', 'Y_3106', 'label_name', 'protein_list', 'sequence_3106'])"
      ]
     },
     "execution_count": 34,
     "metadata": {},
     "output_type": "execute_result"
    }
   ],
   "source": [
    "sequence.keys()"
   ]
  },
  {
   "cell_type": "code",
   "execution_count": 37,
   "metadata": {},
   "outputs": [
    {
     "name": "stdout",
     "output_type": "stream",
     "text": [
      "0.8118648353261668\n",
      "0.8149055755395684\n",
      "0.7102709712037203\n",
      "0.8584972654724036\n",
      "0.7937028911425683\n",
      "0.7839285433287699\n",
      "0.8158853688399144\n",
      "0.7309809789459132\n",
      "0.8048593895258753\n",
      "0.6631439259744081\n",
      "0.8161729553531665\n",
      "0.8756468301701862\n",
      "0.8225543413928037\n",
      "0.6597321588266858\n",
      "0.9121003545782306\n",
      "0.8337876742665514\n",
      "0.8591502683363148\n",
      "0.821927624507345\n",
      "0.6311673221308545\n",
      "0.8060091265808711\n",
      "0.8067150260493734\n",
      "0.5785244922341697\n",
      "0.7295196531703771\n",
      "0.5530621367903442\n",
      "0.8209627517592818\n",
      "0.7298112160261383\n",
      "0.8261949475691134\n",
      "0.8638769556797596\n",
      "0.8389122273864855\n",
      "0.7201978717485047\n",
      "0.8649903812172862\n",
      "0.7154098695724378\n",
      "0.5223235574630425\n",
      "0.792273987302155\n",
      "0.6126251723931162\n",
      "0.7578867804431714\n",
      "0.7929727313366115\n",
      "0.7662850853941539\n"
     ]
    }
   ],
   "source": [
    "filename = 'new_result_encoding/new_encoding_4802_res_8.mat'\n",
    "result = loadmat(filename)\n",
    "test_y = result['test_y']\n",
    "pred_y = result['pred_y']\n",
    "\n",
    "# for i in range(37):\n",
    "#     fpr, tpr, _ = roc_curve(test_y[:, i], pred_y[:, i])\n",
    "#     roc_auc = auc(fpr, tpr)\n",
    "#     print(roc_auc)\n",
    "\n",
    "# plot ROC\n",
    "\n",
    "t = []\n",
    "for i in range(37):\n",
    "    fpr, tpr, _ = roc_curve(test_y[:, i], pred_y[:, i])\n",
    "    roc_auc = auc(fpr, tpr)\n",
    "    t.append(roc_auc)\n",
    "    print(roc_auc)\n",
    "    \n",
    "print(np.average(t))"
   ]
  },
  {
   "cell_type": "code",
   "execution_count": 7,
   "metadata": {},
   "outputs": [
    {
     "name": "stdout",
     "output_type": "stream",
     "text": [
      "0, auc: 0.8033, 0.6762\n",
      "1, auc: 0.9352, 0.7462\n",
      "2, auc: 0.9058, 0.7946\n",
      "3, auc: 0.9124, 0.8152\n",
      "4, auc: 0.9308, 0.8300\n",
      "5, auc: 0.9610, 0.8464\n",
      "6, auc: 0.9590, 0.8509\n",
      "7, auc: 0.9627, 0.8593\n",
      "8, auc: 0.9409, 0.8658\n",
      "9, auc: 0.9792, 0.8695\n",
      "0, auc: 0.8137, 0.6841\n",
      "1, auc: 0.8999, 0.7659\n",
      "2, auc: 0.9538, 0.8091\n",
      "3, auc: 0.9500, 0.8322\n",
      "4, auc: 0.9719, 0.8552\n",
      "5, auc: 0.9752, 0.8541\n",
      "6, auc: 0.9668, 0.8717\n",
      "7, auc: 0.9840, 0.8721\n",
      "8, auc: 0.9796, 0.8828\n",
      "9, auc: 0.9810, 0.8843\n",
      "0, auc: 0.8508, 0.6738\n",
      "1, auc: 0.9003, 0.7272\n",
      "2, auc: 0.8770, 0.7646\n",
      "3, auc: 0.9019, 0.7933\n",
      "4, auc: 0.9137, 0.8016\n",
      "5, auc: 0.9116, 0.8063\n",
      "6, auc: 0.9382, 0.8322\n",
      "7, auc: 0.9204, 0.8397\n",
      "8, auc: 0.9197, 0.8319\n",
      "9, auc: 0.9411, 0.8451\n",
      "0, auc: 0.8224, 0.6768\n",
      "1, auc: 0.8746, 0.7358\n",
      "2, auc: 0.8994, 0.7893\n",
      "3, auc: 0.9062, 0.8045\n",
      "4, auc: 0.9320, 0.8256\n",
      "5, auc: 0.9186, 0.8308\n",
      "6, auc: 0.9269, 0.8506\n",
      "7, auc: 0.9474, 0.8428\n",
      "8, auc: 0.9445, 0.8489\n",
      "9, auc: 0.9434, 0.8594\n",
      "0, auc: 0.8198, 0.6583\n",
      "1, auc: 0.8587, 0.6902\n",
      "2, auc: 0.8968, 0.7596\n",
      "3, auc: 0.9158, 0.7856\n",
      "4, auc: 0.9535, 0.8111\n",
      "5, auc: 0.9600, 0.8222\n",
      "6, auc: 0.9492, 0.8420\n",
      "7, auc: 0.9552, 0.8495\n",
      "8, auc: 0.9750, 0.8581\n",
      "9, auc: 0.9691, 0.8544\n"
     ]
    }
   ],
   "source": [
    "from scipy.io import loadmat\n",
    "import numpy as np\n",
    "\n",
    "from sklearn.metrics import roc_curve, auc\n",
    "from sklearn.preprocessing import label_binarize\n",
    "from sklearn.metrics import accuracy_score, matthews_corrcoef\n",
    "from sklearn.metrics import f1_score, precision_score\n",
    "\n",
    "for c in range(5):\n",
    "    for f in range(10):\n",
    "        filename = 'encoding_pssm_4802/new_encoding_pssm_4802_' +str(c) + '_' +  str(f) + '.mat'\n",
    "        result = loadmat(filename)\n",
    "        test_y = result['test_y']\n",
    "        pred_y = result['pred_y']\n",
    "        resauc = []\n",
    "        for i in range(37):\n",
    "            if i in [18, 31, 28]:\n",
    "                continue\n",
    "            if sum(test_y[:, i]) == 0:\n",
    "                print(c, f, i)\n",
    "            \n",
    "            fpr, tpr, _ = roc_curve(test_y[:, i], pred_y[:, i])\n",
    "            roc_auc = auc(fpr, tpr)\n",
    "            resauc.append(roc_auc)\n",
    "        print('{}, auc: {:.4f}, {:.4f}'.format(f, \n",
    "            np.amax(resauc), np.average(resauc)))"
   ]
  },
  {
   "cell_type": "code",
   "execution_count": 36,
   "metadata": {},
   "outputs": [
    {
     "name": "stdout",
     "output_type": "stream",
     "text": [
      "0.7102709712037203\n",
      "0.7309809789459132\n",
      "0.6631439259744081\n",
      "0.6597321588266858\n",
      "0.5785244922341697\n",
      "0.7295196531703771\n",
      "0.5530621367903442\n",
      "0.7298112160261383\n",
      "0.7201978717485047\n",
      "0.5223235574630425\n",
      "0.6126251723931162\n",
      "0.6444404719342153\n",
      "0.6952193609918933\n",
      "0.514633180465247\n",
      "0.7452483203756965\n",
      "0.5930048879351455\n",
      "0.6618424838648904\n",
      "0.6659932965246713\n",
      "0.7284540151973817\n",
      "0.5811066368381805\n",
      "0.7297959680411901\n",
      "0.6236926816486921\n",
      "0.6867941385032564\n",
      "0.6524493881561221\n",
      "0.6645654506437768\n",
      "0.6981418152279804\n",
      "0.6508115721695582\n",
      "0.7034341643842629\n",
      "0.5070636623748211\n",
      "0.7401899268133212\n",
      "0.31995470933524034\n",
      "0.6286850572583835\n",
      "0.551710777300906\n",
      "0.4152211492608488\n",
      "0.6756099170861045\n",
      "0.6800440755324861\n",
      "0.42909925210810157\n",
      "0.5068860668932212\n"
     ]
    },
    {
     "data": {
      "image/png": "[encoded data removed]",
      "text/plain": [
       "<Figure size 720x720 with 4 Axes>"
      ]
     },
     "metadata": {
      "needs_background": "light"
     },
     "output_type": "display_data"
    }
   ],
   "source": [
    "import matplotlib.pyplot as plt\n",
    "fnames = ['new_encoding_4802_res_8.mat', 'new_encoding_4802_lrg_6.mat',  \n",
    "          'new_pssm_4802_7.mat', 'new_encoding_pssm_4802_3_9.mat']\n",
    "modelname = ['BLSTM', 'BLSTM ConvNet1', 'ConvNet2', 'BLSTM ConvNet1 ConvNet2']\n",
    "f, axs = plt.subplots(2, 2,  figsize=(10,10))\n",
    "\n",
    "for m in range(2):\n",
    "    for n in range(2):\n",
    "        filename = 'plot_auc/' + fnames[m*2 + n]\n",
    "        result = loadmat(filename)\n",
    "        test_y = result['test_y']\n",
    "        pred_y = result['pred_y']\n",
    "        fig1 = axs[m,n]\n",
    "        tmp = []\n",
    "        for i in range(37):\n",
    "            if i in [18,31,28]:\n",
    "                continue\n",
    "            fpr, tpr, _ = roc_curve(test_y[:, i], pred_y[:, i])\n",
    "            roc_auc = auc(fpr, tpr)\n",
    "            tmp.append(roc_auc)\n",
    "            slw = 0.7\n",
    "            if roc_auc < 0.7:\n",
    "                print(roc_auc)\n",
    "                slw = 0.2\n",
    "            fig1.plot(fpr, tpr, color='#92DFF3',\n",
    "                     lw=slw, label='ROC curve (area = %0.4f)' % roc_auc)\n",
    "        fig1.plot([0, 1], [0, 1], color='#DBF3FA', lw=0.5, linestyle='--')\n",
    "        # fig1.xlim([0.0, 1.0])\n",
    "        # fig1.ylim([0.0, 1.0])\n",
    "        # fig1.xlabel('False Positive Rate', fontsize = 'small', fontstyle='italic')\n",
    "        # fig1.ylabel()\n",
    "        fig1.set_title('ROC: {}, MAX: {:.4f}, AVG: {:.4f}'.format(modelname[m*2 + n], np.amax(tmp), np.average(tmp)), fontsize = 'small')\n",
    "        fig1.set_xlabel('False Positive Rate', fontsize = 'small', fontstyle='italic')\n",
    "        fig1.set_ylabel('True Positive Rate', fontsize = 'small', fontstyle='italic')\n",
    "plt.savefig('auc_4802.pdf')"
   ]
  },
  {
   "cell_type": "code",
   "execution_count": 35,
   "metadata": {},
   "outputs": [
    {
     "data": {
      "image/png": "[encoded data removed]",
      "text/plain": [
       "<Figure size 720x720 with 6 Axes>"
      ]
     },
     "metadata": {
      "needs_background": "light"
     },
     "output_type": "display_data"
    }
   ],
   "source": [
    "data = np.array([[0.7476, 0.7910, 0.6324, 0.7903], \n",
    "        [0.7640, 0.7844, 0.6536, 0.7932], \n",
    "        [0.7503, 0.7853, 0.6452, 0.7967], \n",
    "        [0.7452, 0.7867, 0.6449, 0.7853], \n",
    "        [0.7546, 0.7906, 0.6376, 0.7849]])\n",
    "\n",
    "f, axs = plt.subplots(3, 2,  figsize=(10,10), sharex = True)\n",
    "c= '#92DFF3'\n",
    "axs[0,0].boxplot(data, showfliers=False, widths = 0.2 ,patch_artist=True,\n",
    "            boxprops=dict(facecolor='#DBF3FA', color=c),\n",
    "            capprops=dict(color=c),\n",
    "            whiskerprops=dict(color=c),\n",
    "            flierprops=dict(color=c, markeredgecolor=c),\n",
    "            medianprops=dict(color='blue'),)\n",
    "axs[0,0].set_ylim(0.6,0.8)\n",
    "axs[0,0].set_title('AP, RL, COV on dataset D3106')\n",
    "# axs[0,0].set_xticklabels(modelname,\n",
    "#                     rotation=10, fontsize=8)\n",
    "axs[0,0].set_ylabel('AP',fontstyle='italic')\n",
    "\n",
    "rl_data_3 = np.array([[0.0965, 0.0780, 0.1351, 0.0749],\n",
    "                     [0.0916, 0.0804, 0.1253, 0.0751],\n",
    "                     [0.0973, 0.0769, 0.1292, 0.0706],\n",
    "                     [0.1052, 0.0792, 0.1301, 0.0780],\n",
    "                     [0.0928, 0.0747, 0.1327, 0.0801]])\n",
    "\n",
    "axs[1,0].boxplot(rl_data_3, showfliers=False, widths = 0.2 ,patch_artist=True,\n",
    "            boxprops=dict(facecolor='#DBF3FA', color=c),\n",
    "            capprops=dict(color=c),\n",
    "            whiskerprops=dict(color=c),\n",
    "            flierprops=dict(color=c, markeredgecolor=c),\n",
    "            medianprops=dict(color='blue'),)\n",
    "axs[1,0].set_ylim(0.055,0.14)\n",
    "# axs[1,0].set_xticklabels(modelname,\n",
    "#                     rotation=10, fontsize=8)\n",
    "axs[1,0].set_ylabel('RL',fontstyle='italic')\n",
    "\n",
    "ce_data_3 = np.array([[1.5740, 1.3342, 2.0872, 1.2681],\n",
    "                     [1.5097, 1.3532, 1.9539, 1.2115],\n",
    "                     [1.6049, 1.2969, 2.0139, 1.3496],\n",
    "                     [1.7229, 1.3087, 2.0138, 1.2824],\n",
    "                     [1.5359, 1.2636, 2.0621, 1.3124]])\n",
    "\n",
    "axs[2,0].boxplot(ce_data_3, showfliers=False, widths = 0.2 ,patch_artist=True,\n",
    "            boxprops=dict(facecolor='#DBF3FA', color=c),\n",
    "            capprops=dict(color=c),\n",
    "            whiskerprops=dict(color=c),\n",
    "            flierprops=dict(color=c, markeredgecolor=c),\n",
    "            medianprops=dict(color='blue'),)\n",
    "axs[2,0].set_ylim(1,3.5)\n",
    "axs[2,0].set_xticklabels(modelname,\n",
    "                    rotation=10, fontsize=8)\n",
    "axs[2,0].set_ylabel('COV',fontstyle='italic')\n",
    "\n",
    "ap_data_4 = np.array([[0.6890, 0.7395,0.6161,0.7377],\n",
    "            [0.6916,0.7372,0.6216,0.7406],\n",
    "            [0.6823, 0.7514,0.6260,0.7416],\n",
    "            [0.6993,0.7499,0.6161,0.7428],\n",
    "            [0.6883,0.7484,0.6270,0.7445]])\n",
    "axs[0,1].boxplot(ap_data_4, showfliers=False, widths = 0.2 ,patch_artist=True,\n",
    "            boxprops=dict(facecolor='#DBF3FA', color=c),\n",
    "            capprops=dict(color=c),\n",
    "            whiskerprops=dict(color=c),\n",
    "            flierprops=dict(color=c, markeredgecolor=c),\n",
    "            medianprops=dict(color='blue'),)\n",
    "axs[0,1].set_ylim(0.6,0.8)\n",
    "axs[0,1].set_title('AP, RL, COV on dataset D4802')\n",
    "# axs[0,0].set_xticklabels(modelname,\n",
    "#                     rotation=10, fontsize=8)\n",
    "# axs[0,1].set_ylabel('AP')\n",
    "\n",
    "rl_data_4 = np.array([[0.0805, 0.0609, 0.0692, 0.0641],\n",
    "                     [0.0816, 0.0666, 0.0665, 0.0624],\n",
    "                     [0.0870, 0.0571, 0.0671, 0.0649],\n",
    "                     [0.0802, 0.0574, 0.0683, 0.0609],\n",
    "                     [0.0806, 0.0595, 0.0655, 0.0662]])\n",
    "\n",
    "axs[1,1].boxplot(rl_data_4, showfliers=False, widths = 0.2 ,patch_artist=True,\n",
    "            boxprops=dict(facecolor='#DBF3FA', color=c),\n",
    "            capprops=dict(color=c),\n",
    "            whiskerprops=dict(color=c),\n",
    "            flierprops=dict(color=c, markeredgecolor=c),\n",
    "            medianprops=dict(color='blue'),)\n",
    "axs[1,1].set_ylim(0.055,0.14)\n",
    "\n",
    "ce_data_4 = np.array([[3.4141, 2.9260, 3.3119, 3.0970],\n",
    "                     [3.3900, 3.2157, 3.2634, 2.9896],\n",
    "                     [3.3904, 2.7791, 3.2571, 3.1361],\n",
    "                     [3.3864, 2.8273, 3.3015, 2.9197],\n",
    "                     [3.3772, 2.8645, 3.3002, 3.1217]])\n",
    "\n",
    "axs[2,1].boxplot(ce_data_4, showfliers=False, widths = 0.2 ,patch_artist=True,\n",
    "            boxprops=dict(facecolor='#DBF3FA', color=c),\n",
    "            capprops=dict(color=c),\n",
    "            whiskerprops=dict(color=c),\n",
    "            flierprops=dict(color=c, markeredgecolor=c),\n",
    "            medianprops=dict(color='blue'),)\n",
    "axs[2,1].set_ylim(1,3.5)\n",
    "axs[2,1].set_xticklabels(modelname,\n",
    "                    rotation=10, fontsize=8)\n",
    "plt.savefig('boxchart.pdf')"
   ]
  },
  {
   "cell_type": "code",
   "execution_count": null,
   "metadata": {},
   "outputs": [],
   "source": []
  }
 ],
 "metadata": {
  "kernelspec": {
   "display_name": "Python 3 (ipykernel)",
   "language": "python",
   "name": "python3"
  },
  "language_info": {
   "codemirror_mode": {
    "name": "ipython",
    "version": 3
   },
   "file_extension": ".py",
   "mimetype": "text/x-python",
   "name": "python",
   "nbconvert_exporter": "python",
   "pygments_lexer": "ipython3",
   "version": "3.9.7"
  }
 },
 "nbformat": 4,
 "nbformat_minor": 4
}
