{
 "cells": [
  {
   "cell_type": "code",
   "execution_count": 2,
   "metadata": {},
   "outputs": [],
   "source": [
    "import numpy as np\n",
    "import tensorflow as tf\n",
    "\n",
    "from tensorflow import keras\n",
    "from scipy.io import loadmat, savemat\n",
    "\n",
    "from tensorflow.keras import layers\n",
    "\n",
    "from sklearn.model_selection import KFold\n",
    "from sklearn.metrics import label_ranking_average_precision_score as avgprec, coverage_error, label_ranking_loss"
   ]
  },
  {
   "cell_type": "code",
   "execution_count": 2,
   "metadata": {},
   "outputs": [],
   "source": [
    "gpus = tf.config.experimental.list_physical_devices('GPU')\n",
    "if gpus:\n",
    "  try:\n",
    "    # Currently, memory growth needs to be the same across GPUs\n",
    "    for gpu in gpus:\n",
    "      tf.config.experimental.set_memory_growth(gpu, True)\n",
    "#     logical_gpus = tf.config.experimental.list_logical_devices('GPU')\n",
    "#     print(len(gpus), \"Physical GPUs,\", len(logical_gpus), \"Logical GPUs\")\n",
    "  except RuntimeError as e:\n",
    "    # Memory growth must be set before GPUs have been initialized\n",
    "    print(e)"
   ]
  },
  {
   "cell_type": "code",
   "execution_count": 3,
   "metadata": {},
   "outputs": [],
   "source": [
    "Y_4802 = loadmat('Y_4802.mat')['Y_4802']"
   ]
  },
  {
   "cell_type": "code",
   "execution_count": 4,
   "metadata": {},
   "outputs": [],
   "source": [
    "X_4802_feature = loadmat('feature_4802.mat')"
   ]
  },
  {
   "cell_type": "code",
   "execution_count": 5,
   "metadata": {},
   "outputs": [
    {
     "data": {
      "text/plain": [
       "dict_keys(['__header__', '__version__', '__globals__', 'ppab', 'ppdwt', 'pppse', 'pssmab', 'pssmdwt', 'pssmpse', 'label'])"
      ]
     },
     "execution_count": 5,
     "metadata": {},
     "output_type": "execute_result"
    }
   ],
   "source": [
    "X_4802_feature.keys()"
   ]
  },
  {
   "cell_type": "code",
   "execution_count": 6,
   "metadata": {},
   "outputs": [
    {
     "name": "stdout",
     "output_type": "stream",
     "text": [
      "Model: \"functional_13\"\n",
      "__________________________________________________________________________________________________\n",
      "Layer (type)                    Output Shape         Param #     Connected to                     \n",
      "==================================================================================================\n",
      "input_1 (InputLayer)            [(None, 38, 30, 2)]  0                                            \n",
      "__________________________________________________________________________________________________\n",
      "input_2 (InputLayer)            [(None, 57, 52, 2)]  0                                            \n",
      "__________________________________________________________________________________________________\n",
      "input_3 (InputLayer)            [(None, 31, 57, 2)]  0                                            \n",
      "__________________________________________________________________________________________________\n",
      "input_4 (InputLayer)            [(None, 20, 20, 2)]  0                                            \n",
      "__________________________________________________________________________________________________\n",
      "input_5 (InputLayer)            [(None, 40, 26, 2)]  0                                            \n",
      "__________________________________________________________________________________________________\n",
      "input_6 (InputLayer)            [(None, 31, 20, 2)]  0                                            \n",
      "__________________________________________________________________________________________________\n",
      "conv2d (Conv2D)                 (None, 35, 28, 256)  6400        input_1[0][0]                    \n",
      "__________________________________________________________________________________________________\n",
      "conv2d_4 (Conv2D)               (None, 54, 50, 256)  6400        input_2[0][0]                    \n",
      "__________________________________________________________________________________________________\n",
      "conv2d_8 (Conv2D)               (None, 28, 55, 256)  6400        input_3[0][0]                    \n",
      "__________________________________________________________________________________________________\n",
      "conv2d_12 (Conv2D)              (None, 17, 18, 256)  6400        input_4[0][0]                    \n",
      "__________________________________________________________________________________________________\n",
      "conv2d_16 (Conv2D)              (None, 37, 24, 256)  6400        input_5[0][0]                    \n",
      "__________________________________________________________________________________________________\n",
      "conv2d_20 (Conv2D)              (None, 28, 18, 256)  6400        input_6[0][0]                    \n",
      "__________________________________________________________________________________________________\n",
      "conv2d_1 (Conv2D)               (None, 33, 26, 128)  295040      conv2d[0][0]                     \n",
      "__________________________________________________________________________________________________\n",
      "conv2d_5 (Conv2D)               (None, 52, 48, 128)  295040      conv2d_4[0][0]                   \n",
      "__________________________________________________________________________________________________\n",
      "conv2d_9 (Conv2D)               (None, 26, 53, 128)  295040      conv2d_8[0][0]                   \n",
      "__________________________________________________________________________________________________\n",
      "conv2d_13 (Conv2D)              (None, 15, 16, 128)  295040      conv2d_12[0][0]                  \n",
      "__________________________________________________________________________________________________\n",
      "conv2d_17 (Conv2D)              (None, 35, 22, 128)  295040      conv2d_16[0][0]                  \n",
      "__________________________________________________________________________________________________\n",
      "conv2d_21 (Conv2D)              (None, 26, 16, 128)  295040      conv2d_20[0][0]                  \n",
      "__________________________________________________________________________________________________\n",
      "max_pooling2d (MaxPooling2D)    (None, 16, 13, 128)  0           conv2d_1[0][0]                   \n",
      "__________________________________________________________________________________________________\n",
      "max_pooling2d_1 (MaxPooling2D)  (None, 26, 24, 128)  0           conv2d_5[0][0]                   \n",
      "__________________________________________________________________________________________________\n",
      "max_pooling2d_2 (MaxPooling2D)  (None, 13, 26, 128)  0           conv2d_9[0][0]                   \n",
      "__________________________________________________________________________________________________\n",
      "max_pooling2d_3 (MaxPooling2D)  (None, 7, 8, 128)    0           conv2d_13[0][0]                  \n",
      "__________________________________________________________________________________________________\n",
      "max_pooling2d_4 (MaxPooling2D)  (None, 17, 11, 128)  0           conv2d_17[0][0]                  \n",
      "__________________________________________________________________________________________________\n",
      "max_pooling2d_5 (MaxPooling2D)  (None, 13, 8, 128)   0           conv2d_21[0][0]                  \n",
      "__________________________________________________________________________________________________\n",
      "conv2d_2 (Conv2D)               (None, 14, 11, 64)   73792       max_pooling2d[0][0]              \n",
      "__________________________________________________________________________________________________\n",
      "conv2d_6 (Conv2D)               (None, 24, 22, 64)   73792       max_pooling2d_1[0][0]            \n",
      "__________________________________________________________________________________________________\n",
      "conv2d_10 (Conv2D)              (None, 11, 24, 64)   73792       max_pooling2d_2[0][0]            \n",
      "__________________________________________________________________________________________________\n",
      "conv2d_14 (Conv2D)              (None, 5, 6, 64)     73792       max_pooling2d_3[0][0]            \n",
      "__________________________________________________________________________________________________\n",
      "conv2d_18 (Conv2D)              (None, 15, 9, 64)    73792       max_pooling2d_4[0][0]            \n",
      "__________________________________________________________________________________________________\n",
      "conv2d_22 (Conv2D)              (None, 11, 6, 64)    73792       max_pooling2d_5[0][0]            \n",
      "__________________________________________________________________________________________________\n",
      "conv2d_3 (Conv2D)               (None, 12, 9, 32)    18464       conv2d_2[0][0]                   \n",
      "__________________________________________________________________________________________________\n",
      "conv2d_7 (Conv2D)               (None, 22, 20, 32)   18464       conv2d_6[0][0]                   \n",
      "__________________________________________________________________________________________________\n",
      "conv2d_11 (Conv2D)              (None, 9, 22, 32)    18464       conv2d_10[0][0]                  \n",
      "__________________________________________________________________________________________________\n",
      "conv2d_15 (Conv2D)              (None, 3, 4, 32)     18464       conv2d_14[0][0]                  \n",
      "__________________________________________________________________________________________________\n",
      "conv2d_19 (Conv2D)              (None, 13, 7, 32)    18464       conv2d_18[0][0]                  \n",
      "__________________________________________________________________________________________________\n",
      "conv2d_23 (Conv2D)              (None, 9, 4, 32)     18464       conv2d_22[0][0]                  \n",
      "__________________________________________________________________________________________________\n",
      "flatten (Flatten)               (None, 3456)         0           conv2d_3[0][0]                   \n",
      "__________________________________________________________________________________________________\n",
      "flatten_1 (Flatten)             (None, 14080)        0           conv2d_7[0][0]                   \n",
      "__________________________________________________________________________________________________\n",
      "flatten_2 (Flatten)             (None, 6336)         0           conv2d_11[0][0]                  \n",
      "__________________________________________________________________________________________________\n",
      "flatten_3 (Flatten)             (None, 384)          0           conv2d_15[0][0]                  \n",
      "__________________________________________________________________________________________________\n",
      "flatten_4 (Flatten)             (None, 2912)         0           conv2d_19[0][0]                  \n",
      "__________________________________________________________________________________________________\n",
      "flatten_5 (Flatten)             (None, 1152)         0           conv2d_23[0][0]                  \n",
      "__________________________________________________________________________________________________\n",
      "concatenate (Concatenate)       (None, 28320)        0           flatten[0][0]                    \n",
      "                                                                 flatten_1[0][0]                  \n",
      "                                                                 flatten_2[0][0]                  \n",
      "                                                                 flatten_3[0][0]                  \n",
      "                                                                 flatten_4[0][0]                  \n",
      "                                                                 flatten_5[0][0]                  \n",
      "__________________________________________________________________________________________________\n",
      "dense (Dense)                   (None, 37)           1047877     concatenate[0][0]                \n",
      "==================================================================================================\n",
      "Total params: 3,410,053\n",
      "Trainable params: 3,410,053\n",
      "Non-trainable params: 0\n",
      "__________________________________________________________________________________________________\n"
     ]
    }
   ],
   "source": [
    "model_list = []\n",
    "input_list = []\n",
    "for fname in ['ppab', 'ppdwt', 'pppse', 'pssmab', 'pssmdwt', 'pssmpse']:\n",
    "    fdata = X_4802_feature[fname]\n",
    "    input_list.append(fdata)\n",
    "    input_shape = fdata.shape\n",
    "    ix = keras.Input(shape=input_shape[1:], dtype = \"float32\")\n",
    "    \n",
    "    x = layers.Conv2D(256, (4,3), activation='relu')(ix)\n",
    "    x = layers.Conv2D(128, 3, activation='relu',)(x)\n",
    "    x = layers.MaxPooling2D()(x)\n",
    "    x = layers.Conv2D(64, 3, activation='relu',)(x)\n",
    "    #x = layers.MaxPooling2D()(x)\n",
    "    x = layers.Conv2D(32, 3, activation='relu',)(x)\n",
    "    outputs = layers.Flatten()(x)\n",
    "    #outputs = layers.Dense(37, activation='sigmoid')(x)\n",
    "    model = keras.Model(ix, outputs)\n",
    "    model_list.append(model)\n",
    "    \n",
    "x = layers.concatenate([m.output for m in model_list])\n",
    "x = layers.Dense(37, activation='sigmoid')(x)\n",
    "model = keras.Model(inputs=[m.input for m in model_list], outputs = x)\n",
    "model.summary()"
   ]
  },
  {
   "cell_type": "code",
   "execution_count": 7,
   "metadata": {},
   "outputs": [
    {
     "name": "stdout",
     "output_type": "stream",
     "text": [
      "Epoch 1/5\n",
      "601/601 [==============================] - 24s 41ms/step - loss: 0.1335 - binary_accuracy: 0.9645\n",
      "Epoch 2/5\n",
      "601/601 [==============================] - 19s 32ms/step - loss: 0.0964 - binary_accuracy: 0.9675\n",
      "Epoch 3/5\n",
      "601/601 [==============================] - 20s 33ms/step - loss: 0.0923 - binary_accuracy: 0.9682\n",
      "Epoch 4/5\n",
      "601/601 [==============================] - 20s 33ms/step - loss: 0.0891 - binary_accuracy: 0.9688\n",
      "Epoch 5/5\n",
      "601/601 [==============================] - 20s 33ms/step - loss: 0.0874 - binary_accuracy: 0.9694\n"
     ]
    },
    {
     "data": {
      "text/plain": [
       "<tensorflow.python.keras.callbacks.History at 0x7fae2834a1c0>"
      ]
     },
     "execution_count": 7,
     "metadata": {},
     "output_type": "execute_result"
    }
   ],
   "source": [
    "model.compile(\"adam\", \"binary_crossentropy\", metrics=[\"binary_accuracy\"])\n",
    "model.fit(input_list, Y_4802, batch_size=8, epochs=5)"
   ]
  },
  {
   "cell_type": "code",
   "execution_count": 5,
   "metadata": {},
   "outputs": [],
   "source": [
    "pssmpse = X_4802_feature['pssmpse']"
   ]
  },
  {
   "cell_type": "code",
   "execution_count": 6,
   "metadata": {},
   "outputs": [
    {
     "name": "stdout",
     "output_type": "stream",
     "text": [
      "Model: \"functional_1\"\n",
      "_________________________________________________________________\n",
      "Layer (type)                 Output Shape              Param #   \n",
      "=================================================================\n",
      "input_1 (InputLayer)         [(None, 31, 20, 2)]       0         \n",
      "_________________________________________________________________\n",
      "conv2d (Conv2D)              (None, 28, 18, 256)       6400      \n",
      "_________________________________________________________________\n",
      "conv2d_1 (Conv2D)            (None, 26, 16, 128)       295040    \n",
      "_________________________________________________________________\n",
      "max_pooling2d (MaxPooling2D) (None, 13, 8, 128)        0         \n",
      "_________________________________________________________________\n",
      "conv2d_2 (Conv2D)            (None, 11, 6, 64)         73792     \n",
      "_________________________________________________________________\n",
      "conv2d_3 (Conv2D)            (None, 9, 4, 32)          18464     \n",
      "_________________________________________________________________\n",
      "flatten (Flatten)            (None, 1152)              0         \n",
      "_________________________________________________________________\n",
      "dense (Dense)                (None, 37)                42661     \n",
      "=================================================================\n",
      "Total params: 436,357\n",
      "Trainable params: 436,357\n",
      "Non-trainable params: 0\n",
      "_________________________________________________________________\n"
     ]
    }
   ],
   "source": [
    "input_shape = pssmpse.shape\n",
    "pssm = keras.Input(shape=input_shape[1:], dtype = \"float32\")\n",
    "\n",
    "x = layers.Conv2D(256, (4,3), activation='relu')(pssm)\n",
    "x = layers.Conv2D(128, 3, activation='relu',)(x)\n",
    "x = layers.MaxPooling2D()(x)\n",
    "x = layers.Conv2D(64, 3, activation='relu',)(x)\n",
    "#x = layers.MaxPooling2D()(x)\n",
    "x = layers.Conv2D(32, 3, activation='relu',)(x)\n",
    "x = layers.Flatten()(x)\n",
    "outputs = layers.Dense(37, activation='sigmoid')(x)\n",
    "model = keras.Model(pssm, outputs)\n",
    "model.summary()"
   ]
  },
  {
   "cell_type": "code",
   "execution_count": 7,
   "metadata": {},
   "outputs": [
    {
     "name": "stdout",
     "output_type": "stream",
     "text": [
      "Epoch 1/50\n",
      "481/481 [==============================] - 4s 9ms/step - loss: 0.0998 - binary_accuracy: 0.9671\n",
      "Epoch 2/50\n",
      "481/481 [==============================] - 4s 8ms/step - loss: 0.0895 - binary_accuracy: 0.9699\n",
      "Epoch 3/50\n",
      "481/481 [==============================] - 4s 8ms/step - loss: 0.0840 - binary_accuracy: 0.9703\n",
      "Epoch 4/50\n",
      "481/481 [==============================] - 4s 8ms/step - loss: 0.0816 - binary_accuracy: 0.9705\n",
      "Epoch 5/50\n",
      "481/481 [==============================] - 4s 8ms/step - loss: 0.0801 - binary_accuracy: 0.9708\n",
      "Epoch 6/50\n",
      "481/481 [==============================] - 4s 8ms/step - loss: 0.0785 - binary_accuracy: 0.9713\n",
      "Epoch 7/50\n",
      "481/481 [==============================] - 4s 9ms/step - loss: 0.0775 - binary_accuracy: 0.9716\n",
      "Epoch 8/50\n",
      "481/481 [==============================] - 4s 9ms/step - loss: 0.0766 - binary_accuracy: 0.9718\n",
      "Epoch 9/50\n",
      "481/481 [==============================] - 4s 9ms/step - loss: 0.0760 - binary_accuracy: 0.9719\n",
      "Epoch 10/50\n",
      "481/481 [==============================] - 4s 9ms/step - loss: 0.0746 - binary_accuracy: 0.9723\n",
      "Epoch 11/50\n",
      "481/481 [==============================] - 4s 9ms/step - loss: 0.0745 - binary_accuracy: 0.9726\n",
      "Epoch 12/50\n",
      "481/481 [==============================] - 4s 9ms/step - loss: 0.0736 - binary_accuracy: 0.9726\n",
      "Epoch 13/50\n",
      "481/481 [==============================] - 4s 9ms/step - loss: 0.0728 - binary_accuracy: 0.9728\n",
      "Epoch 14/50\n",
      "481/481 [==============================] - 4s 9ms/step - loss: 0.0721 - binary_accuracy: 0.9730\n",
      "Epoch 15/50\n",
      "481/481 [==============================] - 4s 9ms/step - loss: 0.0714 - binary_accuracy: 0.9732\n",
      "Epoch 16/50\n",
      "481/481 [==============================] - 4s 9ms/step - loss: 0.0708 - binary_accuracy: 0.9733\n",
      "Epoch 17/50\n",
      "481/481 [==============================] - 4s 8ms/step - loss: 0.0703 - binary_accuracy: 0.9734\n",
      "Epoch 18/50\n",
      "481/481 [==============================] - 4s 8ms/step - loss: 0.0691 - binary_accuracy: 0.9738\n",
      "Epoch 19/50\n",
      "481/481 [==============================] - 4s 8ms/step - loss: 0.0689 - binary_accuracy: 0.9738\n",
      "Epoch 20/50\n",
      "481/481 [==============================] - 4s 8ms/step - loss: 0.0679 - binary_accuracy: 0.9742\n",
      "Epoch 21/50\n",
      "481/481 [==============================] - 4s 8ms/step - loss: 0.0674 - binary_accuracy: 0.9743\n",
      "Epoch 22/50\n",
      "481/481 [==============================] - 4s 8ms/step - loss: 0.0668 - binary_accuracy: 0.9744\n",
      "Epoch 23/50\n",
      "481/481 [==============================] - 4s 8ms/step - loss: 0.0658 - binary_accuracy: 0.9745\n",
      "Epoch 24/50\n",
      "481/481 [==============================] - 4s 8ms/step - loss: 0.0653 - binary_accuracy: 0.9747\n",
      "Epoch 25/50\n",
      "481/481 [==============================] - 4s 8ms/step - loss: 0.0646 - binary_accuracy: 0.9746\n",
      "Epoch 26/50\n",
      "481/481 [==============================] - 4s 8ms/step - loss: 0.0635 - binary_accuracy: 0.9751\n",
      "Epoch 27/50\n",
      "481/481 [==============================] - 4s 9ms/step - loss: 0.0626 - binary_accuracy: 0.9756\n",
      "Epoch 28/50\n",
      "481/481 [==============================] - 4s 9ms/step - loss: 0.0623 - binary_accuracy: 0.9756\n",
      "Epoch 29/50\n",
      "481/481 [==============================] - 4s 9ms/step - loss: 0.0611 - binary_accuracy: 0.9758\n",
      "Epoch 30/50\n",
      "481/481 [==============================] - 4s 9ms/step - loss: 0.0603 - binary_accuracy: 0.9762\n",
      "Epoch 31/50\n",
      "481/481 [==============================] - 4s 9ms/step - loss: 0.0596 - binary_accuracy: 0.9764\n",
      "Epoch 32/50\n",
      "481/481 [==============================] - 4s 9ms/step - loss: 0.0587 - binary_accuracy: 0.9767\n",
      "Epoch 33/50\n",
      "481/481 [==============================] - 4s 9ms/step - loss: 0.0583 - binary_accuracy: 0.9770\n",
      "Epoch 34/50\n",
      "481/481 [==============================] - 4s 9ms/step - loss: 0.0569 - binary_accuracy: 0.9775\n",
      "Epoch 35/50\n",
      "481/481 [==============================] - 4s 9ms/step - loss: 0.0567 - binary_accuracy: 0.9772\n",
      "Epoch 36/50\n",
      "481/481 [==============================] - 4s 9ms/step - loss: 0.0554 - binary_accuracy: 0.9778\n",
      "Epoch 37/50\n",
      "481/481 [==============================] - 4s 9ms/step - loss: 0.0550 - binary_accuracy: 0.9780\n",
      "Epoch 38/50\n",
      "481/481 [==============================] - 4s 9ms/step - loss: 0.0542 - binary_accuracy: 0.9782\n",
      "Epoch 39/50\n",
      "481/481 [==============================] - 4s 9ms/step - loss: 0.0532 - binary_accuracy: 0.9787\n",
      "Epoch 40/50\n",
      "481/481 [==============================] - 4s 9ms/step - loss: 0.0524 - binary_accuracy: 0.9787\n",
      "Epoch 41/50\n",
      "481/481 [==============================] - 4s 9ms/step - loss: 0.0511 - binary_accuracy: 0.9792\n",
      "Epoch 42/50\n",
      "481/481 [==============================] - 4s 9ms/step - loss: 0.0502 - binary_accuracy: 0.9798\n",
      "Epoch 43/50\n",
      "481/481 [==============================] - 4s 9ms/step - loss: 0.0498 - binary_accuracy: 0.9797\n",
      "Epoch 44/50\n",
      "481/481 [==============================] - 4s 9ms/step - loss: 0.0489 - binary_accuracy: 0.9802\n",
      "Epoch 45/50\n",
      "481/481 [==============================] - 4s 9ms/step - loss: 0.0478 - binary_accuracy: 0.9805\n",
      "Epoch 46/50\n",
      "481/481 [==============================] - 4s 9ms/step - loss: 0.0465 - binary_accuracy: 0.9805\n",
      "Epoch 47/50\n",
      "481/481 [==============================] - 4s 9ms/step - loss: 0.0463 - binary_accuracy: 0.9813\n",
      "Epoch 48/50\n",
      "481/481 [==============================] - 4s 9ms/step - loss: 0.0452 - binary_accuracy: 0.9815\n",
      "Epoch 49/50\n",
      "481/481 [==============================] - 4s 9ms/step - loss: 0.0444 - binary_accuracy: 0.9820\n",
      "Epoch 50/50\n",
      "481/481 [==============================] - 4s 9ms/step - loss: 0.0436 - binary_accuracy: 0.9820\n",
      "Epoch 1/50\n",
      "481/481 [==============================] - 4s 9ms/step - loss: 0.0998 - binary_accuracy: 0.9717\n",
      "Epoch 2/50\n",
      "481/481 [==============================] - 4s 9ms/step - loss: 0.0823 - binary_accuracy: 0.9734\n",
      "Epoch 3/50\n",
      "481/481 [==============================] - 4s 9ms/step - loss: 0.0773 - binary_accuracy: 0.9738\n",
      "Epoch 4/50\n",
      "481/481 [==============================] - 4s 9ms/step - loss: 0.0741 - binary_accuracy: 0.9745\n",
      "Epoch 5/50\n",
      "481/481 [==============================] - 4s 9ms/step - loss: 0.0709 - binary_accuracy: 0.9750\n",
      "Epoch 6/50\n",
      "481/481 [==============================] - 4s 9ms/step - loss: 0.0687 - binary_accuracy: 0.9754\n",
      "Epoch 7/50\n",
      "481/481 [==============================] - 4s 9ms/step - loss: 0.0666 - binary_accuracy: 0.9759\n",
      "Epoch 8/50\n",
      "481/481 [==============================] - 4s 9ms/step - loss: 0.0646 - binary_accuracy: 0.9767\n",
      "Epoch 9/50\n",
      "481/481 [==============================] - 4s 9ms/step - loss: 0.0623 - binary_accuracy: 0.9772\n",
      "Epoch 10/50\n",
      "481/481 [==============================] - 4s 9ms/step - loss: 0.0605 - binary_accuracy: 0.9774\n",
      "Epoch 11/50\n",
      "481/481 [==============================] - 4s 9ms/step - loss: 0.0585 - binary_accuracy: 0.9781\n",
      "Epoch 12/50\n",
      "481/481 [==============================] - 4s 9ms/step - loss: 0.0561 - binary_accuracy: 0.9786\n",
      "Epoch 13/50\n",
      "481/481 [==============================] - 4s 9ms/step - loss: 0.0542 - binary_accuracy: 0.9795\n",
      "Epoch 14/50\n",
      "481/481 [==============================] - 4s 9ms/step - loss: 0.0528 - binary_accuracy: 0.9799\n",
      "Epoch 15/50\n",
      "481/481 [==============================] - 4s 9ms/step - loss: 0.0523 - binary_accuracy: 0.9796\n",
      "Epoch 16/50\n",
      "481/481 [==============================] - 4s 9ms/step - loss: 0.0500 - binary_accuracy: 0.9803\n",
      "Epoch 17/50\n",
      "481/481 [==============================] - 4s 9ms/step - loss: 0.0479 - binary_accuracy: 0.9815\n",
      "Epoch 18/50\n",
      "481/481 [==============================] - 4s 9ms/step - loss: 0.0477 - binary_accuracy: 0.9812\n",
      "Epoch 19/50\n",
      "481/481 [==============================] - 4s 9ms/step - loss: 0.0456 - binary_accuracy: 0.9816\n",
      "Epoch 20/50\n",
      "481/481 [==============================] - 4s 9ms/step - loss: 0.0443 - binary_accuracy: 0.9823\n",
      "Epoch 21/50\n",
      "481/481 [==============================] - 4s 9ms/step - loss: 0.0426 - binary_accuracy: 0.9831\n",
      "Epoch 22/50\n",
      "481/481 [==============================] - 4s 9ms/step - loss: 0.0417 - binary_accuracy: 0.9837\n",
      "Epoch 23/50\n",
      "481/481 [==============================] - 4s 9ms/step - loss: 0.0408 - binary_accuracy: 0.9836\n",
      "Epoch 24/50\n",
      "481/481 [==============================] - 4s 8ms/step - loss: 0.0401 - binary_accuracy: 0.9839\n",
      "Epoch 25/50\n",
      "481/481 [==============================] - 4s 8ms/step - loss: 0.0394 - binary_accuracy: 0.9842\n",
      "Epoch 26/50\n",
      "481/481 [==============================] - 4s 8ms/step - loss: 0.0378 - binary_accuracy: 0.9847\n",
      "Epoch 27/50\n",
      "481/481 [==============================] - 4s 8ms/step - loss: 0.0366 - binary_accuracy: 0.9852\n",
      "Epoch 28/50\n",
      "481/481 [==============================] - 4s 9ms/step - loss: 0.0352 - binary_accuracy: 0.9858\n",
      "Epoch 29/50\n",
      "481/481 [==============================] - 4s 9ms/step - loss: 0.0340 - binary_accuracy: 0.9865\n",
      "Epoch 30/50\n",
      "481/481 [==============================] - 4s 9ms/step - loss: 0.0340 - binary_accuracy: 0.9863\n",
      "Epoch 31/50\n",
      "481/481 [==============================] - 4s 9ms/step - loss: 0.0324 - binary_accuracy: 0.9870\n",
      "Epoch 32/50\n",
      "481/481 [==============================] - 4s 9ms/step - loss: 0.0320 - binary_accuracy: 0.9871\n",
      "Epoch 33/50\n",
      "481/481 [==============================] - 4s 9ms/step - loss: 0.0314 - binary_accuracy: 0.9874\n",
      "Epoch 34/50\n",
      "481/481 [==============================] - 4s 9ms/step - loss: 0.0310 - binary_accuracy: 0.9878\n",
      "Epoch 35/50\n",
      "481/481 [==============================] - 4s 9ms/step - loss: 0.0301 - binary_accuracy: 0.9877\n",
      "Epoch 36/50\n",
      "481/481 [==============================] - 4s 9ms/step - loss: 0.0289 - binary_accuracy: 0.9882\n",
      "Epoch 37/50\n",
      "481/481 [==============================] - 4s 9ms/step - loss: 0.0286 - binary_accuracy: 0.9886\n",
      "Epoch 38/50\n",
      "481/481 [==============================] - 4s 9ms/step - loss: 0.0275 - binary_accuracy: 0.9889\n",
      "Epoch 39/50\n",
      "481/481 [==============================] - 4s 9ms/step - loss: 0.0274 - binary_accuracy: 0.9890\n",
      "Epoch 40/50\n",
      "481/481 [==============================] - 4s 9ms/step - loss: 0.0261 - binary_accuracy: 0.9894\n",
      "Epoch 41/50\n",
      "481/481 [==============================] - 4s 9ms/step - loss: 0.0254 - binary_accuracy: 0.9897\n",
      "Epoch 42/50\n",
      "481/481 [==============================] - 4s 9ms/step - loss: 0.0262 - binary_accuracy: 0.9894\n",
      "Epoch 43/50\n",
      "481/481 [==============================] - 4s 9ms/step - loss: 0.0253 - binary_accuracy: 0.9897\n",
      "Epoch 44/50\n",
      "481/481 [==============================] - 4s 9ms/step - loss: 0.0239 - binary_accuracy: 0.9906\n",
      "Epoch 45/50\n",
      "481/481 [==============================] - 4s 9ms/step - loss: 0.0246 - binary_accuracy: 0.9905\n",
      "Epoch 46/50\n",
      "481/481 [==============================] - 4s 9ms/step - loss: 0.0226 - binary_accuracy: 0.9909\n",
      "Epoch 47/50\n",
      "481/481 [==============================] - 4s 9ms/step - loss: 0.0231 - binary_accuracy: 0.9910\n",
      "Epoch 48/50\n",
      "481/481 [==============================] - 4s 9ms/step - loss: 0.0219 - binary_accuracy: 0.9913\n",
      "Epoch 49/50\n",
      "481/481 [==============================] - 4s 9ms/step - loss: 0.0226 - binary_accuracy: 0.9910\n",
      "Epoch 50/50\n",
      "481/481 [==============================] - 4s 9ms/step - loss: 0.0201 - binary_accuracy: 0.9922\n",
      "Epoch 1/50\n",
      "481/481 [==============================] - 4s 9ms/step - loss: 0.0648 - binary_accuracy: 0.9801\n",
      "Epoch 2/50\n",
      "481/481 [==============================] - 4s 9ms/step - loss: 0.0522 - binary_accuracy: 0.9824\n",
      "Epoch 3/50\n",
      "481/481 [==============================] - 4s 9ms/step - loss: 0.0484 - binary_accuracy: 0.9830\n",
      "Epoch 4/50\n",
      "481/481 [==============================] - 4s 9ms/step - loss: 0.0444 - binary_accuracy: 0.9838\n",
      "Epoch 5/50\n",
      "481/481 [==============================] - 4s 9ms/step - loss: 0.0432 - binary_accuracy: 0.9842\n",
      "Epoch 6/50\n",
      "481/481 [==============================] - 4s 9ms/step - loss: 0.0414 - binary_accuracy: 0.9847\n",
      "Epoch 7/50\n",
      "481/481 [==============================] - 4s 9ms/step - loss: 0.0390 - binary_accuracy: 0.9853\n",
      "Epoch 8/50\n",
      "481/481 [==============================] - 4s 9ms/step - loss: 0.0383 - binary_accuracy: 0.9856\n",
      "Epoch 9/50\n",
      "481/481 [==============================] - 4s 9ms/step - loss: 0.0360 - binary_accuracy: 0.9861\n",
      "Epoch 10/50\n",
      "481/481 [==============================] - 4s 9ms/step - loss: 0.0345 - binary_accuracy: 0.9873\n",
      "Epoch 11/50\n",
      "481/481 [==============================] - 4s 9ms/step - loss: 0.0347 - binary_accuracy: 0.9866\n",
      "Epoch 12/50\n",
      "481/481 [==============================] - 4s 9ms/step - loss: 0.0331 - binary_accuracy: 0.9871\n",
      "Epoch 13/50\n",
      "481/481 [==============================] - 4s 9ms/step - loss: 0.0318 - binary_accuracy: 0.9877\n",
      "Epoch 14/50\n",
      "481/481 [==============================] - 4s 9ms/step - loss: 0.0313 - binary_accuracy: 0.9878\n",
      "Epoch 15/50\n",
      "481/481 [==============================] - 4s 9ms/step - loss: 0.0308 - binary_accuracy: 0.9879\n",
      "Epoch 16/50\n",
      "481/481 [==============================] - 4s 9ms/step - loss: 0.0277 - binary_accuracy: 0.9891\n",
      "Epoch 17/50\n",
      "481/481 [==============================] - 4s 9ms/step - loss: 0.0291 - binary_accuracy: 0.9886\n",
      "Epoch 18/50\n",
      "481/481 [==============================] - 4s 9ms/step - loss: 0.0285 - binary_accuracy: 0.9887\n",
      "Epoch 19/50\n",
      "481/481 [==============================] - 4s 9ms/step - loss: 0.0265 - binary_accuracy: 0.9895\n",
      "Epoch 20/50\n",
      "481/481 [==============================] - 4s 9ms/step - loss: 0.0272 - binary_accuracy: 0.9891\n",
      "Epoch 21/50\n",
      "481/481 [==============================] - 4s 9ms/step - loss: 0.0248 - binary_accuracy: 0.9902\n",
      "Epoch 22/50\n",
      "481/481 [==============================] - 4s 9ms/step - loss: 0.0255 - binary_accuracy: 0.9902\n",
      "Epoch 23/50\n",
      "481/481 [==============================] - 4s 9ms/step - loss: 0.0241 - binary_accuracy: 0.9905\n",
      "Epoch 24/50\n",
      "481/481 [==============================] - 4s 9ms/step - loss: 0.0241 - binary_accuracy: 0.9903\n",
      "Epoch 25/50\n",
      "481/481 [==============================] - 4s 9ms/step - loss: 0.0225 - binary_accuracy: 0.9914\n",
      "Epoch 26/50\n",
      "481/481 [==============================] - 4s 9ms/step - loss: 0.0232 - binary_accuracy: 0.9908\n",
      "Epoch 27/50\n",
      "481/481 [==============================] - 4s 9ms/step - loss: 0.0223 - binary_accuracy: 0.9913\n",
      "Epoch 28/50\n",
      "481/481 [==============================] - 4s 9ms/step - loss: 0.0236 - binary_accuracy: 0.9905\n",
      "Epoch 29/50\n",
      "481/481 [==============================] - 4s 9ms/step - loss: 0.0217 - binary_accuracy: 0.9916\n",
      "Epoch 30/50\n",
      "481/481 [==============================] - 4s 9ms/step - loss: 0.0211 - binary_accuracy: 0.9918\n",
      "Epoch 31/50\n",
      "481/481 [==============================] - 4s 9ms/step - loss: 0.0215 - binary_accuracy: 0.9915\n",
      "Epoch 32/50\n",
      "481/481 [==============================] - 4s 9ms/step - loss: 0.0204 - binary_accuracy: 0.9919\n",
      "Epoch 33/50\n",
      "481/481 [==============================] - 4s 9ms/step - loss: 0.0215 - binary_accuracy: 0.9917\n",
      "Epoch 34/50\n",
      "481/481 [==============================] - 4s 9ms/step - loss: 0.0181 - binary_accuracy: 0.9931\n",
      "Epoch 35/50\n",
      "481/481 [==============================] - 4s 9ms/step - loss: 0.0216 - binary_accuracy: 0.9917\n",
      "Epoch 36/50\n",
      "481/481 [==============================] - 4s 9ms/step - loss: 0.0174 - binary_accuracy: 0.9934\n",
      "Epoch 37/50\n",
      "481/481 [==============================] - 4s 9ms/step - loss: 0.0177 - binary_accuracy: 0.9933\n",
      "Epoch 38/50\n",
      "481/481 [==============================] - 4s 9ms/step - loss: 0.0181 - binary_accuracy: 0.9931\n",
      "Epoch 39/50\n",
      "481/481 [==============================] - 4s 9ms/step - loss: 0.0177 - binary_accuracy: 0.9934\n",
      "Epoch 40/50\n",
      "481/481 [==============================] - 4s 9ms/step - loss: 0.0183 - binary_accuracy: 0.9931\n",
      "Epoch 41/50\n",
      "481/481 [==============================] - 4s 9ms/step - loss: 0.0171 - binary_accuracy: 0.9935\n",
      "Epoch 42/50\n",
      "481/481 [==============================] - 4s 9ms/step - loss: 0.0180 - binary_accuracy: 0.9929\n",
      "Epoch 43/50\n",
      "481/481 [==============================] - 4s 9ms/step - loss: 0.0155 - binary_accuracy: 0.9943\n",
      "Epoch 44/50\n",
      "481/481 [==============================] - 4s 9ms/step - loss: 0.0174 - binary_accuracy: 0.9934\n",
      "Epoch 45/50\n",
      "481/481 [==============================] - 4s 9ms/step - loss: 0.0183 - binary_accuracy: 0.9933\n",
      "Epoch 46/50\n",
      "481/481 [==============================] - 4s 9ms/step - loss: 0.0165 - binary_accuracy: 0.9940\n",
      "Epoch 47/50\n",
      "481/481 [==============================] - 4s 9ms/step - loss: 0.0157 - binary_accuracy: 0.9942\n",
      "Epoch 48/50\n",
      "481/481 [==============================] - 4s 9ms/step - loss: 0.0160 - binary_accuracy: 0.9940\n",
      "Epoch 49/50\n",
      "481/481 [==============================] - 4s 9ms/step - loss: 0.0156 - binary_accuracy: 0.9942\n",
      "Epoch 50/50\n",
      "481/481 [==============================] - 4s 9ms/step - loss: 0.0146 - binary_accuracy: 0.9947\n",
      "Epoch 1/50\n",
      "481/481 [==============================] - 4s 9ms/step - loss: 0.0398 - binary_accuracy: 0.9876\n",
      "Epoch 2/50\n",
      "481/481 [==============================] - 4s 9ms/step - loss: 0.0311 - binary_accuracy: 0.9888\n",
      "Epoch 3/50\n",
      "481/481 [==============================] - 4s 9ms/step - loss: 0.0275 - binary_accuracy: 0.9897\n",
      "Epoch 4/50\n",
      "481/481 [==============================] - 4s 9ms/step - loss: 0.0244 - binary_accuracy: 0.9908\n",
      "Epoch 5/50\n",
      "481/481 [==============================] - 4s 9ms/step - loss: 0.0227 - binary_accuracy: 0.9913\n",
      "Epoch 6/50\n",
      "481/481 [==============================] - 4s 9ms/step - loss: 0.0238 - binary_accuracy: 0.9909\n",
      "Epoch 7/50\n",
      "481/481 [==============================] - 4s 9ms/step - loss: 0.0218 - binary_accuracy: 0.9915\n",
      "Epoch 8/50\n",
      "481/481 [==============================] - 4s 9ms/step - loss: 0.0211 - binary_accuracy: 0.9921\n",
      "Epoch 9/50\n",
      "481/481 [==============================] - 4s 9ms/step - loss: 0.0216 - binary_accuracy: 0.9916\n",
      "Epoch 10/50\n",
      "481/481 [==============================] - 4s 9ms/step - loss: 0.0212 - binary_accuracy: 0.9919\n",
      "Epoch 11/50\n",
      "481/481 [==============================] - 4s 9ms/step - loss: 0.0192 - binary_accuracy: 0.9926\n",
      "Epoch 12/50\n",
      "481/481 [==============================] - 4s 9ms/step - loss: 0.0196 - binary_accuracy: 0.9926\n",
      "Epoch 13/50\n",
      "481/481 [==============================] - 4s 9ms/step - loss: 0.0190 - binary_accuracy: 0.9928\n",
      "Epoch 14/50\n",
      "481/481 [==============================] - 4s 9ms/step - loss: 0.0190 - binary_accuracy: 0.9925\n",
      "Epoch 15/50\n",
      "481/481 [==============================] - 4s 9ms/step - loss: 0.0179 - binary_accuracy: 0.9933\n",
      "Epoch 16/50\n",
      "481/481 [==============================] - 4s 9ms/step - loss: 0.0188 - binary_accuracy: 0.9929\n",
      "Epoch 17/50\n",
      "481/481 [==============================] - 4s 9ms/step - loss: 0.0189 - binary_accuracy: 0.9929\n",
      "Epoch 18/50\n",
      "481/481 [==============================] - 4s 9ms/step - loss: 0.0176 - binary_accuracy: 0.9936\n",
      "Epoch 19/50\n",
      "481/481 [==============================] - 4s 9ms/step - loss: 0.0167 - binary_accuracy: 0.9936\n",
      "Epoch 20/50\n",
      "481/481 [==============================] - 4s 9ms/step - loss: 0.0172 - binary_accuracy: 0.9933\n",
      "Epoch 21/50\n",
      "481/481 [==============================] - 4s 9ms/step - loss: 0.0170 - binary_accuracy: 0.9937\n",
      "Epoch 22/50\n",
      "481/481 [==============================] - 4s 9ms/step - loss: 0.0164 - binary_accuracy: 0.9939\n",
      "Epoch 23/50\n",
      "481/481 [==============================] - 4s 9ms/step - loss: 0.0167 - binary_accuracy: 0.9936\n",
      "Epoch 24/50\n",
      "481/481 [==============================] - 4s 9ms/step - loss: 0.0167 - binary_accuracy: 0.9939\n",
      "Epoch 25/50\n",
      "481/481 [==============================] - 4s 9ms/step - loss: 0.0161 - binary_accuracy: 0.9939\n",
      "Epoch 26/50\n",
      "481/481 [==============================] - 4s 9ms/step - loss: 0.0164 - binary_accuracy: 0.9939\n",
      "Epoch 27/50\n",
      "481/481 [==============================] - 4s 9ms/step - loss: 0.0166 - binary_accuracy: 0.9940\n",
      "Epoch 28/50\n",
      "481/481 [==============================] - 4s 9ms/step - loss: 0.0135 - binary_accuracy: 0.9951\n",
      "Epoch 29/50\n",
      "481/481 [==============================] - 4s 9ms/step - loss: 0.0160 - binary_accuracy: 0.9940\n",
      "Epoch 30/50\n",
      "481/481 [==============================] - 4s 9ms/step - loss: 0.0141 - binary_accuracy: 0.9948\n",
      "Epoch 31/50\n",
      "481/481 [==============================] - 4s 9ms/step - loss: 0.0137 - binary_accuracy: 0.9949\n",
      "Epoch 32/50\n",
      "481/481 [==============================] - 4s 9ms/step - loss: 0.0156 - binary_accuracy: 0.9941\n",
      "Epoch 33/50\n",
      "481/481 [==============================] - 4s 9ms/step - loss: 0.0171 - binary_accuracy: 0.9936\n",
      "Epoch 34/50\n",
      "481/481 [==============================] - 4s 9ms/step - loss: 0.0146 - binary_accuracy: 0.9945\n",
      "Epoch 35/50\n",
      "481/481 [==============================] - 4s 9ms/step - loss: 0.0152 - binary_accuracy: 0.9944\n",
      "Epoch 36/50\n",
      "481/481 [==============================] - 4s 9ms/step - loss: 0.0150 - binary_accuracy: 0.9945\n",
      "Epoch 37/50\n",
      "481/481 [==============================] - 4s 9ms/step - loss: 0.0145 - binary_accuracy: 0.9949\n",
      "Epoch 38/50\n",
      "481/481 [==============================] - 4s 9ms/step - loss: 0.0146 - binary_accuracy: 0.9946\n",
      "Epoch 39/50\n",
      "481/481 [==============================] - 4s 9ms/step - loss: 0.0150 - binary_accuracy: 0.9945\n",
      "Epoch 40/50\n",
      "481/481 [==============================] - 4s 9ms/step - loss: 0.0127 - binary_accuracy: 0.9955\n",
      "Epoch 41/50\n",
      "481/481 [==============================] - 4s 9ms/step - loss: 0.0167 - binary_accuracy: 0.9938\n",
      "Epoch 42/50\n",
      "481/481 [==============================] - 4s 9ms/step - loss: 0.0126 - binary_accuracy: 0.9953\n",
      "Epoch 43/50\n",
      "481/481 [==============================] - 4s 9ms/step - loss: 0.0129 - binary_accuracy: 0.9954\n",
      "Epoch 44/50\n",
      "481/481 [==============================] - 4s 9ms/step - loss: 0.0152 - binary_accuracy: 0.9945\n",
      "Epoch 45/50\n",
      "481/481 [==============================] - 4s 8ms/step - loss: 0.0129 - binary_accuracy: 0.9953\n",
      "Epoch 46/50\n",
      "481/481 [==============================] - 4s 8ms/step - loss: 0.0121 - binary_accuracy: 0.9956\n",
      "Epoch 47/50\n",
      "481/481 [==============================] - 3s 6ms/step - loss: 0.0154 - binary_accuracy: 0.9945\n",
      "Epoch 48/50\n",
      "481/481 [==============================] - 4s 8ms/step - loss: 0.0130 - binary_accuracy: 0.9955\n",
      "Epoch 49/50\n",
      "481/481 [==============================] - 4s 8ms/step - loss: 0.0121 - binary_accuracy: 0.9957\n",
      "Epoch 50/50\n",
      "481/481 [==============================] - 4s 8ms/step - loss: 0.0185 - binary_accuracy: 0.9935\n",
      "Epoch 1/50\n",
      "481/481 [==============================] - 4s 8ms/step - loss: 0.0306 - binary_accuracy: 0.9903\n",
      "Epoch 2/50\n",
      "481/481 [==============================] - 4s 8ms/step - loss: 0.0214 - binary_accuracy: 0.9924\n",
      "Epoch 3/50\n",
      "481/481 [==============================] - 4s 8ms/step - loss: 0.0177 - binary_accuracy: 0.9935\n",
      "Epoch 4/50\n",
      "481/481 [==============================] - 4s 8ms/step - loss: 0.0176 - binary_accuracy: 0.9935\n",
      "Epoch 5/50\n",
      "481/481 [==============================] - 4s 8ms/step - loss: 0.0179 - binary_accuracy: 0.9932\n",
      "Epoch 6/50\n",
      "481/481 [==============================] - 4s 9ms/step - loss: 0.0171 - binary_accuracy: 0.9936\n",
      "Epoch 7/50\n",
      "481/481 [==============================] - 4s 9ms/step - loss: 0.0160 - binary_accuracy: 0.9941\n",
      "Epoch 8/50\n",
      "481/481 [==============================] - 4s 9ms/step - loss: 0.0173 - binary_accuracy: 0.9936\n",
      "Epoch 9/50\n",
      "481/481 [==============================] - 4s 9ms/step - loss: 0.0162 - binary_accuracy: 0.9941\n",
      "Epoch 10/50\n",
      "481/481 [==============================] - 4s 9ms/step - loss: 0.0156 - binary_accuracy: 0.9944\n",
      "Epoch 11/50\n",
      "481/481 [==============================] - 4s 9ms/step - loss: 0.0152 - binary_accuracy: 0.9945\n",
      "Epoch 12/50\n",
      "481/481 [==============================] - 4s 9ms/step - loss: 0.0162 - binary_accuracy: 0.9940\n",
      "Epoch 13/50\n",
      "481/481 [==============================] - 4s 9ms/step - loss: 0.0157 - binary_accuracy: 0.9942\n",
      "Epoch 14/50\n",
      "481/481 [==============================] - 4s 9ms/step - loss: 0.0163 - binary_accuracy: 0.9943\n",
      "Epoch 15/50\n",
      "481/481 [==============================] - 4s 9ms/step - loss: 0.0149 - binary_accuracy: 0.9945\n",
      "Epoch 16/50\n",
      "481/481 [==============================] - 4s 8ms/step - loss: 0.0158 - binary_accuracy: 0.9943\n",
      "Epoch 17/50\n",
      "481/481 [==============================] - 4s 9ms/step - loss: 0.0152 - binary_accuracy: 0.9944\n",
      "Epoch 18/50\n",
      "481/481 [==============================] - 4s 9ms/step - loss: 0.0133 - binary_accuracy: 0.9953\n",
      "Epoch 19/50\n",
      "481/481 [==============================] - 4s 9ms/step - loss: 0.0148 - binary_accuracy: 0.9946\n",
      "Epoch 20/50\n",
      "481/481 [==============================] - 4s 9ms/step - loss: 0.0140 - binary_accuracy: 0.9951\n",
      "Epoch 21/50\n",
      "481/481 [==============================] - 4s 9ms/step - loss: 0.0131 - binary_accuracy: 0.9951\n",
      "Epoch 22/50\n",
      "481/481 [==============================] - 4s 9ms/step - loss: 0.0149 - binary_accuracy: 0.9943\n",
      "Epoch 23/50\n",
      "481/481 [==============================] - 4s 9ms/step - loss: 0.0140 - binary_accuracy: 0.9951\n",
      "Epoch 24/50\n",
      "481/481 [==============================] - 3s 7ms/step - loss: 0.0126 - binary_accuracy: 0.9955\n",
      "Epoch 25/50\n",
      "481/481 [==============================] - 4s 8ms/step - loss: 0.0136 - binary_accuracy: 0.9952\n",
      "Epoch 26/50\n",
      "481/481 [==============================] - 4s 9ms/step - loss: 0.0141 - binary_accuracy: 0.9948\n",
      "Epoch 27/50\n",
      "481/481 [==============================] - 4s 9ms/step - loss: 0.0137 - binary_accuracy: 0.9951\n",
      "Epoch 28/50\n",
      "481/481 [==============================] - 4s 9ms/step - loss: 0.0133 - binary_accuracy: 0.9953\n",
      "Epoch 29/50\n",
      "481/481 [==============================] - 4s 9ms/step - loss: 0.0158 - binary_accuracy: 0.9944\n",
      "Epoch 30/50\n",
      "481/481 [==============================] - 4s 9ms/step - loss: 0.0138 - binary_accuracy: 0.9950\n",
      "Epoch 31/50\n",
      "481/481 [==============================] - 4s 9ms/step - loss: 0.0114 - binary_accuracy: 0.9960\n",
      "Epoch 32/50\n",
      "481/481 [==============================] - 4s 9ms/step - loss: 0.0125 - binary_accuracy: 0.9956\n",
      "Epoch 33/50\n",
      "481/481 [==============================] - 4s 9ms/step - loss: 0.0156 - binary_accuracy: 0.9944\n",
      "Epoch 34/50\n",
      "481/481 [==============================] - 4s 9ms/step - loss: 0.0127 - binary_accuracy: 0.9955\n",
      "Epoch 35/50\n",
      "481/481 [==============================] - 4s 9ms/step - loss: 0.0110 - binary_accuracy: 0.9961\n",
      "Epoch 36/50\n",
      "481/481 [==============================] - 4s 9ms/step - loss: 0.0141 - binary_accuracy: 0.9950\n",
      "Epoch 37/50\n",
      "481/481 [==============================] - 4s 9ms/step - loss: 0.0132 - binary_accuracy: 0.9954\n",
      "Epoch 38/50\n",
      "481/481 [==============================] - 4s 9ms/step - loss: 0.0123 - binary_accuracy: 0.9957\n",
      "Epoch 39/50\n",
      "481/481 [==============================] - 4s 9ms/step - loss: 0.0137 - binary_accuracy: 0.9951\n",
      "Epoch 40/50\n",
      "481/481 [==============================] - 4s 9ms/step - loss: 0.0122 - binary_accuracy: 0.9957\n",
      "Epoch 41/50\n",
      "481/481 [==============================] - 4s 9ms/step - loss: 0.0115 - binary_accuracy: 0.9958\n",
      "Epoch 42/50\n",
      "481/481 [==============================] - 4s 9ms/step - loss: 0.0122 - binary_accuracy: 0.9958\n",
      "Epoch 43/50\n",
      "481/481 [==============================] - 4s 9ms/step - loss: 0.0149 - binary_accuracy: 0.9949\n",
      "Epoch 44/50\n",
      "481/481 [==============================] - 4s 9ms/step - loss: 0.0120 - binary_accuracy: 0.9958\n",
      "Epoch 45/50\n",
      "481/481 [==============================] - 4s 9ms/step - loss: 0.0125 - binary_accuracy: 0.9956\n",
      "Epoch 46/50\n",
      "481/481 [==============================] - 4s 9ms/step - loss: 0.0115 - binary_accuracy: 0.9960\n",
      "Epoch 47/50\n",
      "481/481 [==============================] - 4s 9ms/step - loss: 0.0118 - binary_accuracy: 0.9960\n",
      "Epoch 48/50\n",
      "481/481 [==============================] - 4s 9ms/step - loss: 0.0136 - binary_accuracy: 0.9952\n",
      "Epoch 49/50\n",
      "481/481 [==============================] - 4s 9ms/step - loss: 0.0114 - binary_accuracy: 0.9961\n",
      "Epoch 50/50\n",
      "481/481 [==============================] - 4s 9ms/step - loss: 0.0112 - binary_accuracy: 0.9960\n",
      "the ap score is: [0.510024293328871, 0.6295118483755024, 0.760349962537463, 0.8352099607568364, 0.8763969494047628]\n",
      "average is: 0.722298602880687\n"
     ]
    }
   ],
   "source": [
    "kf = KFold(5)\n",
    "ap_list = []\n",
    "rl_list = []\n",
    "ce_list = []\n",
    "\n",
    "#with tf.device(\"cpu:0\"):\n",
    "for train_index, test_index in kf.split(pssmpse):\n",
    "    train_x = pssmpse[train_index]\n",
    "    train_y = Y_4802[train_index]\n",
    "\n",
    "    model.compile(\"adam\", \"binary_crossentropy\", metrics=[\"binary_accuracy\"])\n",
    "    model.fit(train_x, train_y, batch_size=8, epochs=50)\n",
    "    \n",
    "    test_x = pssmpse[test_index]\n",
    "    test_y = Y_4802[test_index]\n",
    "    \n",
    "    pred_y = model.predict(test_x)\n",
    "    ap_score = avgprec(test_y, pred_y)\n",
    "    ap_list.append(ap_score)\n",
    "    rl_list.append(label_ranking_loss(test_y, pred_y))\n",
    "    ce_list.append(coverage_error(test_y, pred_y) - 1)\n",
    "    \n",
    "print('the ap score is:', ap_list)\n",
    "print('average is:', sum(ap_list)/len(ap_list))\n",
    "\n",
    "print('the rl score is:', rl_list)\n",
    "print('average is:', sum(rl_list)/len(rl_list))\n",
    "\n",
    "print('the ce score is:', ce_list)\n",
    "print('average is:', sum(ce_list)/len(ce_list))"
   ]
  },
  {
   "cell_type": "code",
   "execution_count": 42,
   "metadata": {},
   "outputs": [],
   "source": [
    "tmp = np.array([1,2,3,4,5,6])"
   ]
  },
  {
   "cell_type": "code",
   "execution_count": 43,
   "metadata": {},
   "outputs": [],
   "source": [
    "tmp = tmp.reshape((2,3))"
   ]
  },
  {
   "cell_type": "code",
   "execution_count": 45,
   "metadata": {},
   "outputs": [
    {
     "data": {
      "text/plain": [
       "'[[1 2 3]\\n [4 5 6]]'"
      ]
     },
     "execution_count": 45,
     "metadata": {},
     "output_type": "execute_result"
    }
   ],
   "source": [
    "str(tmp)"
   ]
  },
  {
   "cell_type": "code",
   "execution_count": 35,
   "metadata": {},
   "outputs": [
    {
     "data": {
      "text/plain": [
       "'abc [1 2 3]'"
      ]
     },
     "execution_count": 35,
     "metadata": {},
     "output_type": "execute_result"
    }
   ],
   "source": [
    "'abc {}'.format(np.array([1,2,3]))"
   ]
  },
  {
   "cell_type": "code",
   "execution_count": 41,
   "metadata": {},
   "outputs": [
    {
     "data": {
      "text/plain": [
       "array([[1, 2],\n",
       "       [4, 5]])"
      ]
     },
     "execution_count": 41,
     "metadata": {},
     "output_type": "execute_result"
    }
   ],
   "source": [
    "tmp[[0,1]][:, [0,1]]"
   ]
  },
  {
   "cell_type": "code",
   "execution_count": 38,
   "metadata": {},
   "outputs": [
    {
     "data": {
      "text/plain": [
       "array([[1, 2, 3],\n",
       "       [4, 5, 6]])"
      ]
     },
     "execution_count": 38,
     "metadata": {},
     "output_type": "execute_result"
    }
   ],
   "source": [
    "tmp "
   ]
  },
  {
   "cell_type": "code",
   "execution_count": 26,
   "metadata": {},
   "outputs": [
    {
     "data": {
      "text/plain": [
       "array([1, 4])"
      ]
     },
     "execution_count": 26,
     "metadata": {},
     "output_type": "execute_result"
    }
   ],
   "source": [
    "tmp.flatten()"
   ]
  },
  {
   "cell_type": "code",
   "execution_count": 28,
   "metadata": {},
   "outputs": [
    {
     "data": {
      "text/plain": [
       "array([1, 2, 3, 4, 5, 6])"
      ]
     },
     "execution_count": 28,
     "metadata": {},
     "output_type": "execute_result"
    }
   ],
   "source": [
    "tmp"
   ]
  },
  {
   "cell_type": "code",
   "execution_count": 32,
   "metadata": {},
   "outputs": [
    {
     "data": {
      "text/plain": [
       "(6, 1)"
      ]
     },
     "execution_count": 32,
     "metadata": {},
     "output_type": "execute_result"
    }
   ],
   "source": [
    "np.expand_dims(tmp, axis = 1).shape"
   ]
  },
  {
   "cell_type": "code",
   "execution_count": 46,
   "metadata": {},
   "outputs": [],
   "source": [
    "from scipy.io import loadmat, savemat"
   ]
  },
  {
   "cell_type": "code",
   "execution_count": 47,
   "metadata": {},
   "outputs": [],
   "source": [
    "sequence = loadmat('dataset_4802.mat')['Sequence']"
   ]
  },
  {
   "cell_type": "code",
   "execution_count": 62,
   "metadata": {},
   "outputs": [],
   "source": [
    "count = 0\n",
    "for i in sequence:\n",
    "    if len(i[0][0]) < 100:\n",
    "        count += 1"
   ]
  },
  {
   "cell_type": "code",
   "execution_count": 63,
   "metadata": {},
   "outputs": [
    {
     "data": {
      "text/plain": [
       "164"
      ]
     },
     "execution_count": 63,
     "metadata": {},
     "output_type": "execute_result"
    }
   ],
   "source": [
    "count"
   ]
  },
  {
   "cell_type": "code",
   "execution_count": 64,
   "metadata": {},
   "outputs": [
    {
     "data": {
      "text/plain": [
       "'MDEQEALNSIMNDLVALQMNRRHRMPGYETMKNKDTGHSNRQKKHNSSSSALLNSPTVTTSSCAGASEKKKFLSDVRIKFEHNGERRIIAFSRPVKYEDVEHKVTTVFGQPLDLHYMNNELSILLKNQDDLDKAIDILDRSSSMKSLRILLLSQDRNHNSSSPHSGVSRQVRIKASQSAGDINTIYQPPEPRSRHLSVSSQNPGRSSPPPGYVPERQQHIARQGSYTSINSEGEFIPETSEQCMLDPLSSAENSLSGSCQSLDRSADSPSFRKSRMSRAQSFPDNRQEYSDRETQLYDKGVKGGTYPRRYHVSVHHKDYSDGRRTFPRIRRHQGNLFTLVPSSRSLSTNGENMGLAVQYLDPRGRLRSADSENALSVQERNVPTKSPSAPINWRRGKLLGQGAFGRVYLCYDVDTGRELASKQVQFDPDSPETSKEVSALECEIQLLKNLQHERIVQYYGCLRDRAEKTLTIFMEYMPGGSVKDQLKAYGALTESVTRKYTRQILEGMSYLHSNMIVHRDIKGANILRDSAGNVKLGDFGASKRLQTICMSGTGMRSVTGTPYWMSPEVISGEGYGRKADVWSLGCTVVEMLTEKPPWAEYEAMAAIFKIATQPTNPQLPSHISEHGRDFLRRIFVEARQRPSAEELLTHHFAQLMY'"
      ]
     },
     "execution_count": 64,
     "metadata": {},
     "output_type": "execute_result"
    }
   ],
   "source": [
    "sequence[0][0][0]"
   ]
  },
  {
   "cell_type": "code",
   "execution_count": 65,
   "metadata": {},
   "outputs": [],
   "source": [
    "Y_4802 = loadmat('Y_4802.mat')['Y_4802']"
   ]
  },
  {
   "cell_type": "code",
   "execution_count": 72,
   "metadata": {},
   "outputs": [
    {
     "data": {
      "text/plain": [
       "array([[0, 0, 0, ..., 0, 0, 0],\n",
       "       [0, 0, 0, ..., 0, 0, 0],\n",
       "       [0, 0, 0, ..., 0, 0, 0],\n",
       "       ...,\n",
       "       [0, 0, 0, ..., 0, 0, 0],\n",
       "       [0, 0, 0, ..., 0, 0, 0],\n",
       "       [0, 0, 0, ..., 0, 0, 0]], dtype=uint8)"
      ]
     },
     "execution_count": 72,
     "metadata": {},
     "output_type": "execute_result"
    }
   ],
   "source": [
    "Y_4802"
   ]
  },
  {
   "cell_type": "code",
   "execution_count": 67,
   "metadata": {},
   "outputs": [],
   "source": [
    "sequence = loadmat('dataset_4802.mat')['Sequence']"
   ]
  },
  {
   "cell_type": "code",
   "execution_count": 152,
   "metadata": {},
   "outputs": [],
   "source": [
    "uniform_one_encode = []\n",
    "uniform_label = []\n",
    "for sq, lb in zip(sequence, Y_4802):\n",
    "    seq = sq[0][0]\n",
    "    if len(seq) > 100:\n",
    "        result = p_split(seq, 100)\n",
    "    else:\n",
    "        result = [seq]\n",
    "    for r in result:\n",
    "        uniform_one_encode.append(preprocess(r, 100))\n",
    "        uniform_label.append(lb)\n",
    "#     print(preprocess(sq[0][0][0:95], 100), lb)\n",
    "#     t = preprocess(sq[0][0][0:95], 100)"
   ]
  },
  {
   "cell_type": "code",
   "execution_count": 153,
   "metadata": {},
   "outputs": [
    {
     "data": {
      "text/plain": [
       "(55950, 100, 22)"
      ]
     },
     "execution_count": 153,
     "metadata": {},
     "output_type": "execute_result"
    }
   ],
   "source": [
    "np.array(uniform_one_encode).shape"
   ]
  },
  {
   "cell_type": "code",
   "execution_count": 154,
   "metadata": {},
   "outputs": [
    {
     "data": {
      "text/plain": [
       "(55950, 37)"
      ]
     },
     "execution_count": 154,
     "metadata": {},
     "output_type": "execute_result"
    }
   ],
   "source": [
    "np.array(uniform_label).shape"
   ]
  },
  {
   "cell_type": "code",
   "execution_count": null,
   "metadata": {},
   "outputs": [],
   "source": [
    "uniform_one_encode"
   ]
  },
  {
   "cell_type": "code",
   "execution_count": 133,
   "metadata": {},
   "outputs": [],
   "source": [
    "def p_split(p_seq, l):\n",
    "    result = []\n",
    "    s = 0\n",
    "    e = s + l\n",
    "    while (s + l//2) < len(p_seq):\n",
    "        t = p_seq[s:e]\n",
    "        if len(t) < l:\n",
    "            t = p_seq[-l:]\n",
    "        s = s + l//2\n",
    "        e = s + l\n",
    "        result.append(t)\n",
    "    return result"
   ]
  },
  {
   "cell_type": "code",
   "execution_count": 75,
   "metadata": {},
   "outputs": [
    {
     "data": {
      "text/plain": [
       "array([2, 3, 4, 5, 6, 7, 8, 9])"
      ]
     },
     "execution_count": 75,
     "metadata": {},
     "output_type": "execute_result"
    }
   ],
   "source": [
    "np.arange(2, 10)"
   ]
  },
  {
   "cell_type": "code",
   "execution_count": null,
   "metadata": {},
   "outputs": [],
   "source": [
    "uniform_one_encode = []\n",
    "for s in sequence:\n",
    "    p_seq = list(s[0][0])\n",
    "    seq_num = np.array([amino_code[x] for x in p_seq])\n",
    "    tmp = np.zeros((seq_num.size, 22))\n",
    "    s = (100 - len(seq_num.size))//2\n",
    "    e = s + seq_num.size\n",
    "    tmp[np.arange(s, e), seq_num] = 1\n",
    "    extend_one_encode.append(tmp)"
   ]
  },
  {
   "cell_type": "code",
   "execution_count": 89,
   "metadata": {},
   "outputs": [],
   "source": [
    "def preprocess(p_seq, l):\n",
    "    seq_num = np.array([amino_code[x] for x in p_seq])\n",
    "    tmp = np.zeros((l, 22))\n",
    "    s = (100 - seq_num.size)//2\n",
    "    e = s + seq_num.size\n",
    "    tmp[np.arange(s, e), seq_num] = 1\n",
    "    return tmp"
   ]
  },
  {
   "cell_type": "code",
   "execution_count": 78,
   "metadata": {},
   "outputs": [],
   "source": [
    "amino_code = {'A':0, 'C':1, 'D':2, 'E':3, 'F':4, 'G':5, 'H':6,\n",
    "             'I':7, 'K':8, 'L':9, 'M':10, 'N':11, 'P':12, \n",
    "             'Q':13, 'R':14, 'S':15, 'T':16, 'U':17, 'V':18,\n",
    "             'W':19, 'X':20, 'Y':21 }"
   ]
  },
  {
   "cell_type": "code",
   "execution_count": 176,
   "metadata": {},
   "outputs": [
    {
     "name": "stdout",
     "output_type": "stream",
     "text": [
      "KFold(n_splits=2, random_state=None, shuffle=False)\n",
      "TRAIN: [2 3] TEST: [0 1]\n",
      "TRAIN: [0 1] TEST: [2 3]\n"
     ]
    }
   ],
   "source": [
    "import numpy as np\n",
    "from sklearn.model_selection import KFold\n",
    "X = np.array([[1, 2], [3, 4], [1, 2], [3, 4]])\n",
    "y = np.array([1, 2, 3, 4])\n",
    "kf = KFold(n_splits=2, shuffle = False)\n",
    "kf.get_n_splits(X)\n",
    "\n",
    "print(kf)\n",
    "\n",
    "for train_index, test_index in kf.split(X):\n",
    "    print(\"TRAIN:\", train_index, \"TEST:\", test_index)\n",
    "    X_train, X_test = X[train_index], X[test_index]\n",
    "    y_train, y_test = y[train_index], y[test_index]"
   ]
  },
  {
   "cell_type": "code",
   "execution_count": 25,
   "metadata": {},
   "outputs": [],
   "source": [
    "oridata = loadmat('dataset_4802.mat')"
   ]
  },
  {
   "cell_type": "code",
   "execution_count": 26,
   "metadata": {},
   "outputs": [
    {
     "data": {
      "text/plain": [
       "dict_keys(['__header__', '__version__', '__globals__', 'Header', 'Sequence', 'Y_4802', 'Y_4802_label'])"
      ]
     },
     "execution_count": 26,
     "metadata": {},
     "output_type": "execute_result"
    }
   ],
   "source": [
    "oridata.keys()"
   ]
  },
  {
   "cell_type": "code",
   "execution_count": 29,
   "metadata": {},
   "outputs": [
    {
     "data": {
      "text/plain": [
       "array([[array(['MDEQEALNSIMNDLVALQMNRRHRMPGYETMKNKDTGHSNRQKKHNSSSSALLNSPTVTTSSCAGASEKKKFLSDVRIKFEHNGERRIIAFSRPVKYEDVEHKVTTVFGQPLDLHYMNNELSILLKNQDDLDKAIDILDRSSSMKSLRILLLSQDRNHNSSSPHSGVSRQVRIKASQSAGDINTIYQPPEPRSRHLSVSSQNPGRSSPPPGYVPERQQHIARQGSYTSINSEGEFIPETSEQCMLDPLSSAENSLSGSCQSLDRSADSPSFRKSRMSRAQSFPDNRQEYSDRETQLYDKGVKGGTYPRRYHVSVHHKDYSDGRRTFPRIRRHQGNLFTLVPSSRSLSTNGENMGLAVQYLDPRGRLRSADSENALSVQERNVPTKSPSAPINWRRGKLLGQGAFGRVYLCYDVDTGRELASKQVQFDPDSPETSKEVSALECEIQLLKNLQHERIVQYYGCLRDRAEKTLTIFMEYMPGGSVKDQLKAYGALTESVTRKYTRQILEGMSYLHSNMIVHRDIKGANILRDSAGNVKLGDFGASKRLQTICMSGTGMRSVTGTPYWMSPEVISGEGYGRKADVWSLGCTVVEMLTEKPPWAEYEAMAAIFKIATQPTNPQLPSHISEHGRDFLRRIFVEARQRPSAEELLTHHFAQLMY'],\n",
       "      dtype='<U657')],\n",
       "       [array(['MDTEGFGELLQQAEQLAAETEGISELPHVERNLQEIQQAGERLRSRTLTRTSQETADVKASVLLGSRGLDISHISQRLESLSAATTFEPLEPVKDTDIQGFLKNEKDNALLSAIEESRKRTFGMAEEYHRESMLVEWEQVKQRILHTLLASGEDALDFTQESEPSYISDVGPPGRSSLDNIEMAYARQIYIYNEKIVNGHLQPNLVDLCASVAELDDKSISDMWTMVKQMTDVLLTPATDALKNRSSVEVRMEFVRQALAYLEQSYKNYTLVTVFGNLHQAQLGGVPGTYQLVRSFLNIKLPAPLPGLQDGEVEGHPVWALIYYCMRCGDLLAASQVVNRAQHQLGEFKTWFQEYMNSKDRRLSPATENKLRLHYRRALRNNTDPYKRAVYCIIGRCDVTDNQSEVADKTEDYLWLKLNQVCFDDDGTSSPQDRLTLSQFQKQLLEDYGESHFTVNQQPFLYFQVLFLTAQFEAAVAFLFRMERLRCHAVHVALVLFELKLLLKSSGQRAQLLSHEPGDPPCLRRLNFVRLLMLYTRKFESTDPREALQYFYFLRDEKDSQGENMFLRCVSELVIESREFDMILGKLENDGSRKPGVIDKFTSDTKPIINKVASVAENKGLFEEAAKLYDLAKNADKVLELMNKLLSPVVPQISAPQSNKERLKNMALSIAERYRAQGISANKFVDSTFYLLLDLITFFDEYHSGHIDRAFDIIERLKLVPLNQESVEERVAAFRNFSDEIRHNLSEVLLATMNILFTQFKRLKGTSPSSSSRPQRVIEDRDSQLRSQARTLITFAGMIPYRTSGDTNARLVQMEVLMN'],\n",
       "      dtype='<U819')],\n",
       "       [array(['MDGEATVKPGEQKVPLWTHGWPPDDPSPSFAAGSSFALPQKRPHPRWLWEGSLPSRTHLRAMGTLRPSSPLCWREESSFAAPNSLKGSRLVSGEPGGAVTIQCHYAPSSVNRHQRKYWCRLGPPRWICQTIVSTNQYTHHRYRDRVALTDFPQRGLFVVRLSQLSPDDIGCYLCGIGSENNMLFLSMNLTISAGPASTLPTATPAAGELTMRSYGTASPVANRWTPGTTQTLGQGTAWDTVASTPGTSKTTASAEGRRTPGATRPAAPGTGSWAEGSVKAPAPIPESPPSKSRSMSNTTEGVWEGTRSSVTNRARASKDRREMTTTKADRPREDIEGVRIALDAAKKVLGTIGPPALVSETLAWEILPQATPVSKQQSQGSIGETTPAAGMWTLGTPAADVWILGTPAADVWTSMEAASGEGSAAGDLDAATGDRGPQATLSQTPAVGPWGPPGKESSVKRATCPGLSTLKEIKVSAVLTQNPHSLLCVSAAQEAERVTLIQMTHFLEVNPQADQLPHVERKMLQDDSLPAGASLTAPERNPGP'],\n",
       "      dtype='<U544')],\n",
       "       ...,\n",
       "       [array(['MDRMKKIKRQLSMTLRGGRGIDKTNGAPEQIGLDESGGGGGSDPGEAPTRAAPGELRSARGPLSSAPEIVHEDLKMGSDGESDQASATSSDEVQSPVRVRMRNHPPRKISTEDINKRLSLPADIRLPEGYLEKLTLNSPIFDKPLSRRLRRVSLSEIGFGKLETYIKLDKLGEGTYATVYKGKSKLTDNLVALKEIRLEHEEGAPCTAIREVSLLKDLKHANIVTLHDIIHTEKSLTLVFEYLDKDLKQYLDDCGNIINMHNVKLFLFQLLRGLAYCHRQKVLHRDLKPQNLLINERGELKLADFGLARAKSIPTKTYSNEVVTLWYRPPDILLGSTDYSTQIDMWGVGCIFYEMATGRPLFPGSTVEEQLHFIFRILGTPTEETWPGILSNEEFKTYNYPKYRAEALLSHAPRLDSDGADLLTKLLQFEGRNRISAEDAMKHPFFLSLGERIHKLPDTTSIFALKEIQLQKEASLRSSSMPDSGRPAFRVVDTEF'],\n",
       "      dtype='<U496')],\n",
       "       [array(['MGAYLSQPNTVKCSGDGVGAPRLPLPYGFSAMQGWRVSMEDAHNCIPELDSETAMFSVYDGHGGEEVALYCAKYLPDIIKDQKAYKEGKLQKALEDAFLAIDAKLTTEEVIKELAQIAGRPTEDEDEKEKVADEDDVDNEEAALLHEEATMTIEELLTRYGQNCHKGPPHSKSGGGTGEEPGSQGLNGEAGPEDSTRETPSQENGPTAKAYTGFSSNSERGTEAGQVGEPGIPTGEAGPSCSSASDKLPRVAKSKFFEDSEDESDEAEEEEEDSEECSEEEDGYSSEEAENEEDEDDTEEAEEDDEEEEEEMMVPGMEGKEEPGSDSGTTAVVALIRGKQLIVANAGDSRCVVSEAGKALDMSYDHKPEDEVELARIKNAGGKVTMDGRVNGGLNLSRAIGDHFYKRNKNLPPEEQMISALPDIKVLTLTDDHEFMVIACDGIWNVMSSQEVVDFIQSKISQRDENGELRLLSSIVEELLDQCLAPDTSGDGTGCDNMTCIIICFKPRNTAELQPESGKRKLEEVLSTEGAEENGNSDKKKKAKRD'],\n",
       "      dtype='<U546')],\n",
       "       [array(['MGLLRIMMPPKLQLLAVVAFAVAMLFLENQIQKLEESRSKLERAIARHEVREIEQRHTMDGPRQDATLDEEEDMVIIYNRVPKTASTSFTNIAYDLCAKNKYHVLHINTTKNNPVMSLQDQVRFVKNITSWKEMKPGFYHGHVSYLDFAKFGVKKKPIYINVIRDPIERLVSYYYFLRFGDDYRPGLRRRKQGDKKTFDECVAEGGSDCAPEKLWLQIPFFCGHSSECWNVGSRWAMDQAKYNLINEYFLVGVTEELEDFIMLLEAALPRFFRGATELYRTGKKSHLRKTTEKKLPTKQTIAKLQQSDIWKMENEFYEFALEQFQFIRAHAVREKDGDLYILAQNFFYEKIYPKSN'],\n",
       "      dtype='<U356')]], dtype=object)"
      ]
     },
     "execution_count": 29,
     "metadata": {},
     "output_type": "execute_result"
    }
   ],
   "source": [
    "oridata['Sequence']"
   ]
  },
  {
   "cell_type": "code",
   "execution_count": 6,
   "metadata": {},
   "outputs": [],
   "source": [
    "X_4802_feature = loadmat('feature_4802.mat')"
   ]
  },
  {
   "cell_type": "code",
   "execution_count": 12,
   "metadata": {},
   "outputs": [
    {
     "data": {
      "text/plain": [
       "dict_keys(['__header__', '__version__', '__globals__', 'ppab', 'ppdwt', 'pppse', 'pssmab', 'pssmdwt', 'pssmpse', 'label'])"
      ]
     },
     "execution_count": 12,
     "metadata": {},
     "output_type": "execute_result"
    }
   ],
   "source": [
    "X_4802_feature.keys()"
   ]
  },
  {
   "cell_type": "code",
   "execution_count": 18,
   "metadata": {},
   "outputs": [
    {
     "data": {
      "text/plain": [
       "1.0"
      ]
     },
     "execution_count": 18,
     "metadata": {},
     "output_type": "execute_result"
    }
   ],
   "source": [
    "np.amax(X_4802_feature['pppse'])"
   ]
  },
  {
   "cell_type": "code",
   "execution_count": 19,
   "metadata": {},
   "outputs": [
    {
     "data": {
      "text/plain": [
       "12510.368390131456"
      ]
     },
     "execution_count": 19,
     "metadata": {},
     "output_type": "execute_result"
    }
   ],
   "source": [
    "np.amax(X_4802_feature['ppdwt'])"
   ]
  },
  {
   "cell_type": "code",
   "execution_count": 20,
   "metadata": {},
   "outputs": [],
   "source": [
    "tmp = X_4802_feature['ppdwt']\n",
    "tmp = (tmp - np.amin(tmp))/(np.amax(tmp) - np.amin(tmp))"
   ]
  },
  {
   "cell_type": "code",
   "execution_count": 24,
   "metadata": {},
   "outputs": [
    {
     "data": {
      "text/plain": [
       "250.0"
      ]
     },
     "execution_count": 24,
     "metadata": {},
     "output_type": "execute_result"
    }
   ],
   "source": [
    "np.amax(tmp * 250)"
   ]
  },
  {
   "cell_type": "code",
   "execution_count": 86,
   "metadata": {},
   "outputs": [],
   "source": [
    "d4 = loadmat('dataset_3106.mat')"
   ]
  },
  {
   "cell_type": "code",
   "execution_count": 87,
   "metadata": {},
   "outputs": [
    {
     "data": {
      "text/plain": [
       "dict_keys(['__header__', '__version__', '__globals__', 'Y_3106', 'label_name', 'protein_list', 'sequence_3106'])"
      ]
     },
     "execution_count": 87,
     "metadata": {},
     "output_type": "execute_result"
    }
   ],
   "source": [
    "d4.keys()"
   ]
  },
  {
   "cell_type": "code",
   "execution_count": 89,
   "metadata": {},
   "outputs": [
    {
     "data": {
      "text/plain": [
       "array([[array(['MFRRKLTALDYHNPAGFNCKDETEFRNFIVWLEDQKIRHYKIEDRGNLRNIHSSDWPKFFEKYLRDVNCPFKIQDRQEAIDWLLGLAVRLEYGDNAEKYKDLVPDNSKTADNATKNAEPLINLDVNNPDFKAGVMALANLLQIQRHDDYLVMLKAIRILVQERLTQDAVAKANQTKEGLPVALDKHILGFDTGDAVLNEAAQILRLLHIEELRELQTKINEAIVAVQAIIADPKTDHRLGKVGR'],\n",
       "      dtype='<U244')],\n",
       "       [array(['MIDSVKLRRDSAADFFSHYEYLCALQNSVPLPAVRACLREGVLDFNADRLRGVDWAPLLSTLKINKDLPLVSIKSFFQPWLGDTGSDMNKFCRSRVPAIRYKDVTFQLCKALKGCLSISSVLKNLELNGLILRERDLTILAKGLNKSASLVHLSLANCPIGDGGLEIICQGIKSSITLKTVNFTGCNLTWQGADHMAKILKYQTMRRHEETWAESLRYRRPDLDCMAGLRRITLNCNTLIGDLGACAFADSLSEDLWLRALDLQQCGLTNEGAKALLEALETNTTLVVLDIRKNPLIDHSMMKAVIKKVLQNGRSAKSEYQWITSPSVKEPSKTAKQKRRTIILGSGHKGKATIRIGLATKKPVSSGRKHSLGKEYYAPAPLPPGVSGFLPWRTAERAKRHRGFPLIKTRDICNQLQQPGFPVTVTVESPSSSEVEEVDDSSESVHEVPEKTSIEQEALQEKLEECLKQLKEERVIRLKVDKRVSELEHENAQLRNINFSLSEALHAQSLTNMILDDEGVLGSIENSFQKFHAFLDLLKDAGLGQLATMAGIDQSDFQLLGHPQMTSTVSNPPKEEKKALEDEKPEPKQNALGQMQNIQFQKITGDARIPLPLDSFPVPVSTPEGLGTSSNNLGVPATEQRQESFEGFIARMCSPSPDATSGTGSQRKEEELSRNSRSSSEKKTKTESH'],\n",
       "      dtype='<U689')],\n",
       "       [array(['MEPRMESCLAQVLQKDVGKRLQVGQELIDYFSDKQKSADLEHDQTMLDKLVDGLATSWVNSSNYKVVLLGMDILSALVTRLQDRFKAQIGTVLPSLIDRLGDAKDSVREQDQTLLLKIMDQAANPQYVWDRMLGGFKHKNFRTREGICLCLIATLNASGAQTLTLSKIVPHICNLLGDPNSQVRDAAINSLVEIYRHVGERVRADLSKKGLPQSRLNVIFTKFDEVQKSGNMIQSANDKNFDDEDSVDGNRPSSASSTSSKAPPSSRRNVGMGTTRRLGSSTLGSKSSAAKEGAGAVDEEDFIKAFDDVPVVQIYSSRDLEESINKIREILSDDKHDWEQRVNALKKIRSLLLAGAAEYDNFFQHLRLLDGAFKLSAKDLRSQVVREACITLGHLSSVLGNKFDHGAEAIMPTIFNLIPNSAKIMATSGVVAVRLIIRHTHIPRLIPVITSNCTSKSVAVRRRCFEFLDLLLQEWQTHSLERHISVLAETIKKGIHDADSEARIEARKCYWGFHSHFSREAEHLYHTLESSYQKALQSHLKNSDSIVSLPQSDRSSSSSQESLNRPLSAKRSPTGSTTSRASTVSTKSVSTTGSLQRSRSDIDVNAAASAKSKVSSSSGTTPFSSAAALPPGSYASLGRIRTRRQSSGSATNVASTPDNRGRSRAKVVSQSQRSRSANPAGAGSRSSSPGKLLGSGYGGLTGGSSRGPPVTPSSEKRSKIPRSQGCSRETSPNRIGLARSSRIPRPSMSQGCSRDTSRESSRDTSPARGFPPLDRFGLGQPGRIPGSVNAMRVLSTSTDLEAAVADALKKPVRRRYEPYGMYSDDDANSDASSVCSERSYGSRNGGIPHYLRQTEDVAEVLNHCASSNWSERKEGLLGLQNLLKSQRTLSRVELKRLCEIFTRMFADPHSKRVFSMFLETLVDFIIIHKDDLQDWLFVLLTQLLKKMGADLLGSVQAKVQKALDVTRDSFPFDQQFNILMRFIVDQTQTPNLKVKVAILKYIESLARQMDPTDFVNSSETRLAVSRIITWTTEPKSSDVRKAAQIVLISLFELNTPEFTMLLGALPKTFQDGATKLLHNHLKNSSNTSVGSPSNTIGRTPSRHTSSRTSPLTSPTNCSHGGLSPSRLWGWSADGLAKHPPPFSQPNSIPTAPSHKALRRSYSPSMLDYDTENLNSEEIYSSLRGVTEAIEKFSFRSQEDLNEPIKRDGKKECDIVSRDGGAASPATEGRGGSEVEGGRTALDNKTSLLNTQPPRAFPGPRARDYNPYPYSDAINTYDKTALKEAVFDDDMEQLRDVPIDHSDLVADLLKELSNHNERVEERKGALLELLKITREDSLGVWEEHFKTILLLLLETLGDKDHSIRALALRVLREILRNQPARFKNYAELTIMKTLEAHKDSHKEVVRAAEEAASTLASSIHPEQCIKVLCPIIQTADYPINLAAIKMQTKVVERIAKESLLQLLVDIIPGLLQGYDNTESSVRKASVFCLVAIYSVIGEDLKPHLAQLTGSKMKLLNLYIKRAQTTNSNSSSSSDVSTHS'],\n",
       "      dtype='<U1538')],\n",
       "       ...,\n",
       "       [array(['MVALSLKICVRHCNVVKTMQFEPSTAVYDACRVIRERVPEAQTGQASDYGLFLSDEDPRKGIWLEAGRTLDYYMLRNGDILEYKKKQRPQKIRMLDGSVKTVMVDDSKTVGELLVTICSRIGITNYEEYSLIQETIEEKKEEGTGTLKKDRTLLRDERKMEKLKAKLHTDDDLNWLDHSRTFREQGVDENETLLLRRKFFYSDQNVDSRDPVQLNLLYVQARDDILNGSHPVSFEKACEFGGFQAQIQFGPHVEHKHKPGFLDLKEFLPKEYIKQRGAEKRIFQAHKNCGEMSEIEAKVKYVKLARSLRTYGVSFFLVKEKMKGKNKLVPRLLGITKDSVMRVDEKTKEVLQEWPLTTVKRWAASPKSFTLDFGEYQESYYSVQTTEGEQISQLIAGYIDIILKKKQSKDRFGLEGDEESTMLEESVSPKKSTILQQQFNRTGKAEHGSVALPAVMRSGSSGPETFNVGSMPSPQQQVMVGQMHRGHMPPLTSAQQALMGTINTSMHAVQQAQDDLSELDSLPPLGQDMASRVWVQNKVDESKHEIHSQVDAITAGTASVVNLTAGDPADTDYTAVGCAITTISSNLTEMSKGVKLLAALMDDEVGSGEDLLRAARTLAGAVSDLLKAVQPTSGEPRQTVLTAAGSIGQASGDLLRQIGENETDERFQDVLMSLAKAVANAAAMLVLKAKNVAQVAEDTVLQNRVIAAATQCALSTSQLVACAKVVSPTISSPVCQEQLIEAGKLVDRSVENCVRACQAATTDSELLKQVSAAASVVSQALHDLLQHVRQFASRGEPIGRYDQATDTIMCVTESIFSSMGDAGEMVRQARVLAQATSDLVNAMRSDAEAEIDMENSKKLLAAAKLLADSTARMVEAAKGAAANPENEDQQQRLREAAEGLRVATNAAAQNAIKKKIVNRLEVAAKQAAAAATQTIAASQNAAVSNKNPAAQQQLVQSCKAVADHIPQLVQGVRGSQAQAEDLSAQLALIISSQNFLQPGSKMVSSAKAAVPTVSDQAAAMQLSQCAKNLATSLAELRTASQKAHEACGPMEIDSALNTVQTLKNELQDAKMAAVESQLKPLPGETLEKCAQDLGSTSKAVGSSMAQLLTCAAQGNEHYTGVAARETAQALKTLAQAARGVAASTTDPAAAHAMLDSARDVMEGSAMLIQEAKQALIAPGDAERQQRLAQVAKAVSHSLNNCVNCLPGQKDVDVALKSIGESSKKLLVDSLPPSTKPFQEAQSELNQAAADLNQSAGEVVHATRGQSGELAAASGKFSDDFDEFLDAGIEMAGQAQTKEDQIQVIGNLKNISMASSKLLLAAKSLSVDPGAPNAKNLLAAAARAVTESINQLITLCTQQAPGQKECDNALRELETVKGMLDNPNEPVSDLSYFDCIESVMENSKVLGESMAGISQNAKTGDLPAFGECVGIASKALCGLTEAAAQAAYLVGISDPNSQAGHQGLVDPIQFARANQAIQMACQNLVDPGSSPSQVLSAATIVAKHTSALCNACRIASSKTANPVAKRHFVQSAKEVANSTANLVKTIKALDGDFSEDNRNKCRIATAPLIEAVENLTAFASNPEFVSIPAQISSEGSQAQEPILVSAKTMLESSSYLIRTARSLAINPKDPPTWSVLAGHSHTVSDSIKSLITSIRDKAPGQRECDYSIDGINRCIRDIEQASLAAVSQSLATRDDISVEALQEQLTSVVQEIGHLIDPIATAARGEAAQLGHKVTQLASYFEPLILAAVGVASKILDHQQQMTVLDQTKTLAESALQMLYAAKEGGGNPKAQHTHDAITEAAQLMKEAVDDIMVTLNEAASEVGLVGGMVDAIAEAMSKLDEGTPPEPKGTFVDYQTTVVKYSKAIAVTAQEMMTKSVTNPEELGGLASQMTSDYGHLAFQGQMAAATAEPEEIGFQIRTRVQDLGHGCIFLVQKAGALQVCPTDSYTKRELIECARAVTEKVSLVLSALQAGNKGTQACITAATAVSGIIADLDTTIMFATAGTLNAENSETFADHRENILKTAKALVEDTKLLVSGAASTPDKLAQAAQSSAATITQLAEVVKLGAASLGSDDPETQVVLINAIKDVAKALSDLISATKGAASKPVDDPSMYQLKGAAKVMVTNVTSLLKTVKAVEDEATRGTRALEATIECIKQELTVFQSKDVPEKTSSPEESIRMTKGITMATAKAVAAGNSCRQEDVIATANLSRKAVSDMLTACKQASFHPDVSDEVRTRALRFGTECTLGYLDLLEHVLVILQKPTPEFKQQLAAFSKRVAGAVTELIQAAEAMKGTEWVDPEDPTVIAETELLGAAASIEAAAKKLEQLKPRAKPKQADETLDFEEQILEAAKSIAAATSALVKSASAAQRELVAQGKVGSIPANAADDGQWSQGLISAARMVAAATSSLCEAANASVQGHASEEKLISSAKQVAASTAQLLVACKVKADQDSEAMRRLQAAGNAVKRASDNLVRAAQKAAFGKADDDDVVVKTKFVGGIAQIIAAQEEMLKKERELEEARKKLAQIRQQQYKFLPTELREDEG'],\n",
       "      dtype='<U2542')],\n",
       "       [array(['MFADLDYDIEEDKLGIPTVPGKVTLQKDAQNLIGISIGGGAQYCPCLYIVQVFDNTPAALDGTVAAGDEITGVNGRSIKGKTKVEVAKMIQEVKGEVTIHYNKLQADPKQGMSLDIVLKKVKHRLVENMSSGTADALGLSRAILCNDGLVKRLEELERTAELYKGMTEHTKNLLRAFYELSQTHRAFGDVFSVIGVREPQPAASEAFVKFADAHRSIEKFGIRLLKTIKPMLTDLNTYLNKAIPDTRLTIKKYLDVKFEYLSYCLKVKEMDDEEYSCIALGEPLYRVSTGNYEYRLILRCRQEARARFSQMRKDVLEKMELLDQKHVQDIVFQLQRLVSTMSKYYNDCYAVLRDADVFPIEVDLAHTTLAYGLNQEEFTDGEEEEEEEDTAAGEPSRDTRGAAGPLDKGGSWCDS'],\n",
       "      dtype='<U415')],\n",
       "       [array(['MVVLNPMTLGIYLQLFFLSIVSQPTFINSVLPISAALPSLDQKKRGGHKACCLLTPPPPPLFPPPFFRGGRSPLLSPDMKNLMLELETSQSPCMQGSLGSPGPPGPQGPPGLPGKTGPKGEKGELGRPGRKGRPGPPGVPGMPGPIGWPGPEGPRGEKGDLGMMGLPGSRGPMGSKGYPGSRGEKGSRGEKGDLGPKGEKGFPGFPGMLGQKGEMGPKGEPGIAGHRGPTGRPGKRGKQGQKGDSGVMGPPGKPGPSGQPGRPGPPGPPPAGQLIMGPKGERGFPGPPGRCLCGPTMNVNNPSYGESVYGPSSPRVPVIFVVNNQEELERLNTQNAIAFRRDQRSLYFKDSLGWLPIQLTPFYPVDYTADQHGTCGDGLLQPGEECDDGNSDVGDDCIRCHRAYCGDGHRHEGVEDCDGSDFGYLTCETYLPGSYGDLQCTQYCYIDSTPCRYFT'],\n",
       "      dtype='<U455')]], dtype=object)"
      ]
     },
     "execution_count": 89,
     "metadata": {},
     "output_type": "execute_result"
    }
   ],
   "source": [
    "d4['sequence_3106']"
   ]
  },
  {
   "cell_type": "code",
   "execution_count": 34,
   "metadata": {},
   "outputs": [
    {
     "data": {
      "text/plain": [
       "(37, 1)"
      ]
     },
     "execution_count": 34,
     "metadata": {},
     "output_type": "execute_result"
    }
   ],
   "source": [
    "d4['Y_4802_label'].shape"
   ]
  },
  {
   "cell_type": "code",
   "execution_count": 75,
   "metadata": {},
   "outputs": [],
   "source": [
    "label = d4['Y_4802_label']"
   ]
  },
  {
   "cell_type": "code",
   "execution_count": 76,
   "metadata": {},
   "outputs": [
    {
     "name": "stdout",
     "output_type": "stream",
     "text": [
      "[array(['Apical Plasma Membrane'], dtype='<U22')]\n",
      "[array(['Basolateral Plasma Membrane'], dtype='<U27')]\n",
      "[array(['Cellular Component Unknown'], dtype='<U26')]\n",
      "[array(['Centrosome'], dtype='<U10')]\n",
      "[array(['Cytoplasm'], dtype='<U9')]\n",
      "[array(['Cytoplasmic Vesicles'], dtype='<U20')]\n",
      "[array(['Cytoskeleton'], dtype='<U12')]\n",
      "[array(['ERGIC'], dtype='<U5')]\n",
      "[array(['Early Endosomes'], dtype='<U15')]\n",
      "[array(['Endoplasmic Reticulum'], dtype='<U21')]\n",
      "[array(['Endosomes'], dtype='<U9')]\n",
      "[array(['Extracellular'], dtype='<U13')]\n",
      "[array(['Golgi Apparatus'], dtype='<U15')]\n",
      "[array(['Golgi Cis Cisterna'], dtype='<U18')]\n",
      "[array(['Golgi Trans Cisterna'], dtype='<U20')]\n",
      "[array(['Golgi Trans Face'], dtype='<U16')]\n",
      "[array(['Inner Mitochondrial Membrane'], dtype='<U28')]\n",
      "[array(['Late Endosomes'], dtype='<U14')]\n",
      "[array(['Lipid Particles'], dtype='<U15')]\n",
      "[array(['Lysosomes'], dtype='<U9')]\n",
      "[array(['Medial-Golgi'], dtype='<U12')]\n",
      "[array(['Melanosome'], dtype='<U10')]\n",
      "[array(['Microtubule'], dtype='<U11')]\n",
      "[array(['Microtubule Organizing Center'], dtype='<U29')]\n",
      "[array(['Mitochondria'], dtype='<U12')]\n",
      "[array(['Nuclear Envelope'], dtype='<U16')]\n",
      "[array(['Nucleolus'], dtype='<U9')]\n",
      "[array(['Nucleus'], dtype='<U7')]\n",
      "[array(['Outer Mitochondrial Membrane'], dtype='<U28')]\n",
      "[array(['Peroxisome'], dtype='<U10')]\n",
      "[array(['Plasma Membrane'], dtype='<U15')]\n",
      "[array(['Sarcolemma'], dtype='<U10')]\n",
      "[array(['Secretory Granule'], dtype='<U17')]\n",
      "[array(['Secretory Vesicles'], dtype='<U18')]\n",
      "[array(['Synaptic Vesicles'], dtype='<U17')]\n",
      "[array(['Tight Junction'], dtype='<U14')]\n",
      "[array(['Transport Vesicle'], dtype='<U17')]\n"
     ]
    }
   ],
   "source": [
    "for l in label:\n",
    "    print(l)"
   ]
  },
  {
   "cell_type": "code",
   "execution_count": 38,
   "metadata": {},
   "outputs": [],
   "source": [
    "l4 = d4['Y_4802']"
   ]
  },
  {
   "cell_type": "code",
   "execution_count": 51,
   "metadata": {},
   "outputs": [
    {
     "data": {
      "text/plain": [
       "array([[0, 0, 0, 0, 0, 0, 0, 0, 0, 0, 0, 0, 0, 0, 0, 0, 0, 0, 0, 0, 0, 0,\n",
       "        0, 0, 0, 1, 0, 1, 0, 0, 0, 0, 0, 0, 0, 0, 0],\n",
       "       [0, 0, 0, 0, 0, 0, 0, 0, 0, 0, 1, 0, 0, 0, 0, 0, 0, 0, 0, 0, 0, 0,\n",
       "        0, 0, 0, 0, 0, 0, 0, 0, 1, 0, 0, 0, 0, 0, 0]], dtype=uint8)"
      ]
     },
     "execution_count": 51,
     "metadata": {},
     "output_type": "execute_result"
    }
   ],
   "source": [
    "l4[[1,2]] "
   ]
  },
  {
   "cell_type": "code",
   "execution_count": 58,
   "metadata": {},
   "outputs": [
    {
     "data": {
      "text/plain": [
       "0"
      ]
     },
     "execution_count": 58,
     "metadata": {},
     "output_type": "execute_result"
    }
   ],
   "source": []
  },
  {
   "cell_type": "code",
   "execution_count": 62,
   "metadata": {},
   "outputs": [],
   "source": [
    "res = np.zeros((37, 37))\n",
    "for i in range(37):\n",
    "    for j in range(i + 1, 37):\n",
    "        # print(i, j)\n",
    "        res[i, j] = sum(l4[l4[:, i] == 1][:, j] == 1)"
   ]
  },
  {
   "cell_type": "code",
   "execution_count": 74,
   "metadata": {},
   "outputs": [
    {
     "name": "stdout",
     "output_type": "stream",
     "text": [
      "0 0 0 0 1 0 0 0 0 0 0 0 0 0 0 0 0 0 0 0 0 0 0 0 0 0 0 0 0 0 15 0 0 0 0 0 0\n",
      "0 0 0 0 0 0 0 0 0 0 0 0 1 0 0 0 0 0 0 0 0 0 0 0 0 0 0 0 0 0 28 0 0 0 0 0 0\n",
      "0 0 0 0 0 0 0 0 0 0 0 0 0 0 0 0 0 0 0 0 0 0 0 0 0 0 0 0 0 0 4 0 0 0 0 0 0\n",
      "0 0 0 0 23 0 6 0 0 1 1 0 2 0 0 0 0 0 0 0 0 0 0 0 1 0 0 12 0 0 0 0 0 0 0 0 0\n",
      "0 0 0 0 0 3 16 0 1 1 17 8 18 0 0 0 0 0 0 1 0 0 2 0 24 0 0 401 0 7 41 0 0 0 2 0 0\n",
      "0 0 0 0 0 0 0 0 1 0 0 1 11 0 0 0 0 0 0 0 0 0 0 0 0 0 0 2 0 0 6 0 3 0 0 1 1\n",
      "0 0 0 0 0 0 0 0 0 0 0 0 3 0 0 0 0 0 0 0 0 0 1 1 0 0 0 9 0 0 11 0 0 0 0 0 0\n",
      "0 0 0 0 0 0 0 0 0 1 0 0 3 0 0 0 0 0 0 0 0 0 0 0 0 0 0 0 0 0 0 0 0 0 0 0 0\n",
      "0 0 0 0 0 0 0 0 0 0 41 0 0 0 0 0 0 0 0 0 0 0 0 0 0 0 0 0 0 0 9 0 0 0 0 0 0\n",
      "0 0 0 0 0 0 0 0 0 0 2 3 20 2 0 0 0 0 1 1 0 0 0 0 0 2 0 2 0 0 10 0 0 0 0 0 0\n",
      "0 0 0 0 0 0 0 0 0 0 0 2 28 0 0 0 0 8 0 10 0 1 11 0 6 0 0 13 0 1 56 0 0 0 0 0 0\n",
      "0 0 0 0 0 0 0 0 0 0 0 0 12 0 0 0 0 0 0 7 0 0 0 0 1 0 0 3 0 0 31 0 4 0 1 0 0\n",
      "0 0 0 0 0 0 0 0 0 0 0 0 0 5 3 11 0 0 0 2 7 1 0 0 0 0 0 5 0 0 29 0 1 0 1 0 0\n",
      "0 0 0 0 0 0 0 0 0 0 0 0 0 0 0 0 0 0 0 0 0 0 0 0 0 0 0 0 0 0 0 0 0 0 0 0 0\n",
      "0 0 0 0 0 0 0 0 0 0 0 0 0 0 0 0 0 0 0 0 0 0 0 0 0 0 0 0 0 0 0 0 0 0 0 0 0\n",
      "0 0 0 0 0 0 0 0 0 0 0 0 0 0 0 0 0 0 0 0 0 0 0 0 0 0 0 0 0 0 0 0 0 0 0 0 0\n",
      "0 0 0 0 0 0 0 0 0 0 0 0 0 0 0 0 0 0 0 0 0 0 0 0 4 0 0 0 0 0 0 0 0 0 0 0 0\n",
      "0 0 0 0 0 0 0 0 0 0 0 0 0 0 0 0 0 0 0 8 0 0 0 0 0 0 0 0 0 0 0 0 0 0 0 0 0\n",
      "0 0 0 0 0 0 0 0 0 0 0 0 0 0 0 0 0 0 0 0 0 0 0 0 0 0 0 0 0 0 0 0 0 0 0 0 0\n",
      "0 0 0 0 0 0 0 0 0 0 0 0 0 0 0 0 0 0 0 0 0 0 0 0 0 0 0 2 0 0 8 0 1 0 0 0 0\n",
      "0 0 0 0 0 0 0 0 0 0 0 0 0 0 0 0 0 0 0 0 0 0 0 0 0 0 0 0 0 0 0 0 0 0 0 0 0\n",
      "0 0 0 0 0 0 0 0 0 0 0 0 0 0 0 0 0 0 0 0 0 0 0 0 0 0 0 0 0 0 0 0 0 0 0 0 0\n",
      "0 0 0 0 0 0 0 0 0 0 0 0 0 0 0 0 0 0 0 0 0 0 0 0 2 0 0 1 0 0 1 0 0 0 0 0 0\n",
      "0 0 0 0 0 0 0 0 0 0 0 0 0 0 0 0 0 0 0 0 0 0 0 0 0 0 0 0 0 0 0 0 0 0 0 0 0\n",
      "0 0 0 0 0 0 0 0 0 0 0 0 0 0 0 0 0 0 0 0 0 0 0 0 0 0 0 19 1 3 1 1 0 0 0 0 0\n",
      "0 0 0 0 0 0 0 0 0 0 0 0 0 0 0 0 0 0 0 0 0 0 0 0 0 0 0 44 0 0 0 0 0 0 0 0 0\n",
      "0 0 0 0 0 0 0 0 0 0 0 0 0 0 0 0 0 0 0 0 0 0 0 0 0 0 0 268 0 0 0 0 0 0 0 0 0\n",
      "0 0 0 0 0 0 0 0 0 0 0 0 0 0 0 0 0 0 0 0 0 0 0 0 0 0 0 0 0 0 16 0 0 0 1 0 0\n",
      "0 0 0 0 0 0 0 0 0 0 0 0 0 0 0 0 0 0 0 0 0 0 0 0 0 0 0 0 0 0 0 0 0 0 0 0 0\n",
      "0 0 0 0 0 0 0 0 0 0 0 0 0 0 0 0 0 0 0 0 0 0 0 0 0 0 0 0 0 0 0 0 0 0 0 0 0\n",
      "0 0 0 0 0 0 0 0 0 0 0 0 0 0 0 0 0 0 0 0 0 0 0 0 0 0 0 0 0 0 0 0 0 3 9 8 3\n",
      "0 0 0 0 0 0 0 0 0 0 0 0 0 0 0 0 0 0 0 0 0 0 0 0 0 0 0 0 0 0 0 0 0 0 0 0 0\n",
      "0 0 0 0 0 0 0 0 0 0 0 0 0 0 0 0 0 0 0 0 0 0 0 0 0 0 0 0 0 0 0 0 0 0 0 0 0\n",
      "0 0 0 0 0 0 0 0 0 0 0 0 0 0 0 0 0 0 0 0 0 0 0 0 0 0 0 0 0 0 0 0 0 0 0 0 0\n",
      "0 0 0 0 0 0 0 0 0 0 0 0 0 0 0 0 0 0 0 0 0 0 0 0 0 0 0 0 0 0 0 0 0 0 0 0 0\n",
      "0 0 0 0 0 0 0 0 0 0 0 0 0 0 0 0 0 0 0 0 0 0 0 0 0 0 0 0 0 0 0 0 0 0 0 0 0\n",
      "0 0 0 0 0 0 0 0 0 0 0 0 0 0 0 0 0 0 0 0 0 0 0 0 0 0 0 0 0 0 0 0 0 0 0 0 0\n"
     ]
    }
   ],
   "source": [
    "for r in res:\n",
    "    print(' '.join([str(int(x)) for x in r]))"
   ]
  },
  {
   "cell_type": "code",
   "execution_count": 77,
   "metadata": {},
   "outputs": [],
   "source": [
    "d3 = loadmat('dataset_3106.mat')"
   ]
  },
  {
   "cell_type": "code",
   "execution_count": 78,
   "metadata": {},
   "outputs": [
    {
     "data": {
      "text/plain": [
       "dict_keys(['__header__', '__version__', '__globals__', 'Y_3106', 'label_name', 'protein_list', 'sequence_3106'])"
      ]
     },
     "execution_count": 78,
     "metadata": {},
     "output_type": "execute_result"
    }
   ],
   "source": [
    "d3.keys()"
   ]
  },
  {
   "cell_type": "code",
   "execution_count": 79,
   "metadata": {},
   "outputs": [
    {
     "data": {
      "text/plain": [
       "array([[array(['Centrosome'], dtype='<U10')],\n",
       "       [array(['Cytoplasm'], dtype='<U9')],\n",
       "       [array(['Cytoskeleton'], dtype='<U12')],\n",
       "       [array(['Endosome'], dtype='<U8')],\n",
       "       [array(['Endoplasmic-Reticulum'], dtype='<U21')],\n",
       "       [array(['Extracellular'], dtype='<U13')],\n",
       "       [array(['Golgi-Apparatus'], dtype='<U15')],\n",
       "       [array(['Lysosome'], dtype='<U8')],\n",
       "       [array(['Microsome'], dtype='<U9')],\n",
       "       [array(['Mitochondrion'], dtype='<U13')],\n",
       "       [array(['Nucleus'], dtype='<U7')],\n",
       "       [array(['Peroxisome'], dtype='<U10')],\n",
       "       [array(['Plasma-Membrane'], dtype='<U15')],\n",
       "       [array(['Synapse'], dtype='<U7')]], dtype=object)"
      ]
     },
     "execution_count": 79,
     "metadata": {},
     "output_type": "execute_result"
    }
   ],
   "source": [
    "d3['label_name']"
   ]
  },
  {
   "cell_type": "code",
   "execution_count": 80,
   "metadata": {},
   "outputs": [],
   "source": [
    "l3 = d3['Y_3106']"
   ]
  },
  {
   "cell_type": "code",
   "execution_count": 81,
   "metadata": {},
   "outputs": [],
   "source": [
    "res = np.zeros((14, 14))\n",
    "for i in range(14):\n",
    "    for j in range(i + 1, 14):\n",
    "        # print(i, j)\n",
    "        res[i, j] = sum(l3[l3[:, i] == 1][:, j] == 1)"
   ]
  },
  {
   "cell_type": "code",
   "execution_count": 83,
   "metadata": {},
   "outputs": [
    {
     "name": "stdout",
     "output_type": "stream",
     "text": [
      "0 15 7 1 1 0 2 0 0 1 12 0 0 0\n",
      "0 0 12 2 13 8 12 2 1 24 263 8 24 2\n",
      "0 0 0 0 0 0 3 0 0 0 7 0 9 0\n",
      "0 0 0 0 2 0 4 3 0 0 1 0 1 0\n",
      "0 0 0 0 0 3 28 2 11 7 14 1 10 0\n",
      "0 0 0 0 0 0 7 5 0 1 3 0 16 1\n",
      "0 0 0 0 0 0 0 1 0 0 4 0 20 1\n",
      "0 0 0 0 0 0 0 0 0 0 2 0 4 0\n",
      "0 0 0 0 0 0 0 0 0 2 1 0 1 0\n",
      "0 0 0 0 0 0 0 0 0 0 15 4 1 0\n",
      "0 0 0 0 0 0 0 0 0 0 0 0 11 1\n",
      "0 0 0 0 0 0 0 0 0 0 0 0 0 0\n",
      "0 0 0 0 0 0 0 0 0 0 0 0 0 10\n",
      "0 0 0 0 0 0 0 0 0 0 0 0 0 0\n"
     ]
    }
   ],
   "source": [
    "for r in res:\n",
    "    print(' '.join([str(int(x)) for x in r]))"
   ]
  },
  {
   "cell_type": "code",
   "execution_count": 104,
   "metadata": {},
   "outputs": [],
   "source": [
    "from Bio import SeqIO\n",
    "fafile = SeqIO.parse('pssm/dataset_3106/ff/1.fasta', 'fasta')"
   ]
  },
  {
   "cell_type": "code",
   "execution_count": 105,
   "metadata": {},
   "outputs": [],
   "source": [
    "t = list(fafile)"
   ]
  },
  {
   "cell_type": "code",
   "execution_count": 106,
   "metadata": {},
   "outputs": [
    {
     "data": {
      "text/plain": [
       "'MIDSVKLRRDSAADFFSHYEYLCALQNSVPLPAVRACLREGVLDFNADRLRGVDWAPLLSTLKINKDLPLVSIKSFFQPWLGDTGSDMNKFCRSRVPAIRYKDVTFQLCKALKGCLSISSVLKNLELNGLILRERDLTILAKGLNKSASLVHLSLANCPIGDGGLEIICQGIKSSITLKTVNFTGCNLTWQGADHMAKILKYQTMRRHEETWAESLRYRRPDLDCMAGLRRITLNCNTLIGDLGACAFADSLSEDLWLRALDLQQCGLTNEGAKALLEALETNTTLVVLDIRKNPLIDHSMMKAVIKKVLQNGRSAKSEYQWITSPSVKEPSKTAKQKRRTIILGSGHKGKATIRIGLATKKPVSSGRKHSLGKEYYAPAPLPPGVSGFLPWRTAERAKRHRGFPLIKTRDICNQLQQPGFPVTVTVESPSSSEVEEVDDSSESVHEVPEKTSIEQEALQEKLEECLKQLKEERVIRLKVDKRVSELEHENAQLRNINFSLSEALHAQSLTNMILDDEGVLGSIENSFQKFHAFLDLLKDAGLGQLATMAGIDQSDFQLLGHPQMTSTVSNPPKEEKKALEDEKPEPKQNALGQMQNIQFQKITGDARIPLPLDSFPVPVSTPEGLGTSSNNLGVPATEQRQESFEGFIARMCSPSPDATSGTGSQRKEEELSRNSRSSSEKKTKTESH'"
      ]
     },
     "execution_count": 106,
     "metadata": {},
     "output_type": "execute_result"
    }
   ],
   "source": [
    "str(t[0].seq)"
   ]
  },
  {
   "cell_type": "code",
   "execution_count": 103,
   "metadata": {},
   "outputs": [],
   "source": [
    "res = [str(t[0].seq)]"
   ]
  },
  {
   "cell_type": "code",
   "execution_count": 107,
   "metadata": {},
   "outputs": [],
   "source": [
    "res.append(str(t[0].seq))"
   ]
  },
  {
   "cell_type": "code",
   "execution_count": 108,
   "metadata": {},
   "outputs": [
    {
     "data": {
      "text/plain": [
       "['MFRRKLTALDYHNPAGFNCKDETEFRNFIVWLEDQKIRHYKIEDRGNLRNIHSSDWPKFFEKYLRDVNCPFKIQDRQEAIDWLLGLAVRLEYGDNAEKYKDLVPDNSKTADNATKNAEPLINLDVNNPDFKAGVMALANLLQIQRHDDYLVMLKAIRILVQERLTQDAVAKANQTKEGLPVALDKHILGFDTGDAVLNEAAQILRLLHIEELRELQTKINEAIVAVQAIIADPKTDHRLGKVGR',\n",
       " 'MIDSVKLRRDSAADFFSHYEYLCALQNSVPLPAVRACLREGVLDFNADRLRGVDWAPLLSTLKINKDLPLVSIKSFFQPWLGDTGSDMNKFCRSRVPAIRYKDVTFQLCKALKGCLSISSVLKNLELNGLILRERDLTILAKGLNKSASLVHLSLANCPIGDGGLEIICQGIKSSITLKTVNFTGCNLTWQGADHMAKILKYQTMRRHEETWAESLRYRRPDLDCMAGLRRITLNCNTLIGDLGACAFADSLSEDLWLRALDLQQCGLTNEGAKALLEALETNTTLVVLDIRKNPLIDHSMMKAVIKKVLQNGRSAKSEYQWITSPSVKEPSKTAKQKRRTIILGSGHKGKATIRIGLATKKPVSSGRKHSLGKEYYAPAPLPPGVSGFLPWRTAERAKRHRGFPLIKTRDICNQLQQPGFPVTVTVESPSSSEVEEVDDSSESVHEVPEKTSIEQEALQEKLEECLKQLKEERVIRLKVDKRVSELEHENAQLRNINFSLSEALHAQSLTNMILDDEGVLGSIENSFQKFHAFLDLLKDAGLGQLATMAGIDQSDFQLLGHPQMTSTVSNPPKEEKKALEDEKPEPKQNALGQMQNIQFQKITGDARIPLPLDSFPVPVSTPEGLGTSSNNLGVPATEQRQESFEGFIARMCSPSPDATSGTGSQRKEEELSRNSRSSSEKKTKTESH']"
      ]
     },
     "execution_count": 108,
     "metadata": {},
     "output_type": "execute_result"
    }
   ],
   "source": [
    "res"
   ]
  },
  {
   "cell_type": "code",
   "execution_count": 110,
   "metadata": {},
   "outputs": [
    {
     "data": {
      "text/plain": [
       "'MFRRKLTALDYHNPAGFNCKDETEFRNFIVWLEDQKIRHYKIEDRGNLRNIHSSDWPKFFEKYLRDVNCPFKIQDRQEAIDWLLGLAVRLEYGDNAEKYKDLVPDNSKTADNATKNAEPLINLDVNNPDFKAGVMALANLLQIQRHDDYLVMLKAIRILVQERLTQDAVAKANQTKEGLPVALDKHILGFDTGDAVLNEAAQILRLLHIEELRELQTKINEAIVAVQAIIADPKTDHRLGKVGR'"
      ]
     },
     "execution_count": 110,
     "metadata": {},
     "output_type": "execute_result"
    }
   ],
   "source": [
    "np.array(res)[0]"
   ]
  },
  {
   "cell_type": "code",
   "execution_count": 148,
   "metadata": {},
   "outputs": [],
   "source": [
    "res = []\n",
    "for i in range(4802):\n",
    "    fafile = SeqIO.parse('pssm/dataset_4802/ff/' + str(i) + '.fasta', 'fasta')\n",
    "    res.append(str(list(fafile)[0].seq))"
   ]
  },
  {
   "cell_type": "code",
   "execution_count": 149,
   "metadata": {},
   "outputs": [],
   "source": [
    "res = np.array(res)"
   ]
  },
  {
   "cell_type": "code",
   "execution_count": 150,
   "metadata": {},
   "outputs": [],
   "source": [
    "pssm_res = []\n",
    "for i in range(4802):\n",
    "    tmp = []\n",
    "    with open('pssm/dataset_4802/pssm/' + str(i) + '.pssm', 'r') as pfile:\n",
    "        for line in pfile:\n",
    "            tmp.append(line.strip().split()[2:])\n",
    "    pssm_res.append(np.array(tmp[3: (3+len(res[i]))]))"
   ]
  },
  {
   "cell_type": "code",
   "execution_count": 151,
   "metadata": {},
   "outputs": [],
   "source": [
    "pssm_res = np.array(pssm_res)"
   ]
  },
  {
   "cell_type": "code",
   "execution_count": 152,
   "metadata": {},
   "outputs": [
    {
     "data": {
      "text/plain": [
       "(4802,)"
      ]
     },
     "execution_count": 152,
     "metadata": {},
     "output_type": "execute_result"
    }
   ],
   "source": [
    "pssm_res.shape"
   ]
  },
  {
   "cell_type": "code",
   "execution_count": 153,
   "metadata": {},
   "outputs": [
    {
     "data": {
      "text/plain": [
       "(657, 42)"
      ]
     },
     "execution_count": 153,
     "metadata": {},
     "output_type": "execute_result"
    }
   ],
   "source": [
    "pssm_res[0].shape"
   ]
  },
  {
   "cell_type": "code",
   "execution_count": 154,
   "metadata": {},
   "outputs": [
    {
     "data": {
      "text/plain": [
       "468"
      ]
     },
     "execution_count": 154,
     "metadata": {},
     "output_type": "execute_result"
    }
   ],
   "source": [
    "pssm_res[3105].shape[0]"
   ]
  },
  {
   "cell_type": "code",
   "execution_count": 155,
   "metadata": {},
   "outputs": [],
   "source": [
    "from scipy.io import savemat"
   ]
  },
  {
   "cell_type": "code",
   "execution_count": 156,
   "metadata": {},
   "outputs": [],
   "source": [
    "savemat('dataset_4802_pssm.mat', {'sequence':res, 'pssm':pssm_res})"
   ]
  },
  {
   "cell_type": "code",
   "execution_count": null,
   "metadata": {},
   "outputs": [],
   "source": []
  }
 ],
 "metadata": {
  "kernelspec": {
   "display_name": "Python 3",
   "language": "python",
   "name": "python3"
  },
  "language_info": {
   "codemirror_mode": {
    "name": "ipython",
    "version": 3
   },
   "file_extension": ".py",
   "mimetype": "text/x-python",
   "name": "python",
   "nbconvert_exporter": "python",
   "pygments_lexer": "ipython3",
   "version": "3.8.5"
  }
 },
 "nbformat": 4,
 "nbformat_minor": 4
}
