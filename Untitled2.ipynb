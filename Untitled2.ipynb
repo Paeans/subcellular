{
 "cells": [
  {
   "cell_type": "code",
   "execution_count": 1,
   "metadata": {},
   "outputs": [],
   "source": [
    "import numpy as np\n",
    "import tensorflow as tf\n",
    "\n",
    "from tensorflow import keras\n",
    "from scipy.io import loadmat, savemat\n",
    "\n",
    "from tensorflow.keras import layers"
   ]
  },
  {
   "cell_type": "code",
   "execution_count": 2,
   "metadata": {},
   "outputs": [],
   "source": [
    "Y_4802 = loadmat('Y_4802.mat')['Y_4802']"
   ]
  },
  {
   "cell_type": "code",
   "execution_count": 3,
   "metadata": {},
   "outputs": [],
   "source": [
    "X_4802_feature = loadmat('feature_4802.mat')"
   ]
  },
  {
   "cell_type": "code",
   "execution_count": 4,
   "metadata": {},
   "outputs": [],
   "source": [
    "pssmpse = X_4802_feature['pssmpse']"
   ]
  },
  {
   "cell_type": "code",
   "execution_count": 5,
   "metadata": {},
   "outputs": [
    {
     "name": "stdout",
     "output_type": "stream",
     "text": [
      "Model: \"functional_1\"\n",
      "_________________________________________________________________\n",
      "Layer (type)                 Output Shape              Param #   \n",
      "=================================================================\n",
      "input_1 (InputLayer)         [(None, 31, 20, 2)]       0         \n",
      "_________________________________________________________________\n",
      "conv2d (Conv2D)              (None, 28, 18, 256)       6400      \n",
      "_________________________________________________________________\n",
      "conv2d_1 (Conv2D)            (None, 26, 16, 128)       295040    \n",
      "_________________________________________________________________\n",
      "max_pooling2d (MaxPooling2D) (None, 13, 8, 128)        0         \n",
      "_________________________________________________________________\n",
      "conv2d_2 (Conv2D)            (None, 11, 6, 64)         73792     \n",
      "_________________________________________________________________\n",
      "conv2d_3 (Conv2D)            (None, 9, 4, 32)          18464     \n",
      "_________________________________________________________________\n",
      "flatten (Flatten)            (None, 1152)              0         \n",
      "_________________________________________________________________\n",
      "dense (Dense)                (None, 37)                42661     \n",
      "=================================================================\n",
      "Total params: 436,357\n",
      "Trainable params: 436,357\n",
      "Non-trainable params: 0\n",
      "_________________________________________________________________\n"
     ]
    }
   ],
   "source": [
    "input_shape = pssmpse.shape\n",
    "pssm = keras.Input(shape=input_shape[1:], dtype = \"float32\")\n",
    "\n",
    "x = layers.Conv2D(256, (4,3), activation='relu')(pssm)\n",
    "x = layers.Conv2D(128, 3, activation='relu',)(x)\n",
    "x = layers.MaxPooling2D()(x)\n",
    "x = layers.Conv2D(64, 3, activation='relu',)(x)\n",
    "#x = layers.MaxPooling2D()(x)\n",
    "x = layers.Conv2D(32, 3, activation='relu',)(x)\n",
    "x = layers.Flatten()(x)\n",
    "outputs = layers.Dense(37, activation='sigmoid')(x)\n",
    "model = keras.Model(pssm, outputs)\n",
    "model.summary()"
   ]
  },
  {
   "cell_type": "code",
   "execution_count": 6,
   "metadata": {},
   "outputs": [
    {
     "name": "stdout",
     "output_type": "stream",
     "text": [
      "Epoch 1/50\n",
      "601/601 [==============================] - 5s 9ms/step - loss: 0.1147 - accuracy: 0.1993\n",
      "Epoch 2/50\n",
      "601/601 [==============================] - 6s 10ms/step - loss: 0.1063 - accuracy: 0.1999\n",
      "Epoch 3/50\n",
      "601/601 [==============================] - 6s 10ms/step - loss: 0.1033 - accuracy: 0.2355\n",
      "Epoch 4/50\n",
      "601/601 [==============================] - 6s 9ms/step - loss: 0.0993 - accuracy: 0.2699\n",
      "Epoch 5/50\n",
      "601/601 [==============================] - 6s 10ms/step - loss: 0.0970 - accuracy: 0.2830\n",
      "Epoch 6/50\n",
      "601/601 [==============================] - 6s 10ms/step - loss: 0.0950 - accuracy: 0.3028\n",
      "Epoch 7/50\n",
      "601/601 [==============================] - 6s 10ms/step - loss: 0.0937 - accuracy: 0.3111\n",
      "Epoch 8/50\n",
      "601/601 [==============================] - 6s 10ms/step - loss: 0.0925 - accuracy: 0.3165\n",
      "Epoch 9/50\n",
      "601/601 [==============================] - 6s 10ms/step - loss: 0.0915 - accuracy: 0.3324\n",
      "Epoch 10/50\n",
      "601/601 [==============================] - 6s 10ms/step - loss: 0.0904 - accuracy: 0.3384\n",
      "Epoch 11/50\n",
      "601/601 [==============================] - 6s 10ms/step - loss: 0.0895 - accuracy: 0.3494\n",
      "Epoch 12/50\n",
      "601/601 [==============================] - 6s 10ms/step - loss: 0.0889 - accuracy: 0.3540\n",
      "Epoch 13/50\n",
      "601/601 [==============================] - 6s 10ms/step - loss: 0.0879 - accuracy: 0.3494\n",
      "Epoch 14/50\n",
      "601/601 [==============================] - 6s 10ms/step - loss: 0.0871 - accuracy: 0.3582\n",
      "Epoch 15/50\n",
      "601/601 [==============================] - 6s 10ms/step - loss: 0.0862 - accuracy: 0.3646\n",
      "Epoch 16/50\n",
      "601/601 [==============================] - 6s 10ms/step - loss: 0.0854 - accuracy: 0.3715\n",
      "Epoch 17/50\n",
      "601/601 [==============================] - 6s 10ms/step - loss: 0.0846 - accuracy: 0.3678\n",
      "Epoch 18/50\n",
      "601/601 [==============================] - 6s 10ms/step - loss: 0.0838 - accuracy: 0.3800\n",
      "Epoch 19/50\n",
      "601/601 [==============================] - 6s 10ms/step - loss: 0.0826 - accuracy: 0.3871\n",
      "Epoch 20/50\n",
      "601/601 [==============================] - 6s 10ms/step - loss: 0.0818 - accuracy: 0.3871\n",
      "Epoch 21/50\n",
      "601/601 [==============================] - 6s 10ms/step - loss: 0.0806 - accuracy: 0.3998\n",
      "Epoch 22/50\n",
      "601/601 [==============================] - 6s 10ms/step - loss: 0.0800 - accuracy: 0.3982\n",
      "Epoch 23/50\n",
      "601/601 [==============================] - 6s 10ms/step - loss: 0.0792 - accuracy: 0.4063\n",
      "Epoch 24/50\n",
      "601/601 [==============================] - 6s 10ms/step - loss: 0.0784 - accuracy: 0.4105\n",
      "Epoch 25/50\n",
      "601/601 [==============================] - 6s 10ms/step - loss: 0.0775 - accuracy: 0.4152\n",
      "Epoch 26/50\n",
      "601/601 [==============================] - 6s 10ms/step - loss: 0.0766 - accuracy: 0.4204\n",
      "Epoch 27/50\n",
      "601/601 [==============================] - 6s 10ms/step - loss: 0.0756 - accuracy: 0.4240\n",
      "Epoch 28/50\n",
      "601/601 [==============================] - 6s 10ms/step - loss: 0.0747 - accuracy: 0.4300\n",
      "Epoch 29/50\n",
      "601/601 [==============================] - 6s 10ms/step - loss: 0.0740 - accuracy: 0.4340\n",
      "Epoch 30/50\n",
      "601/601 [==============================] - 6s 10ms/step - loss: 0.0728 - accuracy: 0.4442\n",
      "Epoch 31/50\n",
      "601/601 [==============================] - 6s 10ms/step - loss: 0.0722 - accuracy: 0.4492\n",
      "Epoch 32/50\n",
      "601/601 [==============================] - 6s 10ms/step - loss: 0.0710 - accuracy: 0.4534\n",
      "Epoch 33/50\n",
      "601/601 [==============================] - 6s 10ms/step - loss: 0.0704 - accuracy: 0.4504\n",
      "Epoch 34/50\n",
      "601/601 [==============================] - 6s 10ms/step - loss: 0.0697 - accuracy: 0.4627\n",
      "Epoch 35/50\n",
      "601/601 [==============================] - 6s 10ms/step - loss: 0.0687 - accuracy: 0.4677\n",
      "Epoch 36/50\n",
      "601/601 [==============================] - 6s 10ms/step - loss: 0.0683 - accuracy: 0.4627\n",
      "Epoch 37/50\n",
      "601/601 [==============================] - 6s 10ms/step - loss: 0.0669 - accuracy: 0.4717\n",
      "Epoch 38/50\n",
      "601/601 [==============================] - 6s 10ms/step - loss: 0.0663 - accuracy: 0.4794\n",
      "Epoch 39/50\n",
      "601/601 [==============================] - 6s 10ms/step - loss: 0.0654 - accuracy: 0.4908\n",
      "Epoch 40/50\n",
      "601/601 [==============================] - 6s 10ms/step - loss: 0.0647 - accuracy: 0.4860\n",
      "Epoch 41/50\n",
      "601/601 [==============================] - 6s 10ms/step - loss: 0.0642 - accuracy: 0.4871\n",
      "Epoch 42/50\n",
      "601/601 [==============================] - 6s 10ms/step - loss: 0.0627 - accuracy: 0.4977\n",
      "Epoch 43/50\n",
      "601/601 [==============================] - 6s 10ms/step - loss: 0.0618 - accuracy: 0.5050\n",
      "Epoch 44/50\n",
      "601/601 [==============================] - 6s 10ms/step - loss: 0.0616 - accuracy: 0.5023\n",
      "Epoch 45/50\n",
      "601/601 [==============================] - 6s 10ms/step - loss: 0.0598 - accuracy: 0.5146\n",
      "Epoch 46/50\n",
      "601/601 [==============================] - 6s 10ms/step - loss: 0.0592 - accuracy: 0.5317\n",
      "Epoch 47/50\n",
      "601/601 [==============================] - 6s 10ms/step - loss: 0.0592 - accuracy: 0.5235\n",
      "Epoch 48/50\n",
      "601/601 [==============================] - 6s 10ms/step - loss: 0.0579 - accuracy: 0.5329\n",
      "Epoch 49/50\n",
      "601/601 [==============================] - 6s 10ms/step - loss: 0.0572 - accuracy: 0.5421\n",
      "Epoch 50/50\n",
      "601/601 [==============================] - 6s 10ms/step - loss: 0.0563 - accuracy: 0.5387\n"
     ]
    },
    {
     "data": {
      "text/plain": [
       "<tensorflow.python.keras.callbacks.History at 0x7fd4c8356c40>"
      ]
     },
     "execution_count": 6,
     "metadata": {},
     "output_type": "execute_result"
    }
   ],
   "source": [
    "model.compile(\"adam\", \"binary_crossentropy\", metrics=[\"accuracy\"])\n",
    "model.fit(pssmpse, Y_4802, batch_size=8, epochs=50)"
   ]
  }
 ],
 "metadata": {
  "kernelspec": {
   "display_name": "Python 3",
   "language": "python",
   "name": "python3"
  },
  "language_info": {
   "codemirror_mode": {
    "name": "ipython",
    "version": 3
   },
   "file_extension": ".py",
   "mimetype": "text/x-python",
   "name": "python",
   "nbconvert_exporter": "python",
   "pygments_lexer": "ipython3",
   "version": "3.8.2"
  }
 },
 "nbformat": 4,
 "nbformat_minor": 4
}
