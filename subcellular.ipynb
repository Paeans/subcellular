{
 "cells": [
  {
   "cell_type": "code",
   "execution_count": 1,
   "metadata": {},
   "outputs": [],
   "source": [
    "import numpy as np\n",
    "import tensorflow as tf\n",
    "\n",
    "from tensorflow import keras\n",
    "from scipy.io import loadmat, savemat\n",
    "\n",
    "from tensorflow.keras import layers"
   ]
  },
  {
   "cell_type": "code",
   "execution_count": 2,
   "metadata": {},
   "outputs": [],
   "source": [
    "gpus = tf.config.experimental.list_physical_devices('GPU')\n",
    "if gpus:\n",
    "  try:\n",
    "    # Currently, memory growth needs to be the same across GPUs\n",
    "    for gpu in gpus:\n",
    "      tf.config.experimental.set_memory_growth(gpu, True)\n",
    "#     logical_gpus = tf.config.experimental.list_logical_devices('GPU')\n",
    "#     print(len(gpus), \"Physical GPUs,\", len(logical_gpus), \"Logical GPUs\")\n",
    "  except RuntimeError as e:\n",
    "    # Memory growth must be set before GPUs have been initialized\n",
    "    print(e)"
   ]
  },
  {
   "cell_type": "code",
   "execution_count": 3,
   "metadata": {},
   "outputs": [],
   "source": [
    "Y_4802 = loadmat('Y_4802.mat')['Y_4802']"
   ]
  },
  {
   "cell_type": "code",
   "execution_count": 4,
   "metadata": {},
   "outputs": [],
   "source": [
    "sequence = loadmat('dataset_4802.mat')['Sequence']"
   ]
  },
  {
   "cell_type": "code",
   "execution_count": 5,
   "metadata": {},
   "outputs": [],
   "source": [
    "amino_code = {'A':0, 'C':1, 'D':2, 'E':3, 'F':4, 'G':5, 'H':6,\n",
    "             'I':7, 'K':8, 'L':9, 'M':10, 'N':11, 'P':12, \n",
    "             'Q':13, 'R':14, 'S':15, 'T':16, 'U':17, 'V':18,\n",
    "             'W':19, 'X':20, 'Y':21 }"
   ]
  },
  {
   "cell_type": "code",
   "execution_count": 6,
   "metadata": {},
   "outputs": [],
   "source": [
    "extend_one_encode = []\n",
    "seq_num_encode = []\n",
    "for s in sequence:\n",
    "    p_seq = (list(s[0][0]) * 1000)[0:10000]\n",
    "    seq_num = np.array([amino_code[x] for x in p_seq])\n",
    "    seq_num_encode.append(seq_num)\n",
    "    tmp = np.zeros((seq_num.size, 22))\n",
    "    tmp[np.arange(seq_num.size), seq_num] = 1\n",
    "    extend_one_encode.append(tmp)"
   ]
  },
  {
   "cell_type": "code",
   "execution_count": 7,
   "metadata": {},
   "outputs": [],
   "source": [
    "X_4802_padding = np.array(extend_one_encode)"
   ]
  },
  {
   "cell_type": "code",
   "execution_count": 8,
   "metadata": {},
   "outputs": [
    {
     "data": {
      "text/plain": [
       "(4802, 10000, 22)"
      ]
     },
     "execution_count": 8,
     "metadata": {},
     "output_type": "execute_result"
    }
   ],
   "source": [
    "X_4802_padding.shape"
   ]
  },
  {
   "cell_type": "code",
   "execution_count": 9,
   "metadata": {},
   "outputs": [
    {
     "data": {
      "text/plain": [
       "(4802, 10000)"
      ]
     },
     "execution_count": 9,
     "metadata": {},
     "output_type": "execute_result"
    }
   ],
   "source": [
    "X_4802_num = np.array(seq_num_encode); X_4802_num.shape"
   ]
  },
  {
   "cell_type": "code",
   "execution_count": 10,
   "metadata": {},
   "outputs": [
    {
     "data": {
      "text/plain": [
       "array([[0., 0., 0., ..., 0., 0., 0.],\n",
       "       [0., 0., 1., ..., 0., 0., 0.],\n",
       "       [0., 0., 0., ..., 0., 0., 0.],\n",
       "       ...,\n",
       "       [0., 0., 0., ..., 0., 0., 0.],\n",
       "       [0., 0., 0., ..., 0., 0., 0.],\n",
       "       [0., 0., 0., ..., 0., 0., 0.]])"
      ]
     },
     "execution_count": 10,
     "metadata": {},
     "output_type": "execute_result"
    }
   ],
   "source": [
    "X_4802_padding[0]"
   ]
  },
  {
   "cell_type": "code",
   "execution_count": 11,
   "metadata": {},
   "outputs": [
    {
     "data": {
      "text/plain": [
       "(4802, 37)"
      ]
     },
     "execution_count": 11,
     "metadata": {},
     "output_type": "execute_result"
    }
   ],
   "source": [
    "Y_4802.shape"
   ]
  },
  {
   "cell_type": "code",
   "execution_count": 13,
   "metadata": {},
   "outputs": [
    {
     "name": "stdout",
     "output_type": "stream",
     "text": [
      "Model: \"functional_1\"\n",
      "_________________________________________________________________\n",
      "Layer (type)                 Output Shape              Param #   \n",
      "=================================================================\n",
      "input_2 (InputLayer)         [(None, None)]            0         \n",
      "_________________________________________________________________\n",
      "embedding_1 (Embedding)      (None, None, 22)          484       \n",
      "_________________________________________________________________\n",
      "bidirectional_2 (Bidirection (None, None, 128)         44544     \n",
      "_________________________________________________________________\n",
      "bidirectional_3 (Bidirection (None, 256)               263168    \n",
      "_________________________________________________________________\n",
      "reshape_1 (Reshape)          (None, 16, 16, 1)         0         \n",
      "_________________________________________________________________\n",
      "conv2d (Conv2D)              (None, 13, 14, 256)       3328      \n",
      "_________________________________________________________________\n",
      "conv2d_1 (Conv2D)            (None, 11, 12, 128)       295040    \n",
      "_________________________________________________________________\n",
      "conv2d_2 (Conv2D)            (None, 9, 10, 64)         73792     \n",
      "_________________________________________________________________\n",
      "conv2d_3 (Conv2D)            (None, 7, 8, 32)          18464     \n",
      "_________________________________________________________________\n",
      "flatten (Flatten)            (None, 1792)              0         \n",
      "_________________________________________________________________\n",
      "dense (Dense)                (None, 37)                66341     \n",
      "=================================================================\n",
      "Total params: 765,161\n",
      "Trainable params: 765,161\n",
      "Non-trainable params: 0\n",
      "_________________________________________________________________\n"
     ]
    }
   ],
   "source": [
    "#inputs = keras.Input(shape=(None, 22,), dtype = \"float32\")\n",
    "inputs = keras.Input(shape=(None,), dtype = \"int32\")\n",
    "x = layers.Embedding(22, 22)(inputs)\n",
    "x = layers.Bidirectional(layers.LSTM(64, return_sequences = True))(x)\n",
    "#x = layers.Bidirectional(layers.LSTM(256, return_sequences = True))(x)\n",
    "x = layers.Bidirectional(layers.LSTM(128))(x)\n",
    "x = layers.Reshape((16,16,1))(x)\n",
    "\n",
    "x = layers.Conv2D(256, (4,3), activation='relu')(x)\n",
    "x = layers.Conv2D(128, 3, activation='relu',)(x)\n",
    "# x = layers.MaxPooling2D()(x)\n",
    "x = layers.Conv2D(64, 3, activation='relu',)(x)\n",
    "# x = layers.MaxPooling2D()(x)\n",
    "x = layers.Conv2D(32, 3, activation='relu',)(x)\n",
    "x = layers.Flatten()(x)\n",
    "outputs = layers.Dense(37, activation='sigmoid')(x)\n",
    "\n",
    "# x = layers.Conv2D(128, 3, activation='relu',)(x)\n",
    "# x = layers.Conv2D(128, 3, activation='relu',)(x)\n",
    "# x = layers.Conv2D(64, 3, activation='relu',)(x)\n",
    "# x = layers.Conv2D(32, 3, activation='relu',)(x)\n",
    "# x = layers.Flatten()(x)\n",
    "# outputs = layers.Dense(37, activation='sigmoid')(x)\n",
    "model = keras.Model(inputs, outputs)\n",
    "model.summary()"
   ]
  },
  {
   "cell_type": "code",
   "execution_count": 14,
   "metadata": {},
   "outputs": [
    {
     "name": "stdout",
     "output_type": "stream",
     "text": [
      "Epoch 1/2\n",
      "151/151 [==============================] - 268s 2s/step - loss: 0.1396 - accuracy: 0.1874\n",
      "Epoch 2/2\n",
      "151/151 [==============================] - 274s 2s/step - loss: 0.1058 - accuracy: 0.1999\n"
     ]
    },
    {
     "data": {
      "text/plain": [
       "<tensorflow.python.keras.callbacks.History at 0x7f9122a4cdc0>"
      ]
     },
     "execution_count": 14,
     "metadata": {},
     "output_type": "execute_result"
    }
   ],
   "source": [
    "#tensorboard_callback = keras.callbacks.TensorBoard()\n",
    "\n",
    "model.compile(\"adam\", \"binary_crossentropy\", metrics=[\"binary_accuracy\"])\n",
    "model.fit(X_4802_num, Y_4802, batch_size=32, epochs=2,)\n",
    "         # callbacks = [tensorboard_callback])#, validation_data=(x_val, y_val))"
   ]
  },
  {
   "cell_type": "code",
   "execution_count": null,
   "metadata": {},
   "outputs": [],
   "source": []
  },
  {
   "cell_type": "code",
   "execution_count": null,
   "metadata": {},
   "outputs": [],
   "source": []
  },
  {
   "cell_type": "code",
   "execution_count": null,
   "metadata": {},
   "outputs": [],
   "source": [
    "X_4802_feature = loadmat('feature_4802.mat')"
   ]
  },
  {
   "cell_type": "code",
   "execution_count": null,
   "metadata": {},
   "outputs": [],
   "source": [
    "pssmpse = X_4802_feature['pssmpse']"
   ]
  },
  {
   "cell_type": "code",
   "execution_count": null,
   "metadata": {},
   "outputs": [],
   "source": [
    "pssmpse[0].shape"
   ]
  },
  {
   "cell_type": "code",
   "execution_count": null,
   "metadata": {},
   "outputs": [],
   "source": [
    "X_4802_feature.keys()"
   ]
  },
  {
   "cell_type": "code",
   "execution_count": null,
   "metadata": {},
   "outputs": [],
   "source": [
    "pppse = X_4802_feature['pppse']"
   ]
  },
  {
   "cell_type": "code",
   "execution_count": null,
   "metadata": {},
   "outputs": [],
   "source": [
    "pppse.shape"
   ]
  },
  {
   "cell_type": "code",
   "execution_count": null,
   "metadata": {},
   "outputs": [],
   "source": [
    "input_shape = (4, 7, 28, 28, 3)\n",
    "input_shape[2:]"
   ]
  },
  {
   "cell_type": "code",
   "execution_count": null,
   "metadata": {},
   "outputs": [],
   "source": [
    "input_shape = pssmpse.shape\n",
    "pssm = keras.Input(shape=input_shape[1:], dtype = \"float32\")\n",
    "\n",
    "x = layers.Conv2D(256, (4,3), activation='relu')(pssm)\n",
    "x = layers.Conv2D(128, 3, activation='relu',)(x)\n",
    "x = layers.MaxPooling2D()(x)\n",
    "x = layers.Conv2D(64, 3, activation='relu',)(x)\n",
    "#x = layers.MaxPooling2D()(x)\n",
    "x = layers.Conv2D(32, 3, activation='relu',)(x)\n",
    "outputs = layers.Flatten()(x)\n",
    "#outputs = layers.Dense(37, activation='sigmoid')(x)\n",
    "model_pssm = keras.Model(pssm, outputs)\n",
    "model_pssm.summary()"
   ]
  },
  {
   "cell_type": "code",
   "execution_count": null,
   "metadata": {},
   "outputs": [],
   "source": [
    "input_shape = pppse.shape\n",
    "pse = keras.Input(shape=input_shape[1:], dtype = \"float32\")\n",
    "\n",
    "x = layers.Conv2D(256, (4,3), activation='relu')(pse)\n",
    "x = layers.Conv2D(128, 3, activation='relu',)(x)\n",
    "x = layers.MaxPooling2D()(x)\n",
    "x = layers.Conv2D(64, 3, activation='relu',)(x)\n",
    "#x = layers.MaxPooling2D()(x)\n",
    "x = layers.Conv2D(32, 3, activation='relu',)(x)\n",
    "outputs = layers.Flatten()(x)\n",
    "#outputs = layers.Dense(37, activation='sigmoid')(x)\n",
    "model_pse = keras.Model(pse, outputs)\n",
    "model_pse.summary()"
   ]
  },
  {
   "cell_type": "code",
   "execution_count": null,
   "metadata": {},
   "outputs": [],
   "source": [
    "tmodel = layers.Concatenate()([model_pssm.output, model_pse.output])\n",
    "x = layers.Dense(37, activation='sigmoid')(tmodel)\n",
    "model = keras.Model(inputs=[pssm, pse], outputs = x)\n",
    "model.summary()"
   ]
  },
  {
   "cell_type": "code",
   "execution_count": null,
   "metadata": {},
   "outputs": [],
   "source": [
    "model.compile(\"adam\", \"binary_crossentropy\", metrics=[\"accuracy\"])\n",
    "model.fit([pssmpse, pppse], Y_4802, batch_size=8, epochs=50,validation_split=0.1)\n",
    "         # callbacks = [tensorboard_callback])#, validation_data=(x_val, y_val))"
   ]
  },
  {
   "cell_type": "code",
   "execution_count": null,
   "metadata": {},
   "outputs": [],
   "source": [
    "res = model.predict([pssmpse[0:10], pppse[0:10]])"
   ]
  },
  {
   "cell_type": "code",
   "execution_count": null,
   "metadata": {},
   "outputs": [],
   "source": [
    "max(res.flatten())"
   ]
  },
  {
   "cell_type": "code",
   "execution_count": null,
   "metadata": {},
   "outputs": [],
   "source": [
    "min(res.flatten())"
   ]
  },
  {
   "cell_type": "code",
   "execution_count": null,
   "metadata": {},
   "outputs": [],
   "source": [
    "res[res>=0.5] = 1\n",
    "res[res<0.5] = 0"
   ]
  },
  {
   "cell_type": "code",
   "execution_count": null,
   "metadata": {},
   "outputs": [],
   "source": [
    "res"
   ]
  },
  {
   "cell_type": "code",
   "execution_count": null,
   "metadata": {},
   "outputs": [],
   "source": []
  }
 ],
 "metadata": {
  "kernelspec": {
   "display_name": "Python 3",
   "language": "python",
   "name": "python3"
  },
  "language_info": {
   "codemirror_mode": {
    "name": "ipython",
    "version": 3
   },
   "file_extension": ".py",
   "mimetype": "text/x-python",
   "name": "python",
   "nbconvert_exporter": "python",
   "pygments_lexer": "ipython3",
   "version": "3.8.2"
  }
 },
 "nbformat": 4,
 "nbformat_minor": 4
}
