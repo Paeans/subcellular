{
 "cells": [
  {
   "cell_type": "code",
   "execution_count": 1,
   "metadata": {},
   "outputs": [],
   "source": [
    "import numpy as np\n",
    "import tensorflow as tf\n",
    "\n",
    "from tensorflow import keras\n",
    "from scipy.io import loadmat, savemat\n",
    "\n",
    "from tensorflow.keras import layers"
   ]
  },
  {
   "cell_type": "code",
   "execution_count": 2,
   "metadata": {},
   "outputs": [],
   "source": [
    "gpus = tf.config.experimental.list_physical_devices('GPU')\n",
    "if gpus:\n",
    "  try:\n",
    "    # Currently, memory growth needs to be the same across GPUs\n",
    "    for gpu in gpus:\n",
    "      tf.config.experimental.set_memory_growth(gpu, True)\n",
    "#     logical_gpus = tf.config.experimental.list_logical_devices('GPU')\n",
    "#     print(len(gpus), \"Physical GPUs,\", len(logical_gpus), \"Logical GPUs\")\n",
    "  except RuntimeError as e:\n",
    "    # Memory growth must be set before GPUs have been initialized\n",
    "    print(e)"
   ]
  },
  {
   "cell_type": "code",
   "execution_count": 3,
   "metadata": {},
   "outputs": [],
   "source": [
    "Y_4802 = loadmat('Y_4802.mat')['Y_4802']"
   ]
  },
  {
   "cell_type": "code",
   "execution_count": 4,
   "metadata": {},
   "outputs": [],
   "source": [
    "sequence = loadmat('dataset_4802.mat')['Sequence']"
   ]
  },
  {
   "cell_type": "code",
   "execution_count": 5,
   "metadata": {},
   "outputs": [],
   "source": [
    "amino_code = {'A':0, 'C':1, 'D':2, 'E':3, 'F':4, 'G':5, 'H':6,\n",
    "             'I':7, 'K':8, 'L':9, 'M':10, 'N':11, 'P':12, \n",
    "             'Q':13, 'R':14, 'S':15, 'T':16, 'U':17, 'V':18,\n",
    "             'W':19, 'X':20, 'Y':21 }"
   ]
  },
  {
   "cell_type": "code",
   "execution_count": 6,
   "metadata": {},
   "outputs": [],
   "source": [
    "extend_one_encode = []\n",
    "seq_num_encode = []\n",
    "for s in sequence:\n",
    "    p_seq = (list(s[0][0]) * 1000)[0:10000]\n",
    "    seq_num = np.array([amino_code[x] for x in p_seq])\n",
    "    seq_num_encode.append(seq_num)\n",
    "    tmp = np.zeros((seq_num.size, 22))\n",
    "    tmp[np.arange(seq_num.size), seq_num] = 1\n",
    "    extend_one_encode.append(tmp)"
   ]
  },
  {
   "cell_type": "code",
   "execution_count": 7,
   "metadata": {},
   "outputs": [],
   "source": [
    "X_4802_padding = np.array(extend_one_encode)"
   ]
  },
  {
   "cell_type": "code",
   "execution_count": 8,
   "metadata": {},
   "outputs": [
    {
     "data": {
      "text/plain": [
       "(4802, 10000, 22)"
      ]
     },
     "execution_count": 8,
     "metadata": {},
     "output_type": "execute_result"
    }
   ],
   "source": [
    "X_4802_padding.shape"
   ]
  },
  {
   "cell_type": "code",
   "execution_count": 9,
   "metadata": {},
   "outputs": [
    {
     "data": {
      "text/plain": [
       "(4802, 10000)"
      ]
     },
     "execution_count": 9,
     "metadata": {},
     "output_type": "execute_result"
    }
   ],
   "source": [
    "X_4802_num = np.array(seq_num_encode); X_4802_num.shape"
   ]
  },
  {
   "cell_type": "code",
   "execution_count": 10,
   "metadata": {},
   "outputs": [
    {
     "data": {
      "text/plain": [
       "array([[0., 0., 0., ..., 0., 0., 0.],\n",
       "       [0., 0., 1., ..., 0., 0., 0.],\n",
       "       [0., 0., 0., ..., 0., 0., 0.],\n",
       "       ...,\n",
       "       [0., 0., 0., ..., 0., 0., 0.],\n",
       "       [0., 0., 0., ..., 0., 0., 0.],\n",
       "       [0., 0., 0., ..., 0., 0., 0.]])"
      ]
     },
     "execution_count": 10,
     "metadata": {},
     "output_type": "execute_result"
    }
   ],
   "source": [
    "X_4802_padding[0]"
   ]
  },
  {
   "cell_type": "code",
   "execution_count": 11,
   "metadata": {},
   "outputs": [
    {
     "data": {
      "text/plain": [
       "(4802, 37)"
      ]
     },
     "execution_count": 11,
     "metadata": {},
     "output_type": "execute_result"
    }
   ],
   "source": [
    "Y_4802.shape"
   ]
  },
  {
   "cell_type": "code",
   "execution_count": 12,
   "metadata": {},
   "outputs": [
    {
     "name": "stdout",
     "output_type": "stream",
     "text": [
      "Model: \"functional_1\"\n",
      "_________________________________________________________________\n",
      "Layer (type)                 Output Shape              Param #   \n",
      "=================================================================\n",
      "input_1 (InputLayer)         [(None, None)]            0         \n",
      "_________________________________________________________________\n",
      "embedding (Embedding)        (None, None, 22)          484       \n",
      "_________________________________________________________________\n",
      "bidirectional (Bidirectional (None, None, 512)         571392    \n",
      "_________________________________________________________________\n",
      "bidirectional_1 (Bidirection (None, 256)               656384    \n",
      "_________________________________________________________________\n",
      "reshape (Reshape)            (None, 16, 16, 1)         0         \n",
      "_________________________________________________________________\n",
      "conv2d (Conv2D)              (None, 14, 14, 128)       1280      \n",
      "_________________________________________________________________\n",
      "conv2d_1 (Conv2D)            (None, 12, 12, 64)        73792     \n",
      "_________________________________________________________________\n",
      "conv2d_2 (Conv2D)            (None, 10, 10, 32)        18464     \n",
      "_________________________________________________________________\n",
      "flatten (Flatten)            (None, 3200)              0         \n",
      "_________________________________________________________________\n",
      "dense (Dense)                (None, 37)                118437    \n",
      "=================================================================\n",
      "Total params: 1,440,233\n",
      "Trainable params: 1,440,233\n",
      "Non-trainable params: 0\n",
      "_________________________________________________________________\n"
     ]
    }
   ],
   "source": [
    "#inputs = keras.Input(shape=(None, 22,), dtype = \"float32\")\n",
    "inputs = keras.Input(shape=(None,), dtype = \"int32\")\n",
    "x = layers.Embedding(22, 22)(inputs)\n",
    "x = layers.Bidirectional(layers.LSTM(256, return_sequences = True))(x)\n",
    "#x = layers.Bidirectional(layers.LSTM(128, return_sequences = True))(x)\n",
    "x = layers.Bidirectional(layers.LSTM(128))(x)\n",
    "x = layers.Reshape((16,16,1))(x)\n",
    "\n",
    "#x = layers.Conv2D(128, 3, activation='relu',)(x)\n",
    "x = layers.Conv2D(128, 3, activation='relu',)(x)\n",
    "x = layers.Conv2D(64, 3, activation='relu',)(x)\n",
    "x = layers.Conv2D(32, 3, activation='relu',)(x)\n",
    "x = layers.Flatten()(x)\n",
    "outputs = layers.Dense(37, activation='sigmoid')(x)\n",
    "model = keras.Model(inputs, outputs)\n",
    "model.summary()"
   ]
  },
  {
   "cell_type": "code",
   "execution_count": 13,
   "metadata": {},
   "outputs": [
    {
     "name": "stdout",
     "output_type": "stream",
     "text": [
      "Epoch 1/2\n",
      "151/151 [==============================] - 426s 3s/step - loss: 0.1406 - accuracy: 0.1945\n",
      "Epoch 2/2\n",
      "151/151 [==============================] - 425s 3s/step - loss: 0.1063 - accuracy: 0.2003\n"
     ]
    },
    {
     "data": {
      "text/plain": [
       "<tensorflow.python.keras.callbacks.History at 0x7efb506c1190>"
      ]
     },
     "execution_count": 13,
     "metadata": {},
     "output_type": "execute_result"
    }
   ],
   "source": [
    "#tensorboard_callback = keras.callbacks.TensorBoard()\n",
    "\n",
    "model.compile(\"adam\", \"binary_crossentropy\", metrics=[\"accuracy\"])\n",
    "model.fit(X_4802_num, Y_4802, batch_size=32, epochs=2,)\n",
    "         # callbacks = [tensorboard_callback])#, validation_data=(x_val, y_val))"
   ]
  },
  {
   "cell_type": "code",
   "execution_count": null,
   "metadata": {},
   "outputs": [],
   "source": []
  },
  {
   "cell_type": "code",
   "execution_count": null,
   "metadata": {},
   "outputs": [],
   "source": []
  },
  {
   "cell_type": "code",
   "execution_count": 14,
   "metadata": {},
   "outputs": [],
   "source": [
    "X_4802_feature = loadmat('feature_4802.mat')"
   ]
  },
  {
   "cell_type": "code",
   "execution_count": 15,
   "metadata": {},
   "outputs": [],
   "source": [
    "pssmpse = X_4802_feature['pssmpse']"
   ]
  },
  {
   "cell_type": "code",
   "execution_count": 16,
   "metadata": {},
   "outputs": [
    {
     "data": {
      "text/plain": [
       "(31, 20, 2)"
      ]
     },
     "execution_count": 16,
     "metadata": {},
     "output_type": "execute_result"
    }
   ],
   "source": [
    "pssmpse[0].shape"
   ]
  },
  {
   "cell_type": "code",
   "execution_count": 17,
   "metadata": {},
   "outputs": [
    {
     "data": {
      "text/plain": [
       "dict_keys(['__header__', '__version__', '__globals__', 'ppab', 'ppdwt', 'pppse', 'pssmab', 'pssmdwt', 'pssmpse', 'label'])"
      ]
     },
     "execution_count": 17,
     "metadata": {},
     "output_type": "execute_result"
    }
   ],
   "source": [
    "X_4802_feature.keys()"
   ]
  },
  {
   "cell_type": "code",
   "execution_count": 18,
   "metadata": {},
   "outputs": [],
   "source": [
    "pppse = X_4802_feature['pppse']"
   ]
  },
  {
   "cell_type": "code",
   "execution_count": 19,
   "metadata": {},
   "outputs": [
    {
     "data": {
      "text/plain": [
       "(4802, 31, 57, 2)"
      ]
     },
     "execution_count": 19,
     "metadata": {},
     "output_type": "execute_result"
    }
   ],
   "source": [
    "pppse.shape"
   ]
  },
  {
   "cell_type": "code",
   "execution_count": 20,
   "metadata": {},
   "outputs": [
    {
     "data": {
      "text/plain": [
       "(28, 28, 3)"
      ]
     },
     "execution_count": 20,
     "metadata": {},
     "output_type": "execute_result"
    }
   ],
   "source": [
    "input_shape = (4, 7, 28, 28, 3)\n",
    "input_shape[2:]"
   ]
  },
  {
   "cell_type": "code",
   "execution_count": 21,
   "metadata": {},
   "outputs": [
    {
     "name": "stdout",
     "output_type": "stream",
     "text": [
      "Model: \"functional_3\"\n",
      "_________________________________________________________________\n",
      "Layer (type)                 Output Shape              Param #   \n",
      "=================================================================\n",
      "input_2 (InputLayer)         [(None, 31, 20, 2)]       0         \n",
      "_________________________________________________________________\n",
      "conv2d_3 (Conv2D)            (None, 28, 18, 256)       6400      \n",
      "_________________________________________________________________\n",
      "conv2d_4 (Conv2D)            (None, 26, 16, 128)       295040    \n",
      "_________________________________________________________________\n",
      "max_pooling2d (MaxPooling2D) (None, 13, 8, 128)        0         \n",
      "_________________________________________________________________\n",
      "conv2d_5 (Conv2D)            (None, 11, 6, 64)         73792     \n",
      "_________________________________________________________________\n",
      "conv2d_6 (Conv2D)            (None, 9, 4, 32)          18464     \n",
      "_________________________________________________________________\n",
      "flatten_1 (Flatten)          (None, 1152)              0         \n",
      "=================================================================\n",
      "Total params: 393,696\n",
      "Trainable params: 393,696\n",
      "Non-trainable params: 0\n",
      "_________________________________________________________________\n"
     ]
    }
   ],
   "source": [
    "input_shape = pssmpse.shape\n",
    "pssm = keras.Input(shape=input_shape[1:], dtype = \"float32\")\n",
    "\n",
    "x = layers.Conv2D(256, (4,3), activation='relu')(pssm)\n",
    "x = layers.Conv2D(128, 3, activation='relu',)(x)\n",
    "x = layers.MaxPooling2D()(x)\n",
    "x = layers.Conv2D(64, 3, activation='relu',)(x)\n",
    "#x = layers.MaxPooling2D()(x)\n",
    "x = layers.Conv2D(32, 3, activation='relu',)(x)\n",
    "outputs = layers.Flatten()(x)\n",
    "#outputs = layers.Dense(37, activation='sigmoid')(x)\n",
    "model_pssm = keras.Model(pssm, outputs)\n",
    "model_pssm.summary()"
   ]
  },
  {
   "cell_type": "code",
   "execution_count": 22,
   "metadata": {},
   "outputs": [
    {
     "name": "stdout",
     "output_type": "stream",
     "text": [
      "Model: \"functional_5\"\n",
      "_________________________________________________________________\n",
      "Layer (type)                 Output Shape              Param #   \n",
      "=================================================================\n",
      "input_3 (InputLayer)         [(None, 31, 57, 2)]       0         \n",
      "_________________________________________________________________\n",
      "conv2d_7 (Conv2D)            (None, 28, 55, 256)       6400      \n",
      "_________________________________________________________________\n",
      "conv2d_8 (Conv2D)            (None, 26, 53, 128)       295040    \n",
      "_________________________________________________________________\n",
      "max_pooling2d_1 (MaxPooling2 (None, 13, 26, 128)       0         \n",
      "_________________________________________________________________\n",
      "conv2d_9 (Conv2D)            (None, 11, 24, 64)        73792     \n",
      "_________________________________________________________________\n",
      "conv2d_10 (Conv2D)           (None, 9, 22, 32)         18464     \n",
      "_________________________________________________________________\n",
      "flatten_2 (Flatten)          (None, 6336)              0         \n",
      "=================================================================\n",
      "Total params: 393,696\n",
      "Trainable params: 393,696\n",
      "Non-trainable params: 0\n",
      "_________________________________________________________________\n"
     ]
    }
   ],
   "source": [
    "input_shape = pppse.shape\n",
    "pse = keras.Input(shape=input_shape[1:], dtype = \"float32\")\n",
    "\n",
    "x = layers.Conv2D(256, (4,3), activation='relu')(pse)\n",
    "x = layers.Conv2D(128, 3, activation='relu',)(x)\n",
    "x = layers.MaxPooling2D()(x)\n",
    "x = layers.Conv2D(64, 3, activation='relu',)(x)\n",
    "#x = layers.MaxPooling2D()(x)\n",
    "x = layers.Conv2D(32, 3, activation='relu',)(x)\n",
    "outputs = layers.Flatten()(x)\n",
    "#outputs = layers.Dense(37, activation='sigmoid')(x)\n",
    "model_pse = keras.Model(pse, outputs)\n",
    "model_pse.summary()"
   ]
  },
  {
   "cell_type": "code",
   "execution_count": 23,
   "metadata": {},
   "outputs": [
    {
     "name": "stdout",
     "output_type": "stream",
     "text": [
      "Model: \"functional_7\"\n",
      "__________________________________________________________________________________________________\n",
      "Layer (type)                    Output Shape         Param #     Connected to                     \n",
      "==================================================================================================\n",
      "input_2 (InputLayer)            [(None, 31, 20, 2)]  0                                            \n",
      "__________________________________________________________________________________________________\n",
      "input_3 (InputLayer)            [(None, 31, 57, 2)]  0                                            \n",
      "__________________________________________________________________________________________________\n",
      "conv2d_3 (Conv2D)               (None, 28, 18, 256)  6400        input_2[0][0]                    \n",
      "__________________________________________________________________________________________________\n",
      "conv2d_7 (Conv2D)               (None, 28, 55, 256)  6400        input_3[0][0]                    \n",
      "__________________________________________________________________________________________________\n",
      "conv2d_4 (Conv2D)               (None, 26, 16, 128)  295040      conv2d_3[0][0]                   \n",
      "__________________________________________________________________________________________________\n",
      "conv2d_8 (Conv2D)               (None, 26, 53, 128)  295040      conv2d_7[0][0]                   \n",
      "__________________________________________________________________________________________________\n",
      "max_pooling2d (MaxPooling2D)    (None, 13, 8, 128)   0           conv2d_4[0][0]                   \n",
      "__________________________________________________________________________________________________\n",
      "max_pooling2d_1 (MaxPooling2D)  (None, 13, 26, 128)  0           conv2d_8[0][0]                   \n",
      "__________________________________________________________________________________________________\n",
      "conv2d_5 (Conv2D)               (None, 11, 6, 64)    73792       max_pooling2d[0][0]              \n",
      "__________________________________________________________________________________________________\n",
      "conv2d_9 (Conv2D)               (None, 11, 24, 64)   73792       max_pooling2d_1[0][0]            \n",
      "__________________________________________________________________________________________________\n",
      "conv2d_6 (Conv2D)               (None, 9, 4, 32)     18464       conv2d_5[0][0]                   \n",
      "__________________________________________________________________________________________________\n",
      "conv2d_10 (Conv2D)              (None, 9, 22, 32)    18464       conv2d_9[0][0]                   \n",
      "__________________________________________________________________________________________________\n",
      "flatten_1 (Flatten)             (None, 1152)         0           conv2d_6[0][0]                   \n",
      "__________________________________________________________________________________________________\n",
      "flatten_2 (Flatten)             (None, 6336)         0           conv2d_10[0][0]                  \n",
      "__________________________________________________________________________________________________\n",
      "concatenate (Concatenate)       (None, 7488)         0           flatten_1[0][0]                  \n",
      "                                                                 flatten_2[0][0]                  \n",
      "__________________________________________________________________________________________________\n",
      "dense_1 (Dense)                 (None, 37)           277093      concatenate[0][0]                \n",
      "==================================================================================================\n",
      "Total params: 1,064,485\n",
      "Trainable params: 1,064,485\n",
      "Non-trainable params: 0\n",
      "__________________________________________________________________________________________________\n"
     ]
    }
   ],
   "source": [
    "tmodel = layers.Concatenate()([model_pssm.output, model_pse.output])\n",
    "x = layers.Dense(37, activation='sigmoid')(tmodel)\n",
    "model = keras.Model(inputs=[pssm, pse], outputs = x)\n",
    "model.summary()"
   ]
  },
  {
   "cell_type": "code",
   "execution_count": 24,
   "metadata": {},
   "outputs": [
    {
     "name": "stdout",
     "output_type": "stream",
     "text": [
      "Epoch 1/50\n",
      "541/541 [==============================] - 9s 17ms/step - loss: 0.1139 - accuracy: 0.1937 - val_loss: 0.0879 - val_accuracy: 0.2682\n",
      "Epoch 2/50\n",
      "541/541 [==============================] - 8s 15ms/step - loss: 0.1086 - accuracy: 0.1928 - val_loss: 0.0904 - val_accuracy: 0.2682\n",
      "Epoch 3/50\n",
      "541/541 [==============================] - 8s 15ms/step - loss: 0.1080 - accuracy: 0.1928 - val_loss: 0.0910 - val_accuracy: 0.2682\n",
      "Epoch 4/50\n",
      "541/541 [==============================] - 8s 15ms/step - loss: 0.1071 - accuracy: 0.1976 - val_loss: 0.0904 - val_accuracy: 0.2682\n",
      "Epoch 5/50\n",
      "541/541 [==============================] - 8s 15ms/step - loss: 0.1048 - accuracy: 0.2171 - val_loss: 0.0899 - val_accuracy: 0.3222\n",
      "Epoch 6/50\n",
      "541/541 [==============================] - 8s 15ms/step - loss: 0.1030 - accuracy: 0.2344 - val_loss: 0.0847 - val_accuracy: 0.3576\n",
      "Epoch 7/50\n",
      "541/541 [==============================] - 8s 15ms/step - loss: 0.0999 - accuracy: 0.2534 - val_loss: 0.0787 - val_accuracy: 0.4262\n",
      "Epoch 8/50\n",
      "541/541 [==============================] - 8s 16ms/step - loss: 0.0976 - accuracy: 0.2803 - val_loss: 0.0804 - val_accuracy: 0.3825\n",
      "Epoch 9/50\n",
      "541/541 [==============================] - 8s 15ms/step - loss: 0.0959 - accuracy: 0.2941 - val_loss: 0.0789 - val_accuracy: 0.4200\n",
      "Epoch 10/50\n",
      "541/541 [==============================] - 8s 15ms/step - loss: 0.0937 - accuracy: 0.3103 - val_loss: 0.0838 - val_accuracy: 0.3867\n",
      "Epoch 11/50\n",
      "541/541 [==============================] - 8s 16ms/step - loss: 0.0920 - accuracy: 0.3219 - val_loss: 0.0776 - val_accuracy: 0.4865\n",
      "Epoch 12/50\n",
      "541/541 [==============================] - 8s 16ms/step - loss: 0.0902 - accuracy: 0.3383 - val_loss: 0.0772 - val_accuracy: 0.4699\n",
      "Epoch 13/50\n",
      "541/541 [==============================] - 8s 15ms/step - loss: 0.0886 - accuracy: 0.3402 - val_loss: 0.0771 - val_accuracy: 0.4636\n",
      "Epoch 14/50\n",
      "541/541 [==============================] - 8s 15ms/step - loss: 0.0869 - accuracy: 0.3606 - val_loss: 0.0791 - val_accuracy: 0.4532\n",
      "Epoch 15/50\n",
      "541/541 [==============================] - 8s 15ms/step - loss: 0.0851 - accuracy: 0.3659 - val_loss: 0.0777 - val_accuracy: 0.4678\n",
      "Epoch 16/50\n",
      "541/541 [==============================] - 8s 15ms/step - loss: 0.0836 - accuracy: 0.3812 - val_loss: 0.0803 - val_accuracy: 0.4699\n",
      "Epoch 17/50\n",
      "541/541 [==============================] - 8s 15ms/step - loss: 0.0818 - accuracy: 0.3909 - val_loss: 0.0784 - val_accuracy: 0.4906\n",
      "Epoch 18/50\n",
      "541/541 [==============================] - 8s 15ms/step - loss: 0.0803 - accuracy: 0.3960 - val_loss: 0.0813 - val_accuracy: 0.4470\n",
      "Epoch 19/50\n",
      "541/541 [==============================] - 8s 15ms/step - loss: 0.0782 - accuracy: 0.4045 - val_loss: 0.0825 - val_accuracy: 0.4906\n",
      "Epoch 20/50\n",
      "541/541 [==============================] - 8s 16ms/step - loss: 0.0770 - accuracy: 0.4087 - val_loss: 0.0804 - val_accuracy: 0.4948\n",
      "Epoch 21/50\n",
      "541/541 [==============================] - 8s 15ms/step - loss: 0.0751 - accuracy: 0.4224 - val_loss: 0.0853 - val_accuracy: 0.4470\n",
      "Epoch 22/50\n",
      "541/541 [==============================] - 8s 15ms/step - loss: 0.0733 - accuracy: 0.4284 - val_loss: 0.0884 - val_accuracy: 0.4137\n",
      "Epoch 23/50\n",
      "541/541 [==============================] - 8s 15ms/step - loss: 0.0716 - accuracy: 0.4381 - val_loss: 0.0859 - val_accuracy: 0.4636\n",
      "Epoch 24/50\n",
      "541/541 [==============================] - 8s 15ms/step - loss: 0.0698 - accuracy: 0.4490 - val_loss: 0.0878 - val_accuracy: 0.4511\n",
      "Epoch 25/50\n",
      "541/541 [==============================] - 8s 15ms/step - loss: 0.0681 - accuracy: 0.4654 - val_loss: 0.0891 - val_accuracy: 0.4428\n",
      "Epoch 26/50\n",
      "541/541 [==============================] - 8s 15ms/step - loss: 0.0668 - accuracy: 0.4686 - val_loss: 0.0903 - val_accuracy: 0.4387\n",
      "Epoch 27/50\n",
      "541/541 [==============================] - 8s 15ms/step - loss: 0.0650 - accuracy: 0.4765 - val_loss: 0.0921 - val_accuracy: 0.4491\n",
      "Epoch 28/50\n",
      "541/541 [==============================] - 8s 15ms/step - loss: 0.0635 - accuracy: 0.4879 - val_loss: 0.0969 - val_accuracy: 0.4387\n",
      "Epoch 29/50\n",
      "541/541 [==============================] - 8s 15ms/step - loss: 0.0624 - accuracy: 0.5010 - val_loss: 0.0941 - val_accuracy: 0.4657\n",
      "Epoch 30/50\n",
      "541/541 [==============================] - 8s 15ms/step - loss: 0.0604 - accuracy: 0.5117 - val_loss: 0.0979 - val_accuracy: 0.4012\n",
      "Epoch 31/50\n",
      "541/541 [==============================] - 8s 16ms/step - loss: 0.0591 - accuracy: 0.5221 - val_loss: 0.1003 - val_accuracy: 0.4137\n",
      "Epoch 32/50\n",
      "541/541 [==============================] - 8s 15ms/step - loss: 0.0578 - accuracy: 0.5277 - val_loss: 0.1054 - val_accuracy: 0.4283\n",
      "Epoch 33/50\n",
      "541/541 [==============================] - 8s 15ms/step - loss: 0.0564 - accuracy: 0.5422 - val_loss: 0.1017 - val_accuracy: 0.4179\n",
      "Epoch 34/50\n",
      "541/541 [==============================] - 8s 15ms/step - loss: 0.0552 - accuracy: 0.5455 - val_loss: 0.1093 - val_accuracy: 0.4054\n",
      "Epoch 35/50\n",
      "541/541 [==============================] - 8s 15ms/step - loss: 0.0535 - accuracy: 0.5536 - val_loss: 0.1067 - val_accuracy: 0.4158\n",
      "Epoch 36/50\n",
      "541/541 [==============================] - 8s 15ms/step - loss: 0.0522 - accuracy: 0.5769 - val_loss: 0.1123 - val_accuracy: 0.3971\n",
      "Epoch 37/50\n",
      "541/541 [==============================] - 8s 16ms/step - loss: 0.0510 - accuracy: 0.5758 - val_loss: 0.1139 - val_accuracy: 0.3888\n",
      "Epoch 38/50\n",
      "541/541 [==============================] - 8s 15ms/step - loss: 0.0498 - accuracy: 0.5790 - val_loss: 0.1144 - val_accuracy: 0.4241\n",
      "Epoch 39/50\n",
      "541/541 [==============================] - 8s 15ms/step - loss: 0.0483 - accuracy: 0.5966 - val_loss: 0.1173 - val_accuracy: 0.4179\n",
      "Epoch 40/50\n",
      "541/541 [==============================] - 8s 15ms/step - loss: 0.0467 - accuracy: 0.6091 - val_loss: 0.1260 - val_accuracy: 0.3888\n",
      "Epoch 41/50\n",
      "541/541 [==============================] - 8s 15ms/step - loss: 0.0462 - accuracy: 0.6059 - val_loss: 0.1300 - val_accuracy: 0.3784\n",
      "Epoch 42/50\n",
      "541/541 [==============================] - 8s 16ms/step - loss: 0.0448 - accuracy: 0.6147 - val_loss: 0.1296 - val_accuracy: 0.3846\n",
      "Epoch 43/50\n",
      "541/541 [==============================] - 8s 15ms/step - loss: 0.0438 - accuracy: 0.6283 - val_loss: 0.1317 - val_accuracy: 0.3867\n",
      "Epoch 44/50\n",
      "541/541 [==============================] - 8s 15ms/step - loss: 0.0426 - accuracy: 0.6309 - val_loss: 0.1343 - val_accuracy: 0.3805\n",
      "Epoch 45/50\n",
      "541/541 [==============================] - 8s 15ms/step - loss: 0.0409 - accuracy: 0.6522 - val_loss: 0.1372 - val_accuracy: 0.3701\n",
      "Epoch 46/50\n",
      "541/541 [==============================] - 8s 15ms/step - loss: 0.0411 - accuracy: 0.6485 - val_loss: 0.1342 - val_accuracy: 0.3784\n",
      "Epoch 47/50\n",
      "541/541 [==============================] - 8s 15ms/step - loss: 0.0391 - accuracy: 0.6649 - val_loss: 0.1391 - val_accuracy: 0.3867\n",
      "Epoch 48/50\n",
      "541/541 [==============================] - 8s 15ms/step - loss: 0.0385 - accuracy: 0.6600 - val_loss: 0.1452 - val_accuracy: 0.3888\n",
      "Epoch 49/50\n",
      "541/541 [==============================] - 8s 15ms/step - loss: 0.0375 - accuracy: 0.6739 - val_loss: 0.1558 - val_accuracy: 0.4096\n",
      "Epoch 50/50\n",
      "541/541 [==============================] - 8s 15ms/step - loss: 0.0376 - accuracy: 0.6607 - val_loss: 0.1490 - val_accuracy: 0.3888\n"
     ]
    },
    {
     "data": {
      "text/plain": [
       "<tensorflow.python.keras.callbacks.History at 0x7eff3a1f39d0>"
      ]
     },
     "execution_count": 24,
     "metadata": {},
     "output_type": "execute_result"
    }
   ],
   "source": [
    "model.compile(\"adam\", \"binary_crossentropy\", metrics=[\"accuracy\"])\n",
    "model.fit([pssmpse, pppse], Y_4802, batch_size=8, epochs=50,validation_split=0.1)\n",
    "         # callbacks = [tensorboard_callback])#, validation_data=(x_val, y_val))"
   ]
  },
  {
   "cell_type": "code",
   "execution_count": 25,
   "metadata": {},
   "outputs": [],
   "source": [
    "res = model.predict([pssmpse[0:10], pppse[0:10]])"
   ]
  },
  {
   "cell_type": "code",
   "execution_count": 26,
   "metadata": {},
   "outputs": [
    {
     "data": {
      "text/plain": [
       "0.9999515"
      ]
     },
     "execution_count": 26,
     "metadata": {},
     "output_type": "execute_result"
    }
   ],
   "source": [
    "max(res.flatten())"
   ]
  },
  {
   "cell_type": "code",
   "execution_count": 27,
   "metadata": {},
   "outputs": [
    {
     "data": {
      "text/plain": [
       "2.9882393e-38"
      ]
     },
     "execution_count": 27,
     "metadata": {},
     "output_type": "execute_result"
    }
   ],
   "source": [
    "min(res.flatten())"
   ]
  },
  {
   "cell_type": "code",
   "execution_count": 28,
   "metadata": {},
   "outputs": [],
   "source": [
    "res[res>=0.5] = 1\n",
    "res[res<0.5] = 0"
   ]
  },
  {
   "cell_type": "code",
   "execution_count": 29,
   "metadata": {},
   "outputs": [
    {
     "data": {
      "text/plain": [
       "array([[0., 0., 0., 0., 0., 0., 0., 0., 0., 0., 0., 0., 0., 0., 0., 0.,\n",
       "        0., 0., 0., 0., 0., 0., 0., 0., 0., 0., 0., 0., 0., 0., 1., 0.,\n",
       "        0., 0., 0., 0., 0.],\n",
       "       [0., 0., 0., 0., 0., 0., 0., 0., 0., 0., 0., 0., 0., 0., 0., 0.,\n",
       "        0., 0., 0., 0., 0., 0., 0., 0., 0., 1., 0., 1., 0., 0., 0., 0.,\n",
       "        0., 0., 0., 0., 0.],\n",
       "       [0., 0., 0., 0., 0., 0., 0., 0., 0., 0., 0., 0., 0., 0., 0., 0.,\n",
       "        0., 0., 0., 0., 0., 0., 0., 0., 0., 0., 0., 0., 0., 0., 1., 0.,\n",
       "        0., 0., 0., 0., 0.],\n",
       "       [0., 0., 0., 0., 0., 0., 0., 0., 0., 0., 0., 0., 0., 0., 0., 0.,\n",
       "        0., 0., 0., 0., 0., 0., 0., 0., 0., 0., 1., 1., 0., 0., 0., 0.,\n",
       "        0., 0., 0., 0., 0.],\n",
       "       [0., 0., 0., 0., 0., 0., 0., 0., 0., 0., 1., 0., 0., 0., 0., 0.,\n",
       "        0., 0., 0., 0., 0., 0., 0., 0., 0., 0., 0., 0., 0., 0., 1., 0.,\n",
       "        0., 0., 0., 0., 0.],\n",
       "       [0., 0., 0., 0., 0., 0., 0., 0., 0., 0., 0., 0., 0., 0., 0., 0.,\n",
       "        0., 0., 0., 0., 0., 0., 0., 0., 0., 0., 0., 0., 0., 0., 1., 0.,\n",
       "        0., 0., 0., 0., 0.],\n",
       "       [0., 0., 0., 0., 0., 0., 0., 0., 0., 1., 0., 0., 0., 0., 0., 0.,\n",
       "        0., 0., 0., 0., 0., 0., 0., 0., 0., 0., 0., 0., 0., 0., 1., 0.,\n",
       "        0., 0., 0., 0., 0.],\n",
       "       [0., 0., 0., 0., 1., 0., 0., 0., 0., 0., 0., 0., 0., 0., 0., 0.,\n",
       "        0., 0., 0., 0., 0., 0., 0., 0., 0., 0., 0., 0., 0., 0., 0., 0.,\n",
       "        0., 0., 0., 0., 0.],\n",
       "       [0., 0., 0., 0., 0., 0., 0., 0., 0., 0., 0., 0., 1., 0., 0., 1.,\n",
       "        0., 0., 0., 0., 0., 0., 0., 0., 0., 0., 0., 0., 0., 0., 0., 0.,\n",
       "        0., 0., 0., 0., 0.],\n",
       "       [0., 0., 0., 0., 0., 0., 0., 1., 0., 0., 0., 0., 0., 0., 0., 0.,\n",
       "        0., 0., 0., 0., 0., 0., 0., 0., 0., 0., 0., 0., 0., 0., 0., 0.,\n",
       "        0., 0., 0., 0., 0.]], dtype=float32)"
      ]
     },
     "execution_count": 29,
     "metadata": {},
     "output_type": "execute_result"
    }
   ],
   "source": [
    "res"
   ]
  },
  {
   "cell_type": "code",
   "execution_count": null,
   "metadata": {},
   "outputs": [],
   "source": []
  }
 ],
 "metadata": {
  "kernelspec": {
   "display_name": "Python 3",
   "language": "python",
   "name": "python3"
  },
  "language_info": {
   "codemirror_mode": {
    "name": "ipython",
    "version": 3
   },
   "file_extension": ".py",
   "mimetype": "text/x-python",
   "name": "python",
   "nbconvert_exporter": "python",
   "pygments_lexer": "ipython3",
   "version": "3.8.2"
  }
 },
 "nbformat": 4,
 "nbformat_minor": 4
}
