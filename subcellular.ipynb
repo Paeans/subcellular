{
 "cells": [
  {
   "cell_type": "code",
   "execution_count": 1,
   "metadata": {},
   "outputs": [],
   "source": [
    "import numpy as np\n",
    "import tensorflow as tf\n",
    "\n",
    "from tensorflow import keras\n",
    "from scipy.io import loadmat, savemat\n",
    "\n",
    "from tensorflow.keras import layers"
   ]
  },
  {
   "cell_type": "code",
   "execution_count": 2,
   "metadata": {},
   "outputs": [],
   "source": [
    "# gpus = tf.config.experimental.list_physical_devices('GPU')\n",
    "# if gpus:\n",
    "#   try:\n",
    "#     # Currently, memory growth needs to be the same across GPUs\n",
    "#     for gpu in gpus:\n",
    "#       tf.config.experimental.set_memory_growth(gpu, True)\n",
    "#     logical_gpus = tf.config.experimental.list_logical_devices('GPU')\n",
    "#     print(len(gpus), \"Physical GPUs,\", len(logical_gpus), \"Logical GPUs\")\n",
    "#   except RuntimeError as e:\n",
    "#     # Memory growth must be set before GPUs have been initialized\n",
    "#     print(e)"
   ]
  },
  {
   "cell_type": "code",
   "execution_count": 14,
   "metadata": {},
   "outputs": [],
   "source": [
    "Y_4802 = loadmat('Y_4802.mat')['Y_4802']"
   ]
  },
  {
   "cell_type": "code",
   "execution_count": 4,
   "metadata": {},
   "outputs": [],
   "source": [
    "sequence = loadmat('dataset_4802.mat')['Sequence']"
   ]
  },
  {
   "cell_type": "code",
   "execution_count": 5,
   "metadata": {},
   "outputs": [],
   "source": [
    "amino_code = {'A':0, 'C':1, 'D':2, 'E':3, 'F':4, 'G':5, 'H':6,\n",
    "             'I':7, 'K':8, 'L':9, 'M':10, 'N':11, 'P':12, \n",
    "             'Q':13, 'R':14, 'S':15, 'T':16, 'U':17, 'V':18,\n",
    "             'W':19, 'X':20, 'Y':21 }"
   ]
  },
  {
   "cell_type": "code",
   "execution_count": 6,
   "metadata": {},
   "outputs": [],
   "source": [
    "extend_one_encode = []\n",
    "seq_num_encode = []\n",
    "for s in sequence:\n",
    "    p_seq = (list(s[0][0]) * 1000)[0:10000]\n",
    "    seq_num = np.array([amino_code[x] for x in p_seq])\n",
    "    seq_num_encode.append(seq_num)\n",
    "    tmp = np.zeros((seq_num.size, 22))\n",
    "    tmp[np.arange(seq_num.size), seq_num] = 1\n",
    "    extend_one_encode.append(tmp)"
   ]
  },
  {
   "cell_type": "code",
   "execution_count": 7,
   "metadata": {},
   "outputs": [],
   "source": [
    "X_4802_padding = np.array(extend_one_encode)"
   ]
  },
  {
   "cell_type": "code",
   "execution_count": 8,
   "metadata": {},
   "outputs": [
    {
     "data": {
      "text/plain": [
       "(4802, 10000, 22)"
      ]
     },
     "execution_count": 8,
     "metadata": {},
     "output_type": "execute_result"
    }
   ],
   "source": [
    "X_4802_padding.shape"
   ]
  },
  {
   "cell_type": "code",
   "execution_count": 9,
   "metadata": {},
   "outputs": [
    {
     "data": {
      "text/plain": [
       "(4802, 10000)"
      ]
     },
     "execution_count": 9,
     "metadata": {},
     "output_type": "execute_result"
    }
   ],
   "source": [
    "X_4802_num = np.array(seq_num_encode); X_4802_num.shape"
   ]
  },
  {
   "cell_type": "code",
   "execution_count": 10,
   "metadata": {},
   "outputs": [
    {
     "data": {
      "text/plain": [
       "array([[0., 0., 0., ..., 0., 0., 0.],\n",
       "       [0., 0., 1., ..., 0., 0., 0.],\n",
       "       [0., 0., 0., ..., 0., 0., 0.],\n",
       "       ...,\n",
       "       [0., 0., 0., ..., 0., 0., 0.],\n",
       "       [0., 0., 0., ..., 0., 0., 0.],\n",
       "       [0., 0., 0., ..., 0., 0., 0.]])"
      ]
     },
     "execution_count": 10,
     "metadata": {},
     "output_type": "execute_result"
    }
   ],
   "source": [
    "X_4802_padding[0]"
   ]
  },
  {
   "cell_type": "code",
   "execution_count": 11,
   "metadata": {},
   "outputs": [
    {
     "data": {
      "text/plain": [
       "(4802, 37)"
      ]
     },
     "execution_count": 11,
     "metadata": {},
     "output_type": "execute_result"
    }
   ],
   "source": [
    "Y_4802.shape"
   ]
  },
  {
   "cell_type": "code",
   "execution_count": 12,
   "metadata": {},
   "outputs": [
    {
     "name": "stdout",
     "output_type": "stream",
     "text": [
      "Model: \"functional_1\"\n",
      "_________________________________________________________________\n",
      "Layer (type)                 Output Shape              Param #   \n",
      "=================================================================\n",
      "input_1 (InputLayer)         [(None, None)]            0         \n",
      "_________________________________________________________________\n",
      "embedding (Embedding)        (None, None, 22)          484       \n",
      "_________________________________________________________________\n",
      "bidirectional (Bidirectional (None, None, 512)         571392    \n",
      "_________________________________________________________________\n",
      "bidirectional_1 (Bidirection (None, 256)               656384    \n",
      "_________________________________________________________________\n",
      "reshape (Reshape)            (None, 16, 16, 1)         0         \n",
      "_________________________________________________________________\n",
      "conv2d (Conv2D)              (None, 14, 14, 128)       1280      \n",
      "_________________________________________________________________\n",
      "conv2d_1 (Conv2D)            (None, 12, 12, 64)        73792     \n",
      "_________________________________________________________________\n",
      "conv2d_2 (Conv2D)            (None, 10, 10, 32)        18464     \n",
      "_________________________________________________________________\n",
      "flatten (Flatten)            (None, 3200)              0         \n",
      "_________________________________________________________________\n",
      "dense (Dense)                (None, 37)                118437    \n",
      "=================================================================\n",
      "Total params: 1,440,233\n",
      "Trainable params: 1,440,233\n",
      "Non-trainable params: 0\n",
      "_________________________________________________________________\n"
     ]
    }
   ],
   "source": [
    "#inputs = keras.Input(shape=(None, 22,), dtype = \"float32\")\n",
    "inputs = keras.Input(shape=(None,), dtype = \"int32\")\n",
    "x = layers.Embedding(22, 22)(inputs)\n",
    "x = layers.Bidirectional(layers.LSTM(256, return_sequences = True))(x)\n",
    "#x = layers.Bidirectional(layers.LSTM(128, return_sequences = True))(x)\n",
    "x = layers.Bidirectional(layers.LSTM(128))(x)\n",
    "x = layers.Reshape((16,16,1))(x)\n",
    "\n",
    "#x = layers.Conv2D(128, 3, activation='relu',)(x)\n",
    "x = layers.Conv2D(128, 3, activation='relu',)(x)\n",
    "x = layers.Conv2D(64, 3, activation='relu',)(x)\n",
    "x = layers.Conv2D(32, 3, activation='relu',)(x)\n",
    "x = layers.Flatten()(x)\n",
    "outputs = layers.Dense(37, activation='sigmoid')(x)\n",
    "model = keras.Model(inputs, outputs)\n",
    "model.summary()"
   ]
  },
  {
   "cell_type": "code",
   "execution_count": 13,
   "metadata": {},
   "outputs": [
    {
     "name": "stdout",
     "output_type": "stream",
     "text": [
      "Epoch 1/2\n",
      "151/151 [==============================] - 365s 2s/step - loss: 0.1373 - accuracy: 0.1949\n",
      "Epoch 2/2\n",
      "151/151 [==============================] - 365s 2s/step - loss: 0.1062 - accuracy: 0.2003\n"
     ]
    },
    {
     "data": {
      "text/plain": [
       "<tensorflow.python.keras.callbacks.History at 0x7fc8cc0360d0>"
      ]
     },
     "execution_count": 13,
     "metadata": {},
     "output_type": "execute_result"
    }
   ],
   "source": [
    "#tensorboard_callback = keras.callbacks.TensorBoard()\n",
    "\n",
    "model.compile(\"adam\", \"binary_crossentropy\", metrics=[\"accuracy\"])\n",
    "model.fit(X_4802_num, Y_4802, batch_size=32, epochs=2,)\n",
    "         # callbacks = [tensorboard_callback])#, validation_data=(x_val, y_val))"
   ]
  },
  {
   "cell_type": "code",
   "execution_count": null,
   "metadata": {},
   "outputs": [],
   "source": []
  },
  {
   "cell_type": "code",
   "execution_count": null,
   "metadata": {},
   "outputs": [],
   "source": []
  },
  {
   "cell_type": "code",
   "execution_count": 2,
   "metadata": {},
   "outputs": [],
   "source": [
    "X_4802_feature = loadmat('feature_4802.mat')"
   ]
  },
  {
   "cell_type": "code",
   "execution_count": 3,
   "metadata": {},
   "outputs": [],
   "source": [
    "pssmpse = X_4802_feature['pssmpse']"
   ]
  },
  {
   "cell_type": "code",
   "execution_count": 4,
   "metadata": {},
   "outputs": [
    {
     "data": {
      "text/plain": [
       "(31, 20, 2)"
      ]
     },
     "execution_count": 4,
     "metadata": {},
     "output_type": "execute_result"
    }
   ],
   "source": [
    "pssmpse[0].shape"
   ]
  },
  {
   "cell_type": "code",
   "execution_count": 92,
   "metadata": {},
   "outputs": [
    {
     "data": {
      "text/plain": [
       "dict_keys(['__header__', '__version__', '__globals__', 'ppab', 'ppdwt', 'pppse', 'pssmab', 'pssmdwt', 'pssmpse', 'label'])"
      ]
     },
     "execution_count": 92,
     "metadata": {},
     "output_type": "execute_result"
    }
   ],
   "source": [
    "X_4802_feature.keys()"
   ]
  },
  {
   "cell_type": "code",
   "execution_count": 40,
   "metadata": {},
   "outputs": [],
   "source": [
    "pppse = X_4802_feature['pppse']"
   ]
  },
  {
   "cell_type": "code",
   "execution_count": 41,
   "metadata": {},
   "outputs": [
    {
     "data": {
      "text/plain": [
       "(4802, 31, 57, 2)"
      ]
     },
     "execution_count": 41,
     "metadata": {},
     "output_type": "execute_result"
    }
   ],
   "source": [
    "pppse.shape"
   ]
  },
  {
   "cell_type": "code",
   "execution_count": 8,
   "metadata": {},
   "outputs": [
    {
     "data": {
      "text/plain": [
       "(28, 28, 3)"
      ]
     },
     "execution_count": 8,
     "metadata": {},
     "output_type": "execute_result"
    }
   ],
   "source": [
    "input_shape = (4, 7, 28, 28, 3)\n",
    "input_shape[2:]"
   ]
  },
  {
   "cell_type": "code",
   "execution_count": 87,
   "metadata": {},
   "outputs": [
    {
     "name": "stdout",
     "output_type": "stream",
     "text": [
      "Model: \"functional_39\"\n",
      "_________________________________________________________________\n",
      "Layer (type)                 Output Shape              Param #   \n",
      "=================================================================\n",
      "input_22 (InputLayer)        [(None, 31, 20, 2)]       0         \n",
      "_________________________________________________________________\n",
      "conv2d_68 (Conv2D)           (None, 28, 18, 256)       6400      \n",
      "_________________________________________________________________\n",
      "conv2d_69 (Conv2D)           (None, 26, 16, 128)       295040    \n",
      "_________________________________________________________________\n",
      "max_pooling2d_13 (MaxPooling (None, 13, 8, 128)        0         \n",
      "_________________________________________________________________\n",
      "conv2d_70 (Conv2D)           (None, 11, 6, 64)         73792     \n",
      "_________________________________________________________________\n",
      "conv2d_71 (Conv2D)           (None, 9, 4, 32)          18464     \n",
      "_________________________________________________________________\n",
      "flatten_16 (Flatten)         (None, 1152)              0         \n",
      "=================================================================\n",
      "Total params: 393,696\n",
      "Trainable params: 393,696\n",
      "Non-trainable params: 0\n",
      "_________________________________________________________________\n"
     ]
    }
   ],
   "source": [
    "input_shape = pssmpse.shape\n",
    "pssm = keras.Input(shape=input_shape[1:], dtype = \"float32\")\n",
    "\n",
    "x = layers.Conv2D(256, (4,3), activation='relu')(pssm)\n",
    "x = layers.Conv2D(128, 3, activation='relu',)(x)\n",
    "x = layers.MaxPooling2D()(x)\n",
    "x = layers.Conv2D(64, 3, activation='relu',)(x)\n",
    "#x = layers.MaxPooling2D()(x)\n",
    "x = layers.Conv2D(32, 3, activation='relu',)(x)\n",
    "outputs = layers.Flatten()(x)\n",
    "#outputs = layers.Dense(37, activation='sigmoid')(x)\n",
    "model_pssm = keras.Model(pssm, outputs)\n",
    "model_pssm.summary()"
   ]
  },
  {
   "cell_type": "code",
   "execution_count": 88,
   "metadata": {},
   "outputs": [
    {
     "name": "stdout",
     "output_type": "stream",
     "text": [
      "Model: \"functional_41\"\n",
      "_________________________________________________________________\n",
      "Layer (type)                 Output Shape              Param #   \n",
      "=================================================================\n",
      "input_23 (InputLayer)        [(None, 31, 57, 2)]       0         \n",
      "_________________________________________________________________\n",
      "conv2d_72 (Conv2D)           (None, 28, 55, 256)       6400      \n",
      "_________________________________________________________________\n",
      "conv2d_73 (Conv2D)           (None, 26, 53, 128)       295040    \n",
      "_________________________________________________________________\n",
      "max_pooling2d_14 (MaxPooling (None, 13, 26, 128)       0         \n",
      "_________________________________________________________________\n",
      "conv2d_74 (Conv2D)           (None, 11, 24, 64)        73792     \n",
      "_________________________________________________________________\n",
      "conv2d_75 (Conv2D)           (None, 9, 22, 32)         18464     \n",
      "_________________________________________________________________\n",
      "flatten_17 (Flatten)         (None, 6336)              0         \n",
      "=================================================================\n",
      "Total params: 393,696\n",
      "Trainable params: 393,696\n",
      "Non-trainable params: 0\n",
      "_________________________________________________________________\n"
     ]
    }
   ],
   "source": [
    "input_shape = pppse.shape\n",
    "pse = keras.Input(shape=input_shape[1:], dtype = \"float32\")\n",
    "\n",
    "x = layers.Conv2D(256, (4,3), activation='relu')(pse)\n",
    "x = layers.Conv2D(128, 3, activation='relu',)(x)\n",
    "x = layers.MaxPooling2D()(x)\n",
    "x = layers.Conv2D(64, 3, activation='relu',)(x)\n",
    "#x = layers.MaxPooling2D()(x)\n",
    "x = layers.Conv2D(32, 3, activation='relu',)(x)\n",
    "outputs = layers.Flatten()(x)\n",
    "#outputs = layers.Dense(37, activation='sigmoid')(x)\n",
    "model_pse = keras.Model(pse, outputs)\n",
    "model_pse.summary()"
   ]
  },
  {
   "cell_type": "code",
   "execution_count": 89,
   "metadata": {},
   "outputs": [
    {
     "name": "stdout",
     "output_type": "stream",
     "text": [
      "Model: \"functional_43\"\n",
      "__________________________________________________________________________________________________\n",
      "Layer (type)                    Output Shape         Param #     Connected to                     \n",
      "==================================================================================================\n",
      "input_22 (InputLayer)           [(None, 31, 20, 2)]  0                                            \n",
      "__________________________________________________________________________________________________\n",
      "input_23 (InputLayer)           [(None, 31, 57, 2)]  0                                            \n",
      "__________________________________________________________________________________________________\n",
      "conv2d_68 (Conv2D)              (None, 28, 18, 256)  6400        input_22[0][0]                   \n",
      "__________________________________________________________________________________________________\n",
      "conv2d_72 (Conv2D)              (None, 28, 55, 256)  6400        input_23[0][0]                   \n",
      "__________________________________________________________________________________________________\n",
      "conv2d_69 (Conv2D)              (None, 26, 16, 128)  295040      conv2d_68[0][0]                  \n",
      "__________________________________________________________________________________________________\n",
      "conv2d_73 (Conv2D)              (None, 26, 53, 128)  295040      conv2d_72[0][0]                  \n",
      "__________________________________________________________________________________________________\n",
      "max_pooling2d_13 (MaxPooling2D) (None, 13, 8, 128)   0           conv2d_69[0][0]                  \n",
      "__________________________________________________________________________________________________\n",
      "max_pooling2d_14 (MaxPooling2D) (None, 13, 26, 128)  0           conv2d_73[0][0]                  \n",
      "__________________________________________________________________________________________________\n",
      "conv2d_70 (Conv2D)              (None, 11, 6, 64)    73792       max_pooling2d_13[0][0]           \n",
      "__________________________________________________________________________________________________\n",
      "conv2d_74 (Conv2D)              (None, 11, 24, 64)   73792       max_pooling2d_14[0][0]           \n",
      "__________________________________________________________________________________________________\n",
      "conv2d_71 (Conv2D)              (None, 9, 4, 32)     18464       conv2d_70[0][0]                  \n",
      "__________________________________________________________________________________________________\n",
      "conv2d_75 (Conv2D)              (None, 9, 22, 32)    18464       conv2d_74[0][0]                  \n",
      "__________________________________________________________________________________________________\n",
      "flatten_16 (Flatten)            (None, 1152)         0           conv2d_71[0][0]                  \n",
      "__________________________________________________________________________________________________\n",
      "flatten_17 (Flatten)            (None, 6336)         0           conv2d_75[0][0]                  \n",
      "__________________________________________________________________________________________________\n",
      "concatenate_1 (Concatenate)     (None, 7488)         0           flatten_16[0][0]                 \n",
      "                                                                 flatten_17[0][0]                 \n",
      "__________________________________________________________________________________________________\n",
      "dense_20 (Dense)                (None, 37)           277093      concatenate_1[0][0]              \n",
      "==================================================================================================\n",
      "Total params: 1,064,485\n",
      "Trainable params: 1,064,485\n",
      "Non-trainable params: 0\n",
      "__________________________________________________________________________________________________\n"
     ]
    }
   ],
   "source": [
    "tmodel = layers.Concatenate()([model_pssm.output, model_pse.output])\n",
    "x = layers.Dense(37, activation='sigmoid')(tmodel)\n",
    "model = keras.Model(inputs=[pssm, pse], outputs = x)\n",
    "model.summary()"
   ]
  },
  {
   "cell_type": "code",
   "execution_count": null,
   "metadata": {},
   "outputs": [
    {
     "name": "stdout",
     "output_type": "stream",
     "text": [
      "Epoch 1/50\n",
      "541/541 [==============================] - 8s 15ms/step - loss: 0.0374 - accuracy: 0.6584 - val_loss: 0.1454 - val_accuracy: 0.4012\n",
      "Epoch 2/50\n",
      "541/541 [==============================] - 7s 13ms/step - loss: 0.0353 - accuracy: 0.6816 - val_loss: 0.1594 - val_accuracy: 0.3597\n",
      "Epoch 3/50\n",
      "541/541 [==============================] - 7s 14ms/step - loss: 0.0351 - accuracy: 0.6746 - val_loss: 0.1545 - val_accuracy: 0.4054\n",
      "Epoch 4/50\n",
      "541/541 [==============================] - 8s 14ms/step - loss: 0.0334 - accuracy: 0.6964 - val_loss: 0.1578 - val_accuracy: 0.4075\n",
      "Epoch 5/50\n",
      "541/541 [==============================] - 8s 14ms/step - loss: 0.0318 - accuracy: 0.6980 - val_loss: 0.1638 - val_accuracy: 0.3929\n",
      "Epoch 6/50\n",
      "541/541 [==============================] - 8s 14ms/step - loss: 0.0316 - accuracy: 0.7065 - val_loss: 0.1617 - val_accuracy: 0.3763\n",
      "Epoch 7/50\n",
      "541/541 [==============================] - 8s 14ms/step - loss: 0.0308 - accuracy: 0.7170 - val_loss: 0.1661 - val_accuracy: 0.3950\n",
      "Epoch 8/50\n",
      "541/541 [==============================] - 8s 14ms/step - loss: 0.0298 - accuracy: 0.7149 - val_loss: 0.1748 - val_accuracy: 0.3721\n",
      "Epoch 9/50\n",
      "541/541 [==============================] - 7s 13ms/step - loss: 0.0285 - accuracy: 0.7202 - val_loss: 0.1803 - val_accuracy: 0.3763\n",
      "Epoch 10/50\n",
      "541/541 [==============================] - 8s 14ms/step - loss: 0.0278 - accuracy: 0.7267 - val_loss: 0.1833 - val_accuracy: 0.3909\n",
      "Epoch 11/50\n",
      "541/541 [==============================] - 8s 14ms/step - loss: 0.0278 - accuracy: 0.7276 - val_loss: 0.1877 - val_accuracy: 0.3909\n",
      "Epoch 12/50\n",
      "541/541 [==============================] - 8s 14ms/step - loss: 0.0269 - accuracy: 0.7253 - val_loss: 0.2034 - val_accuracy: 0.3784\n",
      "Epoch 13/50\n",
      "541/541 [==============================] - 8s 14ms/step - loss: 0.0257 - accuracy: 0.7433 - val_loss: 0.1989 - val_accuracy: 0.3784\n",
      "Epoch 14/50\n",
      "541/541 [==============================] - 8s 14ms/step - loss: 0.0264 - accuracy: 0.7422 - val_loss: 0.1943 - val_accuracy: 0.3846\n",
      "Epoch 15/50\n",
      "541/541 [==============================] - 7s 14ms/step - loss: 0.0235 - accuracy: 0.7538 - val_loss: 0.2063 - val_accuracy: 0.3825\n",
      "Epoch 16/50\n",
      "541/541 [==============================] - 7s 13ms/step - loss: 0.0239 - accuracy: 0.7491 - val_loss: 0.2081 - val_accuracy: 0.4054\n",
      "Epoch 17/50\n",
      "541/541 [==============================] - 8s 14ms/step - loss: 0.0236 - accuracy: 0.7498 - val_loss: 0.2128 - val_accuracy: 0.3909\n",
      "Epoch 18/50\n",
      "541/541 [==============================] - 8s 14ms/step - loss: 0.0225 - accuracy: 0.7570 - val_loss: 0.2157 - val_accuracy: 0.3825\n",
      "Epoch 19/50\n",
      "541/541 [==============================] - 8s 14ms/step - loss: 0.0230 - accuracy: 0.7512 - val_loss: 0.2214 - val_accuracy: 0.3867\n",
      "Epoch 20/50\n",
      "541/541 [==============================] - 8s 14ms/step - loss: 0.0216 - accuracy: 0.7667 - val_loss: 0.2280 - val_accuracy: 0.3493\n",
      "Epoch 21/50\n",
      "541/541 [==============================] - 8s 14ms/step - loss: 0.0203 - accuracy: 0.7702 - val_loss: 0.2240 - val_accuracy: 0.4012\n",
      "Epoch 22/50\n",
      "541/541 [==============================] - 8s 14ms/step - loss: 0.0209 - accuracy: 0.7651 - val_loss: 0.2304 - val_accuracy: 0.3368\n",
      "Epoch 23/50\n",
      "541/541 [==============================] - 8s 14ms/step - loss: 0.0204 - accuracy: 0.7672 - val_loss: 0.2267 - val_accuracy: 0.3950\n",
      "Epoch 24/50\n",
      "541/541 [==============================] - 8s 14ms/step - loss: 0.0193 - accuracy: 0.7746 - val_loss: 0.2399 - val_accuracy: 0.3867\n",
      "Epoch 25/50\n",
      "541/541 [==============================] - 8s 14ms/step - loss: 0.0194 - accuracy: 0.7704 - val_loss: 0.2456 - val_accuracy: 0.3846\n",
      "Epoch 26/50\n",
      "541/541 [==============================] - 8s 14ms/step - loss: 0.0192 - accuracy: 0.7753 - val_loss: 0.2405 - val_accuracy: 0.3597\n",
      "Epoch 27/50\n",
      "541/541 [==============================] - 8s 14ms/step - loss: 0.0182 - accuracy: 0.7776 - val_loss: 0.2386 - val_accuracy: 0.4116\n",
      "Epoch 28/50\n",
      "541/541 [==============================] - 8s 14ms/step - loss: 0.0179 - accuracy: 0.7760 - val_loss: 0.2485 - val_accuracy: 0.3888\n",
      "Epoch 29/50\n",
      "541/541 [==============================] - 8s 14ms/step - loss: 0.0179 - accuracy: 0.7801 - val_loss: 0.2586 - val_accuracy: 0.3846\n",
      "Epoch 30/50\n",
      "541/541 [==============================] - 8s 14ms/step - loss: 0.0172 - accuracy: 0.7778 - val_loss: 0.2589 - val_accuracy: 0.3805\n",
      "Epoch 31/50\n",
      "541/541 [==============================] - 8s 14ms/step - loss: 0.0169 - accuracy: 0.7788 - val_loss: 0.2608 - val_accuracy: 0.3555\n",
      "Epoch 32/50\n",
      "541/541 [==============================] - 8s 14ms/step - loss: 0.0175 - accuracy: 0.7794 - val_loss: 0.2678 - val_accuracy: 0.3555\n",
      "Epoch 33/50\n",
      "541/541 [==============================] - 8s 14ms/step - loss: 0.0164 - accuracy: 0.7873 - val_loss: 0.2781 - val_accuracy: 0.3451\n",
      "Epoch 34/50\n",
      "541/541 [==============================] - 8s 14ms/step - loss: 0.0163 - accuracy: 0.7781 - val_loss: 0.2822 - val_accuracy: 0.3430\n",
      "Epoch 35/50\n",
      "541/541 [==============================] - 7s 14ms/step - loss: 0.0167 - accuracy: 0.7875 - val_loss: 0.2799 - val_accuracy: 0.3721\n",
      "Epoch 36/50\n",
      "541/541 [==============================] - 7s 13ms/step - loss: 0.0165 - accuracy: 0.7864 - val_loss: 0.2813 - val_accuracy: 0.3784\n",
      "Epoch 37/50\n",
      "541/541 [==============================] - 8s 14ms/step - loss: 0.0148 - accuracy: 0.7906 - val_loss: 0.2863 - val_accuracy: 0.3555\n",
      "Epoch 38/50\n",
      "541/541 [==============================] - 8s 14ms/step - loss: 0.0145 - accuracy: 0.7938 - val_loss: 0.2859 - val_accuracy: 0.3472\n",
      "Epoch 39/50\n",
      "541/541 [==============================] - 8s 14ms/step - loss: 0.0164 - accuracy: 0.7838 - val_loss: 0.2903 - val_accuracy: 0.3638\n",
      "Epoch 40/50\n",
      "541/541 [==============================] - 7s 13ms/step - loss: 0.0140 - accuracy: 0.7857 - val_loss: 0.2792 - val_accuracy: 0.3659\n",
      "Epoch 41/50\n",
      "541/541 [==============================] - 7s 13ms/step - loss: 0.0145 - accuracy: 0.7885 - val_loss: 0.2977 - val_accuracy: 0.3555\n",
      "Epoch 42/50\n",
      "541/541 [==============================] - 7s 13ms/step - loss: 0.0146 - accuracy: 0.7915 - val_loss: 0.3106 - val_accuracy: 0.3430\n",
      "Epoch 43/50\n",
      "541/541 [==============================] - 7s 13ms/step - loss: 0.0149 - accuracy: 0.7926 - val_loss: 0.3012 - val_accuracy: 0.3534\n",
      "Epoch 44/50\n",
      "541/541 [==============================] - 7s 14ms/step - loss: 0.0136 - accuracy: 0.7896 - val_loss: 0.2996 - val_accuracy: 0.3555\n",
      "Epoch 45/50\n",
      "541/541 [==============================] - 7s 13ms/step - loss: 0.0136 - accuracy: 0.7926 - val_loss: 0.3070 - val_accuracy: 0.3680\n",
      "Epoch 46/50\n",
      "541/541 [==============================] - 7s 13ms/step - loss: 0.0144 - accuracy: 0.7922 - val_loss: 0.3008 - val_accuracy: 0.3472\n",
      "Epoch 47/50\n",
      "541/541 [==============================] - 7s 13ms/step - loss: 0.0133 - accuracy: 0.7933 - val_loss: 0.3144 - val_accuracy: 0.3451\n",
      "Epoch 48/50\n",
      "541/541 [==============================] - 7s 13ms/step - loss: 0.0138 - accuracy: 0.7987 - val_loss: 0.3123 - val_accuracy: 0.3451\n",
      "Epoch 49/50\n",
      "541/541 [==============================] - 7s 13ms/step - loss: 0.0136 - accuracy: 0.7945 - val_loss: 0.3164 - val_accuracy: 0.3493\n",
      "Epoch 50/50\n",
      "541/541 [==============================] - ETA: 0s - loss: 0.0136 - accuracy: 0.7929"
     ]
    }
   ],
   "source": [
    "model.compile(\"adam\", \"binary_crossentropy\", metrics=[\"accuracy\"])\n",
    "model.fit([pssmpse, pppse], Y_4802, batch_size=8, epochs=50,validation_split=0.1)\n",
    "         # callbacks = [tensorboard_callback])#, validation_data=(x_val, y_val))"
   ]
  },
  {
   "cell_type": "code",
   "execution_count": 80,
   "metadata": {},
   "outputs": [],
   "source": [
    "res = model.predict([pssmpse[0:10], pppse[0:10]])"
   ]
  },
  {
   "cell_type": "code",
   "execution_count": 81,
   "metadata": {},
   "outputs": [
    {
     "data": {
      "text/plain": [
       "0.919145"
      ]
     },
     "execution_count": 81,
     "metadata": {},
     "output_type": "execute_result"
    }
   ],
   "source": [
    "max(res.flatten())"
   ]
  },
  {
   "cell_type": "code",
   "execution_count": 82,
   "metadata": {},
   "outputs": [
    {
     "data": {
      "text/plain": [
       "2.4717863e-31"
      ]
     },
     "execution_count": 82,
     "metadata": {},
     "output_type": "execute_result"
    }
   ],
   "source": [
    "min(res.flatten())"
   ]
  },
  {
   "cell_type": "code",
   "execution_count": 83,
   "metadata": {},
   "outputs": [],
   "source": [
    "res[res>=0.5] = 1\n",
    "res[res<0.5] = 0"
   ]
  },
  {
   "cell_type": "code",
   "execution_count": 84,
   "metadata": {},
   "outputs": [
    {
     "data": {
      "text/plain": [
       "array([[0., 0., 0., 0., 0., 0., 0., 0., 0., 0., 0., 0., 0., 0., 0., 0.,\n",
       "        0., 0., 0., 0., 0., 0., 0., 0., 0., 0., 0., 1., 0., 0., 0., 0.,\n",
       "        0., 0., 0., 0., 0.],\n",
       "       [0., 0., 0., 0., 0., 0., 0., 0., 0., 0., 0., 0., 0., 0., 0., 0.,\n",
       "        0., 0., 0., 0., 0., 0., 0., 0., 0., 0., 0., 1., 0., 0., 0., 0.,\n",
       "        0., 0., 0., 0., 0.],\n",
       "       [0., 0., 0., 0., 0., 0., 0., 0., 0., 0., 0., 1., 0., 0., 0., 0.,\n",
       "        0., 0., 0., 0., 0., 0., 0., 0., 0., 0., 0., 0., 0., 0., 1., 0.,\n",
       "        0., 0., 0., 0., 0.],\n",
       "       [0., 0., 0., 0., 0., 0., 0., 0., 0., 0., 0., 0., 0., 0., 0., 0.,\n",
       "        0., 0., 0., 0., 0., 0., 0., 0., 0., 0., 0., 1., 0., 0., 0., 0.,\n",
       "        0., 0., 0., 0., 0.],\n",
       "       [0., 0., 0., 0., 0., 0., 0., 0., 0., 0., 0., 0., 0., 0., 0., 0.,\n",
       "        0., 0., 0., 0., 0., 0., 0., 0., 0., 0., 0., 1., 0., 0., 0., 0.,\n",
       "        0., 0., 0., 0., 0.],\n",
       "       [0., 0., 0., 0., 0., 0., 0., 0., 0., 0., 0., 0., 0., 0., 0., 0.,\n",
       "        0., 0., 0., 0., 0., 0., 0., 0., 0., 0., 0., 0., 0., 0., 1., 0.,\n",
       "        0., 0., 0., 0., 0.],\n",
       "       [0., 0., 0., 0., 0., 0., 0., 0., 0., 0., 0., 0., 0., 0., 0., 0.,\n",
       "        0., 0., 0., 0., 0., 0., 0., 0., 0., 0., 0., 0., 0., 0., 0., 0.,\n",
       "        0., 0., 0., 0., 0.],\n",
       "       [0., 0., 0., 0., 0., 0., 0., 0., 0., 0., 0., 0., 0., 0., 0., 0.,\n",
       "        0., 0., 0., 0., 0., 0., 0., 0., 0., 0., 0., 1., 0., 0., 0., 0.,\n",
       "        0., 0., 0., 0., 0.],\n",
       "       [0., 0., 0., 0., 0., 0., 0., 0., 0., 0., 0., 0., 0., 0., 0., 0.,\n",
       "        0., 0., 0., 0., 0., 0., 0., 0., 0., 0., 0., 0., 0., 0., 0., 0.,\n",
       "        0., 0., 0., 0., 0.],\n",
       "       [0., 0., 0., 0., 1., 0., 0., 0., 0., 0., 0., 0., 0., 0., 0., 0.,\n",
       "        0., 0., 0., 0., 0., 0., 0., 0., 0., 0., 0., 0., 0., 0., 0., 0.,\n",
       "        0., 0., 0., 0., 0.]], dtype=float32)"
      ]
     },
     "execution_count": 84,
     "metadata": {},
     "output_type": "execute_result"
    }
   ],
   "source": [
    "res"
   ]
  },
  {
   "cell_type": "code",
   "execution_count": null,
   "metadata": {},
   "outputs": [],
   "source": []
  }
 ],
 "metadata": {
  "kernelspec": {
   "display_name": "Python 3",
   "language": "python",
   "name": "python3"
  },
  "language_info": {
   "codemirror_mode": {
    "name": "ipython",
    "version": 3
   },
   "file_extension": ".py",
   "mimetype": "text/x-python",
   "name": "python",
   "nbconvert_exporter": "python",
   "pygments_lexer": "ipython3",
   "version": "3.8.2"
  }
 },
 "nbformat": 4,
 "nbformat_minor": 4
}
